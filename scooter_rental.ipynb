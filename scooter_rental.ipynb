{
 "cells": [
  {
   "cell_type": "markdown",
   "id": "4b73e2aa",
   "metadata": {
    "tags": [],
    "toc": true
   },
   "source": [
    "<h1>Содержание<span class=\"tocSkip\"></span></h1>\n",
    "<div class=\"toc\"><ul class=\"toc-item\"><li><span><a href=\"#Шаг.-Загрузка-данных\" data-toc-modified-id=\"Шаг.-Загрузка-данных-1\"><span class=\"toc-item-num\">1&nbsp;&nbsp;</span>Шаг. Загрузка данных</a></span></li><li><span><a href=\"#Шаг.-Предобработка-данных\" data-toc-modified-id=\"Шаг.-Предобработка-данных-2\"><span class=\"toc-item-num\">2&nbsp;&nbsp;</span>Шаг. Предобработка данных</a></span><ul class=\"toc-item\"><li><span><a href=\"#Проверим-явные-дубликаты\" data-toc-modified-id=\"Проверим-явные-дубликаты-2.1\"><span class=\"toc-item-num\">2.1&nbsp;&nbsp;</span>Проверим явные дубликаты</a></span></li><li><span><a href=\"#Проверим,-за-какой-период-у-нас-данные\" data-toc-modified-id=\"Проверим,-за-какой-период-у-нас-данные-2.2\"><span class=\"toc-item-num\">2.2&nbsp;&nbsp;</span>Проверим, за какой период у нас данные</a></span></li><li><span><a href=\"#Добавим-столбец-с-номером-месяца\" data-toc-modified-id=\"Добавим-столбец-с-номером-месяца-2.3\"><span class=\"toc-item-num\">2.3&nbsp;&nbsp;</span>Добавим столбец с номером месяца</a></span></li><li><span><a href=\"#Округлим-значения-в-distance-и-duration\" data-toc-modified-id=\"Округлим-значения-в-distance-и-duration-2.4\"><span class=\"toc-item-num\">2.4&nbsp;&nbsp;</span>Округлим значения в distance и duration</a></span></li></ul></li><li><span><a href=\"#Шаг.-Исследовательский-анализ-данных\" data-toc-modified-id=\"Шаг.-Исследовательский-анализ-данных-3\"><span class=\"toc-item-num\">3&nbsp;&nbsp;</span>Шаг. Исследовательский анализ данных</a></span><ul class=\"toc-item\"><li><span><a href=\"#Частота-встречаемости-городов\" data-toc-modified-id=\"Частота-встречаемости-городов-3.1\"><span class=\"toc-item-num\">3.1&nbsp;&nbsp;</span>Частота встречаемости городов</a></span></li><li><span><a href=\"#Соотношение-пользователей-с-подпиской-и-без-подписки\" data-toc-modified-id=\"Соотношение-пользователей-с-подпиской-и-без-подписки-3.2\"><span class=\"toc-item-num\">3.2&nbsp;&nbsp;</span>Соотношение пользователей с подпиской и без подписки</a></span></li><li><span><a href=\"#Возраст-пользователей\" data-toc-modified-id=\"Возраст-пользователей-3.3\"><span class=\"toc-item-num\">3.3&nbsp;&nbsp;</span>Возраст пользователей</a></span></li><li><span><a href=\"#Расстояние,-которое-пользователь-преодолел-за-одну-поездку\" data-toc-modified-id=\"Расстояние,-которое-пользователь-преодолел-за-одну-поездку-3.4\"><span class=\"toc-item-num\">3.4&nbsp;&nbsp;</span>Расстояние, которое пользователь преодолел за одну поездку</a></span></li><li><span><a href=\"#Продолжительность-поездок.\" data-toc-modified-id=\"Продолжительность-поездок.-3.5\"><span class=\"toc-item-num\">3.5&nbsp;&nbsp;</span>Продолжительность поездок.</a></span></li></ul></li><li><span><a href=\"#Шаг.-Объединение-данных\" data-toc-modified-id=\"Шаг.-Объединение-данных-4\"><span class=\"toc-item-num\">4&nbsp;&nbsp;</span>Шаг. Объединение данных</a></span><ul class=\"toc-item\"><li><span><a href=\"#Объединим-данные-о-пользователях,-поездках-и-подписках-в-один-датафрейм.\" data-toc-modified-id=\"Объединим-данные-о-пользователях,-поездках-и-подписках-в-один-датафрейм.-4.1\"><span class=\"toc-item-num\">4.1&nbsp;&nbsp;</span>Объединим данные о пользователях, поездках и подписках в один датафрейм.</a></span></li><li><span><a href=\"#Создадим-ещё-два-датафрейма:\" data-toc-modified-id=\"Создадим-ещё-два-датафрейма:-4.2\"><span class=\"toc-item-num\">4.2&nbsp;&nbsp;</span>Создадим ещё два датафрейма:</a></span></li><li><span><a href=\"#Посмотрим-на-расстояние-и-время-поездок-для-пользователей-разных-категорий\" data-toc-modified-id=\"Посмотрим-на-расстояние-и-время-поездок-для-пользователей-разных-категорий-4.3\"><span class=\"toc-item-num\">4.3&nbsp;&nbsp;</span>Посмотрим на расстояние и время поездок для пользователей разных категорий</a></span></li></ul></li><li><span><a href=\"#Шаг.-Подсчёт-выручки\" data-toc-modified-id=\"Шаг.-Подсчёт-выручки-5\"><span class=\"toc-item-num\">5&nbsp;&nbsp;</span>Шаг. Подсчёт выручки</a></span><ul class=\"toc-item\"><li><span><a href=\"#Создадим-датафрейм--с-агрегированными-данными-о-поездках\" data-toc-modified-id=\"Создадим-датафрейм--с-агрегированными-данными-о-поездках-5.1\"><span class=\"toc-item-num\">5.1&nbsp;&nbsp;</span>Создадим датафрейм  с агрегированными данными о поездках</a></span></li><li><span><a href=\"#Добавим-столбец-с-помесячной-выручкой\" data-toc-modified-id=\"Добавим-столбец-с-помесячной-выручкой-5.2\"><span class=\"toc-item-num\">5.2&nbsp;&nbsp;</span>Добавим столбец с помесячной выручкой</a></span></li></ul></li><li><span><a href=\"#Шаг.-Проверка-гипотез\" data-toc-modified-id=\"Шаг.-Проверка-гипотез-6\"><span class=\"toc-item-num\">6&nbsp;&nbsp;</span>Шаг. Проверка гипотез</a></span><ul class=\"toc-item\"><li><span><a href=\"#Проверим,-тратят-ли-пользователи-с-подпиской-больше-времени-на-поездки?\" data-toc-modified-id=\"Проверим,-тратят-ли-пользователи-с-подпиской-больше-времени-на-поездки?-6.1\"><span class=\"toc-item-num\">6.1&nbsp;&nbsp;</span>Проверим, тратят ли пользователи с подпиской больше времени на поездки?</a></span></li><li><span><a href=\"#Проверим,-не-превышает-ли-среднее-расстояние-у-пользователей-с-подпиской-за-одну-поездку-3130-(оптимальное-расстоянию-для-самокатов).\" data-toc-modified-id=\"Проверим,-не-превышает-ли-среднее-расстояние-у-пользователей-с-подпиской-за-одну-поездку-3130-(оптимальное-расстоянию-для-самокатов).-6.2\"><span class=\"toc-item-num\">6.2&nbsp;&nbsp;</span>Проверим, не превышает ли среднее расстояние у пользователей с подпиской за одну поездку 3130 (оптимальное расстоянию для самокатов).</a></span></li><li><span><a href=\"#Проверим-гипотезу-о-том,-будет-ли-помесячная-выручка-от-пользователей-с-подпиской-по-месяцам-выше,-чем-выручка-от-пользователей-без-подписки.\" data-toc-modified-id=\"Проверим-гипотезу-о-том,-будет-ли-помесячная-выручка-от-пользователей-с-подпиской-по-месяцам-выше,-чем-выручка-от-пользователей-без-подписки.-6.3\"><span class=\"toc-item-num\">6.3&nbsp;&nbsp;</span>Проверим гипотезу о том, будет ли помесячная выручка от пользователей с подпиской по месяцам выше, чем выручка от пользователей без подписки.</a></span></li><li><span><a href=\"#Представьте-такую-ситуацию:\" data-toc-modified-id=\"Представьте-такую-ситуацию:-6.4\"><span class=\"toc-item-num\">6.4&nbsp;&nbsp;</span>Представьте такую ситуацию:</a></span></li></ul></li><li><span><a href=\"#Вывод\" data-toc-modified-id=\"Вывод-7\"><span class=\"toc-item-num\">7&nbsp;&nbsp;</span>Вывод</a></span></li><li><span><a href=\"#Шаг.-Распределения\" data-toc-modified-id=\"Шаг.-Распределения-8\"><span class=\"toc-item-num\">8&nbsp;&nbsp;</span>Шаг. Распределения</a></span></li></ul></div>"
   ]
  },
  {
   "cell_type": "markdown",
   "id": "9bb633b5",
   "metadata": {},
   "source": [
    "# Статистический анализ данных"
   ]
  },
  {
   "cell_type": "markdown",
   "id": "582181c7",
   "metadata": {},
   "source": [
    "Мы анализируем сервис аренды самокатов GoFast. Нам передали данные о некоторых пользователях из нескольких городов, а также об их поездках. Мы проанализируем данные и проверим некоторые гипотезы, которые могут помочь бизнесу вырасти.\n",
    "Чтобы совершать поездки по городу, пользователи сервиса GoFast пользуются мобильным приложением. Сервисом можно пользоваться:\n",
    "- без подписки:\n",
    "абонентская плата отсутствует; \\\n",
    "стоимость одной минуты поездки — 8 рублей; \\\n",
    "стоимость старта (начала поездки) — 50 рублей; \\\n",
    "- с подпиской Ultra\n",
    "абонентская плата — 199 рублей в месяц; \\\n",
    "стоимость одной минуты поездки — 6 рублей; \\\n",
    "стоимость старта — бесплатно."
   ]
  },
  {
   "cell_type": "markdown",
   "id": "3f5c1d04",
   "metadata": {},
   "source": [
    "_**Описание данных**_"
   ]
  },
  {
   "cell_type": "markdown",
   "id": "e1e5df8a",
   "metadata": {},
   "source": [
    "В основных данных есть информация о пользователях, их поездках и подписках. \n",
    "\n",
    "**Пользователи — users_go.csv** \n",
    "- user_id\tуникальный идентификатор пользователя\n",
    "- name\tимя пользователя\n",
    "- age\tвозраст\n",
    "- city\tгород\n",
    "- subscription_type\tтип подписки (free, ultra) \n",
    "\n",
    "**Поездки — rides_go.csv** \n",
    "- user_id\tуникальный идентификатор пользователя\n",
    "- distance\tрасстояние, которое пользователь проехал в текущей сессии (в метрах)\n",
    "- duration\tпродолжительность сессии (в минутах) — время с того момента, как пользователь нажал кнопку «Начать поездку» до момента, как он нажал кнопку «Завершить поездку»\n",
    "- date\tдата совершения поездки \n",
    "\n",
    "**Подписки — subscriptions_go.csv** \n",
    "- subscription_type\tтип подписки\n",
    "- minute_price\tстоимость одной минуты поездки по данной подписке\n",
    "- start_ride_price\tстоимость начала поездки\n",
    "- subscription_fee\tстоимость ежемесячного платежа"
   ]
  },
  {
   "cell_type": "code",
   "execution_count": 1,
   "id": "72576667",
   "metadata": {},
   "outputs": [],
   "source": [
    "import pandas as pd\n",
    "import matplotlib.pyplot as plt\n",
    "import seaborn\n",
    "import numpy as np\n",
    "import scipy.stats as st\n",
    "from scipy.stats import binom, norm\n",
    "from math import factorial, sqrt\n"
   ]
  },
  {
   "cell_type": "markdown",
   "id": "c42cbe00",
   "metadata": {},
   "source": [
    "### Шаг. Загрузка данных"
   ]
  },
  {
   "cell_type": "code",
   "execution_count": 2,
   "id": "eff9f206",
   "metadata": {},
   "outputs": [],
   "source": [
    "users = pd.read_csv('/datasets/users_go.csv')\n",
    "riders = pd.read_csv('/datasets/rides_go.csv', parse_dates=['date'], dayfirst=True)\n",
    "subs = pd.read_csv('/datasets/subscriptions_go.csv')\n"
   ]
  },
  {
   "cell_type": "code",
   "execution_count": 3,
   "id": "775b059f",
   "metadata": {},
   "outputs": [
    {
     "data": {
      "text/html": [
       "<div>\n",
       "<style scoped>\n",
       "    .dataframe tbody tr th:only-of-type {\n",
       "        vertical-align: middle;\n",
       "    }\n",
       "\n",
       "    .dataframe tbody tr th {\n",
       "        vertical-align: top;\n",
       "    }\n",
       "\n",
       "    .dataframe thead th {\n",
       "        text-align: right;\n",
       "    }\n",
       "</style>\n",
       "<table border=\"1\" class=\"dataframe\">\n",
       "  <thead>\n",
       "    <tr style=\"text-align: right;\">\n",
       "      <th></th>\n",
       "      <th>user_id</th>\n",
       "      <th>name</th>\n",
       "      <th>age</th>\n",
       "      <th>city</th>\n",
       "      <th>subscription_type</th>\n",
       "    </tr>\n",
       "  </thead>\n",
       "  <tbody>\n",
       "    <tr>\n",
       "      <th>0</th>\n",
       "      <td>1</td>\n",
       "      <td>Кира</td>\n",
       "      <td>22</td>\n",
       "      <td>Тюмень</td>\n",
       "      <td>ultra</td>\n",
       "    </tr>\n",
       "    <tr>\n",
       "      <th>1</th>\n",
       "      <td>2</td>\n",
       "      <td>Станислав</td>\n",
       "      <td>31</td>\n",
       "      <td>Омск</td>\n",
       "      <td>ultra</td>\n",
       "    </tr>\n",
       "    <tr>\n",
       "      <th>2</th>\n",
       "      <td>3</td>\n",
       "      <td>Алексей</td>\n",
       "      <td>20</td>\n",
       "      <td>Москва</td>\n",
       "      <td>ultra</td>\n",
       "    </tr>\n",
       "    <tr>\n",
       "      <th>3</th>\n",
       "      <td>4</td>\n",
       "      <td>Константин</td>\n",
       "      <td>26</td>\n",
       "      <td>Ростов-на-Дону</td>\n",
       "      <td>ultra</td>\n",
       "    </tr>\n",
       "    <tr>\n",
       "      <th>4</th>\n",
       "      <td>5</td>\n",
       "      <td>Адель</td>\n",
       "      <td>28</td>\n",
       "      <td>Омск</td>\n",
       "      <td>ultra</td>\n",
       "    </tr>\n",
       "  </tbody>\n",
       "</table>\n",
       "</div>"
      ],
      "text/plain": [
       "   user_id        name  age            city subscription_type\n",
       "0        1        Кира   22          Тюмень             ultra\n",
       "1        2   Станислав   31            Омск             ultra\n",
       "2        3     Алексей   20          Москва             ultra\n",
       "3        4  Константин   26  Ростов-на-Дону             ultra\n",
       "4        5       Адель   28            Омск             ultra"
      ]
     },
     "execution_count": 3,
     "metadata": {},
     "output_type": "execute_result"
    }
   ],
   "source": [
    "users.head()"
   ]
  },
  {
   "cell_type": "code",
   "execution_count": 4,
   "id": "7d4da7a3",
   "metadata": {},
   "outputs": [
    {
     "data": {
      "text/html": [
       "<div>\n",
       "<style scoped>\n",
       "    .dataframe tbody tr th:only-of-type {\n",
       "        vertical-align: middle;\n",
       "    }\n",
       "\n",
       "    .dataframe tbody tr th {\n",
       "        vertical-align: top;\n",
       "    }\n",
       "\n",
       "    .dataframe thead th {\n",
       "        text-align: right;\n",
       "    }\n",
       "</style>\n",
       "<table border=\"1\" class=\"dataframe\">\n",
       "  <thead>\n",
       "    <tr style=\"text-align: right;\">\n",
       "      <th></th>\n",
       "      <th>user_id</th>\n",
       "      <th>distance</th>\n",
       "      <th>duration</th>\n",
       "      <th>date</th>\n",
       "    </tr>\n",
       "  </thead>\n",
       "  <tbody>\n",
       "    <tr>\n",
       "      <th>0</th>\n",
       "      <td>1</td>\n",
       "      <td>4409.919140</td>\n",
       "      <td>25.599769</td>\n",
       "      <td>2021-01-01</td>\n",
       "    </tr>\n",
       "    <tr>\n",
       "      <th>1</th>\n",
       "      <td>1</td>\n",
       "      <td>2617.592153</td>\n",
       "      <td>15.816871</td>\n",
       "      <td>2021-01-18</td>\n",
       "    </tr>\n",
       "    <tr>\n",
       "      <th>2</th>\n",
       "      <td>1</td>\n",
       "      <td>754.159807</td>\n",
       "      <td>6.232113</td>\n",
       "      <td>2021-04-20</td>\n",
       "    </tr>\n",
       "    <tr>\n",
       "      <th>3</th>\n",
       "      <td>1</td>\n",
       "      <td>2694.783254</td>\n",
       "      <td>18.511000</td>\n",
       "      <td>2021-08-11</td>\n",
       "    </tr>\n",
       "    <tr>\n",
       "      <th>4</th>\n",
       "      <td>1</td>\n",
       "      <td>4028.687306</td>\n",
       "      <td>26.265803</td>\n",
       "      <td>2021-08-28</td>\n",
       "    </tr>\n",
       "  </tbody>\n",
       "</table>\n",
       "</div>"
      ],
      "text/plain": [
       "   user_id     distance   duration       date\n",
       "0        1  4409.919140  25.599769 2021-01-01\n",
       "1        1  2617.592153  15.816871 2021-01-18\n",
       "2        1   754.159807   6.232113 2021-04-20\n",
       "3        1  2694.783254  18.511000 2021-08-11\n",
       "4        1  4028.687306  26.265803 2021-08-28"
      ]
     },
     "execution_count": 4,
     "metadata": {},
     "output_type": "execute_result"
    }
   ],
   "source": [
    "riders.head()"
   ]
  },
  {
   "cell_type": "code",
   "execution_count": 5,
   "id": "70dbc880",
   "metadata": {},
   "outputs": [
    {
     "data": {
      "text/html": [
       "<div>\n",
       "<style scoped>\n",
       "    .dataframe tbody tr th:only-of-type {\n",
       "        vertical-align: middle;\n",
       "    }\n",
       "\n",
       "    .dataframe tbody tr th {\n",
       "        vertical-align: top;\n",
       "    }\n",
       "\n",
       "    .dataframe thead th {\n",
       "        text-align: right;\n",
       "    }\n",
       "</style>\n",
       "<table border=\"1\" class=\"dataframe\">\n",
       "  <thead>\n",
       "    <tr style=\"text-align: right;\">\n",
       "      <th></th>\n",
       "      <th>subscription_type</th>\n",
       "      <th>minute_price</th>\n",
       "      <th>start_ride_price</th>\n",
       "      <th>subscription_fee</th>\n",
       "    </tr>\n",
       "  </thead>\n",
       "  <tbody>\n",
       "    <tr>\n",
       "      <th>0</th>\n",
       "      <td>free</td>\n",
       "      <td>8</td>\n",
       "      <td>50</td>\n",
       "      <td>0</td>\n",
       "    </tr>\n",
       "    <tr>\n",
       "      <th>1</th>\n",
       "      <td>ultra</td>\n",
       "      <td>6</td>\n",
       "      <td>0</td>\n",
       "      <td>199</td>\n",
       "    </tr>\n",
       "  </tbody>\n",
       "</table>\n",
       "</div>"
      ],
      "text/plain": [
       "  subscription_type  minute_price  start_ride_price  subscription_fee\n",
       "0              free             8                50                 0\n",
       "1             ultra             6                 0               199"
      ]
     },
     "execution_count": 5,
     "metadata": {},
     "output_type": "execute_result"
    }
   ],
   "source": [
    "subs.head()"
   ]
  },
  {
   "cell_type": "code",
   "execution_count": 6,
   "id": "f75b1159",
   "metadata": {},
   "outputs": [
    {
     "name": "stdout",
     "output_type": "stream",
     "text": [
      "<class 'pandas.core.frame.DataFrame'>\n",
      "RangeIndex: 1565 entries, 0 to 1564\n",
      "Data columns (total 5 columns):\n",
      " #   Column             Non-Null Count  Dtype \n",
      "---  ------             --------------  ----- \n",
      " 0   user_id            1565 non-null   int64 \n",
      " 1   name               1565 non-null   object\n",
      " 2   age                1565 non-null   int64 \n",
      " 3   city               1565 non-null   object\n",
      " 4   subscription_type  1565 non-null   object\n",
      "dtypes: int64(2), object(3)\n",
      "memory usage: 61.3+ KB\n"
     ]
    }
   ],
   "source": [
    "users.info()"
   ]
  },
  {
   "cell_type": "code",
   "execution_count": 7,
   "id": "8e1d5b2e",
   "metadata": {},
   "outputs": [
    {
     "name": "stdout",
     "output_type": "stream",
     "text": [
      "<class 'pandas.core.frame.DataFrame'>\n",
      "RangeIndex: 18068 entries, 0 to 18067\n",
      "Data columns (total 4 columns):\n",
      " #   Column    Non-Null Count  Dtype         \n",
      "---  ------    --------------  -----         \n",
      " 0   user_id   18068 non-null  int64         \n",
      " 1   distance  18068 non-null  float64       \n",
      " 2   duration  18068 non-null  float64       \n",
      " 3   date      18068 non-null  datetime64[ns]\n",
      "dtypes: datetime64[ns](1), float64(2), int64(1)\n",
      "memory usage: 564.8 KB\n"
     ]
    }
   ],
   "source": [
    "riders.info()"
   ]
  },
  {
   "cell_type": "code",
   "execution_count": 8,
   "id": "fb9fe36c",
   "metadata": {},
   "outputs": [
    {
     "name": "stdout",
     "output_type": "stream",
     "text": [
      "<class 'pandas.core.frame.DataFrame'>\n",
      "RangeIndex: 2 entries, 0 to 1\n",
      "Data columns (total 4 columns):\n",
      " #   Column             Non-Null Count  Dtype \n",
      "---  ------             --------------  ----- \n",
      " 0   subscription_type  2 non-null      object\n",
      " 1   minute_price       2 non-null      int64 \n",
      " 2   start_ride_price   2 non-null      int64 \n",
      " 3   subscription_fee   2 non-null      int64 \n",
      "dtypes: int64(3), object(1)\n",
      "memory usage: 192.0+ bytes\n"
     ]
    }
   ],
   "source": [
    "subs.info()"
   ]
  },
  {
   "cell_type": "markdown",
   "id": "b1fa6ad2",
   "metadata": {},
   "source": [
    "При первом просмотре данных видно, что у них отсутствуют пропуски, что очень хорошо. Однако столбец data имеет некорректрый тип данных, поэтому его сразу перевели в datetime. Также столбцы duration и distance стоит округлить."
   ]
  },
  {
   "cell_type": "markdown",
   "id": "e95ebca7",
   "metadata": {},
   "source": [
    "### Шаг. Предобработка данных"
   ]
  },
  {
   "cell_type": "markdown",
   "id": "ff43ca9d",
   "metadata": {},
   "source": [
    "#### Проверим явные дубликаты"
   ]
  },
  {
   "cell_type": "code",
   "execution_count": 9,
   "id": "a92d58cd",
   "metadata": {},
   "outputs": [
    {
     "data": {
      "text/plain": [
       "31"
      ]
     },
     "execution_count": 9,
     "metadata": {},
     "output_type": "execute_result"
    }
   ],
   "source": [
    "users.duplicated().sum()"
   ]
  },
  {
   "cell_type": "markdown",
   "id": "52f7883e",
   "metadata": {},
   "source": [
    "В этой таблице дубикаты есть, удалим их, они могут помешать корректному анализу "
   ]
  },
  {
   "cell_type": "code",
   "execution_count": 10,
   "id": "0577d7a1",
   "metadata": {},
   "outputs": [],
   "source": [
    "users = users.drop_duplicates()"
   ]
  },
  {
   "cell_type": "code",
   "execution_count": 11,
   "id": "a857d6fd",
   "metadata": {},
   "outputs": [
    {
     "data": {
      "text/plain": [
       "0"
      ]
     },
     "execution_count": 11,
     "metadata": {},
     "output_type": "execute_result"
    }
   ],
   "source": [
    "riders.duplicated().sum()"
   ]
  },
  {
   "cell_type": "markdown",
   "id": "7b60e4e0",
   "metadata": {},
   "source": [
    "Здесь явных дубликатов нет"
   ]
  },
  {
   "cell_type": "code",
   "execution_count": 12,
   "id": "207818ac",
   "metadata": {},
   "outputs": [
    {
     "data": {
      "text/plain": [
       "0"
      ]
     },
     "execution_count": 12,
     "metadata": {},
     "output_type": "execute_result"
    }
   ],
   "source": [
    "subs.duplicated().sum()"
   ]
  },
  {
   "cell_type": "markdown",
   "id": "10bd1217",
   "metadata": {},
   "source": [
    "Здесь тоже дубикатов нет"
   ]
  },
  {
   "cell_type": "markdown",
   "id": "b48a0254",
   "metadata": {},
   "source": [
    "#### Проверим, за какой период у нас данные"
   ]
  },
  {
   "cell_type": "code",
   "execution_count": 13,
   "id": "a0a85af7",
   "metadata": {},
   "outputs": [
    {
     "name": "stdout",
     "output_type": "stream",
     "text": [
      "Минимальное значение даты: 2021-01-01 00:00:00\n",
      "Максимальное значение даты: 2021-12-30 00:00:00\n"
     ]
    }
   ],
   "source": [
    "print('Минимальное значение даты:', riders['date'].min())\n",
    "print('Максимальное значение даты:', riders['date'].max())"
   ]
  },
  {
   "cell_type": "markdown",
   "id": "a572d55c",
   "metadata": {},
   "source": [
    "Данные представлены за один год, значит можно добавить номер месяца и он не склеился с другим годом."
   ]
  },
  {
   "cell_type": "markdown",
   "id": "c08fe955",
   "metadata": {},
   "source": [
    "####  Добавим столбец с номером месяца"
   ]
  },
  {
   "cell_type": "code",
   "execution_count": 14,
   "id": "99968888",
   "metadata": {},
   "outputs": [],
   "source": [
    "riders['month'] = riders['date'].dt.month"
   ]
  },
  {
   "cell_type": "markdown",
   "id": "14207716",
   "metadata": {},
   "source": [
    "#### Округлим значения в distance и duration"
   ]
  },
  {
   "cell_type": "code",
   "execution_count": 15,
   "id": "fed3fba8",
   "metadata": {},
   "outputs": [],
   "source": [
    "riders['distance'] = round(riders['distance'])\n",
    "riders['duration'] = round(riders['duration'])"
   ]
  },
  {
   "cell_type": "markdown",
   "id": "e8bbf3eb",
   "metadata": {},
   "source": [
    "**Вывод:** В результате предоработки данных был удален 31 явный дубликат. Также был проверен период, за который представлены данные и добавлен столбец с номером месяца. Еще мы округлили столбцы с временем и расстояние поездки до целого числа."
   ]
  },
  {
   "cell_type": "markdown",
   "id": "212593c7",
   "metadata": {},
   "source": [
    "### Шаг. Исследовательский анализ данных"
   ]
  },
  {
   "cell_type": "markdown",
   "id": "37c56dfb",
   "metadata": {},
   "source": [
    "#### Частота встречаемости городов"
   ]
  },
  {
   "cell_type": "code",
   "execution_count": 16,
   "id": "ec4d14e8",
   "metadata": {},
   "outputs": [
    {
     "data": {
      "image/png": "[encoded data removed]",
      "text/plain": [
       "<Figure size 432x288 with 1 Axes>"
      ]
     },
     "metadata": {
      "needs_background": "light"
     },
     "output_type": "display_data"
    }
   ],
   "source": [
    "users_city = users.pivot_table(index='city', values='user_id', aggfunc='count')\n",
    "users_city_sorted = users_city.sort_values(by='user_id', ascending=False) # сортировка по убыванию\n",
    "users_city_sorted.plot(kind='barh', color = (0.5,0.1,0.5,0.6), edgecolor=\"black\")\n",
    "\n",
    "\n",
    "plt.title('Частота встречаемости городов')\n",
    "plt.xlabel('Города')\n",
    "plt.ylabel('Количество')\n",
    "plt.legend(['Количество пользователей']);"
   ]
  },
  {
   "cell_type": "markdown",
   "id": "76bc869e",
   "metadata": {},
   "source": [
    "Наиболее встречаемым оказался Пятигорск, там мы видим более 220 пользователей, а наименее - Москва, где гистограмма отражает примерно 170 пользователей. Возможно, компания наиболее развита и популярна именно в Пятигорске. На втором месте после Пятигорска идет Екатеринбург, где количество пользователей чуть больше 200."
   ]
  },
  {
   "cell_type": "code",
   "execution_count": 51,
   "id": "1428a8a3",
   "metadata": {},
   "outputs": [
    {
     "data": {
      "text/plain": [
       "Пятигорск         219\n",
       "Екатеринбург      204\n",
       "Ростов-на-Дону    198\n",
       "Краснодар         193\n",
       "Сочи              189\n",
       "Омск              183\n",
       "Тюмень            180\n",
       "Москва            168\n",
       "Name: city, dtype: int64"
      ]
     },
     "execution_count": 51,
     "metadata": {},
     "output_type": "execute_result"
    }
   ],
   "source": [
    "#Код ревьюера\n",
    "users['city'].value_counts()"
   ]
  },
  {
   "cell_type": "markdown",
   "id": "2c4cde77",
   "metadata": {},
   "source": [
    "#### Соотношение пользователей с подпиской и без подписки"
   ]
  },
  {
   "cell_type": "code",
   "execution_count": 17,
   "id": "5d24cca9",
   "metadata": {},
   "outputs": [],
   "source": [
    "#количество пользователей с подпиской\n",
    "ultra_users_pivot = users.loc[users['subscription_type'] == 'ultra', 'subscription_type'].count()"
   ]
  },
  {
   "cell_type": "code",
   "execution_count": 18,
   "id": "90383f6c",
   "metadata": {},
   "outputs": [],
   "source": [
    "#количество пользователей без подписки\n",
    "free_users_pivot = users.loc[users['subscription_type'] == 'free', 'subscription_type'].count()"
   ]
  },
  {
   "cell_type": "code",
   "execution_count": 19,
   "id": "b3df8e07",
   "metadata": {},
   "outputs": [
    {
     "data": {
      "text/plain": [
       "1.1945636623748213"
      ]
     },
     "execution_count": 19,
     "metadata": {},
     "output_type": "execute_result"
    }
   ],
   "source": [
    "free_users_pivot/ultra_users_pivot"
   ]
  },
  {
   "cell_type": "code",
   "execution_count": 20,
   "id": "e73506ff",
   "metadata": {},
   "outputs": [
    {
     "data": {
      "image/png": "[encoded data removed]",
      "text/plain": [
       "<Figure size 432x288 with 1 Axes>"
      ]
     },
     "metadata": {},
     "output_type": "display_data"
    }
   ],
   "source": [
    "#строим круговую диаграмму\n",
    "values = [free_users_pivot, ultra_users_pivot]\n",
    "labels = ['Без подписки', 'С подпиской']\n",
    "colors = ['#DD7596', '#8EB897']\n",
    "\n",
    "plt.pie(values, labels=labels, autopct='%1.1f%%', colors=colors, wedgeprops = { 'linewidth' : 3, 'edgecolor' : 'white' })\n",
    "\n",
    "plt.title('Соотношение пользователей с подпиской и без');"
   ]
  },
  {
   "cell_type": "markdown",
   "id": "69dce57b",
   "metadata": {},
   "source": [
    "Соотношение пользователей без подписки и с равно 1.2, то есть количество пользователей без подписки примерно в 1.2 раза больше. Не очень большое различие, которое видно и на круговой диаграмме, 54% пользуются подпиской, а 45.6% нет. "
   ]
  },
  {
   "cell_type": "markdown",
   "id": "cc84142d",
   "metadata": {},
   "source": [
    "#### Возраст пользователей"
   ]
  },
  {
   "cell_type": "code",
   "execution_count": 21,
   "id": "9e2e4996",
   "metadata": {},
   "outputs": [
    {
     "data": {
      "text/html": [
       "<div>\n",
       "<style scoped>\n",
       "    .dataframe tbody tr th:only-of-type {\n",
       "        vertical-align: middle;\n",
       "    }\n",
       "\n",
       "    .dataframe tbody tr th {\n",
       "        vertical-align: top;\n",
       "    }\n",
       "\n",
       "    .dataframe thead th {\n",
       "        text-align: right;\n",
       "    }\n",
       "</style>\n",
       "<table border=\"1\" class=\"dataframe\">\n",
       "  <thead>\n",
       "    <tr style=\"text-align: right;\">\n",
       "      <th></th>\n",
       "      <th>user_id</th>\n",
       "      <th>name</th>\n",
       "      <th>age</th>\n",
       "      <th>city</th>\n",
       "      <th>subscription_type</th>\n",
       "    </tr>\n",
       "  </thead>\n",
       "  <tbody>\n",
       "    <tr>\n",
       "      <th>0</th>\n",
       "      <td>1</td>\n",
       "      <td>Кира</td>\n",
       "      <td>22</td>\n",
       "      <td>Тюмень</td>\n",
       "      <td>ultra</td>\n",
       "    </tr>\n",
       "    <tr>\n",
       "      <th>1</th>\n",
       "      <td>2</td>\n",
       "      <td>Станислав</td>\n",
       "      <td>31</td>\n",
       "      <td>Омск</td>\n",
       "      <td>ultra</td>\n",
       "    </tr>\n",
       "    <tr>\n",
       "      <th>2</th>\n",
       "      <td>3</td>\n",
       "      <td>Алексей</td>\n",
       "      <td>20</td>\n",
       "      <td>Москва</td>\n",
       "      <td>ultra</td>\n",
       "    </tr>\n",
       "    <tr>\n",
       "      <th>3</th>\n",
       "      <td>4</td>\n",
       "      <td>Константин</td>\n",
       "      <td>26</td>\n",
       "      <td>Ростов-на-Дону</td>\n",
       "      <td>ultra</td>\n",
       "    </tr>\n",
       "    <tr>\n",
       "      <th>4</th>\n",
       "      <td>5</td>\n",
       "      <td>Адель</td>\n",
       "      <td>28</td>\n",
       "      <td>Омск</td>\n",
       "      <td>ultra</td>\n",
       "    </tr>\n",
       "    <tr>\n",
       "      <th>...</th>\n",
       "      <td>...</td>\n",
       "      <td>...</td>\n",
       "      <td>...</td>\n",
       "      <td>...</td>\n",
       "      <td>...</td>\n",
       "    </tr>\n",
       "    <tr>\n",
       "      <th>1529</th>\n",
       "      <td>1530</td>\n",
       "      <td>Ростислав</td>\n",
       "      <td>29</td>\n",
       "      <td>Сочи</td>\n",
       "      <td>free</td>\n",
       "    </tr>\n",
       "    <tr>\n",
       "      <th>1530</th>\n",
       "      <td>1531</td>\n",
       "      <td>Никита</td>\n",
       "      <td>25</td>\n",
       "      <td>Пятигорск</td>\n",
       "      <td>free</td>\n",
       "    </tr>\n",
       "    <tr>\n",
       "      <th>1531</th>\n",
       "      <td>1532</td>\n",
       "      <td>Алексей</td>\n",
       "      <td>26</td>\n",
       "      <td>Тюмень</td>\n",
       "      <td>free</td>\n",
       "    </tr>\n",
       "    <tr>\n",
       "      <th>1532</th>\n",
       "      <td>1533</td>\n",
       "      <td>Степан</td>\n",
       "      <td>22</td>\n",
       "      <td>Краснодар</td>\n",
       "      <td>free</td>\n",
       "    </tr>\n",
       "    <tr>\n",
       "      <th>1533</th>\n",
       "      <td>1534</td>\n",
       "      <td>Альберт</td>\n",
       "      <td>25</td>\n",
       "      <td>Краснодар</td>\n",
       "      <td>free</td>\n",
       "    </tr>\n",
       "  </tbody>\n",
       "</table>\n",
       "<p>1534 rows × 5 columns</p>\n",
       "</div>"
      ],
      "text/plain": [
       "      user_id        name  age            city subscription_type\n",
       "0           1        Кира   22          Тюмень             ultra\n",
       "1           2   Станислав   31            Омск             ultra\n",
       "2           3     Алексей   20          Москва             ultra\n",
       "3           4  Константин   26  Ростов-на-Дону             ultra\n",
       "4           5       Адель   28            Омск             ultra\n",
       "...       ...         ...  ...             ...               ...\n",
       "1529     1530   Ростислав   29            Сочи              free\n",
       "1530     1531      Никита   25       Пятигорск              free\n",
       "1531     1532     Алексей   26          Тюмень              free\n",
       "1532     1533      Степан   22       Краснодар              free\n",
       "1533     1534     Альберт   25       Краснодар              free\n",
       "\n",
       "[1534 rows x 5 columns]"
      ]
     },
     "execution_count": 21,
     "metadata": {},
     "output_type": "execute_result"
    }
   ],
   "source": [
    "users"
   ]
  },
  {
   "cell_type": "code",
   "execution_count": 22,
   "id": "eb0abf5a",
   "metadata": {},
   "outputs": [
    {
     "data": {
      "text/plain": [
       "count    1534.000000\n",
       "mean       24.903520\n",
       "std         4.572367\n",
       "min        12.000000\n",
       "25%        22.000000\n",
       "50%        25.000000\n",
       "75%        28.000000\n",
       "max        43.000000\n",
       "Name: age, dtype: float64"
      ]
     },
     "execution_count": 22,
     "metadata": {},
     "output_type": "execute_result"
    }
   ],
   "source": [
    "users['age'].describe()"
   ]
  },
  {
   "cell_type": "code",
   "execution_count": 23,
   "id": "90562217",
   "metadata": {},
   "outputs": [
    {
     "data": {
      "text/plain": [
       "24.903520208604956"
      ]
     },
     "execution_count": 23,
     "metadata": {},
     "output_type": "execute_result"
    }
   ],
   "source": [
    "users['age'].mean()"
   ]
  },
  {
   "cell_type": "code",
   "execution_count": 24,
   "id": "a4e7bc24",
   "metadata": {},
   "outputs": [
    {
     "data": {
      "text/plain": [
       "Text(0, 0.5, 'Количество пользователей')"
      ]
     },
     "execution_count": 24,
     "metadata": {},
     "output_type": "execute_result"
    },
    {
     "data": {
      "image/png": "[encoded data removed]",
      "text/plain": [
       "<Figure size 432x288 with 1 Axes>"
      ]
     },
     "metadata": {
      "needs_background": "light"
     },
     "output_type": "display_data"
    }
   ],
   "source": [
    "\n",
    "users['age'].plot(kind='hist', bins=30, color = (0.5,0.1,0.5,0.6), edgecolor=\"black\")\n",
    "\n",
    "plt.title('Количество пользователей по возрастам')\n",
    "plt.xlabel('Возраст')\n",
    "plt.ylabel('Количество пользователей')\n"
   ]
  },
  {
   "cell_type": "markdown",
   "id": "71f88ae1",
   "metadata": {},
   "source": [
    "Мы видим, что больше всего самокаты распространены среди пользоваетелй 20-29 лет. Можно сделать вывод, что целевая аудитория GoFast -  это молодые люди от 20 до 30 лет. Дети до 18 и более старшее поколение пользуется самокатами GoFast меньше. \\\n",
    "Медиана и среднее почти равны - 24.9 года, что говорит об отсутствии выбросов в данных."
   ]
  },
  {
   "cell_type": "markdown",
   "id": "d1020d61",
   "metadata": {},
   "source": [
    "#### Расстояние, которое пользователь преодолел за одну поездку"
   ]
  },
  {
   "cell_type": "code",
   "execution_count": 25,
   "id": "d673adf2",
   "metadata": {},
   "outputs": [
    {
     "data": {
      "text/html": [
       "<div>\n",
       "<style scoped>\n",
       "    .dataframe tbody tr th:only-of-type {\n",
       "        vertical-align: middle;\n",
       "    }\n",
       "\n",
       "    .dataframe tbody tr th {\n",
       "        vertical-align: top;\n",
       "    }\n",
       "\n",
       "    .dataframe thead th {\n",
       "        text-align: right;\n",
       "    }\n",
       "</style>\n",
       "<table border=\"1\" class=\"dataframe\">\n",
       "  <thead>\n",
       "    <tr style=\"text-align: right;\">\n",
       "      <th></th>\n",
       "      <th>user_id</th>\n",
       "      <th>distance</th>\n",
       "      <th>duration</th>\n",
       "      <th>date</th>\n",
       "      <th>month</th>\n",
       "    </tr>\n",
       "  </thead>\n",
       "  <tbody>\n",
       "    <tr>\n",
       "      <th>0</th>\n",
       "      <td>1</td>\n",
       "      <td>4410.0</td>\n",
       "      <td>26.0</td>\n",
       "      <td>2021-01-01</td>\n",
       "      <td>1</td>\n",
       "    </tr>\n",
       "    <tr>\n",
       "      <th>1</th>\n",
       "      <td>1</td>\n",
       "      <td>2618.0</td>\n",
       "      <td>16.0</td>\n",
       "      <td>2021-01-18</td>\n",
       "      <td>1</td>\n",
       "    </tr>\n",
       "    <tr>\n",
       "      <th>2</th>\n",
       "      <td>1</td>\n",
       "      <td>754.0</td>\n",
       "      <td>6.0</td>\n",
       "      <td>2021-04-20</td>\n",
       "      <td>4</td>\n",
       "    </tr>\n",
       "    <tr>\n",
       "      <th>3</th>\n",
       "      <td>1</td>\n",
       "      <td>2695.0</td>\n",
       "      <td>19.0</td>\n",
       "      <td>2021-08-11</td>\n",
       "      <td>8</td>\n",
       "    </tr>\n",
       "    <tr>\n",
       "      <th>4</th>\n",
       "      <td>1</td>\n",
       "      <td>4029.0</td>\n",
       "      <td>26.0</td>\n",
       "      <td>2021-08-28</td>\n",
       "      <td>8</td>\n",
       "    </tr>\n",
       "  </tbody>\n",
       "</table>\n",
       "</div>"
      ],
      "text/plain": [
       "   user_id  distance  duration       date  month\n",
       "0        1    4410.0      26.0 2021-01-01      1\n",
       "1        1    2618.0      16.0 2021-01-18      1\n",
       "2        1     754.0       6.0 2021-04-20      4\n",
       "3        1    2695.0      19.0 2021-08-11      8\n",
       "4        1    4029.0      26.0 2021-08-28      8"
      ]
     },
     "execution_count": 25,
     "metadata": {},
     "output_type": "execute_result"
    }
   ],
   "source": [
    "riders.head()"
   ]
  },
  {
   "cell_type": "code",
   "execution_count": 26,
   "id": "ea8af113",
   "metadata": {},
   "outputs": [
    {
     "data": {
      "text/plain": [
       "count    18068.000000\n",
       "mean      3070.659010\n",
       "std       1116.832209\n",
       "min          1.000000\n",
       "25%       2543.000000\n",
       "50%       3134.000000\n",
       "75%       3776.000000\n",
       "max       7211.000000\n",
       "Name: distance, dtype: float64"
      ]
     },
     "execution_count": 26,
     "metadata": {},
     "output_type": "execute_result"
    }
   ],
   "source": [
    "riders['distance'].describe()"
   ]
  },
  {
   "cell_type": "code",
   "execution_count": 27,
   "id": "8d2e95fb",
   "metadata": {},
   "outputs": [
    {
     "data": {
      "text/plain": [
       "3134.0"
      ]
     },
     "execution_count": 27,
     "metadata": {},
     "output_type": "execute_result"
    }
   ],
   "source": [
    "riders['distance'].median()"
   ]
  },
  {
   "cell_type": "code",
   "execution_count": 28,
   "id": "e16e4e68",
   "metadata": {},
   "outputs": [
    {
     "data": {
      "text/plain": [
       "Text(0, 0.5, 'Количество пользователей')"
      ]
     },
     "execution_count": 28,
     "metadata": {},
     "output_type": "execute_result"
    },
    {
     "data": {
      "image/png": "[encoded data removed]",
      "text/plain": [
       "<Figure size 432x288 with 1 Axes>"
      ]
     },
     "metadata": {
      "needs_background": "light"
     },
     "output_type": "display_data"
    }
   ],
   "source": [
    "riders['distance'].hist(bins=40, edgecolor=\"black\", color='hotpink')\n",
    "\n",
    "plt.title('Расстояние пользователя за одну поездку')\n",
    "plt.xlabel('Расстояние')\n",
    "plt.ylabel('Количество пользователей')"
   ]
  },
  {
   "cell_type": "markdown",
   "id": "415289f6",
   "metadata": {},
   "source": [
    "Здесь хорошо видно, что большинство бользователей катаются на расстояния 2500-4000 м. Однако есть некоторые всплески значений в примерно 400-500 м. Такое распределение не очень похоже на нормальное. Среднее значение - 3070 м, а медианное - 3133 м, они не сильно отличаются друг от друга, но видно, что выборка смещена вправо."
   ]
  },
  {
   "cell_type": "markdown",
   "id": "84c3b4c0",
   "metadata": {},
   "source": [
    "#### Продолжительность поездок."
   ]
  },
  {
   "cell_type": "code",
   "execution_count": 29,
   "id": "f86292e5",
   "metadata": {},
   "outputs": [
    {
     "data": {
      "text/plain": [
       "count    18068.000000\n",
       "mean        17.803852\n",
       "std          6.104153\n",
       "min          0.000000\n",
       "25%         14.000000\n",
       "50%         18.000000\n",
       "75%         22.000000\n",
       "max         41.000000\n",
       "Name: duration, dtype: float64"
      ]
     },
     "execution_count": 29,
     "metadata": {},
     "output_type": "execute_result"
    }
   ],
   "source": [
    "riders['duration'].describe()"
   ]
  },
  {
   "cell_type": "code",
   "execution_count": 30,
   "id": "09503de1",
   "metadata": {},
   "outputs": [
    {
     "data": {
      "text/plain": [
       "18.0"
      ]
     },
     "execution_count": 30,
     "metadata": {},
     "output_type": "execute_result"
    }
   ],
   "source": [
    "riders['duration'].median()"
   ]
  },
  {
   "cell_type": "code",
   "execution_count": 31,
   "id": "325725ec",
   "metadata": {},
   "outputs": [
    {
     "data": {
      "text/plain": [
       "Text(0, 0.5, 'Количество пользователей')"
      ]
     },
     "execution_count": 31,
     "metadata": {},
     "output_type": "execute_result"
    },
    {
     "data": {
      "image/png": "[encoded data removed]",
      "text/plain": [
       "<Figure size 432x288 with 1 Axes>"
      ]
     },
     "metadata": {
      "needs_background": "light"
     },
     "output_type": "display_data"
    }
   ],
   "source": [
    "riders['duration'].hist(bins=40, edgecolor=\"black\", color='lightcoral')\n",
    "\n",
    "plt.title('Длительность одной поездки пользователя')\n",
    "plt.xlabel('Длительность')\n",
    "plt.ylabel('Количество пользователей')"
   ]
  },
  {
   "cell_type": "markdown",
   "id": "4ec80f3e",
   "metadata": {},
   "source": [
    "Большое количество поездок занимает примерно от 13 до 23 минут. Средняя продолжительность поездки - 17.8 минут, а медианное 17.6. это говорит о том, что распределение почти не смещено. Также оно нормальное."
   ]
  },
  {
   "cell_type": "markdown",
   "id": "4ef51331",
   "metadata": {},
   "source": [
    "### Шаг. Объединение данных"
   ]
  },
  {
   "cell_type": "markdown",
   "id": "ff62bb42",
   "metadata": {},
   "source": [
    "#### Объединим данные о пользователях, поездках и подписках в один датафрейм."
   ]
  },
  {
   "cell_type": "markdown",
   "id": "2ae3f188",
   "metadata": {},
   "source": [
    "Для начала посмотрим размерность датасов перед объединением"
   ]
  },
  {
   "cell_type": "code",
   "execution_count": 32,
   "id": "33be623e",
   "metadata": {},
   "outputs": [
    {
     "name": "stdout",
     "output_type": "stream",
     "text": [
      "1534\n",
      "18068\n",
      "2\n"
     ]
    }
   ],
   "source": [
    "#количество строк датафрейма\n",
    "print(users.shape[0])\n",
    "print(riders.shape[0])\n",
    "print(subs.shape[0])"
   ]
  },
  {
   "cell_type": "code",
   "execution_count": 33,
   "id": "51787a03",
   "metadata": {},
   "outputs": [
    {
     "data": {
      "text/html": [
       "<div>\n",
       "<style scoped>\n",
       "    .dataframe tbody tr th:only-of-type {\n",
       "        vertical-align: middle;\n",
       "    }\n",
       "\n",
       "    .dataframe tbody tr th {\n",
       "        vertical-align: top;\n",
       "    }\n",
       "\n",
       "    .dataframe thead th {\n",
       "        text-align: right;\n",
       "    }\n",
       "</style>\n",
       "<table border=\"1\" class=\"dataframe\">\n",
       "  <thead>\n",
       "    <tr style=\"text-align: right;\">\n",
       "      <th></th>\n",
       "      <th>user_id</th>\n",
       "      <th>name</th>\n",
       "      <th>age</th>\n",
       "      <th>city</th>\n",
       "      <th>subscription_type</th>\n",
       "      <th>distance</th>\n",
       "      <th>duration</th>\n",
       "      <th>date</th>\n",
       "      <th>month</th>\n",
       "      <th>minute_price</th>\n",
       "      <th>start_ride_price</th>\n",
       "      <th>subscription_fee</th>\n",
       "    </tr>\n",
       "  </thead>\n",
       "  <tbody>\n",
       "    <tr>\n",
       "      <th>0</th>\n",
       "      <td>1</td>\n",
       "      <td>Кира</td>\n",
       "      <td>22</td>\n",
       "      <td>Тюмень</td>\n",
       "      <td>ultra</td>\n",
       "      <td>4410.0</td>\n",
       "      <td>26.0</td>\n",
       "      <td>2021-01-01</td>\n",
       "      <td>1</td>\n",
       "      <td>6</td>\n",
       "      <td>0</td>\n",
       "      <td>199</td>\n",
       "    </tr>\n",
       "    <tr>\n",
       "      <th>1</th>\n",
       "      <td>1</td>\n",
       "      <td>Кира</td>\n",
       "      <td>22</td>\n",
       "      <td>Тюмень</td>\n",
       "      <td>ultra</td>\n",
       "      <td>2618.0</td>\n",
       "      <td>16.0</td>\n",
       "      <td>2021-01-18</td>\n",
       "      <td>1</td>\n",
       "      <td>6</td>\n",
       "      <td>0</td>\n",
       "      <td>199</td>\n",
       "    </tr>\n",
       "    <tr>\n",
       "      <th>2</th>\n",
       "      <td>1</td>\n",
       "      <td>Кира</td>\n",
       "      <td>22</td>\n",
       "      <td>Тюмень</td>\n",
       "      <td>ultra</td>\n",
       "      <td>754.0</td>\n",
       "      <td>6.0</td>\n",
       "      <td>2021-04-20</td>\n",
       "      <td>4</td>\n",
       "      <td>6</td>\n",
       "      <td>0</td>\n",
       "      <td>199</td>\n",
       "    </tr>\n",
       "    <tr>\n",
       "      <th>3</th>\n",
       "      <td>1</td>\n",
       "      <td>Кира</td>\n",
       "      <td>22</td>\n",
       "      <td>Тюмень</td>\n",
       "      <td>ultra</td>\n",
       "      <td>2695.0</td>\n",
       "      <td>19.0</td>\n",
       "      <td>2021-08-11</td>\n",
       "      <td>8</td>\n",
       "      <td>6</td>\n",
       "      <td>0</td>\n",
       "      <td>199</td>\n",
       "    </tr>\n",
       "    <tr>\n",
       "      <th>4</th>\n",
       "      <td>1</td>\n",
       "      <td>Кира</td>\n",
       "      <td>22</td>\n",
       "      <td>Тюмень</td>\n",
       "      <td>ultra</td>\n",
       "      <td>4029.0</td>\n",
       "      <td>26.0</td>\n",
       "      <td>2021-08-28</td>\n",
       "      <td>8</td>\n",
       "      <td>6</td>\n",
       "      <td>0</td>\n",
       "      <td>199</td>\n",
       "    </tr>\n",
       "    <tr>\n",
       "      <th>...</th>\n",
       "      <td>...</td>\n",
       "      <td>...</td>\n",
       "      <td>...</td>\n",
       "      <td>...</td>\n",
       "      <td>...</td>\n",
       "      <td>...</td>\n",
       "      <td>...</td>\n",
       "      <td>...</td>\n",
       "      <td>...</td>\n",
       "      <td>...</td>\n",
       "      <td>...</td>\n",
       "      <td>...</td>\n",
       "    </tr>\n",
       "    <tr>\n",
       "      <th>18063</th>\n",
       "      <td>1534</td>\n",
       "      <td>Альберт</td>\n",
       "      <td>25</td>\n",
       "      <td>Краснодар</td>\n",
       "      <td>free</td>\n",
       "      <td>3781.0</td>\n",
       "      <td>20.0</td>\n",
       "      <td>2021-11-04</td>\n",
       "      <td>11</td>\n",
       "      <td>8</td>\n",
       "      <td>50</td>\n",
       "      <td>0</td>\n",
       "    </tr>\n",
       "    <tr>\n",
       "      <th>18064</th>\n",
       "      <td>1534</td>\n",
       "      <td>Альберт</td>\n",
       "      <td>25</td>\n",
       "      <td>Краснодар</td>\n",
       "      <td>free</td>\n",
       "      <td>2840.0</td>\n",
       "      <td>21.0</td>\n",
       "      <td>2021-11-16</td>\n",
       "      <td>11</td>\n",
       "      <td>8</td>\n",
       "      <td>50</td>\n",
       "      <td>0</td>\n",
       "    </tr>\n",
       "    <tr>\n",
       "      <th>18065</th>\n",
       "      <td>1534</td>\n",
       "      <td>Альберт</td>\n",
       "      <td>25</td>\n",
       "      <td>Краснодар</td>\n",
       "      <td>free</td>\n",
       "      <td>3826.0</td>\n",
       "      <td>18.0</td>\n",
       "      <td>2021-11-18</td>\n",
       "      <td>11</td>\n",
       "      <td>8</td>\n",
       "      <td>50</td>\n",
       "      <td>0</td>\n",
       "    </tr>\n",
       "    <tr>\n",
       "      <th>18066</th>\n",
       "      <td>1534</td>\n",
       "      <td>Альберт</td>\n",
       "      <td>25</td>\n",
       "      <td>Краснодар</td>\n",
       "      <td>free</td>\n",
       "      <td>2902.0</td>\n",
       "      <td>17.0</td>\n",
       "      <td>2021-11-27</td>\n",
       "      <td>11</td>\n",
       "      <td>8</td>\n",
       "      <td>50</td>\n",
       "      <td>0</td>\n",
       "    </tr>\n",
       "    <tr>\n",
       "      <th>18067</th>\n",
       "      <td>1534</td>\n",
       "      <td>Альберт</td>\n",
       "      <td>25</td>\n",
       "      <td>Краснодар</td>\n",
       "      <td>free</td>\n",
       "      <td>2372.0</td>\n",
       "      <td>16.0</td>\n",
       "      <td>2021-12-29</td>\n",
       "      <td>12</td>\n",
       "      <td>8</td>\n",
       "      <td>50</td>\n",
       "      <td>0</td>\n",
       "    </tr>\n",
       "  </tbody>\n",
       "</table>\n",
       "<p>18068 rows × 12 columns</p>\n",
       "</div>"
      ],
      "text/plain": [
       "       user_id     name  age       city subscription_type  distance  duration  \\\n",
       "0            1     Кира   22     Тюмень             ultra    4410.0      26.0   \n",
       "1            1     Кира   22     Тюмень             ultra    2618.0      16.0   \n",
       "2            1     Кира   22     Тюмень             ultra     754.0       6.0   \n",
       "3            1     Кира   22     Тюмень             ultra    2695.0      19.0   \n",
       "4            1     Кира   22     Тюмень             ultra    4029.0      26.0   \n",
       "...        ...      ...  ...        ...               ...       ...       ...   \n",
       "18063     1534  Альберт   25  Краснодар              free    3781.0      20.0   \n",
       "18064     1534  Альберт   25  Краснодар              free    2840.0      21.0   \n",
       "18065     1534  Альберт   25  Краснодар              free    3826.0      18.0   \n",
       "18066     1534  Альберт   25  Краснодар              free    2902.0      17.0   \n",
       "18067     1534  Альберт   25  Краснодар              free    2372.0      16.0   \n",
       "\n",
       "            date  month  minute_price  start_ride_price  subscription_fee  \n",
       "0     2021-01-01      1             6                 0               199  \n",
       "1     2021-01-18      1             6                 0               199  \n",
       "2     2021-04-20      4             6                 0               199  \n",
       "3     2021-08-11      8             6                 0               199  \n",
       "4     2021-08-28      8             6                 0               199  \n",
       "...          ...    ...           ...               ...               ...  \n",
       "18063 2021-11-04     11             8                50                 0  \n",
       "18064 2021-11-16     11             8                50                 0  \n",
       "18065 2021-11-18     11             8                50                 0  \n",
       "18066 2021-11-27     11             8                50                 0  \n",
       "18067 2021-12-29     12             8                50                 0  \n",
       "\n",
       "[18068 rows x 12 columns]"
      ]
     },
     "metadata": {},
     "output_type": "display_data"
    }
   ],
   "source": [
    "data = users.merge(riders, on='user_id').merge(subs, on='subscription_type')\n",
    "display(data)"
   ]
  },
  {
   "cell_type": "code",
   "execution_count": 34,
   "id": "61c0fb2b",
   "metadata": {},
   "outputs": [
    {
     "data": {
      "text/plain": [
       "18068"
      ]
     },
     "execution_count": 34,
     "metadata": {},
     "output_type": "execute_result"
    }
   ],
   "source": [
    "data.shape[0]"
   ]
  },
  {
   "cell_type": "markdown",
   "id": "25d1ad20",
   "metadata": {},
   "source": [
    "Объединення таблица по размеру равна той, с которой объдиняли изначально. Значит, всё прошло корректно."
   ]
  },
  {
   "cell_type": "code",
   "execution_count": 35,
   "id": "bcd0b22f",
   "metadata": {},
   "outputs": [
    {
     "name": "stdout",
     "output_type": "stream",
     "text": [
      "<class 'pandas.core.frame.DataFrame'>\n",
      "Int64Index: 18068 entries, 0 to 18067\n",
      "Data columns (total 12 columns):\n",
      " #   Column             Non-Null Count  Dtype         \n",
      "---  ------             --------------  -----         \n",
      " 0   user_id            18068 non-null  int64         \n",
      " 1   name               18068 non-null  object        \n",
      " 2   age                18068 non-null  int64         \n",
      " 3   city               18068 non-null  object        \n",
      " 4   subscription_type  18068 non-null  object        \n",
      " 5   distance           18068 non-null  float64       \n",
      " 6   duration           18068 non-null  float64       \n",
      " 7   date               18068 non-null  datetime64[ns]\n",
      " 8   month              18068 non-null  int64         \n",
      " 9   minute_price       18068 non-null  int64         \n",
      " 10  start_ride_price   18068 non-null  int64         \n",
      " 11  subscription_fee   18068 non-null  int64         \n",
      "dtypes: datetime64[ns](1), float64(2), int64(6), object(3)\n",
      "memory usage: 1.8+ MB\n"
     ]
    },
    {
     "data": {
      "text/plain": [
       "0"
      ]
     },
     "execution_count": 35,
     "metadata": {},
     "output_type": "execute_result"
    }
   ],
   "source": [
    "#проверим датасет на пропуски и явные дубликаты\n",
    "data.info()\n",
    "data.duplicated().sum()"
   ]
  },
  {
   "cell_type": "markdown",
   "id": "d3910924",
   "metadata": {},
   "source": [
    "Пропусков и явных дубликатов нет."
   ]
  },
  {
   "cell_type": "markdown",
   "id": "7ff4de49",
   "metadata": {},
   "source": [
    "#### Создадим ещё два датафрейма:\n",
    "c данными о пользователях без подписки и с данными о пользователях с подпиской**"
   ]
  },
  {
   "cell_type": "code",
   "execution_count": 36,
   "id": "361a75f8",
   "metadata": {},
   "outputs": [],
   "source": [
    "ulta_users = data.query('subscription_type == \"ultra\"')"
   ]
  },
  {
   "cell_type": "code",
   "execution_count": 37,
   "id": "f7aae88b",
   "metadata": {},
   "outputs": [],
   "source": [
    "free_users = data.query('subscription_type == \"free\"')"
   ]
  },
  {
   "cell_type": "markdown",
   "id": "61cccffa",
   "metadata": {},
   "source": [
    "#### Посмотрим на расстояние и время поездок для пользователей разных категорий"
   ]
  },
  {
   "cell_type": "code",
   "execution_count": 38,
   "id": "3a8d43b3",
   "metadata": {},
   "outputs": [
    {
     "data": {
      "image/png": "[encoded data removed]",
      "text/plain": [
       "<Figure size 432x288 with 1 Axes>"
      ]
     },
     "metadata": {
      "needs_background": "light"
     },
     "output_type": "display_data"
    }
   ],
   "source": [
    "#расстояние\n",
    "plt.hist(ulta_users['distance'], bins=20, alpha = 0.6, label='с подпиской', color='purple');\n",
    "plt.hist(free_users['distance'], bins=20, alpha = 0.4, label='без подписки', color='cornflowerblue');\n",
    "\n",
    "plt.legend(loc='upper right');\n",
    "plt.title('Гистограммы расстояния для пользователей без подписки и с ней');\n",
    "plt.xlabel('Расстояние');\n",
    "plt.ylabel('Количество пользователей');"
   ]
  },
  {
   "cell_type": "markdown",
   "id": "3a1b7af8",
   "metadata": {},
   "source": [
    "На гистограмме видно, что пользователи без подписки преодолевают немного более длинные расстояния, чем с подпиской. Однако в целом распределения почти одинаковые."
   ]
  },
  {
   "cell_type": "code",
   "execution_count": 39,
   "id": "272d2bcc",
   "metadata": {},
   "outputs": [
    {
     "data": {
      "image/png": "[encoded data removed]",
      "text/plain": [
       "<Figure size 432x288 with 1 Axes>"
      ]
     },
     "metadata": {
      "needs_background": "light"
     },
     "output_type": "display_data"
    }
   ],
   "source": [
    "#время поездки\n",
    "plt.hist(ulta_users['duration'], bins=20, alpha = 0.6, label='с подпиской', color='purple');\n",
    "plt.hist(free_users['duration'], bins=20, alpha = 0.4, label='без подписки', color='cornflowerblue');\n",
    "\n",
    "plt.legend(loc='upper right');\n",
    "plt.title('Гистограммы длительности поездки для пользователей без подписки и с ней');\n",
    "plt.xlabel('Длительность');\n",
    "plt.ylabel('Количество пользователей');"
   ]
  },
  {
   "cell_type": "markdown",
   "id": "4b5d36b7",
   "metadata": {},
   "source": [
    "На гистограмме мы можем увидеть то, что пользователи с подпиской и без неё ездят по времени примерно одинаково (только людей без подписки больше). Возможно, им все-таки стоит её приобрести?"
   ]
  },
  {
   "cell_type": "markdown",
   "id": "402d620f",
   "metadata": {},
   "source": [
    "### Шаг. Подсчёт выручки"
   ]
  },
  {
   "cell_type": "markdown",
   "id": "d85f121d",
   "metadata": {},
   "source": [
    "#### Создадим датафрейм  с агрегированными данными о поездках"
   ]
  },
  {
   "cell_type": "code",
   "execution_count": 40,
   "id": "53049e0a",
   "metadata": {},
   "outputs": [
    {
     "data": {
      "text/html": [
       "<div>\n",
       "<style scoped>\n",
       "    .dataframe tbody tr th:only-of-type {\n",
       "        vertical-align: middle;\n",
       "    }\n",
       "\n",
       "    .dataframe tbody tr th {\n",
       "        vertical-align: top;\n",
       "    }\n",
       "\n",
       "    .dataframe thead th {\n",
       "        text-align: right;\n",
       "    }\n",
       "</style>\n",
       "<table border=\"1\" class=\"dataframe\">\n",
       "  <thead>\n",
       "    <tr style=\"text-align: right;\">\n",
       "      <th></th>\n",
       "      <th></th>\n",
       "      <th>distance</th>\n",
       "      <th>rides</th>\n",
       "      <th>duration</th>\n",
       "      <th>subscription_type</th>\n",
       "    </tr>\n",
       "    <tr>\n",
       "      <th>user_id</th>\n",
       "      <th>month</th>\n",
       "      <th></th>\n",
       "      <th></th>\n",
       "      <th></th>\n",
       "      <th></th>\n",
       "    </tr>\n",
       "  </thead>\n",
       "  <tbody>\n",
       "    <tr>\n",
       "      <th rowspan=\"5\" valign=\"top\">1</th>\n",
       "      <th>1</th>\n",
       "      <td>7028.0</td>\n",
       "      <td>2</td>\n",
       "      <td>42.0</td>\n",
       "      <td>ultra</td>\n",
       "    </tr>\n",
       "    <tr>\n",
       "      <th>4</th>\n",
       "      <td>754.0</td>\n",
       "      <td>1</td>\n",
       "      <td>6.0</td>\n",
       "      <td>ultra</td>\n",
       "    </tr>\n",
       "    <tr>\n",
       "      <th>8</th>\n",
       "      <td>6724.0</td>\n",
       "      <td>2</td>\n",
       "      <td>45.0</td>\n",
       "      <td>ultra</td>\n",
       "    </tr>\n",
       "    <tr>\n",
       "      <th>10</th>\n",
       "      <td>5810.0</td>\n",
       "      <td>2</td>\n",
       "      <td>32.0</td>\n",
       "      <td>ultra</td>\n",
       "    </tr>\n",
       "    <tr>\n",
       "      <th>11</th>\n",
       "      <td>7004.0</td>\n",
       "      <td>3</td>\n",
       "      <td>53.0</td>\n",
       "      <td>ultra</td>\n",
       "    </tr>\n",
       "    <tr>\n",
       "      <th>...</th>\n",
       "      <th>...</th>\n",
       "      <td>...</td>\n",
       "      <td>...</td>\n",
       "      <td>...</td>\n",
       "      <td>...</td>\n",
       "    </tr>\n",
       "    <tr>\n",
       "      <th rowspan=\"5\" valign=\"top\">1534</th>\n",
       "      <th>6</th>\n",
       "      <td>3409.0</td>\n",
       "      <td>2</td>\n",
       "      <td>24.0</td>\n",
       "      <td>free</td>\n",
       "    </tr>\n",
       "    <tr>\n",
       "      <th>8</th>\n",
       "      <td>7623.0</td>\n",
       "      <td>2</td>\n",
       "      <td>47.0</td>\n",
       "      <td>free</td>\n",
       "    </tr>\n",
       "    <tr>\n",
       "      <th>9</th>\n",
       "      <td>4928.0</td>\n",
       "      <td>1</td>\n",
       "      <td>23.0</td>\n",
       "      <td>free</td>\n",
       "    </tr>\n",
       "    <tr>\n",
       "      <th>11</th>\n",
       "      <td>13349.0</td>\n",
       "      <td>4</td>\n",
       "      <td>76.0</td>\n",
       "      <td>free</td>\n",
       "    </tr>\n",
       "    <tr>\n",
       "      <th>12</th>\n",
       "      <td>2372.0</td>\n",
       "      <td>1</td>\n",
       "      <td>16.0</td>\n",
       "      <td>free</td>\n",
       "    </tr>\n",
       "  </tbody>\n",
       "</table>\n",
       "<p>11331 rows × 4 columns</p>\n",
       "</div>"
      ],
      "text/plain": [
       "               distance  rides  duration subscription_type\n",
       "user_id month                                             \n",
       "1       1        7028.0      2      42.0             ultra\n",
       "        4         754.0      1       6.0             ultra\n",
       "        8        6724.0      2      45.0             ultra\n",
       "        10       5810.0      2      32.0             ultra\n",
       "        11       7004.0      3      53.0             ultra\n",
       "...                 ...    ...       ...               ...\n",
       "1534    6        3409.0      2      24.0              free\n",
       "        8        7623.0      2      47.0              free\n",
       "        9        4928.0      1      23.0              free\n",
       "        11      13349.0      4      76.0              free\n",
       "        12       2372.0      1      16.0              free\n",
       "\n",
       "[11331 rows x 4 columns]"
      ]
     },
     "execution_count": 40,
     "metadata": {},
     "output_type": "execute_result"
    }
   ],
   "source": [
    "data_agg = data.groupby(['user_id', 'month']).agg({'distance': 'sum', 'user_id': 'count', 'duration': 'sum', 'subscription_type': 'first'})\n",
    "data_agg.columns = ['distance', 'rides', 'duration', 'subscription_type']\n",
    "data_agg"
   ]
  },
  {
   "cell_type": "markdown",
   "id": "9a0ac614",
   "metadata": {},
   "source": [
    "#### Добавим столбец с помесячной выручкой"
   ]
  },
  {
   "cell_type": "code",
   "execution_count": 41,
   "id": "848461ca",
   "metadata": {},
   "outputs": [
    {
     "data": {
      "text/html": [
       "<div>\n",
       "<style scoped>\n",
       "    .dataframe tbody tr th:only-of-type {\n",
       "        vertical-align: middle;\n",
       "    }\n",
       "\n",
       "    .dataframe tbody tr th {\n",
       "        vertical-align: top;\n",
       "    }\n",
       "\n",
       "    .dataframe thead th {\n",
       "        text-align: right;\n",
       "    }\n",
       "</style>\n",
       "<table border=\"1\" class=\"dataframe\">\n",
       "  <thead>\n",
       "    <tr style=\"text-align: right;\">\n",
       "      <th></th>\n",
       "      <th>subscription_type</th>\n",
       "      <th>minute_price</th>\n",
       "      <th>start_ride_price</th>\n",
       "      <th>subscription_fee</th>\n",
       "    </tr>\n",
       "  </thead>\n",
       "  <tbody>\n",
       "    <tr>\n",
       "      <th>0</th>\n",
       "      <td>free</td>\n",
       "      <td>8</td>\n",
       "      <td>50</td>\n",
       "      <td>0</td>\n",
       "    </tr>\n",
       "    <tr>\n",
       "      <th>1</th>\n",
       "      <td>ultra</td>\n",
       "      <td>6</td>\n",
       "      <td>0</td>\n",
       "      <td>199</td>\n",
       "    </tr>\n",
       "  </tbody>\n",
       "</table>\n",
       "</div>"
      ],
      "text/plain": [
       "  subscription_type  minute_price  start_ride_price  subscription_fee\n",
       "0              free             8                50                 0\n",
       "1             ultra             6                 0               199"
      ]
     },
     "execution_count": 41,
     "metadata": {},
     "output_type": "execute_result"
    }
   ],
   "source": [
    "subs"
   ]
  },
  {
   "cell_type": "code",
   "execution_count": 42,
   "id": "aee18da4",
   "metadata": {},
   "outputs": [],
   "source": [
    "def monthly_revenue(row):\n",
    "    if row['subscription_type'] == 'ultra':\n",
    "        return row['duration'] * 6 + 199\n",
    "    else:\n",
    "        return row['duration'] * 8 + row['rides'] * 50"
   ]
  },
  {
   "cell_type": "code",
   "execution_count": 43,
   "id": "675ba9de",
   "metadata": {},
   "outputs": [
    {
     "data": {
      "text/html": [
       "<div>\n",
       "<style scoped>\n",
       "    .dataframe tbody tr th:only-of-type {\n",
       "        vertical-align: middle;\n",
       "    }\n",
       "\n",
       "    .dataframe tbody tr th {\n",
       "        vertical-align: top;\n",
       "    }\n",
       "\n",
       "    .dataframe thead th {\n",
       "        text-align: right;\n",
       "    }\n",
       "</style>\n",
       "<table border=\"1\" class=\"dataframe\">\n",
       "  <thead>\n",
       "    <tr style=\"text-align: right;\">\n",
       "      <th></th>\n",
       "      <th></th>\n",
       "      <th>distance</th>\n",
       "      <th>rides</th>\n",
       "      <th>duration</th>\n",
       "      <th>subscription_type</th>\n",
       "      <th>revenue</th>\n",
       "    </tr>\n",
       "    <tr>\n",
       "      <th>user_id</th>\n",
       "      <th>month</th>\n",
       "      <th></th>\n",
       "      <th></th>\n",
       "      <th></th>\n",
       "      <th></th>\n",
       "      <th></th>\n",
       "    </tr>\n",
       "  </thead>\n",
       "  <tbody>\n",
       "    <tr>\n",
       "      <th rowspan=\"5\" valign=\"top\">1</th>\n",
       "      <th>1</th>\n",
       "      <td>7028.0</td>\n",
       "      <td>2</td>\n",
       "      <td>42.0</td>\n",
       "      <td>ultra</td>\n",
       "      <td>451.0</td>\n",
       "    </tr>\n",
       "    <tr>\n",
       "      <th>4</th>\n",
       "      <td>754.0</td>\n",
       "      <td>1</td>\n",
       "      <td>6.0</td>\n",
       "      <td>ultra</td>\n",
       "      <td>235.0</td>\n",
       "    </tr>\n",
       "    <tr>\n",
       "      <th>8</th>\n",
       "      <td>6724.0</td>\n",
       "      <td>2</td>\n",
       "      <td>45.0</td>\n",
       "      <td>ultra</td>\n",
       "      <td>469.0</td>\n",
       "    </tr>\n",
       "    <tr>\n",
       "      <th>10</th>\n",
       "      <td>5810.0</td>\n",
       "      <td>2</td>\n",
       "      <td>32.0</td>\n",
       "      <td>ultra</td>\n",
       "      <td>391.0</td>\n",
       "    </tr>\n",
       "    <tr>\n",
       "      <th>11</th>\n",
       "      <td>7004.0</td>\n",
       "      <td>3</td>\n",
       "      <td>53.0</td>\n",
       "      <td>ultra</td>\n",
       "      <td>517.0</td>\n",
       "    </tr>\n",
       "    <tr>\n",
       "      <th>...</th>\n",
       "      <th>...</th>\n",
       "      <td>...</td>\n",
       "      <td>...</td>\n",
       "      <td>...</td>\n",
       "      <td>...</td>\n",
       "      <td>...</td>\n",
       "    </tr>\n",
       "    <tr>\n",
       "      <th rowspan=\"5\" valign=\"top\">1534</th>\n",
       "      <th>6</th>\n",
       "      <td>3409.0</td>\n",
       "      <td>2</td>\n",
       "      <td>24.0</td>\n",
       "      <td>free</td>\n",
       "      <td>292.0</td>\n",
       "    </tr>\n",
       "    <tr>\n",
       "      <th>8</th>\n",
       "      <td>7623.0</td>\n",
       "      <td>2</td>\n",
       "      <td>47.0</td>\n",
       "      <td>free</td>\n",
       "      <td>476.0</td>\n",
       "    </tr>\n",
       "    <tr>\n",
       "      <th>9</th>\n",
       "      <td>4928.0</td>\n",
       "      <td>1</td>\n",
       "      <td>23.0</td>\n",
       "      <td>free</td>\n",
       "      <td>234.0</td>\n",
       "    </tr>\n",
       "    <tr>\n",
       "      <th>11</th>\n",
       "      <td>13349.0</td>\n",
       "      <td>4</td>\n",
       "      <td>76.0</td>\n",
       "      <td>free</td>\n",
       "      <td>808.0</td>\n",
       "    </tr>\n",
       "    <tr>\n",
       "      <th>12</th>\n",
       "      <td>2372.0</td>\n",
       "      <td>1</td>\n",
       "      <td>16.0</td>\n",
       "      <td>free</td>\n",
       "      <td>178.0</td>\n",
       "    </tr>\n",
       "  </tbody>\n",
       "</table>\n",
       "<p>11331 rows × 5 columns</p>\n",
       "</div>"
      ],
      "text/plain": [
       "               distance  rides  duration subscription_type  revenue\n",
       "user_id month                                                      \n",
       "1       1        7028.0      2      42.0             ultra    451.0\n",
       "        4         754.0      1       6.0             ultra    235.0\n",
       "        8        6724.0      2      45.0             ultra    469.0\n",
       "        10       5810.0      2      32.0             ultra    391.0\n",
       "        11       7004.0      3      53.0             ultra    517.0\n",
       "...                 ...    ...       ...               ...      ...\n",
       "1534    6        3409.0      2      24.0              free    292.0\n",
       "        8        7623.0      2      47.0              free    476.0\n",
       "        9        4928.0      1      23.0              free    234.0\n",
       "        11      13349.0      4      76.0              free    808.0\n",
       "        12       2372.0      1      16.0              free    178.0\n",
       "\n",
       "[11331 rows x 5 columns]"
      ]
     },
     "execution_count": 43,
     "metadata": {},
     "output_type": "execute_result"
    }
   ],
   "source": [
    "data_agg['revenue'] = data_agg.apply(monthly_revenue, axis=1)\n",
    "data_agg"
   ]
  },
  {
   "cell_type": "code",
   "execution_count": 44,
   "id": "daeb5e0c",
   "metadata": {},
   "outputs": [
    {
     "data": {
      "text/html": [
       "<div>\n",
       "<style scoped>\n",
       "    .dataframe tbody tr th:only-of-type {\n",
       "        vertical-align: middle;\n",
       "    }\n",
       "\n",
       "    .dataframe tbody tr th {\n",
       "        vertical-align: top;\n",
       "    }\n",
       "\n",
       "    .dataframe thead th {\n",
       "        text-align: right;\n",
       "    }\n",
       "</style>\n",
       "<table border=\"1\" class=\"dataframe\">\n",
       "  <thead>\n",
       "    <tr style=\"text-align: right;\">\n",
       "      <th></th>\n",
       "      <th></th>\n",
       "      <th>distance</th>\n",
       "      <th>rides</th>\n",
       "      <th>duration</th>\n",
       "      <th>subscription_type</th>\n",
       "      <th>revenue</th>\n",
       "    </tr>\n",
       "    <tr>\n",
       "      <th>user_id</th>\n",
       "      <th>month</th>\n",
       "      <th></th>\n",
       "      <th></th>\n",
       "      <th></th>\n",
       "      <th></th>\n",
       "      <th></th>\n",
       "    </tr>\n",
       "  </thead>\n",
       "  <tbody>\n",
       "    <tr>\n",
       "      <th rowspan=\"5\" valign=\"top\">1</th>\n",
       "      <th>1</th>\n",
       "      <td>7028.0</td>\n",
       "      <td>2</td>\n",
       "      <td>42.0</td>\n",
       "      <td>ultra</td>\n",
       "      <td>451.0</td>\n",
       "    </tr>\n",
       "    <tr>\n",
       "      <th>4</th>\n",
       "      <td>754.0</td>\n",
       "      <td>1</td>\n",
       "      <td>6.0</td>\n",
       "      <td>ultra</td>\n",
       "      <td>235.0</td>\n",
       "    </tr>\n",
       "    <tr>\n",
       "      <th>8</th>\n",
       "      <td>6724.0</td>\n",
       "      <td>2</td>\n",
       "      <td>45.0</td>\n",
       "      <td>ultra</td>\n",
       "      <td>469.0</td>\n",
       "    </tr>\n",
       "    <tr>\n",
       "      <th>10</th>\n",
       "      <td>5810.0</td>\n",
       "      <td>2</td>\n",
       "      <td>32.0</td>\n",
       "      <td>ultra</td>\n",
       "      <td>391.0</td>\n",
       "    </tr>\n",
       "    <tr>\n",
       "      <th>11</th>\n",
       "      <td>7004.0</td>\n",
       "      <td>3</td>\n",
       "      <td>53.0</td>\n",
       "      <td>ultra</td>\n",
       "      <td>517.0</td>\n",
       "    </tr>\n",
       "    <tr>\n",
       "      <th>...</th>\n",
       "      <th>...</th>\n",
       "      <td>...</td>\n",
       "      <td>...</td>\n",
       "      <td>...</td>\n",
       "      <td>...</td>\n",
       "      <td>...</td>\n",
       "    </tr>\n",
       "    <tr>\n",
       "      <th rowspan=\"5\" valign=\"top\">1534</th>\n",
       "      <th>6</th>\n",
       "      <td>3409.0</td>\n",
       "      <td>2</td>\n",
       "      <td>24.0</td>\n",
       "      <td>free</td>\n",
       "      <td>292.0</td>\n",
       "    </tr>\n",
       "    <tr>\n",
       "      <th>8</th>\n",
       "      <td>7623.0</td>\n",
       "      <td>2</td>\n",
       "      <td>47.0</td>\n",
       "      <td>free</td>\n",
       "      <td>476.0</td>\n",
       "    </tr>\n",
       "    <tr>\n",
       "      <th>9</th>\n",
       "      <td>4928.0</td>\n",
       "      <td>1</td>\n",
       "      <td>23.0</td>\n",
       "      <td>free</td>\n",
       "      <td>234.0</td>\n",
       "    </tr>\n",
       "    <tr>\n",
       "      <th>11</th>\n",
       "      <td>13349.0</td>\n",
       "      <td>4</td>\n",
       "      <td>76.0</td>\n",
       "      <td>free</td>\n",
       "      <td>808.0</td>\n",
       "    </tr>\n",
       "    <tr>\n",
       "      <th>12</th>\n",
       "      <td>2372.0</td>\n",
       "      <td>1</td>\n",
       "      <td>16.0</td>\n",
       "      <td>free</td>\n",
       "      <td>178.0</td>\n",
       "    </tr>\n",
       "  </tbody>\n",
       "</table>\n",
       "<p>11331 rows × 5 columns</p>\n",
       "</div>"
      ],
      "text/plain": [
       "               distance  rides  duration subscription_type  revenue\n",
       "user_id month                                                      \n",
       "1       1        7028.0      2      42.0             ultra    451.0\n",
       "        4         754.0      1       6.0             ultra    235.0\n",
       "        8        6724.0      2      45.0             ultra    469.0\n",
       "        10       5810.0      2      32.0             ultra    391.0\n",
       "        11       7004.0      3      53.0             ultra    517.0\n",
       "...                 ...    ...       ...               ...      ...\n",
       "1534    6        3409.0      2      24.0              free    292.0\n",
       "        8        7623.0      2      47.0              free    476.0\n",
       "        9        4928.0      1      23.0              free    234.0\n",
       "        11      13349.0      4      76.0              free    808.0\n",
       "        12       2372.0      1      16.0              free    178.0\n",
       "\n",
       "[11331 rows x 5 columns]"
      ]
     },
     "execution_count": 44,
     "metadata": {},
     "output_type": "execute_result"
    }
   ],
   "source": [
    "#округляем значения\n",
    "data_agg['revenue'] = np.ceil(data_agg['revenue']) \n",
    "data_agg"
   ]
  },
  {
   "cell_type": "markdown",
   "id": "41545ac0",
   "metadata": {},
   "source": [
    "### Шаг. Проверка гипотез"
   ]
  },
  {
   "cell_type": "markdown",
   "id": "c6795572",
   "metadata": {},
   "source": [
    "#### Проверим, тратят ли пользователи с подпиской больше времени на поездки?"
   ]
  },
  {
   "cell_type": "markdown",
   "id": "16ab351a",
   "metadata": {},
   "source": [
    "- Сформулируем нулевую гипотезу: среднее время поездки у пользователей с подпиской равно среднему времени без неё.\n",
    "- Альтернативная гипотеза: среднее время поездки у пользователей с подпиской больше, чем без неё. \\\n",
    "Проведем ttest."
   ]
  },
  {
   "cell_type": "code",
   "execution_count": 45,
   "id": "de6934fa",
   "metadata": {},
   "outputs": [
    {
     "name": "stdout",
     "output_type": "stream",
     "text": [
      "Отвергаем нулевую гипотезу. Среднее время поездки у пользователей с подпиской больше, чем без неё\n",
      "3.1600689435611813e-35\n"
     ]
    }
   ],
   "source": [
    "alpha = 0.05 #уровень статистической значимости\n",
    "result = st.ttest_ind(ulta_users['duration'], free_users['duration'], alternative='greater')\n",
    "\n",
    "#проверим p-value\n",
    "if result.pvalue < alpha:\n",
    "    print('Отвергаем нулевую гипотезу. Среднее время поездки у пользователей с подпиской больше, чем без неё')\n",
    "else:\n",
    "    print('Не отвергаем нулевую гипотезу. Среднее время поездки у пользователей с подпиской равно среднему времени без неё')\n",
    "print(result.pvalue)"
   ]
  },
  {
   "cell_type": "markdown",
   "id": "2b0097e7",
   "metadata": {},
   "source": [
    "При статистической значимости в 5% и p-value меньше нее (3.1), среднее время поездки у пользователей с с подпиской больше, чем без неё. Это значит, что пользователи с подпиской тратят больше времени на поездки. Получается, пользователи с подпиской \"выгоднее\" для компании."
   ]
  },
  {
   "cell_type": "markdown",
   "id": "907c988d",
   "metadata": {},
   "source": [
    "####  Проверим, не превышает ли среднее расстояние у пользователей с подпиской за одну поездку 3130 (оптимальное расстоянию для самокатов)."
   ]
  },
  {
   "cell_type": "markdown",
   "id": "4c77c2ac",
   "metadata": {},
   "source": [
    "Сформируем гипотезы:\n",
    "- Нулевая гипотеза: среднее расстояние у пользователей с подпиской за одну поездку меньше или равно 3130 метров.\n",
    "- Альтернативная гипотеза: среднее расстояние у пользователей с подпиской за одну поездку больше 3130 метров."
   ]
  },
  {
   "cell_type": "code",
   "execution_count": 46,
   "id": "d6b3a004",
   "metadata": {},
   "outputs": [
    {
     "name": "stdout",
     "output_type": "stream",
     "text": [
      "Не получилось отвергнуть нулевую гипотезу. Cреднее расстояние у пользователей с подпиской за одну поездку меньше или равно 3130 метров. \n"
     ]
    }
   ],
   "source": [
    "data_ultra = data.query('subscription_type==\"ultra\"')\n",
    "\n",
    "alpha_2 = 0.05 #уровень статистической значимости\n",
    "interested_value = 3130\n",
    "\n",
    "result_2 = st.ttest_1samp(data_ultra['distance'], interested_value, alternative='greater')\n",
    "\n",
    "if result_2.pvalue < alpha_2:\n",
    "    print('Отвергаем нулевую гипотезу. Среднее расстояние у пользователей с подпиской за одну поездку больше 3130 метров')\n",
    "else:\n",
    "    print('Не получилось отвергнуть нулевую гипотезу. Cреднее расстояние у пользователей с подпиской за одну поездку меньше или равно 3130 метров. ')\n"
   ]
  },
  {
   "cell_type": "markdown",
   "id": "56d8253e",
   "metadata": {},
   "source": [
    "Пользователи с платной подпиской в среднем ездят менее 3130 метров, что очень хорошо для износа самокатов. Это может говорить о том, что такие пользователи в итоге окажутся еще более \"выгодными\" для бизнеса, чем ожидалось."
   ]
  },
  {
   "cell_type": "markdown",
   "id": "da4e5b04",
   "metadata": {},
   "source": [
    "#### Проверим гипотезу о том, будет ли помесячная выручка от пользователей с подпиской по месяцам выше, чем выручка от пользователей без подписки."
   ]
  },
  {
   "cell_type": "markdown",
   "id": "64e6ac72",
   "metadata": {},
   "source": [
    "Сформируем гипотезы:\n",
    "- Нулевая гипотеза: помесячная выручка от пользователей с подпиской по месяцам равна выручке от пользователей без подписки.\n",
    "- Альтернативная гипотеза: помесячная выручка от пользователей с подпиской по месяцам выше, чем выручка от пользователей без подписки."
   ]
  },
  {
   "cell_type": "code",
   "execution_count": 47,
   "id": "3e151321",
   "metadata": {},
   "outputs": [
    {
     "name": "stdout",
     "output_type": "stream",
     "text": [
      "Отвергаем нулевую гипотезу. Помесячная выручка от пользователей с подпиской по месяцам выше, чем выручка от пользователей без подписки.\n"
     ]
    }
   ],
   "source": [
    "data_agg_ultra = data_agg.query('subscription_type==\"ultra\"')\n",
    "data_agg_free = data_agg.query('subscription_type==\"free\"')\n",
    "\n",
    "alpha_3 = 0.05 #уровень статистической значимости\n",
    "\n",
    "result_3 = st.ttest_ind(data_agg_ultra['revenue'], data_agg_free['revenue'], alternative='greater')\n",
    "\n",
    "#проверим p-value\n",
    "if result_3.pvalue < alpha_3:\n",
    "    print('Отвергаем нулевую гипотезу. Помесячная выручка от пользователей с подпиской по месяцам выше, чем выручка от пользователей без подписки.')\n",
    "else:\n",
    "    print('Не отвергаем нулевую гипотезу. Помесячная выручка от пользователей с подпиской по месяцам равна выручке от пользователей без подписки.')"
   ]
  },
  {
   "cell_type": "markdown",
   "id": "c6dee701",
   "metadata": {},
   "source": [
    "В ходе т-теста была опровергнута нулевая гипотеза, а значит помесячная выручка от пользователей с подпиской по месяцам выше, чем выручка от пользователей без подписки. Как раз этот факт компенсирует то, что пользователи с подпиской ездят более 3130 метров и повышают износ самокатов."
   ]
  },
  {
   "cell_type": "markdown",
   "id": "c95064cb",
   "metadata": {},
   "source": [
    "### Вывод"
   ]
  },
  {
   "cell_type": "markdown",
   "id": "248d968a",
   "metadata": {},
   "source": [
    "При анализе сервиса GoFast было выявлено, что большинство людей пользуются им в Пятигорске, а наименее популярным городом является Москва. \\\n",
    "Наиболее распространенная группа пользователей - молодые люди от 20 до  30 лет. Медиана и среднее у этого показателя почти равны - 24.6 года, что говоорит об отсутствии выбросов в данных. \\\n",
    "Среднее расстояние, который пользователь проехжает за одну поездку - 3070 м, а медианное - 3133 м, они не сильно отличаются друг от друга. \\\n",
    "Большое количество поездок занимает примерно от 13 до 23 минут. Средняя продолжительность поездки - 17.8 минут, а медианное 17.6. это говорит о том, что распределение почти не смещено и выборка не имеет значительных выбросов. \\\n",
    "В ходе анализа было замечено, что пользователи с подпиской и без неё преодолевают примерно одинаковые расстояния за одну поездку. В этом плане отличий в двух группах почти нет. Однако среднее время поездки у пользователей с подпиской больше, чем без неё \\\n",
    "Пользователи с платной подпиской в среднем ездят менее 3130 метров, что хорошо для износа самокатов. Это может говорить о том, что такие пользователи очень \"выгодны\" для бизнеса. В то же время, была проверена гипотеза о том, что помесячная выручка от пользователей с подпиской по месяцам выше, чем выручка от пользователей без подписки, и она не была опровнргнута. Тот факт, что пользователи с подпиской ездят на самокатах дольше, могло бы сделать их менее прибыльными, однако проверка статистических гипотез показало, что они всё приносят больше прибыли, чем пользователи без подписки.\n"
   ]
  },
  {
   "cell_type": "markdown",
   "id": "61213c5e",
   "metadata": {},
   "source": [
    "### Шаг. Распределения"
   ]
  },
  {
   "cell_type": "markdown",
   "id": "d36a3e9f-a85a-47c0-a3df-7625a694d115",
   "metadata": {},
   "source": [
    "**7.1. Задача 1**"
   ]
  },
  {
   "cell_type": "markdown",
   "id": "a72de051",
   "metadata": {},
   "source": [
    "Отделу маркетинга GoFast поставили задачу: нужно провести акцию с раздачей промокодов на один бесплатный месяц подписки, в рамках которой как минимум 100 существующих клиентов должны продлить эту подписку. То есть по завершении периода действия подписки пользователь может либо отказаться от неё, либо продлить, совершив соответствующий платёж. \n",
    "Эта акция уже проводилась ранее и по итогу выяснилось, что после бесплатного пробного периода подписку продлевают 10 % пользователей. Выясните, какое минимальное количество промокодов нужно разослать, чтобы вероятность не выполнить план была примерно 5 %. Подберите параметры распределения, описывающего эту ситуацию, постройте график распределения и сформулируйте ответ на вопрос о количестве промокодов."
   ]
  },
  {
   "cell_type": "code",
   "execution_count": 48,
   "id": "76f7ea7a",
   "metadata": {},
   "outputs": [
    {
     "name": "stdout",
     "output_type": "stream",
     "text": [
      "Минимальное количество промокодов:  1172\n"
     ]
    }
   ],
   "source": [
    "# Вычисление неудач\n",
    "from scipy.stats import binom\n",
    "import numpy as np\n",
    "\n",
    "p = 0.1\n",
    "n = 1000\n",
    "\n",
    "for n in range(900, 1800):\n",
    "    if binom.cdf(100, n, p) <= 0.05:\n",
    "        print(\"Минимальное количество промокодов: \", n)\n",
    "        break"
   ]
  },
  {
   "cell_type": "markdown",
   "id": "5bfa9008",
   "metadata": {},
   "source": [
    "**7.2. Задача 2**"
   ]
  },
  {
   "cell_type": "markdown",
   "id": "18ed7f09",
   "metadata": {},
   "source": [
    "Отдел маркетинга рассылает клиентам push-уведомления в мобильном приложении. Клиенты могут открыть его или не открывать. Известно, что уведомления открывают около 40 % получивших клиентов. Отдел планирует разослать 1 млн уведомлений. С помощью аппроксимации постройте примерный график распределения и оцените вероятность того, что уведомление откроют не более 399,5 тыс. пользователей."
   ]
  },
  {
   "cell_type": "code",
   "execution_count": 49,
   "id": "03891fdf",
   "metadata": {},
   "outputs": [
    {
     "name": "stdout",
     "output_type": "stream",
     "text": [
      "0.15371708296369768\n"
     ]
    }
   ],
   "source": [
    "# задаём параметры биномиального распределения\n",
    "n = 1000000\n",
    "p = 0.4\n",
    "\n",
    "# задаём параметры нормального распределения равными\n",
    "# мат.ожиданию и дисперсии биномиального распределения\n",
    "mu = n * p\n",
    "sigma = sqrt(n * p * (1 - p))\n",
    "\n",
    "# задаём нормальное распределение\n",
    "distr = st.norm(mu, sigma) \n",
    "\n",
    "# считаем вероятность хвоста слева от 399,5 тысяч\n",
    "result = distr.cdf(399500)\n",
    "print(result)"
   ]
  },
  {
   "cell_type": "markdown",
   "id": "712aad29",
   "metadata": {},
   "source": [
    "Вероятность, что уведомление откроют не более 399,5 тыс. пользователей, равна примерно 15%. Это хороший результат, значит есть большая внероятность, что на уведомление кликнут даже большее количество пользователей."
   ]
  },
  {
   "cell_type": "code",
   "execution_count": 50,
   "id": "352998f1",
   "metadata": {},
   "outputs": [
    {
     "data": {
      "image/png": "[encoded data removed]",
      "text/plain": [
       "<Figure size 432x288 with 1 Axes>"
      ]
     },
     "metadata": {
      "needs_background": "light"
     },
     "output_type": "display_data"
    },
    {
     "name": "stdout",
     "output_type": "stream",
     "text": [
      "Условие выполняется\n"
     ]
    }
   ],
   "source": [
    "def linspace(start, stop, num):\n",
    "    step = (stop - start) / (num - 1)\n",
    "    result = []\n",
    "    for i in range(num):\n",
    "        result.append(start + step * i)\n",
    "    return result\n",
    " \n",
    "# задаём параметры биномиального распределения\n",
    "n = 1000000\n",
    "p = 0.4\n",
    "\n",
    "# границы промежутка, в котором будем строить аппроксимацию -\n",
    "left = int(n * p - 4 * sqrt(n * p * (1 - p)))\n",
    "right = int(n * p + 4 * sqrt(n * p * (1 - p)))\n",
    " \n",
    "# зададим набор значений биномиальной величины на выбранном промежутке:\n",
    "x = list(range(max(0, left), right))\n",
    "\n",
    "ax = plt.subplot()\n",
    "\n",
    "ax.plot(x, binom.pmf(x, n, p), 'bo', ms=5, label='вероятности биномиального распределения')\n",
    "\n",
    "# зададим параметры нормального распределения равными\n",
    "# мат.ожиданию и дисперсии биномиального распределения\n",
    "mu = n * p\n",
    "sigma = sqrt(n * p * (1 - p))\n",
    " \n",
    "# рисуем график нормального распределения:\n",
    "# получим список из 100 чисел от left до right\n",
    "x = linspace(left, right, 100)\n",
    "\n",
    "ax.plot(x, norm.pdf(x, mu, sigma), 'r-', lw=3, alpha=0.3, label='плотность вероятности нормального распределения')\n",
    " \n",
    "# зададим подписи по оси x в пределах ± 3 ст.отклонений от мат.ожидания\n",
    "x_ticks = list(range(int(mu - 3 * sigma), int(mu + 3 * sigma), 1))\n",
    "ax.set_xticks(x_ticks)\n",
    "\n",
    "# настраиваем оптимальное расположение легенды и выводим график\n",
    "ax.legend(loc='best')\n",
    "plt.show()\n",
    "\n",
    "# выводим, выполняется ли наше условие аппроксимации:\n",
    "# лежит ли mu ± 3 sigma в промежутке от 0 до n:\n",
    "if (mu - (3 * sigma) >= 0) and ((mu + (3 * sigma) <= n)):\n",
    "    print('Условие выполняется')\n",
    "else:\n",
    "    print('Условие не выполняется')"
   ]
  },
  {
   "cell_type": "markdown",
   "id": "ce04edf4",
   "metadata": {},
   "source": [
    "Аппроксимация здесь работает хорошо, что подтверждается графиком - линии вероятности биномиального распределения и плостности вероятности нормального распределения совпадают. \n"
   ]
  }
 ],
 "metadata": {
  "ExecuteTimeLog": [
   {
    "duration": 43,
    "start_time": "2023-08-22T14:40:56.789Z"
   },
   {
    "duration": 397,
    "start_time": "2023-08-22T14:40:59.837Z"
   },
   {
    "duration": 215,
    "start_time": "2023-08-22T14:41:01.337Z"
   },
   {
    "duration": 22,
    "start_time": "2023-08-22T14:41:16.035Z"
   },
   {
    "duration": 27,
    "start_time": "2023-08-22T14:41:35.309Z"
   },
   {
    "duration": 30,
    "start_time": "2023-08-22T14:42:41.305Z"
   },
   {
    "duration": 22,
    "start_time": "2023-08-22T14:42:50.294Z"
   },
   {
    "duration": 25,
    "start_time": "2023-08-22T14:43:48.757Z"
   },
   {
    "duration": 6,
    "start_time": "2023-08-22T14:44:10.465Z"
   },
   {
    "duration": 7,
    "start_time": "2023-08-22T14:44:15.968Z"
   },
   {
    "duration": 7,
    "start_time": "2023-08-22T14:44:35.130Z"
   },
   {
    "duration": 8,
    "start_time": "2023-08-22T14:44:36.790Z"
   },
   {
    "duration": 6,
    "start_time": "2023-08-22T14:44:39.074Z"
   },
   {
    "duration": 49,
    "start_time": "2023-08-24T10:13:38.991Z"
   },
   {
    "duration": 428,
    "start_time": "2023-08-24T10:13:44.225Z"
   },
   {
    "duration": 289,
    "start_time": "2023-08-24T10:13:45.713Z"
   },
   {
    "duration": 16,
    "start_time": "2023-08-24T10:13:46.780Z"
   },
   {
    "duration": 9,
    "start_time": "2023-08-24T10:13:48.179Z"
   },
   {
    "duration": 7,
    "start_time": "2023-08-24T10:13:49.587Z"
   },
   {
    "duration": 8,
    "start_time": "2023-08-24T10:13:54.184Z"
   },
   {
    "duration": 13,
    "start_time": "2023-08-24T10:14:41.283Z"
   },
   {
    "duration": 11,
    "start_time": "2023-08-24T10:14:54.859Z"
   },
   {
    "duration": 11,
    "start_time": "2023-08-24T10:14:57.377Z"
   },
   {
    "duration": 1516,
    "start_time": "2023-08-24T10:21:42.830Z"
   },
   {
    "duration": 8,
    "start_time": "2023-08-24T10:21:58.897Z"
   },
   {
    "duration": 59,
    "start_time": "2023-08-24T10:22:05.050Z"
   },
   {
    "duration": 11,
    "start_time": "2023-08-24T10:22:10.571Z"
   },
   {
    "duration": 10,
    "start_time": "2023-08-24T10:23:44.699Z"
   },
   {
    "duration": 6,
    "start_time": "2023-08-24T10:23:55.964Z"
   },
   {
    "duration": 8,
    "start_time": "2023-08-24T10:24:39.904Z"
   },
   {
    "duration": 6,
    "start_time": "2023-08-24T10:24:41.286Z"
   },
   {
    "duration": 6,
    "start_time": "2023-08-24T10:24:50.485Z"
   },
   {
    "duration": 17,
    "start_time": "2023-08-24T10:25:58.961Z"
   },
   {
    "duration": 5,
    "start_time": "2023-08-24T10:26:14.865Z"
   },
   {
    "duration": 7,
    "start_time": "2023-08-24T10:26:20.937Z"
   },
   {
    "duration": 914,
    "start_time": "2023-08-24T10:31:29.473Z"
   },
   {
    "duration": 46,
    "start_time": "2023-08-24T10:34:35.175Z"
   },
   {
    "duration": 9,
    "start_time": "2023-08-24T10:34:50.442Z"
   },
   {
    "duration": 9,
    "start_time": "2023-08-24T10:34:53.030Z"
   },
   {
    "duration": 94,
    "start_time": "2023-08-24T10:34:57.525Z"
   },
   {
    "duration": 172,
    "start_time": "2023-08-24T10:37:19.384Z"
   },
   {
    "duration": 19,
    "start_time": "2023-08-24T10:38:11.818Z"
   },
   {
    "duration": 3,
    "start_time": "2023-08-24T10:38:17.160Z"
   },
   {
    "duration": 17,
    "start_time": "2023-08-24T10:38:21.404Z"
   },
   {
    "duration": 149,
    "start_time": "2023-08-24T10:38:55.536Z"
   },
   {
    "duration": 149,
    "start_time": "2023-08-24T10:39:17.451Z"
   },
   {
    "duration": 165,
    "start_time": "2023-08-24T10:40:01.709Z"
   },
   {
    "duration": 18,
    "start_time": "2023-08-24T10:40:17.652Z"
   },
   {
    "duration": 158,
    "start_time": "2023-08-24T10:40:49.066Z"
   },
   {
    "duration": 15,
    "start_time": "2023-08-24T10:43:31.260Z"
   },
   {
    "duration": 93,
    "start_time": "2023-08-24T10:43:45.419Z"
   },
   {
    "duration": 227,
    "start_time": "2023-08-24T10:43:54.389Z"
   },
   {
    "duration": 16,
    "start_time": "2023-08-24T10:45:13.955Z"
   },
   {
    "duration": 21,
    "start_time": "2023-08-24T10:45:18.669Z"
   },
   {
    "duration": 162,
    "start_time": "2023-08-24T10:45:22.837Z"
   },
   {
    "duration": 148,
    "start_time": "2023-08-24T10:46:46.476Z"
   },
   {
    "duration": 169,
    "start_time": "2023-08-24T10:46:55.955Z"
   },
   {
    "duration": 142,
    "start_time": "2023-08-24T10:47:08.141Z"
   },
   {
    "duration": 385,
    "start_time": "2023-08-24T10:47:18.362Z"
   },
   {
    "duration": 433,
    "start_time": "2023-08-24T10:47:32.337Z"
   },
   {
    "duration": 13,
    "start_time": "2023-08-24T10:47:46.959Z"
   },
   {
    "duration": 394,
    "start_time": "2023-08-24T10:48:06.789Z"
   },
   {
    "duration": 364,
    "start_time": "2023-08-24T10:48:12.299Z"
   },
   {
    "duration": 422,
    "start_time": "2023-08-24T10:48:19.037Z"
   },
   {
    "duration": 15,
    "start_time": "2023-08-24T10:50:27.199Z"
   },
   {
    "duration": 9,
    "start_time": "2023-08-24T10:50:31.361Z"
   },
   {
    "duration": 9,
    "start_time": "2023-08-24T10:58:10.892Z"
   },
   {
    "duration": 15,
    "start_time": "2023-08-24T10:58:25.488Z"
   },
   {
    "duration": 14,
    "start_time": "2023-08-24T10:58:39.194Z"
   },
   {
    "duration": 13,
    "start_time": "2023-08-24T10:58:48.122Z"
   },
   {
    "duration": 128,
    "start_time": "2023-08-24T10:59:12.947Z"
   },
   {
    "duration": 10,
    "start_time": "2023-08-24T10:59:33.600Z"
   },
   {
    "duration": 13,
    "start_time": "2023-08-24T10:59:41.335Z"
   },
   {
    "duration": 1152,
    "start_time": "2023-08-24T11:00:06.418Z"
   },
   {
    "duration": 67,
    "start_time": "2023-08-24T11:00:07.572Z"
   },
   {
    "duration": 12,
    "start_time": "2023-08-24T11:00:07.640Z"
   },
   {
    "duration": 9,
    "start_time": "2023-08-24T11:00:07.654Z"
   },
   {
    "duration": 29,
    "start_time": "2023-08-24T11:00:07.664Z"
   },
   {
    "duration": 18,
    "start_time": "2023-08-24T11:00:07.694Z"
   },
   {
    "duration": 18,
    "start_time": "2023-08-24T11:00:07.714Z"
   },
   {
    "duration": 22,
    "start_time": "2023-08-24T11:00:07.733Z"
   },
   {
    "duration": 11,
    "start_time": "2023-08-24T11:00:07.757Z"
   },
   {
    "duration": 18,
    "start_time": "2023-08-24T11:00:07.771Z"
   },
   {
    "duration": 16,
    "start_time": "2023-08-24T11:00:07.791Z"
   },
   {
    "duration": 30,
    "start_time": "2023-08-24T11:00:07.809Z"
   },
   {
    "duration": 23,
    "start_time": "2023-08-24T11:00:07.841Z"
   },
   {
    "duration": 51,
    "start_time": "2023-08-24T11:00:07.866Z"
   },
   {
    "duration": 56,
    "start_time": "2023-08-24T11:00:07.918Z"
   },
   {
    "duration": 118,
    "start_time": "2023-08-24T11:00:07.976Z"
   },
   {
    "duration": 13,
    "start_time": "2023-08-24T11:02:45.364Z"
   },
   {
    "duration": 14,
    "start_time": "2023-08-24T11:02:47.572Z"
   },
   {
    "duration": 396,
    "start_time": "2023-08-24T11:02:54.048Z"
   },
   {
    "duration": 12,
    "start_time": "2023-08-24T11:03:15.305Z"
   },
   {
    "duration": 13,
    "start_time": "2023-08-24T11:03:46.404Z"
   },
   {
    "duration": 10,
    "start_time": "2023-08-24T11:03:52.174Z"
   },
   {
    "duration": 158,
    "start_time": "2023-08-24T11:18:45.867Z"
   },
   {
    "duration": 156,
    "start_time": "2023-08-24T11:20:23.379Z"
   },
   {
    "duration": 170,
    "start_time": "2023-08-24T11:20:37.198Z"
   },
   {
    "duration": 172,
    "start_time": "2023-08-24T11:20:40.307Z"
   },
   {
    "duration": 173,
    "start_time": "2023-08-24T11:20:48.638Z"
   },
   {
    "duration": 167,
    "start_time": "2023-08-24T11:20:53.999Z"
   },
   {
    "duration": 45,
    "start_time": "2023-08-24T17:13:30.973Z"
   },
   {
    "duration": 6,
    "start_time": "2023-08-24T17:13:34.329Z"
   },
   {
    "duration": 1690,
    "start_time": "2023-08-24T17:13:43.562Z"
   },
   {
    "duration": 200,
    "start_time": "2023-08-24T17:13:45.255Z"
   },
   {
    "duration": 12,
    "start_time": "2023-08-24T17:13:45.457Z"
   },
   {
    "duration": 9,
    "start_time": "2023-08-24T17:13:45.471Z"
   },
   {
    "duration": 8,
    "start_time": "2023-08-24T17:13:45.481Z"
   },
   {
    "duration": 13,
    "start_time": "2023-08-24T17:13:45.491Z"
   },
   {
    "duration": 32,
    "start_time": "2023-08-24T17:13:45.505Z"
   },
   {
    "duration": 18,
    "start_time": "2023-08-24T17:13:45.538Z"
   },
   {
    "duration": 15,
    "start_time": "2023-08-24T17:13:45.557Z"
   },
   {
    "duration": 5,
    "start_time": "2023-08-24T17:13:45.573Z"
   },
   {
    "duration": 12,
    "start_time": "2023-08-24T17:13:45.579Z"
   },
   {
    "duration": 8,
    "start_time": "2023-08-24T17:13:45.592Z"
   },
   {
    "duration": 4,
    "start_time": "2023-08-24T17:13:45.602Z"
   },
   {
    "duration": 188,
    "start_time": "2023-08-24T17:13:45.608Z"
   },
   {
    "duration": 95,
    "start_time": "2023-08-24T17:13:45.797Z"
   },
   {
    "duration": 12,
    "start_time": "2023-08-24T17:13:57.632Z"
   },
   {
    "duration": 6,
    "start_time": "2023-08-24T17:14:20.205Z"
   },
   {
    "duration": 6,
    "start_time": "2023-08-24T17:14:26.743Z"
   },
   {
    "duration": 5,
    "start_time": "2023-08-24T17:14:29.559Z"
   },
   {
    "duration": 6,
    "start_time": "2023-08-24T17:15:05.313Z"
   },
   {
    "duration": 6,
    "start_time": "2023-08-24T17:15:21.603Z"
   },
   {
    "duration": 6,
    "start_time": "2023-08-24T17:15:23.223Z"
   },
   {
    "duration": 9,
    "start_time": "2023-08-24T17:16:12.550Z"
   },
   {
    "duration": 4,
    "start_time": "2023-08-24T17:16:16.454Z"
   },
   {
    "duration": 5,
    "start_time": "2023-08-24T17:16:18.943Z"
   },
   {
    "duration": 4,
    "start_time": "2023-08-24T17:16:21.356Z"
   },
   {
    "duration": 4,
    "start_time": "2023-08-24T17:16:36.499Z"
   },
   {
    "duration": 3,
    "start_time": "2023-08-24T17:16:46.414Z"
   },
   {
    "duration": 4,
    "start_time": "2023-08-24T17:18:46.201Z"
   },
   {
    "duration": 11,
    "start_time": "2023-08-24T17:25:06.514Z"
   },
   {
    "duration": 8,
    "start_time": "2023-08-24T17:25:25.942Z"
   },
   {
    "duration": 6,
    "start_time": "2023-08-24T17:29:04.542Z"
   },
   {
    "duration": 6,
    "start_time": "2023-08-24T17:29:26.374Z"
   },
   {
    "duration": 6,
    "start_time": "2023-08-24T17:29:34.122Z"
   },
   {
    "duration": 6,
    "start_time": "2023-08-24T17:30:27.271Z"
   },
   {
    "duration": 10,
    "start_time": "2023-08-24T17:30:57.003Z"
   },
   {
    "duration": 9,
    "start_time": "2023-08-24T17:31:04.547Z"
   },
   {
    "duration": 9,
    "start_time": "2023-08-24T17:31:12.666Z"
   },
   {
    "duration": 13,
    "start_time": "2023-08-24T17:31:27.696Z"
   },
   {
    "duration": 15,
    "start_time": "2023-08-24T17:31:32.708Z"
   },
   {
    "duration": 6,
    "start_time": "2023-08-24T17:31:36.399Z"
   },
   {
    "duration": 7,
    "start_time": "2023-08-24T17:31:40.198Z"
   },
   {
    "duration": 9,
    "start_time": "2023-08-24T17:31:57.696Z"
   },
   {
    "duration": 110,
    "start_time": "2023-08-24T17:35:39.524Z"
   },
   {
    "duration": 71,
    "start_time": "2023-08-24T17:35:42.074Z"
   },
   {
    "duration": 112,
    "start_time": "2023-08-24T17:36:07.880Z"
   },
   {
    "duration": 94,
    "start_time": "2023-08-24T17:36:11.741Z"
   },
   {
    "duration": 5,
    "start_time": "2023-08-24T17:36:29.178Z"
   },
   {
    "duration": 6,
    "start_time": "2023-08-24T17:37:24.105Z"
   },
   {
    "duration": 7,
    "start_time": "2023-08-24T17:37:58.143Z"
   },
   {
    "duration": 15,
    "start_time": "2023-08-24T17:39:52.172Z"
   },
   {
    "duration": 9,
    "start_time": "2023-08-24T17:43:57.170Z"
   },
   {
    "duration": 9,
    "start_time": "2023-08-24T17:44:19.264Z"
   },
   {
    "duration": 17,
    "start_time": "2023-08-24T17:45:21.066Z"
   },
   {
    "duration": 3,
    "start_time": "2023-08-24T17:45:29.408Z"
   },
   {
    "duration": 16,
    "start_time": "2023-08-24T17:45:40.223Z"
   },
   {
    "duration": 12,
    "start_time": "2023-08-24T17:46:06.485Z"
   },
   {
    "duration": 14,
    "start_time": "2023-08-24T17:46:50.936Z"
   },
   {
    "duration": 9,
    "start_time": "2023-08-24T17:46:53.413Z"
   },
   {
    "duration": 11,
    "start_time": "2023-08-24T17:49:22.874Z"
   },
   {
    "duration": 14,
    "start_time": "2023-08-24T17:49:59.373Z"
   },
   {
    "duration": 146,
    "start_time": "2023-08-24T17:51:00.584Z"
   },
   {
    "duration": 10,
    "start_time": "2023-08-24T17:54:09.520Z"
   },
   {
    "duration": 116,
    "start_time": "2023-08-24T17:55:47.477Z"
   },
   {
    "duration": 145,
    "start_time": "2023-08-24T17:56:59.602Z"
   },
   {
    "duration": 153,
    "start_time": "2023-08-24T17:57:04.212Z"
   },
   {
    "duration": 140,
    "start_time": "2023-08-24T17:57:21.819Z"
   },
   {
    "duration": 144,
    "start_time": "2023-08-24T17:57:25.048Z"
   },
   {
    "duration": 149,
    "start_time": "2023-08-24T17:57:28.272Z"
   },
   {
    "duration": 215,
    "start_time": "2023-08-24T17:57:54.971Z"
   },
   {
    "duration": 120,
    "start_time": "2023-08-24T17:58:07.173Z"
   },
   {
    "duration": 140,
    "start_time": "2023-08-24T17:58:15.170Z"
   },
   {
    "duration": 166,
    "start_time": "2023-08-24T18:00:50.852Z"
   },
   {
    "duration": 150,
    "start_time": "2023-08-24T18:03:52.799Z"
   },
   {
    "duration": 156,
    "start_time": "2023-08-24T18:04:54.254Z"
   },
   {
    "duration": 150,
    "start_time": "2023-08-24T18:05:12.315Z"
   },
   {
    "duration": 10,
    "start_time": "2023-08-24T18:06:08.774Z"
   },
   {
    "duration": 3,
    "start_time": "2023-08-24T18:09:07.041Z"
   },
   {
    "duration": 267,
    "start_time": "2023-08-24T18:10:00.631Z"
   },
   {
    "duration": 8,
    "start_time": "2023-08-24T18:11:39.737Z"
   },
   {
    "duration": 5,
    "start_time": "2023-08-24T18:11:57.257Z"
   },
   {
    "duration": 75,
    "start_time": "2023-08-24T18:15:39.049Z"
   },
   {
    "duration": 3,
    "start_time": "2023-08-24T18:15:58.445Z"
   },
   {
    "duration": 3,
    "start_time": "2023-08-24T18:16:04.484Z"
   },
   {
    "duration": 2,
    "start_time": "2023-08-24T18:16:13.056Z"
   },
   {
    "duration": 1021,
    "start_time": "2023-08-24T18:16:39.475Z"
   },
   {
    "duration": 4,
    "start_time": "2023-08-24T18:17:26.326Z"
   },
   {
    "duration": 14,
    "start_time": "2023-08-24T18:19:50.023Z"
   },
   {
    "duration": 9,
    "start_time": "2023-08-24T18:20:33.159Z"
   },
   {
    "duration": 5,
    "start_time": "2023-08-24T18:21:00.575Z"
   },
   {
    "duration": 132,
    "start_time": "2023-08-24T18:26:07.160Z"
   },
   {
    "duration": 131,
    "start_time": "2023-08-24T18:26:37.669Z"
   },
   {
    "duration": 156,
    "start_time": "2023-08-24T18:26:48.072Z"
   },
   {
    "duration": 142,
    "start_time": "2023-08-24T18:26:54.067Z"
   },
   {
    "duration": 267,
    "start_time": "2023-08-24T18:27:01.856Z"
   },
   {
    "duration": 171,
    "start_time": "2023-08-24T18:27:28.597Z"
   },
   {
    "duration": 176,
    "start_time": "2023-08-24T18:27:53.711Z"
   },
   {
    "duration": 179,
    "start_time": "2023-08-24T18:28:04.137Z"
   },
   {
    "duration": 180,
    "start_time": "2023-08-24T18:28:42.017Z"
   },
   {
    "duration": 27,
    "start_time": "2023-08-24T18:33:47.502Z"
   },
   {
    "duration": 28,
    "start_time": "2023-08-24T18:34:36.900Z"
   },
   {
    "duration": 14,
    "start_time": "2023-08-24T18:39:03.495Z"
   },
   {
    "duration": 26,
    "start_time": "2023-08-24T18:39:24.325Z"
   },
   {
    "duration": 4,
    "start_time": "2023-08-24T18:40:15.950Z"
   },
   {
    "duration": 3,
    "start_time": "2023-08-24T18:40:17.464Z"
   },
   {
    "duration": 4,
    "start_time": "2023-08-24T18:40:30.295Z"
   },
   {
    "duration": 3,
    "start_time": "2023-08-24T18:40:35.137Z"
   },
   {
    "duration": 16,
    "start_time": "2023-08-24T18:41:09.590Z"
   },
   {
    "duration": 17,
    "start_time": "2023-08-24T18:41:31.658Z"
   },
   {
    "duration": 9,
    "start_time": "2023-08-24T18:41:37.800Z"
   },
   {
    "duration": 21,
    "start_time": "2023-08-24T18:41:48.097Z"
   },
   {
    "duration": 6,
    "start_time": "2023-08-24T18:41:54.094Z"
   },
   {
    "duration": 7,
    "start_time": "2023-08-24T18:42:08.505Z"
   },
   {
    "duration": 2,
    "start_time": "2023-08-24T18:43:37.601Z"
   },
   {
    "duration": 128,
    "start_time": "2023-08-24T18:46:53.797Z"
   },
   {
    "duration": 132,
    "start_time": "2023-08-24T18:48:18.894Z"
   },
   {
    "duration": 121,
    "start_time": "2023-08-24T18:48:24.406Z"
   },
   {
    "duration": 141,
    "start_time": "2023-08-24T18:48:29.329Z"
   },
   {
    "duration": 140,
    "start_time": "2023-08-24T18:48:38.053Z"
   },
   {
    "duration": 204,
    "start_time": "2023-08-24T18:48:55.867Z"
   },
   {
    "duration": 274,
    "start_time": "2023-08-24T18:49:08.925Z"
   },
   {
    "duration": 191,
    "start_time": "2023-08-24T18:49:13.626Z"
   },
   {
    "duration": 214,
    "start_time": "2023-08-24T18:50:01.866Z"
   },
   {
    "duration": 212,
    "start_time": "2023-08-24T18:50:14.496Z"
   },
   {
    "duration": 232,
    "start_time": "2023-08-24T18:50:26.204Z"
   },
   {
    "duration": 245,
    "start_time": "2023-08-24T18:50:48.247Z"
   },
   {
    "duration": 342,
    "start_time": "2023-08-24T18:51:22.142Z"
   },
   {
    "duration": 235,
    "start_time": "2023-08-24T18:51:26.414Z"
   },
   {
    "duration": 222,
    "start_time": "2023-08-24T18:51:31.621Z"
   },
   {
    "duration": 236,
    "start_time": "2023-08-24T18:51:49.323Z"
   },
   {
    "duration": 230,
    "start_time": "2023-08-24T18:51:54.630Z"
   },
   {
    "duration": 269,
    "start_time": "2023-08-24T18:51:59.461Z"
   },
   {
    "duration": 106,
    "start_time": "2023-08-24T18:53:44.603Z"
   },
   {
    "duration": 98,
    "start_time": "2023-08-24T18:53:51.701Z"
   },
   {
    "duration": 227,
    "start_time": "2023-08-24T18:53:57.959Z"
   },
   {
    "duration": 368,
    "start_time": "2023-08-24T18:54:14.299Z"
   },
   {
    "duration": 230,
    "start_time": "2023-08-24T18:54:36.134Z"
   },
   {
    "duration": 224,
    "start_time": "2023-08-24T18:54:44.001Z"
   },
   {
    "duration": 228,
    "start_time": "2023-08-24T18:55:02.593Z"
   },
   {
    "duration": 269,
    "start_time": "2023-08-24T18:55:06.336Z"
   },
   {
    "duration": 235,
    "start_time": "2023-08-24T18:55:13.240Z"
   },
   {
    "duration": 229,
    "start_time": "2023-08-24T18:55:17.510Z"
   },
   {
    "duration": 181,
    "start_time": "2023-08-24T18:56:51.628Z"
   },
   {
    "duration": 375,
    "start_time": "2023-08-24T18:59:49.314Z"
   },
   {
    "duration": 190,
    "start_time": "2023-08-24T19:00:09.647Z"
   },
   {
    "duration": 18,
    "start_time": "2023-08-24T19:01:55.062Z"
   },
   {
    "duration": 26,
    "start_time": "2023-08-24T19:02:01.309Z"
   },
   {
    "duration": 6,
    "start_time": "2023-08-24T19:02:15.523Z"
   },
   {
    "duration": 5,
    "start_time": "2023-08-24T19:02:17.228Z"
   },
   {
    "duration": 3,
    "start_time": "2023-08-24T19:03:27.250Z"
   },
   {
    "duration": 10,
    "start_time": "2023-08-24T19:05:16.918Z"
   },
   {
    "duration": 12,
    "start_time": "2023-08-24T19:05:21.957Z"
   },
   {
    "duration": 5,
    "start_time": "2023-08-24T19:06:19.291Z"
   },
   {
    "duration": 4,
    "start_time": "2023-08-24T19:06:27.825Z"
   },
   {
    "duration": 5,
    "start_time": "2023-08-24T19:08:08.959Z"
   },
   {
    "duration": 8,
    "start_time": "2023-08-24T19:08:17.615Z"
   },
   {
    "duration": 5,
    "start_time": "2023-08-24T19:08:55.728Z"
   },
   {
    "duration": 7,
    "start_time": "2023-08-24T19:09:01.614Z"
   },
   {
    "duration": 7,
    "start_time": "2023-08-24T19:09:10.302Z"
   },
   {
    "duration": 11,
    "start_time": "2023-08-24T19:14:56.271Z"
   },
   {
    "duration": 9,
    "start_time": "2023-08-24T19:15:07.462Z"
   },
   {
    "duration": 6,
    "start_time": "2023-08-24T19:16:11.613Z"
   },
   {
    "duration": 10,
    "start_time": "2023-08-24T19:22:59.608Z"
   },
   {
    "duration": 797,
    "start_time": "2023-08-24T19:23:10.108Z"
   },
   {
    "duration": 878,
    "start_time": "2023-08-24T19:23:15.492Z"
   },
   {
    "duration": 5,
    "start_time": "2023-08-24T19:24:32.143Z"
   },
   {
    "duration": 29,
    "start_time": "2023-08-24T19:26:27.325Z"
   },
   {
    "duration": 14,
    "start_time": "2023-08-24T19:27:29.892Z"
   },
   {
    "duration": 37,
    "start_time": "2023-08-24T19:27:35.637Z"
   },
   {
    "duration": 19,
    "start_time": "2023-08-24T19:32:15.136Z"
   },
   {
    "duration": 17,
    "start_time": "2023-08-24T19:33:15.816Z"
   },
   {
    "duration": 6,
    "start_time": "2023-08-24T19:33:28.328Z"
   },
   {
    "duration": 21,
    "start_time": "2023-08-24T19:35:59.080Z"
   },
   {
    "duration": 4,
    "start_time": "2023-08-24T19:44:26.319Z"
   },
   {
    "duration": 767,
    "start_time": "2023-08-24T19:45:31.793Z"
   },
   {
    "duration": 3,
    "start_time": "2023-08-24T19:45:57.225Z"
   },
   {
    "duration": 1083,
    "start_time": "2023-08-24T19:45:59.715Z"
   },
   {
    "duration": 23,
    "start_time": "2023-08-24T19:47:28.738Z"
   },
   {
    "duration": 22,
    "start_time": "2023-08-24T19:47:36.231Z"
   },
   {
    "duration": 24,
    "start_time": "2023-08-24T19:47:39.637Z"
   },
   {
    "duration": 19,
    "start_time": "2023-08-24T19:47:53.809Z"
   },
   {
    "duration": 1098,
    "start_time": "2023-08-24T19:48:12.328Z"
   },
   {
    "duration": 67,
    "start_time": "2023-08-24T19:48:13.428Z"
   },
   {
    "duration": 12,
    "start_time": "2023-08-24T19:48:13.497Z"
   },
   {
    "duration": 8,
    "start_time": "2023-08-24T19:48:13.511Z"
   },
   {
    "duration": 10,
    "start_time": "2023-08-24T19:48:13.521Z"
   },
   {
    "duration": 15,
    "start_time": "2023-08-24T19:48:13.533Z"
   },
   {
    "duration": 13,
    "start_time": "2023-08-24T19:48:13.550Z"
   },
   {
    "duration": 12,
    "start_time": "2023-08-24T19:48:13.565Z"
   },
   {
    "duration": 9,
    "start_time": "2023-08-24T19:48:13.579Z"
   },
   {
    "duration": 6,
    "start_time": "2023-08-24T19:48:13.591Z"
   },
   {
    "duration": 8,
    "start_time": "2023-08-24T19:48:13.598Z"
   },
   {
    "duration": 41,
    "start_time": "2023-08-24T19:48:13.609Z"
   },
   {
    "duration": 4,
    "start_time": "2023-08-24T19:48:13.652Z"
   },
   {
    "duration": 163,
    "start_time": "2023-08-24T19:48:13.658Z"
   },
   {
    "duration": 4,
    "start_time": "2023-08-24T19:48:13.822Z"
   },
   {
    "duration": 5,
    "start_time": "2023-08-24T19:48:13.827Z"
   },
   {
    "duration": 4,
    "start_time": "2023-08-24T19:48:13.833Z"
   },
   {
    "duration": 13,
    "start_time": "2023-08-24T19:48:13.838Z"
   },
   {
    "duration": 13,
    "start_time": "2023-08-24T19:48:13.852Z"
   },
   {
    "duration": 7,
    "start_time": "2023-08-24T19:48:13.866Z"
   },
   {
    "duration": 4,
    "start_time": "2023-08-24T19:48:13.874Z"
   },
   {
    "duration": 4,
    "start_time": "2023-08-24T19:48:13.879Z"
   },
   {
    "duration": 5,
    "start_time": "2023-08-24T19:48:13.884Z"
   },
   {
    "duration": 161,
    "start_time": "2023-08-24T19:48:13.890Z"
   },
   {
    "duration": 9,
    "start_time": "2023-08-24T19:48:14.052Z"
   },
   {
    "duration": 21,
    "start_time": "2023-08-24T19:48:14.062Z"
   },
   {
    "duration": 4,
    "start_time": "2023-08-24T19:48:14.085Z"
   },
   {
    "duration": 180,
    "start_time": "2023-08-24T19:48:14.092Z"
   },
   {
    "duration": 7,
    "start_time": "2023-08-24T19:48:14.274Z"
   },
   {
    "duration": 18,
    "start_time": "2023-08-24T19:48:14.283Z"
   },
   {
    "duration": 179,
    "start_time": "2023-08-24T19:48:14.302Z"
   },
   {
    "duration": 29,
    "start_time": "2023-08-24T19:48:14.482Z"
   },
   {
    "duration": 7,
    "start_time": "2023-08-24T19:48:14.513Z"
   },
   {
    "duration": 6,
    "start_time": "2023-08-24T19:48:14.521Z"
   },
   {
    "duration": 188,
    "start_time": "2023-08-24T19:48:14.549Z"
   },
   {
    "duration": 186,
    "start_time": "2023-08-24T19:48:14.739Z"
   },
   {
    "duration": 5,
    "start_time": "2023-08-24T19:48:14.927Z"
   },
   {
    "duration": 116,
    "start_time": "2023-08-24T19:48:14.934Z"
   },
   {
    "duration": 0,
    "start_time": "2023-08-24T19:48:15.052Z"
   },
   {
    "duration": 0,
    "start_time": "2023-08-24T19:48:15.053Z"
   },
   {
    "duration": 0,
    "start_time": "2023-08-24T19:48:15.055Z"
   },
   {
    "duration": 12,
    "start_time": "2023-08-24T19:48:24.340Z"
   },
   {
    "duration": 12,
    "start_time": "2023-08-24T19:49:11.323Z"
   },
   {
    "duration": 21,
    "start_time": "2023-08-24T19:49:17.349Z"
   },
   {
    "duration": 3,
    "start_time": "2023-08-24T19:49:24.553Z"
   },
   {
    "duration": 659,
    "start_time": "2023-08-24T19:49:27.204Z"
   },
   {
    "duration": 187,
    "start_time": "2023-08-24T19:49:39.055Z"
   },
   {
    "duration": 225,
    "start_time": "2023-08-24T19:49:49.229Z"
   },
   {
    "duration": 654,
    "start_time": "2023-08-24T19:51:04.117Z"
   },
   {
    "duration": 117,
    "start_time": "2023-08-24T19:51:11.492Z"
   },
   {
    "duration": 743,
    "start_time": "2023-08-24T19:52:18.312Z"
   },
   {
    "duration": 129,
    "start_time": "2023-08-24T19:53:24.640Z"
   },
   {
    "duration": 122,
    "start_time": "2023-08-24T19:55:18.538Z"
   },
   {
    "duration": 3,
    "start_time": "2023-08-24T19:56:32.696Z"
   },
   {
    "duration": 21,
    "start_time": "2023-08-24T19:56:39.710Z"
   },
   {
    "duration": 1339,
    "start_time": "2023-08-25T14:09:59.425Z"
   },
   {
    "duration": 199,
    "start_time": "2023-08-25T14:10:00.767Z"
   },
   {
    "duration": 12,
    "start_time": "2023-08-25T14:10:00.967Z"
   },
   {
    "duration": 38,
    "start_time": "2023-08-25T14:10:00.981Z"
   },
   {
    "duration": 44,
    "start_time": "2023-08-25T14:10:01.020Z"
   },
   {
    "duration": 41,
    "start_time": "2023-08-25T14:10:01.066Z"
   },
   {
    "duration": 39,
    "start_time": "2023-08-25T14:10:01.109Z"
   },
   {
    "duration": 37,
    "start_time": "2023-08-25T14:10:01.150Z"
   },
   {
    "duration": 33,
    "start_time": "2023-08-25T14:10:01.189Z"
   },
   {
    "duration": 41,
    "start_time": "2023-08-25T14:10:01.224Z"
   },
   {
    "duration": 54,
    "start_time": "2023-08-25T14:10:01.267Z"
   },
   {
    "duration": 50,
    "start_time": "2023-08-25T14:10:01.323Z"
   },
   {
    "duration": 52,
    "start_time": "2023-08-25T14:10:01.374Z"
   },
   {
    "duration": 222,
    "start_time": "2023-08-25T14:10:01.427Z"
   },
   {
    "duration": 5,
    "start_time": "2023-08-25T14:10:01.652Z"
   },
   {
    "duration": 33,
    "start_time": "2023-08-25T14:10:01.658Z"
   },
   {
    "duration": 30,
    "start_time": "2023-08-25T14:10:01.693Z"
   },
   {
    "duration": 35,
    "start_time": "2023-08-25T14:10:01.725Z"
   },
   {
    "duration": 35,
    "start_time": "2023-08-25T14:10:01.761Z"
   },
   {
    "duration": 35,
    "start_time": "2023-08-25T14:10:01.797Z"
   },
   {
    "duration": 25,
    "start_time": "2023-08-25T14:10:01.833Z"
   },
   {
    "duration": 31,
    "start_time": "2023-08-25T14:10:01.860Z"
   },
   {
    "duration": 48,
    "start_time": "2023-08-25T14:10:01.892Z"
   },
   {
    "duration": 166,
    "start_time": "2023-08-25T14:10:01.942Z"
   },
   {
    "duration": 8,
    "start_time": "2023-08-25T14:10:02.109Z"
   },
   {
    "duration": 91,
    "start_time": "2023-08-25T14:10:02.118Z"
   },
   {
    "duration": 9,
    "start_time": "2023-08-25T14:10:02.211Z"
   },
   {
    "duration": 214,
    "start_time": "2023-08-25T14:10:02.223Z"
   },
   {
    "duration": 16,
    "start_time": "2023-08-25T14:10:02.439Z"
   },
   {
    "duration": 18,
    "start_time": "2023-08-25T14:10:02.457Z"
   },
   {
    "duration": 193,
    "start_time": "2023-08-25T14:10:02.477Z"
   },
   {
    "duration": 28,
    "start_time": "2023-08-25T14:10:02.672Z"
   },
   {
    "duration": 8,
    "start_time": "2023-08-25T14:10:02.702Z"
   },
   {
    "duration": 66,
    "start_time": "2023-08-25T14:10:02.712Z"
   },
   {
    "duration": 244,
    "start_time": "2023-08-25T14:10:02.780Z"
   },
   {
    "duration": 193,
    "start_time": "2023-08-25T14:10:03.026Z"
   },
   {
    "duration": 5,
    "start_time": "2023-08-25T14:10:03.220Z"
   },
   {
    "duration": 34,
    "start_time": "2023-08-25T14:10:03.226Z"
   },
   {
    "duration": 5,
    "start_time": "2023-08-25T14:10:03.262Z"
   },
   {
    "duration": 3,
    "start_time": "2023-08-25T14:10:03.269Z"
   },
   {
    "duration": 218,
    "start_time": "2023-08-25T14:10:03.273Z"
   },
   {
    "duration": 15,
    "start_time": "2023-08-25T14:10:03.492Z"
   },
   {
    "duration": 3,
    "start_time": "2023-08-25T14:10:03.509Z"
   },
   {
    "duration": 103,
    "start_time": "2023-08-25T14:14:58.616Z"
   },
   {
    "duration": 6,
    "start_time": "2023-08-25T14:15:04.496Z"
   },
   {
    "duration": 12,
    "start_time": "2023-08-25T14:15:11.249Z"
   },
   {
    "duration": 9,
    "start_time": "2023-08-25T14:15:29.543Z"
   },
   {
    "duration": 15,
    "start_time": "2023-08-25T14:15:34.741Z"
   },
   {
    "duration": 1416,
    "start_time": "2023-08-25T14:15:47.491Z"
   },
   {
    "duration": 12,
    "start_time": "2023-08-25T14:15:50.355Z"
   },
   {
    "duration": 9,
    "start_time": "2023-08-25T14:16:00.291Z"
   },
   {
    "duration": 20,
    "start_time": "2023-08-25T14:16:10.881Z"
   },
   {
    "duration": 13,
    "start_time": "2023-08-25T14:17:36.058Z"
   },
   {
    "duration": 10,
    "start_time": "2023-08-25T14:18:21.801Z"
   },
   {
    "duration": 12,
    "start_time": "2023-08-25T14:18:36.145Z"
   },
   {
    "duration": 12,
    "start_time": "2023-08-25T14:21:13.829Z"
   },
   {
    "duration": 13,
    "start_time": "2023-08-25T14:22:02.483Z"
   },
   {
    "duration": 11,
    "start_time": "2023-08-25T14:24:28.823Z"
   },
   {
    "duration": 12,
    "start_time": "2023-08-25T14:24:34.038Z"
   },
   {
    "duration": 14,
    "start_time": "2023-08-25T14:38:17.671Z"
   },
   {
    "duration": 11,
    "start_time": "2023-08-25T14:38:23.316Z"
   },
   {
    "duration": 11,
    "start_time": "2023-08-25T14:38:34.019Z"
   },
   {
    "duration": 16,
    "start_time": "2023-08-25T14:38:37.853Z"
   },
   {
    "duration": 12,
    "start_time": "2023-08-25T14:39:45.117Z"
   },
   {
    "duration": 14,
    "start_time": "2023-08-25T14:42:30.701Z"
   },
   {
    "duration": 4,
    "start_time": "2023-08-25T14:42:39.420Z"
   },
   {
    "duration": 4,
    "start_time": "2023-08-25T14:42:44.270Z"
   },
   {
    "duration": 5,
    "start_time": "2023-08-25T14:44:30.080Z"
   },
   {
    "duration": 5,
    "start_time": "2023-08-25T14:44:56.779Z"
   },
   {
    "duration": 4,
    "start_time": "2023-08-25T14:45:05.497Z"
   },
   {
    "duration": 5,
    "start_time": "2023-08-25T14:45:10.864Z"
   },
   {
    "duration": 6,
    "start_time": "2023-08-25T14:46:08.268Z"
   },
   {
    "duration": 5,
    "start_time": "2023-08-25T14:46:16.438Z"
   },
   {
    "duration": 6,
    "start_time": "2023-08-25T14:54:31.906Z"
   },
   {
    "duration": 5,
    "start_time": "2023-08-25T14:54:51.867Z"
   },
   {
    "duration": 5,
    "start_time": "2023-08-25T14:55:40.347Z"
   },
   {
    "duration": 19,
    "start_time": "2023-08-25T14:56:56.208Z"
   },
   {
    "duration": 17,
    "start_time": "2023-08-25T14:57:10.174Z"
   },
   {
    "duration": 5,
    "start_time": "2023-08-25T15:04:04.583Z"
   },
   {
    "duration": 3,
    "start_time": "2023-08-25T15:52:30.622Z"
   },
   {
    "duration": 1474,
    "start_time": "2023-08-25T15:53:38.302Z"
   },
   {
    "duration": 51,
    "start_time": "2023-08-25T15:53:46.245Z"
   },
   {
    "duration": 1510,
    "start_time": "2023-08-25T15:53:50.860Z"
   },
   {
    "duration": 113,
    "start_time": "2023-08-25T15:54:22.884Z"
   },
   {
    "duration": 222,
    "start_time": "2023-08-25T15:54:35.048Z"
   },
   {
    "duration": 203,
    "start_time": "2023-08-25T15:54:44.429Z"
   },
   {
    "duration": 210,
    "start_time": "2023-08-25T15:55:23.811Z"
   },
   {
    "duration": 1514,
    "start_time": "2023-08-25T15:55:32.751Z"
   },
   {
    "duration": 1749,
    "start_time": "2023-08-25T15:55:44.089Z"
   },
   {
    "duration": 250,
    "start_time": "2023-08-25T15:56:14.166Z"
   },
   {
    "duration": 3,
    "start_time": "2023-08-25T15:57:00.105Z"
   },
   {
    "duration": 5,
    "start_time": "2023-08-25T16:05:02.815Z"
   },
   {
    "duration": 1153,
    "start_time": "2023-08-25T16:05:24.296Z"
   },
   {
    "duration": 68,
    "start_time": "2023-08-25T16:05:25.451Z"
   },
   {
    "duration": 11,
    "start_time": "2023-08-25T16:05:25.521Z"
   },
   {
    "duration": 11,
    "start_time": "2023-08-25T16:05:25.534Z"
   },
   {
    "duration": 10,
    "start_time": "2023-08-25T16:05:25.547Z"
   },
   {
    "duration": 11,
    "start_time": "2023-08-25T16:05:25.559Z"
   },
   {
    "duration": 11,
    "start_time": "2023-08-25T16:05:25.572Z"
   },
   {
    "duration": 9,
    "start_time": "2023-08-25T16:05:25.584Z"
   },
   {
    "duration": 16,
    "start_time": "2023-08-25T16:05:25.594Z"
   },
   {
    "duration": 14,
    "start_time": "2023-08-25T16:05:25.612Z"
   },
   {
    "duration": 5,
    "start_time": "2023-08-25T16:05:25.627Z"
   },
   {
    "duration": 21,
    "start_time": "2023-08-25T16:05:25.634Z"
   },
   {
    "duration": 5,
    "start_time": "2023-08-25T16:05:25.656Z"
   },
   {
    "duration": 177,
    "start_time": "2023-08-25T16:05:25.663Z"
   },
   {
    "duration": 13,
    "start_time": "2023-08-25T16:05:25.841Z"
   },
   {
    "duration": 8,
    "start_time": "2023-08-25T16:05:25.855Z"
   },
   {
    "duration": 9,
    "start_time": "2023-08-25T16:05:25.865Z"
   },
   {
    "duration": 5,
    "start_time": "2023-08-25T16:05:25.876Z"
   },
   {
    "duration": 19,
    "start_time": "2023-08-25T16:05:25.883Z"
   },
   {
    "duration": 11,
    "start_time": "2023-08-25T16:05:25.904Z"
   },
   {
    "duration": 37,
    "start_time": "2023-08-25T16:05:25.917Z"
   },
   {
    "duration": 4,
    "start_time": "2023-08-25T16:05:25.956Z"
   },
   {
    "duration": 9,
    "start_time": "2023-08-25T16:05:25.962Z"
   },
   {
    "duration": 166,
    "start_time": "2023-08-25T16:05:25.972Z"
   },
   {
    "duration": 14,
    "start_time": "2023-08-25T16:05:26.140Z"
   },
   {
    "duration": 28,
    "start_time": "2023-08-25T16:05:26.156Z"
   },
   {
    "duration": 11,
    "start_time": "2023-08-25T16:05:26.186Z"
   },
   {
    "duration": 184,
    "start_time": "2023-08-25T16:05:26.199Z"
   },
   {
    "duration": 8,
    "start_time": "2023-08-25T16:05:26.385Z"
   },
   {
    "duration": 4,
    "start_time": "2023-08-25T16:05:26.394Z"
   },
   {
    "duration": 216,
    "start_time": "2023-08-25T16:05:26.400Z"
   },
   {
    "duration": 38,
    "start_time": "2023-08-25T16:05:26.618Z"
   },
   {
    "duration": 7,
    "start_time": "2023-08-25T16:05:26.658Z"
   },
   {
    "duration": 5,
    "start_time": "2023-08-25T16:05:26.667Z"
   },
   {
    "duration": 211,
    "start_time": "2023-08-25T16:05:26.674Z"
   },
   {
    "duration": 206,
    "start_time": "2023-08-25T16:05:26.887Z"
   },
   {
    "duration": 5,
    "start_time": "2023-08-25T16:05:27.094Z"
   },
   {
    "duration": 22,
    "start_time": "2023-08-25T16:05:27.101Z"
   },
   {
    "duration": 6,
    "start_time": "2023-08-25T16:05:27.125Z"
   },
   {
    "duration": 21,
    "start_time": "2023-08-25T16:05:27.132Z"
   },
   {
    "duration": 203,
    "start_time": "2023-08-25T16:05:27.157Z"
   },
   {
    "duration": 17,
    "start_time": "2023-08-25T16:05:27.361Z"
   },
   {
    "duration": 10,
    "start_time": "2023-08-25T16:05:27.380Z"
   },
   {
    "duration": 9,
    "start_time": "2023-08-25T16:05:27.392Z"
   },
   {
    "duration": 26,
    "start_time": "2023-08-25T16:05:27.403Z"
   },
   {
    "duration": 12,
    "start_time": "2023-08-25T16:05:27.431Z"
   },
   {
    "duration": 6,
    "start_time": "2023-08-25T16:05:27.445Z"
   },
   {
    "duration": 5,
    "start_time": "2023-08-25T16:05:42.409Z"
   },
   {
    "duration": 99,
    "start_time": "2023-08-25T16:22:09.465Z"
   },
   {
    "duration": 4,
    "start_time": "2023-08-25T16:37:13.829Z"
   },
   {
    "duration": 6,
    "start_time": "2023-08-25T16:37:46.605Z"
   },
   {
    "duration": 5,
    "start_time": "2023-08-25T16:37:55.996Z"
   },
   {
    "duration": 4,
    "start_time": "2023-08-25T16:38:57.440Z"
   },
   {
    "duration": 6,
    "start_time": "2023-08-25T16:39:02.600Z"
   },
   {
    "duration": 6,
    "start_time": "2023-08-25T16:39:20.520Z"
   },
   {
    "duration": 4,
    "start_time": "2023-08-25T16:39:23.540Z"
   },
   {
    "duration": 5,
    "start_time": "2023-08-25T16:39:27.317Z"
   },
   {
    "duration": 5,
    "start_time": "2023-08-25T16:39:30.482Z"
   },
   {
    "duration": 10,
    "start_time": "2023-08-25T16:55:23.639Z"
   },
   {
    "duration": 3,
    "start_time": "2023-08-25T16:55:45.518Z"
   },
   {
    "duration": 5,
    "start_time": "2023-08-25T16:55:48.814Z"
   },
   {
    "duration": 102,
    "start_time": "2023-08-25T17:01:37.505Z"
   },
   {
    "duration": 3,
    "start_time": "2023-08-25T17:02:01.185Z"
   },
   {
    "duration": 33678,
    "start_time": "2023-08-25T17:02:06.123Z"
   },
   {
    "duration": 1141,
    "start_time": "2023-08-25T17:19:58.059Z"
   },
   {
    "duration": 69,
    "start_time": "2023-08-25T17:19:59.202Z"
   },
   {
    "duration": 11,
    "start_time": "2023-08-25T17:19:59.273Z"
   },
   {
    "duration": 11,
    "start_time": "2023-08-25T17:19:59.286Z"
   },
   {
    "duration": 7,
    "start_time": "2023-08-25T17:19:59.299Z"
   },
   {
    "duration": 12,
    "start_time": "2023-08-25T17:19:59.308Z"
   },
   {
    "duration": 17,
    "start_time": "2023-08-25T17:19:59.322Z"
   },
   {
    "duration": 12,
    "start_time": "2023-08-25T17:19:59.351Z"
   },
   {
    "duration": 19,
    "start_time": "2023-08-25T17:19:59.365Z"
   },
   {
    "duration": 31,
    "start_time": "2023-08-25T17:19:59.386Z"
   },
   {
    "duration": 37,
    "start_time": "2023-08-25T17:19:59.419Z"
   },
   {
    "duration": 14,
    "start_time": "2023-08-25T17:19:59.458Z"
   },
   {
    "duration": 5,
    "start_time": "2023-08-25T17:19:59.474Z"
   },
   {
    "duration": 189,
    "start_time": "2023-08-25T17:19:59.483Z"
   },
   {
    "duration": 4,
    "start_time": "2023-08-25T17:19:59.674Z"
   },
   {
    "duration": 8,
    "start_time": "2023-08-25T17:19:59.679Z"
   },
   {
    "duration": 5,
    "start_time": "2023-08-25T17:19:59.689Z"
   },
   {
    "duration": 6,
    "start_time": "2023-08-25T17:19:59.695Z"
   },
   {
    "duration": 13,
    "start_time": "2023-08-25T17:19:59.702Z"
   },
   {
    "duration": 24,
    "start_time": "2023-08-25T17:19:59.716Z"
   },
   {
    "duration": 12,
    "start_time": "2023-08-25T17:19:59.741Z"
   },
   {
    "duration": 13,
    "start_time": "2023-08-25T17:19:59.754Z"
   },
   {
    "duration": 18,
    "start_time": "2023-08-25T17:19:59.769Z"
   },
   {
    "duration": 149,
    "start_time": "2023-08-25T17:19:59.788Z"
   },
   {
    "duration": 19,
    "start_time": "2023-08-25T17:19:59.939Z"
   },
   {
    "duration": 39,
    "start_time": "2023-08-25T17:19:59.960Z"
   },
   {
    "duration": 4,
    "start_time": "2023-08-25T17:20:00.001Z"
   },
   {
    "duration": 265,
    "start_time": "2023-08-25T17:20:00.007Z"
   },
   {
    "duration": 8,
    "start_time": "2023-08-25T17:20:00.274Z"
   },
   {
    "duration": 42,
    "start_time": "2023-08-25T17:20:00.283Z"
   },
   {
    "duration": 230,
    "start_time": "2023-08-25T17:20:00.327Z"
   },
   {
    "duration": 32,
    "start_time": "2023-08-25T17:20:00.559Z"
   },
   {
    "duration": 21,
    "start_time": "2023-08-25T17:20:00.592Z"
   },
   {
    "duration": 60,
    "start_time": "2023-08-25T17:20:00.615Z"
   },
   {
    "duration": 233,
    "start_time": "2023-08-25T17:20:00.676Z"
   },
   {
    "duration": 210,
    "start_time": "2023-08-25T17:20:00.911Z"
   },
   {
    "duration": 5,
    "start_time": "2023-08-25T17:20:01.123Z"
   },
   {
    "duration": 123,
    "start_time": "2023-08-25T17:20:01.130Z"
   },
   {
    "duration": 52,
    "start_time": "2023-08-25T17:20:01.255Z"
   },
   {
    "duration": 28,
    "start_time": "2023-08-25T17:20:01.309Z"
   },
   {
    "duration": 167,
    "start_time": "2023-08-25T17:20:01.342Z"
   },
   {
    "duration": 17,
    "start_time": "2023-08-25T17:20:01.511Z"
   },
   {
    "duration": 48,
    "start_time": "2023-08-25T17:20:01.530Z"
   },
   {
    "duration": 22,
    "start_time": "2023-08-25T17:20:01.580Z"
   },
   {
    "duration": 69,
    "start_time": "2023-08-25T17:20:01.604Z"
   },
   {
    "duration": 39,
    "start_time": "2023-08-25T17:20:01.675Z"
   },
   {
    "duration": 60,
    "start_time": "2023-08-25T17:20:01.716Z"
   },
   {
    "duration": 3,
    "start_time": "2023-08-25T17:23:41.828Z"
   },
   {
    "duration": 3,
    "start_time": "2023-08-25T17:23:57.485Z"
   },
   {
    "duration": 1350,
    "start_time": "2023-08-25T17:42:03.695Z"
   },
   {
    "duration": 206,
    "start_time": "2023-08-25T17:42:05.047Z"
   },
   {
    "duration": 13,
    "start_time": "2023-08-25T17:42:05.255Z"
   },
   {
    "duration": 54,
    "start_time": "2023-08-25T17:42:05.269Z"
   },
   {
    "duration": 39,
    "start_time": "2023-08-25T17:42:05.326Z"
   },
   {
    "duration": 36,
    "start_time": "2023-08-25T17:42:05.366Z"
   },
   {
    "duration": 51,
    "start_time": "2023-08-25T17:42:05.403Z"
   },
   {
    "duration": 30,
    "start_time": "2023-08-25T17:42:05.456Z"
   },
   {
    "duration": 40,
    "start_time": "2023-08-25T17:42:05.487Z"
   },
   {
    "duration": 28,
    "start_time": "2023-08-25T17:42:05.529Z"
   },
   {
    "duration": 45,
    "start_time": "2023-08-25T17:42:05.559Z"
   },
   {
    "duration": 33,
    "start_time": "2023-08-25T17:42:05.606Z"
   },
   {
    "duration": 23,
    "start_time": "2023-08-25T17:42:05.641Z"
   },
   {
    "duration": 243,
    "start_time": "2023-08-25T17:42:05.667Z"
   },
   {
    "duration": 13,
    "start_time": "2023-08-25T17:42:05.912Z"
   },
   {
    "duration": 10,
    "start_time": "2023-08-25T17:42:05.927Z"
   },
   {
    "duration": 17,
    "start_time": "2023-08-25T17:42:05.939Z"
   },
   {
    "duration": 14,
    "start_time": "2023-08-25T17:42:05.959Z"
   },
   {
    "duration": 15,
    "start_time": "2023-08-25T17:42:05.974Z"
   },
   {
    "duration": 12,
    "start_time": "2023-08-25T17:42:05.991Z"
   },
   {
    "duration": 4,
    "start_time": "2023-08-25T17:42:06.005Z"
   },
   {
    "duration": 7,
    "start_time": "2023-08-25T17:42:06.010Z"
   },
   {
    "duration": 7,
    "start_time": "2023-08-25T17:42:06.019Z"
   },
   {
    "duration": 153,
    "start_time": "2023-08-25T17:42:06.027Z"
   },
   {
    "duration": 8,
    "start_time": "2023-08-25T17:42:06.182Z"
   },
   {
    "duration": 10,
    "start_time": "2023-08-25T17:42:06.192Z"
   },
   {
    "duration": 20,
    "start_time": "2023-08-25T17:42:06.204Z"
   },
   {
    "duration": 198,
    "start_time": "2023-08-25T17:42:06.226Z"
   },
   {
    "duration": 9,
    "start_time": "2023-08-25T17:42:06.426Z"
   },
   {
    "duration": 6,
    "start_time": "2023-08-25T17:42:06.437Z"
   },
   {
    "duration": 218,
    "start_time": "2023-08-25T17:42:06.445Z"
   },
   {
    "duration": 29,
    "start_time": "2023-08-25T17:42:06.664Z"
   },
   {
    "duration": 8,
    "start_time": "2023-08-25T17:42:06.694Z"
   },
   {
    "duration": 24,
    "start_time": "2023-08-25T17:42:06.704Z"
   },
   {
    "duration": 223,
    "start_time": "2023-08-25T17:42:06.730Z"
   },
   {
    "duration": 207,
    "start_time": "2023-08-25T17:42:06.954Z"
   },
   {
    "duration": 5,
    "start_time": "2023-08-25T17:42:07.162Z"
   },
   {
    "duration": 34,
    "start_time": "2023-08-25T17:42:07.168Z"
   },
   {
    "duration": 6,
    "start_time": "2023-08-25T17:42:07.204Z"
   },
   {
    "duration": 14,
    "start_time": "2023-08-25T17:42:07.212Z"
   },
   {
    "duration": 138,
    "start_time": "2023-08-25T17:42:07.229Z"
   },
   {
    "duration": 17,
    "start_time": "2023-08-25T17:42:07.368Z"
   },
   {
    "duration": 21,
    "start_time": "2023-08-25T17:42:07.387Z"
   },
   {
    "duration": 18,
    "start_time": "2023-08-25T17:42:07.409Z"
   },
   {
    "duration": 32,
    "start_time": "2023-08-25T17:42:07.430Z"
   },
   {
    "duration": 32,
    "start_time": "2023-08-25T17:42:07.464Z"
   },
   {
    "duration": 48,
    "start_time": "2023-08-25T17:42:07.498Z"
   },
   {
    "duration": 7,
    "start_time": "2023-08-25T18:23:30.383Z"
   },
   {
    "duration": 6,
    "start_time": "2023-08-25T18:23:37.138Z"
   },
   {
    "duration": 61,
    "start_time": "2023-08-25T18:29:28.702Z"
   },
   {
    "duration": 69,
    "start_time": "2023-08-25T18:32:28.482Z"
   },
   {
    "duration": 43,
    "start_time": "2023-08-25T18:32:47.169Z"
   },
   {
    "duration": 1242,
    "start_time": "2023-08-25T18:32:53.763Z"
   },
   {
    "duration": 87,
    "start_time": "2023-08-25T18:32:55.007Z"
   },
   {
    "duration": 13,
    "start_time": "2023-08-25T18:32:55.096Z"
   },
   {
    "duration": 58,
    "start_time": "2023-08-25T18:32:55.111Z"
   },
   {
    "duration": 45,
    "start_time": "2023-08-25T18:32:55.171Z"
   },
   {
    "duration": 47,
    "start_time": "2023-08-25T18:32:55.218Z"
   },
   {
    "duration": 46,
    "start_time": "2023-08-25T18:32:55.268Z"
   },
   {
    "duration": 14,
    "start_time": "2023-08-25T18:32:55.317Z"
   },
   {
    "duration": 21,
    "start_time": "2023-08-25T18:32:55.334Z"
   },
   {
    "duration": 13,
    "start_time": "2023-08-25T18:32:55.359Z"
   },
   {
    "duration": 8,
    "start_time": "2023-08-25T18:32:55.374Z"
   },
   {
    "duration": 12,
    "start_time": "2023-08-25T18:32:55.384Z"
   },
   {
    "duration": 6,
    "start_time": "2023-08-25T18:32:55.398Z"
   },
   {
    "duration": 262,
    "start_time": "2023-08-25T18:32:55.407Z"
   },
   {
    "duration": 5,
    "start_time": "2023-08-25T18:32:55.671Z"
   },
   {
    "duration": 173,
    "start_time": "2023-08-25T18:32:55.677Z"
   },
   {
    "duration": 69,
    "start_time": "2023-08-25T18:32:55.853Z"
   },
   {
    "duration": 56,
    "start_time": "2023-08-25T18:32:55.923Z"
   },
   {
    "duration": 36,
    "start_time": "2023-08-25T18:32:55.982Z"
   },
   {
    "duration": 87,
    "start_time": "2023-08-25T18:32:56.022Z"
   },
   {
    "duration": 61,
    "start_time": "2023-08-25T18:32:56.111Z"
   },
   {
    "duration": 73,
    "start_time": "2023-08-25T18:32:56.174Z"
   },
   {
    "duration": 84,
    "start_time": "2023-08-25T18:32:56.249Z"
   },
   {
    "duration": 340,
    "start_time": "2023-08-25T18:32:56.339Z"
   },
   {
    "duration": 10,
    "start_time": "2023-08-25T18:32:56.681Z"
   },
   {
    "duration": 112,
    "start_time": "2023-08-25T18:32:56.692Z"
   },
   {
    "duration": 71,
    "start_time": "2023-08-25T18:32:56.806Z"
   },
   {
    "duration": 275,
    "start_time": "2023-08-25T18:32:56.883Z"
   },
   {
    "duration": 9,
    "start_time": "2023-08-25T18:32:57.160Z"
   },
   {
    "duration": 6,
    "start_time": "2023-08-25T18:32:57.170Z"
   },
   {
    "duration": 222,
    "start_time": "2023-08-25T18:32:57.178Z"
   },
   {
    "duration": 35,
    "start_time": "2023-08-25T18:32:57.402Z"
   },
   {
    "duration": 58,
    "start_time": "2023-08-25T18:32:57.439Z"
   },
   {
    "duration": 101,
    "start_time": "2023-08-25T18:32:57.499Z"
   },
   {
    "duration": 262,
    "start_time": "2023-08-25T18:32:57.602Z"
   },
   {
    "duration": 254,
    "start_time": "2023-08-25T18:32:57.867Z"
   },
   {
    "duration": 11,
    "start_time": "2023-08-25T18:32:58.122Z"
   },
   {
    "duration": 70,
    "start_time": "2023-08-25T18:32:58.135Z"
   },
   {
    "duration": 234,
    "start_time": "2023-08-25T18:32:58.207Z"
   },
   {
    "duration": 164,
    "start_time": "2023-08-25T18:32:58.443Z"
   },
   {
    "duration": 202,
    "start_time": "2023-08-25T18:32:58.609Z"
   },
   {
    "duration": 25,
    "start_time": "2023-08-25T18:32:58.813Z"
   },
   {
    "duration": 28,
    "start_time": "2023-08-25T18:32:58.840Z"
   },
   {
    "duration": 23,
    "start_time": "2023-08-25T18:32:58.870Z"
   },
   {
    "duration": 99,
    "start_time": "2023-08-25T18:32:58.895Z"
   },
   {
    "duration": 46,
    "start_time": "2023-08-25T18:32:58.996Z"
   },
   {
    "duration": 49,
    "start_time": "2023-08-25T18:32:59.043Z"
   },
   {
    "duration": 6,
    "start_time": "2023-08-25T18:32:59.094Z"
   },
   {
    "duration": 48,
    "start_time": "2023-08-25T19:05:07.192Z"
   },
   {
    "duration": 1306,
    "start_time": "2023-08-25T19:05:10.780Z"
   },
   {
    "duration": 298,
    "start_time": "2023-08-25T19:05:14.601Z"
   },
   {
    "duration": 14,
    "start_time": "2023-08-25T19:05:21.639Z"
   },
   {
    "duration": 3,
    "start_time": "2023-08-25T19:37:36.174Z"
   },
   {
    "duration": 1292,
    "start_time": "2023-08-25T19:37:42.849Z"
   },
   {
    "duration": 71,
    "start_time": "2023-08-25T19:37:44.143Z"
   },
   {
    "duration": 12,
    "start_time": "2023-08-25T19:37:44.216Z"
   },
   {
    "duration": 16,
    "start_time": "2023-08-25T19:37:44.230Z"
   },
   {
    "duration": 32,
    "start_time": "2023-08-25T19:37:44.247Z"
   },
   {
    "duration": 20,
    "start_time": "2023-08-25T19:37:44.281Z"
   },
   {
    "duration": 15,
    "start_time": "2023-08-25T19:37:44.303Z"
   },
   {
    "duration": 10,
    "start_time": "2023-08-25T19:37:44.320Z"
   },
   {
    "duration": 13,
    "start_time": "2023-08-25T19:37:44.332Z"
   },
   {
    "duration": 23,
    "start_time": "2023-08-25T19:37:44.347Z"
   },
   {
    "duration": 6,
    "start_time": "2023-08-25T19:37:44.371Z"
   },
   {
    "duration": 6,
    "start_time": "2023-08-25T19:37:44.379Z"
   },
   {
    "duration": 11,
    "start_time": "2023-08-25T19:37:44.387Z"
   },
   {
    "duration": 5,
    "start_time": "2023-08-25T19:37:44.399Z"
   },
   {
    "duration": 221,
    "start_time": "2023-08-25T19:37:44.406Z"
   },
   {
    "duration": 4,
    "start_time": "2023-08-25T19:37:44.629Z"
   },
   {
    "duration": 17,
    "start_time": "2023-08-25T19:37:44.634Z"
   },
   {
    "duration": 9,
    "start_time": "2023-08-25T19:37:44.653Z"
   },
   {
    "duration": 7,
    "start_time": "2023-08-25T19:37:44.664Z"
   },
   {
    "duration": 18,
    "start_time": "2023-08-25T19:37:44.672Z"
   },
   {
    "duration": 9,
    "start_time": "2023-08-25T19:37:44.691Z"
   },
   {
    "duration": 4,
    "start_time": "2023-08-25T19:37:44.701Z"
   },
   {
    "duration": 22,
    "start_time": "2023-08-25T19:37:44.706Z"
   },
   {
    "duration": 13,
    "start_time": "2023-08-25T19:37:44.730Z"
   },
   {
    "duration": 170,
    "start_time": "2023-08-25T19:37:44.745Z"
   },
   {
    "duration": 10,
    "start_time": "2023-08-25T19:37:44.917Z"
   },
   {
    "duration": 13,
    "start_time": "2023-08-25T19:37:44.928Z"
   },
   {
    "duration": 5,
    "start_time": "2023-08-25T19:37:44.944Z"
   },
   {
    "duration": 229,
    "start_time": "2023-08-25T19:37:44.967Z"
   },
   {
    "duration": 11,
    "start_time": "2023-08-25T19:37:45.198Z"
   },
   {
    "duration": 12,
    "start_time": "2023-08-25T19:37:45.210Z"
   },
   {
    "duration": 223,
    "start_time": "2023-08-25T19:37:45.223Z"
   },
   {
    "duration": 33,
    "start_time": "2023-08-25T19:37:45.448Z"
   },
   {
    "duration": 8,
    "start_time": "2023-08-25T19:37:45.483Z"
   },
   {
    "duration": 10,
    "start_time": "2023-08-25T19:37:45.493Z"
   },
   {
    "duration": 233,
    "start_time": "2023-08-25T19:37:45.504Z"
   },
   {
    "duration": 243,
    "start_time": "2023-08-25T19:37:45.739Z"
   },
   {
    "duration": 5,
    "start_time": "2023-08-25T19:37:45.983Z"
   },
   {
    "duration": 27,
    "start_time": "2023-08-25T19:37:45.990Z"
   },
   {
    "duration": 9,
    "start_time": "2023-08-25T19:37:46.019Z"
   },
   {
    "duration": 5,
    "start_time": "2023-08-25T19:37:46.030Z"
   },
   {
    "duration": 249,
    "start_time": "2023-08-25T19:37:46.036Z"
   },
   {
    "duration": 19,
    "start_time": "2023-08-25T19:37:46.287Z"
   },
   {
    "duration": 12,
    "start_time": "2023-08-25T19:37:46.308Z"
   },
   {
    "duration": 9,
    "start_time": "2023-08-25T19:37:46.322Z"
   },
   {
    "duration": 6,
    "start_time": "2023-08-25T19:37:46.333Z"
   },
   {
    "duration": 27,
    "start_time": "2023-08-25T19:37:46.340Z"
   },
   {
    "duration": 52,
    "start_time": "2023-08-25T19:37:46.369Z"
   },
   {
    "duration": 5,
    "start_time": "2023-08-25T19:37:46.423Z"
   },
   {
    "duration": 117,
    "start_time": "2023-08-25T19:38:00.869Z"
   },
   {
    "duration": 3,
    "start_time": "2023-08-25T19:39:24.927Z"
   },
   {
    "duration": 11,
    "start_time": "2023-08-25T19:39:27.261Z"
   },
   {
    "duration": 3,
    "start_time": "2023-08-25T19:39:44.773Z"
   },
   {
    "duration": 12,
    "start_time": "2023-08-25T19:39:46.486Z"
   },
   {
    "duration": 73,
    "start_time": "2023-08-25T19:41:29.347Z"
   },
   {
    "duration": 344,
    "start_time": "2023-08-25T19:42:14.976Z"
   },
   {
    "duration": 373,
    "start_time": "2023-08-25T19:42:20.573Z"
   },
   {
    "duration": 4,
    "start_time": "2023-08-25T19:42:25.357Z"
   },
   {
    "duration": 423,
    "start_time": "2023-08-25T19:42:30.294Z"
   },
   {
    "duration": 3,
    "start_time": "2023-08-25T19:42:45.765Z"
   },
   {
    "duration": 13,
    "start_time": "2023-08-25T19:42:47.098Z"
   },
   {
    "duration": 395,
    "start_time": "2023-08-25T19:43:00.939Z"
   },
   {
    "duration": 1254,
    "start_time": "2023-08-25T19:48:03.090Z"
   },
   {
    "duration": 73,
    "start_time": "2023-08-25T19:48:04.347Z"
   },
   {
    "duration": 134,
    "start_time": "2023-08-25T19:48:04.422Z"
   },
   {
    "duration": 28,
    "start_time": "2023-08-25T19:48:04.558Z"
   },
   {
    "duration": 28,
    "start_time": "2023-08-25T19:48:04.588Z"
   },
   {
    "duration": 28,
    "start_time": "2023-08-25T19:48:04.618Z"
   },
   {
    "duration": 38,
    "start_time": "2023-08-25T19:48:04.648Z"
   },
   {
    "duration": 20,
    "start_time": "2023-08-25T19:48:04.688Z"
   },
   {
    "duration": 49,
    "start_time": "2023-08-25T19:48:04.710Z"
   },
   {
    "duration": 170,
    "start_time": "2023-08-25T19:48:04.762Z"
   },
   {
    "duration": 167,
    "start_time": "2023-08-25T19:48:04.934Z"
   },
   {
    "duration": 41,
    "start_time": "2023-08-25T19:48:05.103Z"
   },
   {
    "duration": 32,
    "start_time": "2023-08-25T19:48:05.146Z"
   },
   {
    "duration": 217,
    "start_time": "2023-08-25T19:48:05.181Z"
   },
   {
    "duration": 4,
    "start_time": "2023-08-25T19:48:05.400Z"
   },
   {
    "duration": 29,
    "start_time": "2023-08-25T19:48:05.405Z"
   },
   {
    "duration": 22,
    "start_time": "2023-08-25T19:48:05.435Z"
   },
   {
    "duration": 64,
    "start_time": "2023-08-25T19:48:05.459Z"
   },
   {
    "duration": 83,
    "start_time": "2023-08-25T19:48:05.525Z"
   },
   {
    "duration": 42,
    "start_time": "2023-08-25T19:48:05.610Z"
   },
   {
    "duration": 33,
    "start_time": "2023-08-25T19:48:05.654Z"
   },
   {
    "duration": 69,
    "start_time": "2023-08-25T19:48:05.689Z"
   },
   {
    "duration": 19,
    "start_time": "2023-08-25T19:48:05.761Z"
   },
   {
    "duration": 227,
    "start_time": "2023-08-25T19:48:05.781Z"
   },
   {
    "duration": 10,
    "start_time": "2023-08-25T19:48:06.010Z"
   },
   {
    "duration": 45,
    "start_time": "2023-08-25T19:48:06.022Z"
   },
   {
    "duration": 33,
    "start_time": "2023-08-25T19:48:06.069Z"
   },
   {
    "duration": 233,
    "start_time": "2023-08-25T19:48:06.105Z"
   },
   {
    "duration": 10,
    "start_time": "2023-08-25T19:48:06.339Z"
   },
   {
    "duration": 112,
    "start_time": "2023-08-25T19:48:06.350Z"
   },
   {
    "duration": 250,
    "start_time": "2023-08-25T19:48:06.465Z"
   },
   {
    "duration": 35,
    "start_time": "2023-08-25T19:48:06.717Z"
   },
   {
    "duration": 20,
    "start_time": "2023-08-25T19:48:06.754Z"
   },
   {
    "duration": 47,
    "start_time": "2023-08-25T19:48:06.775Z"
   },
   {
    "duration": 251,
    "start_time": "2023-08-25T19:48:06.823Z"
   },
   {
    "duration": 230,
    "start_time": "2023-08-25T19:48:07.076Z"
   },
   {
    "duration": 6,
    "start_time": "2023-08-25T19:48:07.308Z"
   },
   {
    "duration": 54,
    "start_time": "2023-08-25T19:48:07.316Z"
   },
   {
    "duration": 10,
    "start_time": "2023-08-25T19:48:07.372Z"
   },
   {
    "duration": 20,
    "start_time": "2023-08-25T19:48:07.384Z"
   },
   {
    "duration": 243,
    "start_time": "2023-08-25T19:48:07.406Z"
   },
   {
    "duration": 26,
    "start_time": "2023-08-25T19:48:07.650Z"
   },
   {
    "duration": 66,
    "start_time": "2023-08-25T19:48:07.677Z"
   },
   {
    "duration": 23,
    "start_time": "2023-08-25T19:48:07.745Z"
   },
   {
    "duration": 19,
    "start_time": "2023-08-25T19:48:07.770Z"
   },
   {
    "duration": 26,
    "start_time": "2023-08-25T19:48:07.791Z"
   },
   {
    "duration": 49,
    "start_time": "2023-08-25T19:48:07.819Z"
   },
   {
    "duration": 6,
    "start_time": "2023-08-25T19:48:07.870Z"
   },
   {
    "duration": 9,
    "start_time": "2023-08-25T19:50:01.695Z"
   },
   {
    "duration": 1182,
    "start_time": "2023-08-25T19:50:09.909Z"
   },
   {
    "duration": 72,
    "start_time": "2023-08-25T19:50:11.093Z"
   },
   {
    "duration": 13,
    "start_time": "2023-08-25T19:50:11.167Z"
   },
   {
    "duration": 17,
    "start_time": "2023-08-25T19:50:11.182Z"
   },
   {
    "duration": 9,
    "start_time": "2023-08-25T19:50:11.201Z"
   },
   {
    "duration": 19,
    "start_time": "2023-08-25T19:50:11.212Z"
   },
   {
    "duration": 18,
    "start_time": "2023-08-25T19:50:11.232Z"
   },
   {
    "duration": 22,
    "start_time": "2023-08-25T19:50:11.252Z"
   },
   {
    "duration": 28,
    "start_time": "2023-08-25T19:50:11.276Z"
   },
   {
    "duration": 18,
    "start_time": "2023-08-25T19:50:11.306Z"
   },
   {
    "duration": 112,
    "start_time": "2023-08-25T19:50:38.857Z"
   },
   {
    "duration": 9,
    "start_time": "2023-08-25T19:56:25.047Z"
   },
   {
    "duration": 9,
    "start_time": "2023-08-25T19:57:01.364Z"
   },
   {
    "duration": 1274,
    "start_time": "2023-08-25T19:57:08.764Z"
   },
   {
    "duration": 6,
    "start_time": "2023-08-25T19:57:53.213Z"
   },
   {
    "duration": 5,
    "start_time": "2023-08-25T19:58:00.500Z"
   },
   {
    "duration": 6,
    "start_time": "2023-08-25T19:59:35.754Z"
   },
   {
    "duration": 6,
    "start_time": "2023-08-25T20:00:40.969Z"
   },
   {
    "duration": 6,
    "start_time": "2023-08-25T20:00:50.825Z"
   },
   {
    "duration": 102,
    "start_time": "2023-08-25T20:01:35.523Z"
   },
   {
    "duration": 5,
    "start_time": "2023-08-25T20:01:39.867Z"
   },
   {
    "duration": 6,
    "start_time": "2023-08-25T20:03:07.329Z"
   },
   {
    "duration": 5,
    "start_time": "2023-08-25T20:05:20.664Z"
   },
   {
    "duration": 7,
    "start_time": "2023-08-25T20:05:25.476Z"
   },
   {
    "duration": 5,
    "start_time": "2023-08-25T20:05:43.552Z"
   },
   {
    "duration": 4,
    "start_time": "2023-08-25T20:05:56.601Z"
   },
   {
    "duration": 593,
    "start_time": "2023-08-25T20:12:35.917Z"
   },
   {
    "duration": 548,
    "start_time": "2023-08-25T20:12:38.902Z"
   },
   {
    "duration": 745,
    "start_time": "2023-08-25T20:12:49.363Z"
   },
   {
    "duration": 19,
    "start_time": "2023-08-25T20:14:56.689Z"
   },
   {
    "duration": 15,
    "start_time": "2023-08-25T20:15:16.319Z"
   },
   {
    "duration": 12,
    "start_time": "2023-08-25T20:16:29.191Z"
   },
   {
    "duration": 155,
    "start_time": "2023-08-25T20:16:55.438Z"
   },
   {
    "duration": 163,
    "start_time": "2023-08-25T20:17:01.747Z"
   },
   {
    "duration": 181,
    "start_time": "2023-08-25T20:18:58.756Z"
   },
   {
    "duration": 174,
    "start_time": "2023-08-25T20:19:05.873Z"
   },
   {
    "duration": 158,
    "start_time": "2023-08-25T20:19:10.371Z"
   },
   {
    "duration": 159,
    "start_time": "2023-08-25T20:19:18.275Z"
   },
   {
    "duration": 162,
    "start_time": "2023-08-25T20:19:25.746Z"
   },
   {
    "duration": 16,
    "start_time": "2023-08-25T20:21:22.048Z"
   },
   {
    "duration": 137,
    "start_time": "2023-08-25T20:21:34.680Z"
   },
   {
    "duration": 15,
    "start_time": "2023-08-25T20:21:40.128Z"
   },
   {
    "duration": 19,
    "start_time": "2023-08-25T20:21:58.251Z"
   },
   {
    "duration": 343,
    "start_time": "2023-08-25T20:22:03.830Z"
   },
   {
    "duration": 159,
    "start_time": "2023-08-25T20:26:54.300Z"
   },
   {
    "duration": 23,
    "start_time": "2023-08-25T20:29:40.970Z"
   },
   {
    "duration": 164,
    "start_time": "2023-08-25T20:29:49.196Z"
   },
   {
    "duration": 180,
    "start_time": "2023-08-25T20:30:45.178Z"
   },
   {
    "duration": 194,
    "start_time": "2023-08-25T20:30:59.707Z"
   },
   {
    "duration": 183,
    "start_time": "2023-08-25T20:31:30.028Z"
   },
   {
    "duration": 192,
    "start_time": "2023-08-25T20:31:46.205Z"
   },
   {
    "duration": 180,
    "start_time": "2023-08-25T20:31:56.917Z"
   },
   {
    "duration": 193,
    "start_time": "2023-08-25T20:32:02.646Z"
   },
   {
    "duration": 20,
    "start_time": "2023-08-25T20:32:33.254Z"
   },
   {
    "duration": 157,
    "start_time": "2023-08-25T20:33:29.046Z"
   },
   {
    "duration": 12,
    "start_time": "2023-08-25T20:37:21.480Z"
   },
   {
    "duration": 4,
    "start_time": "2023-08-25T20:37:33.368Z"
   },
   {
    "duration": 83,
    "start_time": "2023-08-25T20:37:33.374Z"
   },
   {
    "duration": 8,
    "start_time": "2023-08-25T20:37:33.459Z"
   },
   {
    "duration": 20,
    "start_time": "2023-08-25T20:37:33.468Z"
   },
   {
    "duration": 10,
    "start_time": "2023-08-25T20:37:33.490Z"
   },
   {
    "duration": 11,
    "start_time": "2023-08-25T20:37:33.501Z"
   },
   {
    "duration": 8,
    "start_time": "2023-08-25T20:37:33.514Z"
   },
   {
    "duration": 9,
    "start_time": "2023-08-25T20:37:33.523Z"
   },
   {
    "duration": 6,
    "start_time": "2023-08-25T20:37:33.534Z"
   },
   {
    "duration": 5,
    "start_time": "2023-08-25T20:37:33.541Z"
   },
   {
    "duration": 7,
    "start_time": "2023-08-25T20:37:33.568Z"
   },
   {
    "duration": 12,
    "start_time": "2023-08-25T20:37:33.576Z"
   },
   {
    "duration": 11,
    "start_time": "2023-08-25T20:37:33.590Z"
   },
   {
    "duration": 13,
    "start_time": "2023-08-25T20:37:33.602Z"
   },
   {
    "duration": 12,
    "start_time": "2023-08-25T20:37:33.617Z"
   },
   {
    "duration": 159,
    "start_time": "2023-08-25T20:37:33.630Z"
   },
   {
    "duration": 3,
    "start_time": "2023-08-25T20:37:33.791Z"
   },
   {
    "duration": 13,
    "start_time": "2023-08-25T20:37:33.796Z"
   },
   {
    "duration": 12,
    "start_time": "2023-08-25T20:37:33.811Z"
   },
   {
    "duration": 12,
    "start_time": "2023-08-25T20:37:33.825Z"
   },
   {
    "duration": 169,
    "start_time": "2023-08-25T20:37:33.839Z"
   },
   {
    "duration": 118,
    "start_time": "2023-08-25T20:37:51.869Z"
   },
   {
    "duration": 4,
    "start_time": "2023-08-25T20:39:04.779Z"
   },
   {
    "duration": 4,
    "start_time": "2023-08-25T20:39:18.057Z"
   },
   {
    "duration": 4,
    "start_time": "2023-08-25T20:39:25.489Z"
   },
   {
    "duration": 1427,
    "start_time": "2023-08-26T19:08:23.865Z"
   },
   {
    "duration": 516,
    "start_time": "2023-08-26T19:08:25.294Z"
   },
   {
    "duration": 13,
    "start_time": "2023-08-26T19:08:25.813Z"
   },
   {
    "duration": 11,
    "start_time": "2023-08-26T19:08:25.828Z"
   },
   {
    "duration": 37,
    "start_time": "2023-08-26T19:08:25.840Z"
   },
   {
    "duration": 16,
    "start_time": "2023-08-26T19:08:25.879Z"
   },
   {
    "duration": 22,
    "start_time": "2023-08-26T19:08:25.898Z"
   },
   {
    "duration": 25,
    "start_time": "2023-08-26T19:08:25.922Z"
   },
   {
    "duration": 17,
    "start_time": "2023-08-26T19:08:25.949Z"
   },
   {
    "duration": 46,
    "start_time": "2023-08-26T19:08:25.970Z"
   },
   {
    "duration": 19,
    "start_time": "2023-08-26T19:08:26.018Z"
   },
   {
    "duration": 5,
    "start_time": "2023-08-26T19:08:26.039Z"
   },
   {
    "duration": 8,
    "start_time": "2023-08-26T19:08:26.046Z"
   },
   {
    "duration": 11,
    "start_time": "2023-08-26T19:08:26.056Z"
   },
   {
    "duration": 4,
    "start_time": "2023-08-26T19:08:26.070Z"
   },
   {
    "duration": 187,
    "start_time": "2023-08-26T19:08:26.076Z"
   },
   {
    "duration": 4,
    "start_time": "2023-08-26T19:08:26.265Z"
   },
   {
    "duration": 9,
    "start_time": "2023-08-26T19:08:26.270Z"
   },
   {
    "duration": 6,
    "start_time": "2023-08-26T19:08:26.280Z"
   },
   {
    "duration": 5,
    "start_time": "2023-08-26T19:08:26.288Z"
   },
   {
    "duration": 7,
    "start_time": "2023-08-26T19:08:26.295Z"
   },
   {
    "duration": 215,
    "start_time": "2023-08-26T19:08:26.304Z"
   },
   {
    "duration": 0,
    "start_time": "2023-08-26T19:08:26.521Z"
   },
   {
    "duration": 0,
    "start_time": "2023-08-26T19:08:26.522Z"
   },
   {
    "duration": 0,
    "start_time": "2023-08-26T19:08:26.523Z"
   },
   {
    "duration": 0,
    "start_time": "2023-08-26T19:08:26.525Z"
   },
   {
    "duration": 0,
    "start_time": "2023-08-26T19:08:26.526Z"
   },
   {
    "duration": 0,
    "start_time": "2023-08-26T19:08:26.528Z"
   },
   {
    "duration": 0,
    "start_time": "2023-08-26T19:08:26.529Z"
   },
   {
    "duration": 0,
    "start_time": "2023-08-26T19:08:26.530Z"
   },
   {
    "duration": 0,
    "start_time": "2023-08-26T19:08:26.531Z"
   },
   {
    "duration": 0,
    "start_time": "2023-08-26T19:08:26.533Z"
   },
   {
    "duration": 0,
    "start_time": "2023-08-26T19:08:26.534Z"
   },
   {
    "duration": 0,
    "start_time": "2023-08-26T19:08:26.536Z"
   },
   {
    "duration": 0,
    "start_time": "2023-08-26T19:08:26.537Z"
   },
   {
    "duration": 0,
    "start_time": "2023-08-26T19:08:26.567Z"
   },
   {
    "duration": 0,
    "start_time": "2023-08-26T19:08:26.569Z"
   },
   {
    "duration": 0,
    "start_time": "2023-08-26T19:08:26.570Z"
   },
   {
    "duration": 0,
    "start_time": "2023-08-26T19:08:26.572Z"
   },
   {
    "duration": 0,
    "start_time": "2023-08-26T19:08:26.574Z"
   },
   {
    "duration": 1,
    "start_time": "2023-08-26T19:08:26.575Z"
   },
   {
    "duration": 0,
    "start_time": "2023-08-26T19:08:26.577Z"
   },
   {
    "duration": 0,
    "start_time": "2023-08-26T19:08:26.578Z"
   },
   {
    "duration": 0,
    "start_time": "2023-08-26T19:08:26.579Z"
   },
   {
    "duration": 0,
    "start_time": "2023-08-26T19:08:26.581Z"
   },
   {
    "duration": 0,
    "start_time": "2023-08-26T19:08:26.583Z"
   },
   {
    "duration": 0,
    "start_time": "2023-08-26T19:08:26.584Z"
   },
   {
    "duration": 1,
    "start_time": "2023-08-26T19:08:26.585Z"
   },
   {
    "duration": 0,
    "start_time": "2023-08-26T19:08:26.586Z"
   },
   {
    "duration": 0,
    "start_time": "2023-08-26T19:08:26.588Z"
   },
   {
    "duration": 0,
    "start_time": "2023-08-26T19:08:26.588Z"
   },
   {
    "duration": 77,
    "start_time": "2023-08-26T19:14:25.253Z"
   },
   {
    "duration": 76,
    "start_time": "2023-08-26T19:14:29.982Z"
   },
   {
    "duration": 62,
    "start_time": "2023-08-26T19:14:37.059Z"
   },
   {
    "duration": 82,
    "start_time": "2023-08-26T19:15:02.640Z"
   },
   {
    "duration": 73,
    "start_time": "2023-08-26T19:15:12.422Z"
   },
   {
    "duration": 85,
    "start_time": "2023-08-26T19:15:40.269Z"
   },
   {
    "duration": 172,
    "start_time": "2023-08-26T19:17:31.420Z"
   },
   {
    "duration": 11,
    "start_time": "2023-08-26T19:18:02.114Z"
   },
   {
    "duration": 13,
    "start_time": "2023-08-26T19:18:08.203Z"
   },
   {
    "duration": 91,
    "start_time": "2023-08-26T19:18:55.861Z"
   },
   {
    "duration": 89,
    "start_time": "2023-08-26T19:19:53.824Z"
   },
   {
    "duration": 91,
    "start_time": "2023-08-26T19:20:00.725Z"
   },
   {
    "duration": 4,
    "start_time": "2023-08-26T19:23:17.320Z"
   },
   {
    "duration": 3,
    "start_time": "2023-08-26T19:24:13.354Z"
   },
   {
    "duration": 75,
    "start_time": "2023-08-26T19:24:13.359Z"
   },
   {
    "duration": 8,
    "start_time": "2023-08-26T19:24:13.436Z"
   },
   {
    "duration": 9,
    "start_time": "2023-08-26T19:24:13.446Z"
   },
   {
    "duration": 19,
    "start_time": "2023-08-26T19:24:13.456Z"
   },
   {
    "duration": 22,
    "start_time": "2023-08-26T19:24:13.477Z"
   },
   {
    "duration": 24,
    "start_time": "2023-08-26T19:24:13.500Z"
   },
   {
    "duration": 12,
    "start_time": "2023-08-26T19:24:13.526Z"
   },
   {
    "duration": 9,
    "start_time": "2023-08-26T19:24:13.540Z"
   },
   {
    "duration": 5,
    "start_time": "2023-08-26T19:24:13.552Z"
   },
   {
    "duration": 14,
    "start_time": "2023-08-26T19:24:13.559Z"
   },
   {
    "duration": 6,
    "start_time": "2023-08-26T19:24:13.574Z"
   },
   {
    "duration": 5,
    "start_time": "2023-08-26T19:24:13.582Z"
   },
   {
    "duration": 5,
    "start_time": "2023-08-26T19:24:13.589Z"
   },
   {
    "duration": 4,
    "start_time": "2023-08-26T19:24:13.596Z"
   },
   {
    "duration": 195,
    "start_time": "2023-08-26T19:24:13.602Z"
   },
   {
    "duration": 4,
    "start_time": "2023-08-26T19:24:13.798Z"
   },
   {
    "duration": 6,
    "start_time": "2023-08-26T19:24:13.804Z"
   },
   {
    "duration": 7,
    "start_time": "2023-08-26T19:24:13.811Z"
   },
   {
    "duration": 111,
    "start_time": "2023-08-26T19:24:13.819Z"
   },
   {
    "duration": 15,
    "start_time": "2023-08-26T19:24:13.932Z"
   },
   {
    "duration": 36,
    "start_time": "2023-08-26T19:24:13.949Z"
   },
   {
    "duration": 10,
    "start_time": "2023-08-26T19:24:13.987Z"
   },
   {
    "duration": 6,
    "start_time": "2023-08-26T19:24:13.999Z"
   },
   {
    "duration": 10,
    "start_time": "2023-08-26T19:24:14.007Z"
   },
   {
    "duration": 165,
    "start_time": "2023-08-26T19:24:14.019Z"
   },
   {
    "duration": 11,
    "start_time": "2023-08-26T19:24:14.186Z"
   },
   {
    "duration": 9,
    "start_time": "2023-08-26T19:24:14.202Z"
   },
   {
    "duration": 7,
    "start_time": "2023-08-26T19:24:14.213Z"
   },
   {
    "duration": 236,
    "start_time": "2023-08-26T19:24:14.222Z"
   },
   {
    "duration": 14,
    "start_time": "2023-08-26T19:24:14.460Z"
   },
   {
    "duration": 5,
    "start_time": "2023-08-26T19:24:14.476Z"
   },
   {
    "duration": 212,
    "start_time": "2023-08-26T19:24:14.482Z"
   },
   {
    "duration": 34,
    "start_time": "2023-08-26T19:24:14.696Z"
   },
   {
    "duration": 9,
    "start_time": "2023-08-26T19:24:14.732Z"
   },
   {
    "duration": 26,
    "start_time": "2023-08-26T19:24:14.742Z"
   },
   {
    "duration": 234,
    "start_time": "2023-08-26T19:24:14.770Z"
   },
   {
    "duration": 238,
    "start_time": "2023-08-26T19:24:15.005Z"
   },
   {
    "duration": 37,
    "start_time": "2023-08-26T19:24:15.245Z"
   },
   {
    "duration": 8,
    "start_time": "2023-08-26T19:24:15.284Z"
   },
   {
    "duration": 5,
    "start_time": "2023-08-26T19:24:15.294Z"
   },
   {
    "duration": 252,
    "start_time": "2023-08-26T19:24:15.301Z"
   },
   {
    "duration": 31,
    "start_time": "2023-08-26T19:24:15.555Z"
   },
   {
    "duration": 16,
    "start_time": "2023-08-26T19:24:15.588Z"
   },
   {
    "duration": 6,
    "start_time": "2023-08-26T19:24:15.607Z"
   },
   {
    "duration": 9,
    "start_time": "2023-08-26T19:24:15.615Z"
   },
   {
    "duration": 8,
    "start_time": "2023-08-26T19:24:15.625Z"
   },
   {
    "duration": 71,
    "start_time": "2023-08-26T19:24:15.635Z"
   },
   {
    "duration": 5,
    "start_time": "2023-08-26T19:24:15.709Z"
   },
   {
    "duration": 178,
    "start_time": "2023-08-26T19:26:00.012Z"
   },
   {
    "duration": 163,
    "start_time": "2023-08-26T19:30:45.015Z"
   },
   {
    "duration": 173,
    "start_time": "2023-08-26T19:31:57.918Z"
   },
   {
    "duration": 9,
    "start_time": "2023-08-26T19:47:49.297Z"
   },
   {
    "duration": 4,
    "start_time": "2023-08-26T19:47:56.067Z"
   },
   {
    "duration": 4,
    "start_time": "2023-08-26T19:48:00.722Z"
   },
   {
    "duration": 3,
    "start_time": "2023-08-26T19:48:10.405Z"
   },
   {
    "duration": 4,
    "start_time": "2023-08-26T19:48:49.378Z"
   },
   {
    "duration": 9,
    "start_time": "2023-08-26T19:49:19.449Z"
   },
   {
    "duration": 4,
    "start_time": "2023-08-26T19:49:21.882Z"
   },
   {
    "duration": 4,
    "start_time": "2023-08-26T19:49:31.788Z"
   },
   {
    "duration": 13,
    "start_time": "2023-08-26T19:56:17.426Z"
   },
   {
    "duration": 17,
    "start_time": "2023-08-26T19:56:25.801Z"
   },
   {
    "duration": 12,
    "start_time": "2023-08-26T19:56:29.504Z"
   },
   {
    "duration": 20,
    "start_time": "2023-08-26T19:56:48.377Z"
   },
   {
    "duration": 25,
    "start_time": "2023-08-26T19:57:20.628Z"
   },
   {
    "duration": 11,
    "start_time": "2023-08-26T20:00:22.582Z"
   },
   {
    "duration": 6,
    "start_time": "2023-08-26T20:01:03.745Z"
   },
   {
    "duration": 5,
    "start_time": "2023-08-26T20:04:51.009Z"
   },
   {
    "duration": 6,
    "start_time": "2023-08-26T20:05:49.656Z"
   },
   {
    "duration": 8,
    "start_time": "2023-08-26T20:08:04.226Z"
   },
   {
    "duration": 9,
    "start_time": "2023-08-26T20:08:17.949Z"
   },
   {
    "duration": 5,
    "start_time": "2023-08-26T20:22:13.626Z"
   },
   {
    "duration": 38,
    "start_time": "2023-08-26T20:22:16.543Z"
   },
   {
    "duration": 47,
    "start_time": "2023-08-26T20:23:49.923Z"
   },
   {
    "duration": 4,
    "start_time": "2023-08-26T20:23:56.832Z"
   },
   {
    "duration": 36,
    "start_time": "2023-08-26T20:24:00.723Z"
   },
   {
    "duration": 37,
    "start_time": "2023-08-26T20:27:53.333Z"
   },
   {
    "duration": 2,
    "start_time": "2023-08-26T20:38:51.195Z"
   },
   {
    "duration": 3,
    "start_time": "2023-08-26T20:38:56.495Z"
   },
   {
    "duration": 33026,
    "start_time": "2023-08-26T20:41:00.659Z"
   },
   {
    "duration": 75,
    "start_time": "2023-08-26T20:51:49.333Z"
   },
   {
    "duration": 80,
    "start_time": "2023-08-26T20:52:00.544Z"
   },
   {
    "duration": 70,
    "start_time": "2023-08-26T20:52:08.848Z"
   },
   {
    "duration": 230,
    "start_time": "2023-08-26T20:52:22.224Z"
   },
   {
    "duration": 87,
    "start_time": "2023-08-26T20:53:16.254Z"
   },
   {
    "duration": 81,
    "start_time": "2023-08-26T20:53:30.670Z"
   },
   {
    "duration": 4,
    "start_time": "2023-08-26T20:54:03.869Z"
   },
   {
    "duration": 129,
    "start_time": "2023-08-26T20:54:03.875Z"
   },
   {
    "duration": 9,
    "start_time": "2023-08-26T20:54:04.006Z"
   },
   {
    "duration": 55,
    "start_time": "2023-08-26T20:54:04.017Z"
   },
   {
    "duration": 59,
    "start_time": "2023-08-26T20:54:04.074Z"
   },
   {
    "duration": 33,
    "start_time": "2023-08-26T20:54:04.135Z"
   },
   {
    "duration": 49,
    "start_time": "2023-08-26T20:54:04.170Z"
   },
   {
    "duration": 13,
    "start_time": "2023-08-26T20:54:04.220Z"
   },
   {
    "duration": 25,
    "start_time": "2023-08-26T20:54:04.235Z"
   },
   {
    "duration": 11,
    "start_time": "2023-08-26T20:54:04.263Z"
   },
   {
    "duration": 34,
    "start_time": "2023-08-26T20:54:04.276Z"
   },
   {
    "duration": 30,
    "start_time": "2023-08-26T20:54:04.312Z"
   },
   {
    "duration": 34,
    "start_time": "2023-08-26T20:54:04.344Z"
   },
   {
    "duration": 19,
    "start_time": "2023-08-26T20:54:04.380Z"
   },
   {
    "duration": 19,
    "start_time": "2023-08-26T20:54:04.400Z"
   },
   {
    "duration": 167,
    "start_time": "2023-08-26T20:54:04.420Z"
   },
   {
    "duration": 4,
    "start_time": "2023-08-26T20:54:04.589Z"
   },
   {
    "duration": 30,
    "start_time": "2023-08-26T20:54:04.595Z"
   },
   {
    "duration": 38,
    "start_time": "2023-08-26T20:54:04.627Z"
   },
   {
    "duration": 96,
    "start_time": "2023-08-26T20:54:04.667Z"
   },
   {
    "duration": 18,
    "start_time": "2023-08-26T20:54:04.765Z"
   },
   {
    "duration": 15,
    "start_time": "2023-08-26T20:54:04.785Z"
   },
   {
    "duration": 22,
    "start_time": "2023-08-26T20:54:04.802Z"
   },
   {
    "duration": 182,
    "start_time": "2023-08-26T20:54:04.826Z"
   },
   {
    "duration": 10,
    "start_time": "2023-08-26T20:54:05.010Z"
   },
   {
    "duration": 21,
    "start_time": "2023-08-26T20:54:05.022Z"
   },
   {
    "duration": 13,
    "start_time": "2023-08-26T20:54:05.045Z"
   },
   {
    "duration": 214,
    "start_time": "2023-08-26T20:54:05.061Z"
   },
   {
    "duration": 9,
    "start_time": "2023-08-26T20:54:05.277Z"
   },
   {
    "duration": 43,
    "start_time": "2023-08-26T20:54:05.288Z"
   },
   {
    "duration": 179,
    "start_time": "2023-08-26T20:54:05.333Z"
   },
   {
    "duration": 4,
    "start_time": "2023-08-26T20:54:05.513Z"
   },
   {
    "duration": 52,
    "start_time": "2023-08-26T20:54:05.519Z"
   },
   {
    "duration": 4,
    "start_time": "2023-08-26T20:54:05.573Z"
   },
   {
    "duration": 28,
    "start_time": "2023-08-26T20:54:05.578Z"
   },
   {
    "duration": 8,
    "start_time": "2023-08-26T20:54:05.608Z"
   },
   {
    "duration": 38,
    "start_time": "2023-08-26T20:54:05.618Z"
   },
   {
    "duration": 225,
    "start_time": "2023-08-26T20:54:05.658Z"
   },
   {
    "duration": 217,
    "start_time": "2023-08-26T20:54:05.885Z"
   },
   {
    "duration": 27,
    "start_time": "2023-08-26T20:54:06.103Z"
   },
   {
    "duration": 20,
    "start_time": "2023-08-26T20:54:06.131Z"
   },
   {
    "duration": 25,
    "start_time": "2023-08-26T20:54:06.153Z"
   },
   {
    "duration": 170,
    "start_time": "2023-08-26T20:54:06.180Z"
   },
   {
    "duration": 30,
    "start_time": "2023-08-26T20:54:06.352Z"
   },
   {
    "duration": 29,
    "start_time": "2023-08-26T20:54:06.384Z"
   },
   {
    "duration": 56,
    "start_time": "2023-08-26T20:54:06.415Z"
   },
   {
    "duration": 23,
    "start_time": "2023-08-26T20:54:06.473Z"
   },
   {
    "duration": 65,
    "start_time": "2023-08-26T20:54:06.498Z"
   },
   {
    "duration": 6,
    "start_time": "2023-08-26T20:54:06.565Z"
   },
   {
    "duration": 1221,
    "start_time": "2023-08-26T20:54:12.244Z"
   },
   {
    "duration": 69,
    "start_time": "2023-08-26T20:54:13.467Z"
   },
   {
    "duration": 12,
    "start_time": "2023-08-26T20:54:13.537Z"
   },
   {
    "duration": 34,
    "start_time": "2023-08-26T20:54:13.551Z"
   },
   {
    "duration": 23,
    "start_time": "2023-08-26T20:54:13.587Z"
   },
   {
    "duration": 16,
    "start_time": "2023-08-26T20:54:13.612Z"
   },
   {
    "duration": 18,
    "start_time": "2023-08-26T20:54:13.629Z"
   },
   {
    "duration": 85,
    "start_time": "2023-08-26T20:54:13.648Z"
   },
   {
    "duration": 126,
    "start_time": "2023-08-26T20:54:13.734Z"
   },
   {
    "duration": 11,
    "start_time": "2023-08-26T20:54:13.862Z"
   },
   {
    "duration": 28,
    "start_time": "2023-08-26T20:54:13.874Z"
   },
   {
    "duration": 19,
    "start_time": "2023-08-26T20:54:13.904Z"
   },
   {
    "duration": 17,
    "start_time": "2023-08-26T20:54:13.926Z"
   },
   {
    "duration": 15,
    "start_time": "2023-08-26T20:54:13.945Z"
   },
   {
    "duration": 15,
    "start_time": "2023-08-26T20:54:13.962Z"
   },
   {
    "duration": 197,
    "start_time": "2023-08-26T20:54:13.980Z"
   },
   {
    "duration": 4,
    "start_time": "2023-08-26T20:54:14.179Z"
   },
   {
    "duration": 12,
    "start_time": "2023-08-26T20:54:14.185Z"
   },
   {
    "duration": 16,
    "start_time": "2023-08-26T20:54:14.198Z"
   },
   {
    "duration": 85,
    "start_time": "2023-08-26T20:54:14.215Z"
   },
   {
    "duration": 14,
    "start_time": "2023-08-26T20:54:14.301Z"
   },
   {
    "duration": 32,
    "start_time": "2023-08-26T20:54:14.316Z"
   },
   {
    "duration": 14,
    "start_time": "2023-08-26T20:54:14.349Z"
   },
   {
    "duration": 210,
    "start_time": "2023-08-26T20:54:14.365Z"
   },
   {
    "duration": 10,
    "start_time": "2023-08-26T20:54:14.577Z"
   },
   {
    "duration": 44,
    "start_time": "2023-08-26T20:54:14.588Z"
   },
   {
    "duration": 13,
    "start_time": "2023-08-26T20:54:14.634Z"
   },
   {
    "duration": 197,
    "start_time": "2023-08-26T20:54:14.651Z"
   },
   {
    "duration": 18,
    "start_time": "2023-08-26T20:54:14.850Z"
   },
   {
    "duration": 12,
    "start_time": "2023-08-26T20:54:14.870Z"
   },
   {
    "duration": 207,
    "start_time": "2023-08-26T20:54:14.884Z"
   },
   {
    "duration": 4,
    "start_time": "2023-08-26T20:54:15.093Z"
   },
   {
    "duration": 122,
    "start_time": "2023-08-26T20:54:15.099Z"
   },
   {
    "duration": 3,
    "start_time": "2023-08-26T20:54:15.223Z"
   },
   {
    "duration": 56,
    "start_time": "2023-08-26T20:54:15.228Z"
   },
   {
    "duration": 26,
    "start_time": "2023-08-26T20:54:15.285Z"
   },
   {
    "duration": 27,
    "start_time": "2023-08-26T20:54:15.313Z"
   },
   {
    "duration": 225,
    "start_time": "2023-08-26T20:54:15.342Z"
   },
   {
    "duration": 223,
    "start_time": "2023-08-26T20:54:15.568Z"
   },
   {
    "duration": 27,
    "start_time": "2023-08-26T20:54:15.793Z"
   },
   {
    "duration": 8,
    "start_time": "2023-08-26T20:54:15.822Z"
   },
   {
    "duration": 5,
    "start_time": "2023-08-26T20:54:15.832Z"
   },
   {
    "duration": 252,
    "start_time": "2023-08-26T20:54:15.838Z"
   },
   {
    "duration": 18,
    "start_time": "2023-08-26T20:54:16.092Z"
   },
   {
    "duration": 16,
    "start_time": "2023-08-26T20:54:16.111Z"
   },
   {
    "duration": 28,
    "start_time": "2023-08-26T20:54:16.128Z"
   },
   {
    "duration": 116,
    "start_time": "2023-08-26T20:54:16.158Z"
   },
   {
    "duration": 0,
    "start_time": "2023-08-26T20:54:16.276Z"
   },
   {
    "duration": 0,
    "start_time": "2023-08-26T20:54:16.277Z"
   },
   {
    "duration": 0,
    "start_time": "2023-08-26T20:54:16.278Z"
   },
   {
    "duration": 1431,
    "start_time": "2023-08-26T20:55:37.324Z"
   },
   {
    "duration": 11,
    "start_time": "2023-08-26T20:56:18.876Z"
   },
   {
    "duration": 1359,
    "start_time": "2023-08-26T20:56:21.103Z"
   },
   {
    "duration": 8,
    "start_time": "2023-08-26T20:57:13.514Z"
   },
   {
    "duration": 1493,
    "start_time": "2023-08-26T20:57:59.394Z"
   },
   {
    "duration": 143,
    "start_time": "2023-08-26T20:58:16.493Z"
   },
   {
    "duration": 1161,
    "start_time": "2023-08-26T20:58:32.412Z"
   },
   {
    "duration": 69,
    "start_time": "2023-08-26T20:58:33.575Z"
   },
   {
    "duration": 12,
    "start_time": "2023-08-26T20:58:33.646Z"
   },
   {
    "duration": 9,
    "start_time": "2023-08-26T20:58:33.661Z"
   },
   {
    "duration": 8,
    "start_time": "2023-08-26T20:58:33.672Z"
   },
   {
    "duration": 18,
    "start_time": "2023-08-26T20:58:33.682Z"
   },
   {
    "duration": 12,
    "start_time": "2023-08-26T20:58:33.702Z"
   },
   {
    "duration": 8,
    "start_time": "2023-08-26T20:58:33.716Z"
   },
   {
    "duration": 8,
    "start_time": "2023-08-26T20:58:33.726Z"
   },
   {
    "duration": 30,
    "start_time": "2023-08-26T20:58:33.737Z"
   },
   {
    "duration": 8,
    "start_time": "2023-08-26T20:58:33.769Z"
   },
   {
    "duration": 5,
    "start_time": "2023-08-26T20:58:33.778Z"
   },
   {
    "duration": 13,
    "start_time": "2023-08-26T20:58:33.784Z"
   },
   {
    "duration": 14,
    "start_time": "2023-08-26T20:58:33.799Z"
   },
   {
    "duration": 3,
    "start_time": "2023-08-26T20:58:33.815Z"
   },
   {
    "duration": 223,
    "start_time": "2023-08-26T20:58:33.820Z"
   },
   {
    "duration": 4,
    "start_time": "2023-08-26T20:58:34.045Z"
   },
   {
    "duration": 7,
    "start_time": "2023-08-26T20:58:34.051Z"
   },
   {
    "duration": 4,
    "start_time": "2023-08-26T20:58:34.066Z"
   },
   {
    "duration": 78,
    "start_time": "2023-08-26T20:58:34.071Z"
   },
   {
    "duration": 24,
    "start_time": "2023-08-26T20:58:34.151Z"
   },
   {
    "duration": 13,
    "start_time": "2023-08-26T20:58:34.177Z"
   },
   {
    "duration": 5,
    "start_time": "2023-08-26T20:58:34.191Z"
   },
   {
    "duration": 182,
    "start_time": "2023-08-26T20:58:34.197Z"
   },
   {
    "duration": 9,
    "start_time": "2023-08-26T20:58:34.381Z"
   },
   {
    "duration": 11,
    "start_time": "2023-08-26T20:58:34.392Z"
   },
   {
    "duration": 5,
    "start_time": "2023-08-26T20:58:34.404Z"
   },
   {
    "duration": 210,
    "start_time": "2023-08-26T20:58:34.412Z"
   },
   {
    "duration": 8,
    "start_time": "2023-08-26T20:58:34.624Z"
   },
   {
    "duration": 11,
    "start_time": "2023-08-26T20:58:34.634Z"
   },
   {
    "duration": 185,
    "start_time": "2023-08-26T20:58:34.646Z"
   },
   {
    "duration": 4,
    "start_time": "2023-08-26T20:58:34.833Z"
   },
   {
    "duration": 47,
    "start_time": "2023-08-26T20:58:34.838Z"
   },
   {
    "duration": 3,
    "start_time": "2023-08-26T20:58:34.887Z"
   },
   {
    "duration": 25,
    "start_time": "2023-08-26T20:58:34.892Z"
   },
   {
    "duration": 8,
    "start_time": "2023-08-26T20:58:34.919Z"
   },
   {
    "duration": 87,
    "start_time": "2023-08-26T20:58:34.929Z"
   },
   {
    "duration": 225,
    "start_time": "2023-08-26T20:58:35.018Z"
   },
   {
    "duration": 204,
    "start_time": "2023-08-26T20:58:35.245Z"
   },
   {
    "duration": 31,
    "start_time": "2023-08-26T20:58:35.450Z"
   },
   {
    "duration": 6,
    "start_time": "2023-08-26T20:58:35.483Z"
   },
   {
    "duration": 26,
    "start_time": "2023-08-26T20:58:35.490Z"
   },
   {
    "duration": 230,
    "start_time": "2023-08-26T20:58:35.518Z"
   },
   {
    "duration": 24,
    "start_time": "2023-08-26T20:58:35.750Z"
   },
   {
    "duration": 7,
    "start_time": "2023-08-26T20:58:35.776Z"
   },
   {
    "duration": 22,
    "start_time": "2023-08-26T20:58:35.785Z"
   },
   {
    "duration": 1402,
    "start_time": "2023-08-26T20:58:35.809Z"
   },
   {
    "duration": 0,
    "start_time": "2023-08-26T20:58:37.212Z"
   },
   {
    "duration": 0,
    "start_time": "2023-08-26T20:58:37.214Z"
   },
   {
    "duration": 0,
    "start_time": "2023-08-26T20:58:37.215Z"
   },
   {
    "duration": 8,
    "start_time": "2023-08-26T20:58:57.055Z"
   },
   {
    "duration": 21,
    "start_time": "2023-08-26T20:59:02.480Z"
   },
   {
    "duration": 11,
    "start_time": "2023-08-26T20:59:21.157Z"
   },
   {
    "duration": 1185,
    "start_time": "2023-08-26T20:59:34.472Z"
   },
   {
    "duration": 71,
    "start_time": "2023-08-26T20:59:35.658Z"
   },
   {
    "duration": 12,
    "start_time": "2023-08-26T20:59:35.730Z"
   },
   {
    "duration": 15,
    "start_time": "2023-08-26T20:59:35.744Z"
   },
   {
    "duration": 12,
    "start_time": "2023-08-26T20:59:35.761Z"
   },
   {
    "duration": 14,
    "start_time": "2023-08-26T20:59:35.774Z"
   },
   {
    "duration": 10,
    "start_time": "2023-08-26T20:59:35.790Z"
   },
   {
    "duration": 29,
    "start_time": "2023-08-26T20:59:35.801Z"
   },
   {
    "duration": 7,
    "start_time": "2023-08-26T20:59:35.832Z"
   },
   {
    "duration": 11,
    "start_time": "2023-08-26T20:59:35.841Z"
   },
   {
    "duration": 11,
    "start_time": "2023-08-26T20:59:35.854Z"
   },
   {
    "duration": 5,
    "start_time": "2023-08-26T20:59:35.866Z"
   },
   {
    "duration": 5,
    "start_time": "2023-08-26T20:59:35.873Z"
   },
   {
    "duration": 11,
    "start_time": "2023-08-26T20:59:35.879Z"
   },
   {
    "duration": 7,
    "start_time": "2023-08-26T20:59:35.892Z"
   },
   {
    "duration": 179,
    "start_time": "2023-08-26T20:59:35.900Z"
   },
   {
    "duration": 4,
    "start_time": "2023-08-26T20:59:36.081Z"
   },
   {
    "duration": 6,
    "start_time": "2023-08-26T20:59:36.086Z"
   },
   {
    "duration": 6,
    "start_time": "2023-08-26T20:59:36.094Z"
   },
   {
    "duration": 85,
    "start_time": "2023-08-26T20:59:36.101Z"
   },
   {
    "duration": 13,
    "start_time": "2023-08-26T20:59:36.188Z"
   },
   {
    "duration": 9,
    "start_time": "2023-08-26T20:59:36.203Z"
   },
   {
    "duration": 5,
    "start_time": "2023-08-26T20:59:36.214Z"
   },
   {
    "duration": 192,
    "start_time": "2023-08-26T20:59:36.220Z"
   },
   {
    "duration": 10,
    "start_time": "2023-08-26T20:59:36.414Z"
   },
   {
    "duration": 9,
    "start_time": "2023-08-26T20:59:36.426Z"
   },
   {
    "duration": 4,
    "start_time": "2023-08-26T20:59:36.437Z"
   },
   {
    "duration": 193,
    "start_time": "2023-08-26T20:59:36.469Z"
   },
   {
    "duration": 9,
    "start_time": "2023-08-26T20:59:36.667Z"
   },
   {
    "duration": 5,
    "start_time": "2023-08-26T20:59:36.678Z"
   },
   {
    "duration": 205,
    "start_time": "2023-08-26T20:59:36.685Z"
   },
   {
    "duration": 4,
    "start_time": "2023-08-26T20:59:36.893Z"
   },
   {
    "duration": 33,
    "start_time": "2023-08-26T20:59:36.898Z"
   },
   {
    "duration": 3,
    "start_time": "2023-08-26T20:59:36.933Z"
   },
   {
    "duration": 39,
    "start_time": "2023-08-26T20:59:36.938Z"
   },
   {
    "duration": 7,
    "start_time": "2023-08-26T20:59:36.979Z"
   },
   {
    "duration": 30,
    "start_time": "2023-08-26T20:59:36.987Z"
   },
   {
    "duration": 204,
    "start_time": "2023-08-26T20:59:37.019Z"
   },
   {
    "duration": 203,
    "start_time": "2023-08-26T20:59:37.225Z"
   },
   {
    "duration": 26,
    "start_time": "2023-08-26T20:59:37.430Z"
   },
   {
    "duration": 7,
    "start_time": "2023-08-26T20:59:37.467Z"
   },
   {
    "duration": 10,
    "start_time": "2023-08-26T20:59:37.476Z"
   },
   {
    "duration": 226,
    "start_time": "2023-08-26T20:59:37.487Z"
   },
   {
    "duration": 19,
    "start_time": "2023-08-26T20:59:37.714Z"
   },
   {
    "duration": 109,
    "start_time": "2023-08-26T20:59:37.735Z"
   },
   {
    "duration": 113,
    "start_time": "2023-08-26T20:59:37.846Z"
   },
   {
    "duration": 22,
    "start_time": "2023-08-26T20:59:37.961Z"
   },
   {
    "duration": 46,
    "start_time": "2023-08-26T20:59:37.985Z"
   },
   {
    "duration": 5,
    "start_time": "2023-08-26T20:59:38.033Z"
   },
   {
    "duration": 33426,
    "start_time": "2023-08-26T20:59:38.040Z"
   },
   {
    "duration": 1455,
    "start_time": "2023-08-27T05:02:14.392Z"
   },
   {
    "duration": 310,
    "start_time": "2023-08-27T05:02:15.859Z"
   },
   {
    "duration": 19,
    "start_time": "2023-08-27T05:02:16.172Z"
   },
   {
    "duration": 13,
    "start_time": "2023-08-27T05:02:16.194Z"
   },
   {
    "duration": 10,
    "start_time": "2023-08-27T05:02:16.210Z"
   },
   {
    "duration": 19,
    "start_time": "2023-08-27T05:02:16.223Z"
   },
   {
    "duration": 39,
    "start_time": "2023-08-27T05:02:16.244Z"
   },
   {
    "duration": 21,
    "start_time": "2023-08-27T05:02:16.288Z"
   },
   {
    "duration": 12,
    "start_time": "2023-08-27T05:02:16.312Z"
   },
   {
    "duration": 5,
    "start_time": "2023-08-27T05:02:16.326Z"
   },
   {
    "duration": 8,
    "start_time": "2023-08-27T05:02:16.333Z"
   },
   {
    "duration": 31,
    "start_time": "2023-08-27T05:02:16.344Z"
   },
   {
    "duration": 7,
    "start_time": "2023-08-27T05:02:16.377Z"
   },
   {
    "duration": 7,
    "start_time": "2023-08-27T05:02:16.385Z"
   },
   {
    "duration": 3,
    "start_time": "2023-08-27T05:02:16.395Z"
   },
   {
    "duration": 244,
    "start_time": "2023-08-27T05:02:16.400Z"
   },
   {
    "duration": 7,
    "start_time": "2023-08-27T05:02:16.646Z"
   },
   {
    "duration": 23,
    "start_time": "2023-08-27T05:02:16.668Z"
   },
   {
    "duration": 14,
    "start_time": "2023-08-27T05:02:16.697Z"
   },
   {
    "duration": 95,
    "start_time": "2023-08-27T05:02:16.712Z"
   },
   {
    "duration": 14,
    "start_time": "2023-08-27T05:02:16.809Z"
   },
   {
    "duration": 10,
    "start_time": "2023-08-27T05:02:16.825Z"
   },
   {
    "duration": 20,
    "start_time": "2023-08-27T05:02:16.837Z"
   },
   {
    "duration": 240,
    "start_time": "2023-08-27T05:02:16.859Z"
   },
   {
    "duration": 12,
    "start_time": "2023-08-27T05:02:17.102Z"
   },
   {
    "duration": 10,
    "start_time": "2023-08-27T05:02:17.116Z"
   },
   {
    "duration": 8,
    "start_time": "2023-08-27T05:02:17.128Z"
   },
   {
    "duration": 261,
    "start_time": "2023-08-27T05:02:17.140Z"
   },
   {
    "duration": 8,
    "start_time": "2023-08-27T05:02:17.404Z"
   },
   {
    "duration": 9,
    "start_time": "2023-08-27T05:02:17.414Z"
   },
   {
    "duration": 246,
    "start_time": "2023-08-27T05:02:17.425Z"
   },
   {
    "duration": 10,
    "start_time": "2023-08-27T05:02:17.673Z"
   },
   {
    "duration": 44,
    "start_time": "2023-08-27T05:02:17.684Z"
   },
   {
    "duration": 4,
    "start_time": "2023-08-27T05:02:17.730Z"
   },
   {
    "duration": 41,
    "start_time": "2023-08-27T05:02:17.735Z"
   },
   {
    "duration": 9,
    "start_time": "2023-08-27T05:02:17.785Z"
   },
   {
    "duration": 8,
    "start_time": "2023-08-27T05:02:17.796Z"
   },
   {
    "duration": 289,
    "start_time": "2023-08-27T05:02:17.806Z"
   },
   {
    "duration": 228,
    "start_time": "2023-08-27T05:02:18.097Z"
   },
   {
    "duration": 37,
    "start_time": "2023-08-27T05:02:18.327Z"
   },
   {
    "duration": 7,
    "start_time": "2023-08-27T05:02:18.366Z"
   },
   {
    "duration": 21,
    "start_time": "2023-08-27T05:02:18.375Z"
   },
   {
    "duration": 317,
    "start_time": "2023-08-27T05:02:18.397Z"
   },
   {
    "duration": 18,
    "start_time": "2023-08-27T05:02:18.716Z"
   },
   {
    "duration": 20,
    "start_time": "2023-08-27T05:02:18.735Z"
   },
   {
    "duration": 19,
    "start_time": "2023-08-27T05:02:18.758Z"
   },
   {
    "duration": 19,
    "start_time": "2023-08-27T05:02:18.780Z"
   },
   {
    "duration": 37,
    "start_time": "2023-08-27T05:02:18.800Z"
   },
   {
    "duration": 19,
    "start_time": "2023-08-27T05:02:18.858Z"
   },
   {
    "duration": 40825,
    "start_time": "2023-08-27T05:02:18.886Z"
   },
   {
    "duration": 11,
    "start_time": "2023-08-27T05:11:57.473Z"
   }
  ],
  "kernelspec": {
   "display_name": "Python 3 (ipykernel)",
   "language": "python",
   "name": "python3"
  },
  "language_info": {
   "codemirror_mode": {
    "name": "ipython",
    "version": 3
   },
   "file_extension": ".py",
   "mimetype": "text/x-python",
   "name": "python",
   "nbconvert_exporter": "python",
   "pygments_lexer": "ipython3",
   "version": "3.11.3"
  },
  "toc": {
   "base_numbering": 1,
   "nav_menu": {
    "height": "174px",
    "width": "303px"
   },
   "number_sections": true,
   "sideBar": true,
   "skip_h1_title": true,
   "title_cell": "Содержание",
   "title_sidebar": "Contents",
   "toc_cell": true,
   "toc_position": {
    "height": "calc(100% - 180px)",
    "left": "10px",
    "top": "150px",
    "width": "371px"
   },
   "toc_section_display": true,
   "toc_window_display": false
  }
 },
 "nbformat": 4,
 "nbformat_minor": 5
}
