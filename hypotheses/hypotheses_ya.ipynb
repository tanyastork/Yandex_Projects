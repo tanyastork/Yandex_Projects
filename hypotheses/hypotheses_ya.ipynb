{
 "cells": [
  {
   "cell_type": "markdown",
   "metadata": {
    "toc": true
   },
   "source": [
    "<h1>Содержание<span class=\"tocSkip\"></span></h1>\n",
    "<div class=\"toc\"><ul class=\"toc-item\"><li><span><a href=\"#Приоритизация-гипотез.\" data-toc-modified-id=\"Приоритизация-гипотез.-1\"><span class=\"toc-item-num\">1&nbsp;&nbsp;</span>Приоритизация гипотез.</a></span><ul class=\"toc-item\"><li><ul class=\"toc-item\"><li><span><a href=\"#Примениv-фреймворк-ICE-для-приоритизации-гипотез.\" data-toc-modified-id=\"Примениv-фреймворк-ICE-для-приоритизации-гипотез.-1.0.1\"><span class=\"toc-item-num\">1.0.1&nbsp;&nbsp;</span>Примениv фреймворк ICE для приоритизации гипотез.</a></span></li><li><span><a href=\"#Применим-фреймворк-RICE-для-приоритизации-гипотез.\" data-toc-modified-id=\"Применим-фреймворк-RICE-для-приоритизации-гипотез.-1.0.2\"><span class=\"toc-item-num\">1.0.2&nbsp;&nbsp;</span>Применим фреймворк RICE для приоритизации гипотез.</a></span></li></ul></li></ul></li><li><span><a href=\"#Анализ-A/B-теста\" data-toc-modified-id=\"Анализ-A/B-теста-2\"><span class=\"toc-item-num\">2&nbsp;&nbsp;</span>Анализ A/B-теста</a></span><ul class=\"toc-item\"><li><span><a href=\"#Построим-график-кумулятивной-выручки-по-группам\" data-toc-modified-id=\"Построим-график-кумулятивной-выручки-по-группам-2.1\"><span class=\"toc-item-num\">2.1&nbsp;&nbsp;</span>Построим график кумулятивной выручки по группам</a></span></li><li><span><a href=\"#Построим-график-кумулятивного-среднего-чека-по-группам.\" data-toc-modified-id=\"Построим-график-кумулятивного-среднего-чека-по-группам.-2.2\"><span class=\"toc-item-num\">2.2&nbsp;&nbsp;</span>Построим график кумулятивного среднего чека по группам.</a></span></li><li><span><a href=\"#Построим-график-относительного-изменения-кумулятивного-среднего-чека-группы-B-к-группе-A\" data-toc-modified-id=\"Построим-график-относительного-изменения-кумулятивного-среднего-чека-группы-B-к-группе-A-2.3\"><span class=\"toc-item-num\">2.3&nbsp;&nbsp;</span>Построим график относительного изменения кумулятивного среднего чека группы B к группе A</a></span></li><li><span><a href=\"#Построим-график-кумулятивного-среднего-количества-заказов-на-посетителя-по-группам-(конверсия).\" data-toc-modified-id=\"Построим-график-кумулятивного-среднего-количества-заказов-на-посетителя-по-группам-(конверсия).-2.4\"><span class=\"toc-item-num\">2.4&nbsp;&nbsp;</span>Построим график кумулятивного среднего количества заказов на посетителя по группам (конверсия).</a></span></li><li><span><a href=\"#Построим-график-относительного-изменения-кумулятивного-среднего-количества-заказов-на-посетителя-группы-B-к-группе-A.\" data-toc-modified-id=\"Построим-график-относительного-изменения-кумулятивного-среднего-количества-заказов-на-посетителя-группы-B-к-группе-A.-2.5\"><span class=\"toc-item-num\">2.5&nbsp;&nbsp;</span>Построим график относительного изменения кумулятивного среднего количества заказов на посетителя группы B к группе A.</a></span></li><li><span><a href=\"#Построим-точечный-график-количества-заказов-по-пользователям\" data-toc-modified-id=\"Построим-точечный-график-количества-заказов-по-пользователям-2.6\"><span class=\"toc-item-num\">2.6&nbsp;&nbsp;</span>Построим точечный график количества заказов по пользователям</a></span></li><li><span><a href=\"#Посчитаем-95-й-и-99-й-перцентили-количества-заказов-на-пользователя.\" data-toc-modified-id=\"Посчитаем-95-й-и-99-й-перцентили-количества-заказов-на-пользователя.-2.7\"><span class=\"toc-item-num\">2.7&nbsp;&nbsp;</span>Посчитаем 95-й и 99-й перцентили количества заказов на пользователя.</a></span></li><li><span><a href=\"#Построим-точечный-график-стоимостей-заказов\" data-toc-modified-id=\"Построим-точечный-график-стоимостей-заказов-2.8\"><span class=\"toc-item-num\">2.8&nbsp;&nbsp;</span>Построим точечный график стоимостей заказов</a></span></li><li><span><a href=\"#Посчитайте-95-й-и-99-й-перцентили-стоимости-заказов.\" data-toc-modified-id=\"Посчитайте-95-й-и-99-й-перцентили-стоимости-заказов.-2.9\"><span class=\"toc-item-num\">2.9&nbsp;&nbsp;</span>Посчитайте 95-й и 99-й перцентили стоимости заказов.</a></span></li><li><span><a href=\"#Посчитаем-статистическую-значимость-различий-в-среднем-количестве-заказов-на-посетителя-между-группами-по-«сырым»-данным\" data-toc-modified-id=\"Посчитаем-статистическую-значимость-различий-в-среднем-количестве-заказов-на-посетителя-между-группами-по-«сырым»-данным-2.10\"><span class=\"toc-item-num\">2.10&nbsp;&nbsp;</span>Посчитаем статистическую значимость различий в среднем количестве заказов на посетителя между группами по «сырым» данным</a></span></li><li><span><a href=\"#Посчитаем-статистическую-значимость-различий-в-среднем-чеке-заказа-между-группами-по-«сырым»-данным\" data-toc-modified-id=\"Посчитаем-статистическую-значимость-различий-в-среднем-чеке-заказа-между-группами-по-«сырым»-данным-2.11\"><span class=\"toc-item-num\">2.11&nbsp;&nbsp;</span>Посчитаем статистическую значимость различий в среднем чеке заказа между группами по «сырым» данным</a></span></li><li><span><a href=\"#Посчитаем-статистическую-значимость-различий-в-среднем-количестве-заказов-на-посетителя-между-группами-по-«очищенным»-данным\" data-toc-modified-id=\"Посчитаем-статистическую-значимость-различий-в-среднем-количестве-заказов-на-посетителя-между-группами-по-«очищенным»-данным-2.12\"><span class=\"toc-item-num\">2.12&nbsp;&nbsp;</span>Посчитаем статистическую значимость различий в среднем количестве заказов на посетителя между группами по «очищенным» данным</a></span></li><li><span><a href=\"#Посчитаем-статистическую-значимость-различий-в-среднем-чеке-заказа-между-группами-по-«очищенным»-данным\" data-toc-modified-id=\"Посчитаем-статистическую-значимость-различий-в-среднем-чеке-заказа-между-группами-по-«очищенным»-данным-2.13\"><span class=\"toc-item-num\">2.13&nbsp;&nbsp;</span>Посчитаем статистическую значимость различий в среднем чеке заказа между группами по «очищенным» данным</a></span></li><li><span><a href=\"#Вывод-об-А/В-тесте\" data-toc-modified-id=\"Вывод-об-А/В-тесте-2.14\"><span class=\"toc-item-num\">2.14&nbsp;&nbsp;</span>Вывод об А/В тесте</a></span></li></ul></li></ul></div>"
   ]
  },
  {
   "cell_type": "markdown",
   "metadata": {},
   "source": [
    "# Проект: принятие решений в бизнесе"
   ]
  },
  {
   "cell_type": "markdown",
   "metadata": {},
   "source": [
    "Я - аналитик крупного интернет-магазина. Вместе с отделом маркетинга мы подготовили список гипотез для увеличения выручки.\n"
   ]
  },
  {
   "cell_type": "markdown",
   "metadata": {},
   "source": [
    "# Цель\n",
    "- Приоритизировать имеющиеся гипотезы\n",
    "- Запустите A/B-тест, проанализировать результаты и остановить или продолжить его."
   ]
  },
  {
   "cell_type": "markdown",
   "metadata": {},
   "source": [
    "# Описание данных"
   ]
  },
  {
   "cell_type": "markdown",
   "metadata": {},
   "source": [
    "**Данные для первой части** - приоритизация гипотез\n",
    "\n",
    "Файл /datasets/hypothesis.csv:\n",
    "- Hypothesis — краткое описание гипотезы;\n",
    "- Reach — охват пользователей по 10-балльной шкале;\n",
    "- Impact — влияние на пользователей по 10-балльной шкале;\n",
    "- Confidence — уверенность в гипотезе по 10-балльной шкале;\n",
    "- Efforts — затраты ресурсов на проверку гипотезы по 10-балльной шкале. Чем больше значение Efforts, тем дороже проверка гипотезы.\n",
    "\n",
    "**Данные для второй части** - запуск А/В-теста.\n",
    "\n",
    "Файл /datasets/orders.csv:\n",
    "- transactionId — идентификатор заказа;\n",
    "- visitorId — идентификатор пользователя, совершившего заказ;\n",
    "- date — дата, когда был совершён заказ;\n",
    "- revenue — выручка заказа;\n",
    "- group — группа A/B-теста, в которую попал заказ.\n",
    "Файл /datasets/visitors.csv:\n",
    "- date — дата;\n",
    "- group — группа A/B-теста;\n",
    "- visitors — количество пользователей в указанную дату в указанной группе A/B-теста"
   ]
  },
  {
   "cell_type": "markdown",
   "metadata": {},
   "source": [
    "# План анализа"
   ]
  },
  {
   "cell_type": "markdown",
   "metadata": {},
   "source": [
    "1. Приоритизация гипотез с помощью различных фреймоворков.\n",
    "2. Вторая часть проекта - предоработка данных проведенного А/В-теста.\n",
    "3. Анализ А/В-теста, построение графиков \n",
    "4. Формирование гипотез\n",
    "5. Выводы о проведенном анализе."
   ]
  },
  {
   "cell_type": "code",
   "execution_count": 1,
   "metadata": {},
   "outputs": [],
   "source": [
    "import pandas as pd\n",
    "import datetime as dt\n",
    "import numpy as np\n",
    "import matplotlib.pyplot as plt\n",
    "import seaborn as sns\n",
    "import scipy.stats as stats\n"
   ]
  },
  {
   "cell_type": "code",
   "execution_count": 2,
   "metadata": {},
   "outputs": [],
   "source": [
    "pd.set_option('display.max_colwidth', None)"
   ]
  },
  {
   "cell_type": "markdown",
   "metadata": {},
   "source": [
    "## Приоритизация гипотез."
   ]
  },
  {
   "cell_type": "code",
   "execution_count": 3,
   "metadata": {},
   "outputs": [],
   "source": [
    "hypothesis = pd.read_csv('/datasets/hypothesis.csv')"
   ]
  },
  {
   "cell_type": "code",
   "execution_count": 4,
   "metadata": {},
   "outputs": [
    {
     "name": "stdout",
     "output_type": "stream",
     "text": [
      "<class 'pandas.core.frame.DataFrame'>\n",
      "RangeIndex: 9 entries, 0 to 8\n",
      "Data columns (total 5 columns):\n",
      " #   Column      Non-Null Count  Dtype \n",
      "---  ------      --------------  ----- \n",
      " 0   Hypothesis  9 non-null      object\n",
      " 1   Reach       9 non-null      int64 \n",
      " 2   Impact      9 non-null      int64 \n",
      " 3   Confidence  9 non-null      int64 \n",
      " 4   Efforts     9 non-null      int64 \n",
      "dtypes: int64(4), object(1)\n",
      "memory usage: 488.0+ bytes\n"
     ]
    }
   ],
   "source": [
    "hypothesis.info()"
   ]
  },
  {
   "cell_type": "code",
   "execution_count": 5,
   "metadata": {},
   "outputs": [
    {
     "data": {
      "text/html": [
       "<div>\n",
       "<style scoped>\n",
       "    .dataframe tbody tr th:only-of-type {\n",
       "        vertical-align: middle;\n",
       "    }\n",
       "\n",
       "    .dataframe tbody tr th {\n",
       "        vertical-align: top;\n",
       "    }\n",
       "\n",
       "    .dataframe thead th {\n",
       "        text-align: right;\n",
       "    }\n",
       "</style>\n",
       "<table border=\"1\" class=\"dataframe\">\n",
       "  <thead>\n",
       "    <tr style=\"text-align: right;\">\n",
       "      <th></th>\n",
       "      <th>Hypothesis</th>\n",
       "      <th>Reach</th>\n",
       "      <th>Impact</th>\n",
       "      <th>Confidence</th>\n",
       "      <th>Efforts</th>\n",
       "    </tr>\n",
       "  </thead>\n",
       "  <tbody>\n",
       "    <tr>\n",
       "      <th>0</th>\n",
       "      <td>Добавить два новых канала привлечения трафика, что позволит привлекать на 30% больше пользователей</td>\n",
       "      <td>3</td>\n",
       "      <td>10</td>\n",
       "      <td>8</td>\n",
       "      <td>6</td>\n",
       "    </tr>\n",
       "    <tr>\n",
       "      <th>1</th>\n",
       "      <td>Запустить собственную службу доставки, что сократит срок доставки заказов</td>\n",
       "      <td>2</td>\n",
       "      <td>5</td>\n",
       "      <td>4</td>\n",
       "      <td>10</td>\n",
       "    </tr>\n",
       "    <tr>\n",
       "      <th>2</th>\n",
       "      <td>Добавить блоки рекомендаций товаров на сайт интернет магазина, чтобы повысить конверсию и средний чек заказа</td>\n",
       "      <td>8</td>\n",
       "      <td>3</td>\n",
       "      <td>7</td>\n",
       "      <td>3</td>\n",
       "    </tr>\n",
       "    <tr>\n",
       "      <th>3</th>\n",
       "      <td>Изменить структура категорий, что увеличит конверсию, т.к. пользователи быстрее найдут нужный товар</td>\n",
       "      <td>8</td>\n",
       "      <td>3</td>\n",
       "      <td>3</td>\n",
       "      <td>8</td>\n",
       "    </tr>\n",
       "    <tr>\n",
       "      <th>4</th>\n",
       "      <td>Изменить цвет фона главной страницы, чтобы увеличить вовлеченность пользователей</td>\n",
       "      <td>3</td>\n",
       "      <td>1</td>\n",
       "      <td>1</td>\n",
       "      <td>1</td>\n",
       "    </tr>\n",
       "    <tr>\n",
       "      <th>5</th>\n",
       "      <td>Добавить страницу отзывов клиентов о магазине, что позволит увеличить количество заказов</td>\n",
       "      <td>3</td>\n",
       "      <td>2</td>\n",
       "      <td>2</td>\n",
       "      <td>3</td>\n",
       "    </tr>\n",
       "    <tr>\n",
       "      <th>6</th>\n",
       "      <td>Показать на главной странице баннеры с актуальными акциями и распродажами, чтобы увеличить конверсию</td>\n",
       "      <td>5</td>\n",
       "      <td>3</td>\n",
       "      <td>8</td>\n",
       "      <td>3</td>\n",
       "    </tr>\n",
       "    <tr>\n",
       "      <th>7</th>\n",
       "      <td>Добавить форму подписки на все основные страницы, чтобы собрать базу клиентов для email-рассылок</td>\n",
       "      <td>10</td>\n",
       "      <td>7</td>\n",
       "      <td>8</td>\n",
       "      <td>5</td>\n",
       "    </tr>\n",
       "    <tr>\n",
       "      <th>8</th>\n",
       "      <td>Запустить акцию, дающую скидку на товар в день рождения</td>\n",
       "      <td>1</td>\n",
       "      <td>9</td>\n",
       "      <td>9</td>\n",
       "      <td>5</td>\n",
       "    </tr>\n",
       "  </tbody>\n",
       "</table>\n",
       "</div>"
      ],
      "text/plain": [
       "                                                                                                     Hypothesis  \\\n",
       "0            Добавить два новых канала привлечения трафика, что позволит привлекать на 30% больше пользователей   \n",
       "1                                     Запустить собственную службу доставки, что сократит срок доставки заказов   \n",
       "2  Добавить блоки рекомендаций товаров на сайт интернет магазина, чтобы повысить конверсию и средний чек заказа   \n",
       "3           Изменить структура категорий, что увеличит конверсию, т.к. пользователи быстрее найдут нужный товар   \n",
       "4                              Изменить цвет фона главной страницы, чтобы увеличить вовлеченность пользователей   \n",
       "5                      Добавить страницу отзывов клиентов о магазине, что позволит увеличить количество заказов   \n",
       "6          Показать на главной странице баннеры с актуальными акциями и распродажами, чтобы увеличить конверсию   \n",
       "7              Добавить форму подписки на все основные страницы, чтобы собрать базу клиентов для email-рассылок   \n",
       "8                                                       Запустить акцию, дающую скидку на товар в день рождения   \n",
       "\n",
       "   Reach  Impact  Confidence  Efforts  \n",
       "0      3      10           8        6  \n",
       "1      2       5           4       10  \n",
       "2      8       3           7        3  \n",
       "3      8       3           3        8  \n",
       "4      3       1           1        1  \n",
       "5      3       2           2        3  \n",
       "6      5       3           8        3  \n",
       "7     10       7           8        5  \n",
       "8      1       9           9        5  "
      ]
     },
     "execution_count": 5,
     "metadata": {},
     "output_type": "execute_result"
    }
   ],
   "source": [
    "hypothesis"
   ]
  },
  {
   "cell_type": "markdown",
   "metadata": {},
   "source": [
    "#### Примениv фреймворк ICE для приоритизации гипотез."
   ]
  },
  {
   "cell_type": "code",
   "execution_count": 6,
   "metadata": {},
   "outputs": [],
   "source": [
    "hypothesis['ICE'] = (hypothesis['Confidence']*hypothesis['Impact'])/hypothesis['Efforts']"
   ]
  },
  {
   "cell_type": "code",
   "execution_count": 7,
   "metadata": {},
   "outputs": [
    {
     "data": {
      "text/html": [
       "<div>\n",
       "<style scoped>\n",
       "    .dataframe tbody tr th:only-of-type {\n",
       "        vertical-align: middle;\n",
       "    }\n",
       "\n",
       "    .dataframe tbody tr th {\n",
       "        vertical-align: top;\n",
       "    }\n",
       "\n",
       "    .dataframe thead th {\n",
       "        text-align: right;\n",
       "    }\n",
       "</style>\n",
       "<table border=\"1\" class=\"dataframe\">\n",
       "  <thead>\n",
       "    <tr style=\"text-align: right;\">\n",
       "      <th></th>\n",
       "      <th>Hypothesis</th>\n",
       "      <th>Reach</th>\n",
       "      <th>Impact</th>\n",
       "      <th>Confidence</th>\n",
       "      <th>Efforts</th>\n",
       "      <th>ICE</th>\n",
       "    </tr>\n",
       "  </thead>\n",
       "  <tbody>\n",
       "    <tr>\n",
       "      <th>8</th>\n",
       "      <td>Запустить акцию, дающую скидку на товар в день рождения</td>\n",
       "      <td>1</td>\n",
       "      <td>9</td>\n",
       "      <td>9</td>\n",
       "      <td>5</td>\n",
       "      <td>16.200000</td>\n",
       "    </tr>\n",
       "    <tr>\n",
       "      <th>0</th>\n",
       "      <td>Добавить два новых канала привлечения трафика, что позволит привлекать на 30% больше пользователей</td>\n",
       "      <td>3</td>\n",
       "      <td>10</td>\n",
       "      <td>8</td>\n",
       "      <td>6</td>\n",
       "      <td>13.333333</td>\n",
       "    </tr>\n",
       "    <tr>\n",
       "      <th>7</th>\n",
       "      <td>Добавить форму подписки на все основные страницы, чтобы собрать базу клиентов для email-рассылок</td>\n",
       "      <td>10</td>\n",
       "      <td>7</td>\n",
       "      <td>8</td>\n",
       "      <td>5</td>\n",
       "      <td>11.200000</td>\n",
       "    </tr>\n",
       "    <tr>\n",
       "      <th>6</th>\n",
       "      <td>Показать на главной странице баннеры с актуальными акциями и распродажами, чтобы увеличить конверсию</td>\n",
       "      <td>5</td>\n",
       "      <td>3</td>\n",
       "      <td>8</td>\n",
       "      <td>3</td>\n",
       "      <td>8.000000</td>\n",
       "    </tr>\n",
       "    <tr>\n",
       "      <th>2</th>\n",
       "      <td>Добавить блоки рекомендаций товаров на сайт интернет магазина, чтобы повысить конверсию и средний чек заказа</td>\n",
       "      <td>8</td>\n",
       "      <td>3</td>\n",
       "      <td>7</td>\n",
       "      <td>3</td>\n",
       "      <td>7.000000</td>\n",
       "    </tr>\n",
       "    <tr>\n",
       "      <th>1</th>\n",
       "      <td>Запустить собственную службу доставки, что сократит срок доставки заказов</td>\n",
       "      <td>2</td>\n",
       "      <td>5</td>\n",
       "      <td>4</td>\n",
       "      <td>10</td>\n",
       "      <td>2.000000</td>\n",
       "    </tr>\n",
       "    <tr>\n",
       "      <th>5</th>\n",
       "      <td>Добавить страницу отзывов клиентов о магазине, что позволит увеличить количество заказов</td>\n",
       "      <td>3</td>\n",
       "      <td>2</td>\n",
       "      <td>2</td>\n",
       "      <td>3</td>\n",
       "      <td>1.333333</td>\n",
       "    </tr>\n",
       "    <tr>\n",
       "      <th>3</th>\n",
       "      <td>Изменить структура категорий, что увеличит конверсию, т.к. пользователи быстрее найдут нужный товар</td>\n",
       "      <td>8</td>\n",
       "      <td>3</td>\n",
       "      <td>3</td>\n",
       "      <td>8</td>\n",
       "      <td>1.125000</td>\n",
       "    </tr>\n",
       "    <tr>\n",
       "      <th>4</th>\n",
       "      <td>Изменить цвет фона главной страницы, чтобы увеличить вовлеченность пользователей</td>\n",
       "      <td>3</td>\n",
       "      <td>1</td>\n",
       "      <td>1</td>\n",
       "      <td>1</td>\n",
       "      <td>1.000000</td>\n",
       "    </tr>\n",
       "  </tbody>\n",
       "</table>\n",
       "</div>"
      ],
      "text/plain": [
       "                                                                                                     Hypothesis  \\\n",
       "8                                                       Запустить акцию, дающую скидку на товар в день рождения   \n",
       "0            Добавить два новых канала привлечения трафика, что позволит привлекать на 30% больше пользователей   \n",
       "7              Добавить форму подписки на все основные страницы, чтобы собрать базу клиентов для email-рассылок   \n",
       "6          Показать на главной странице баннеры с актуальными акциями и распродажами, чтобы увеличить конверсию   \n",
       "2  Добавить блоки рекомендаций товаров на сайт интернет магазина, чтобы повысить конверсию и средний чек заказа   \n",
       "1                                     Запустить собственную службу доставки, что сократит срок доставки заказов   \n",
       "5                      Добавить страницу отзывов клиентов о магазине, что позволит увеличить количество заказов   \n",
       "3           Изменить структура категорий, что увеличит конверсию, т.к. пользователи быстрее найдут нужный товар   \n",
       "4                              Изменить цвет фона главной страницы, чтобы увеличить вовлеченность пользователей   \n",
       "\n",
       "   Reach  Impact  Confidence  Efforts        ICE  \n",
       "8      1       9           9        5  16.200000  \n",
       "0      3      10           8        6  13.333333  \n",
       "7     10       7           8        5  11.200000  \n",
       "6      5       3           8        3   8.000000  \n",
       "2      8       3           7        3   7.000000  \n",
       "1      2       5           4       10   2.000000  \n",
       "5      3       2           2        3   1.333333  \n",
       "3      8       3           3        8   1.125000  \n",
       "4      3       1           1        1   1.000000  "
      ]
     },
     "execution_count": 7,
     "metadata": {},
     "output_type": "execute_result"
    }
   ],
   "source": [
    "hypothesis.sort_values(by='ICE', ascending=False)"
   ]
  },
  {
   "cell_type": "markdown",
   "metadata": {},
   "source": [
    "Согласно фреймворку ICE приоритизированы гипотезы номер 8, 0 и 7. Запустить акцию, дающую скидку на товар в день рождения,  Добавить два новых канала привлечения трафика, что позволит привлекать на 30% больше пользователей и Добавить форму подписки на все основные страницы, чтобы собрать базу клиентов для email-рассылок"
   ]
  },
  {
   "cell_type": "markdown",
   "metadata": {},
   "source": [
    "#### Применим фреймворк RICE для приоритизации гипотез."
   ]
  },
  {
   "cell_type": "code",
   "execution_count": 8,
   "metadata": {},
   "outputs": [],
   "source": [
    "hypothesis['RICE'] = (hypothesis['Reach']* hypothesis['Confidence']*hypothesis['Impact'])/hypothesis['Efforts']"
   ]
  },
  {
   "cell_type": "code",
   "execution_count": 9,
   "metadata": {},
   "outputs": [
    {
     "data": {
      "text/html": [
       "<div>\n",
       "<style scoped>\n",
       "    .dataframe tbody tr th:only-of-type {\n",
       "        vertical-align: middle;\n",
       "    }\n",
       "\n",
       "    .dataframe tbody tr th {\n",
       "        vertical-align: top;\n",
       "    }\n",
       "\n",
       "    .dataframe thead th {\n",
       "        text-align: right;\n",
       "    }\n",
       "</style>\n",
       "<table border=\"1\" class=\"dataframe\">\n",
       "  <thead>\n",
       "    <tr style=\"text-align: right;\">\n",
       "      <th></th>\n",
       "      <th>Hypothesis</th>\n",
       "      <th>Reach</th>\n",
       "      <th>Impact</th>\n",
       "      <th>Confidence</th>\n",
       "      <th>Efforts</th>\n",
       "      <th>ICE</th>\n",
       "      <th>RICE</th>\n",
       "    </tr>\n",
       "  </thead>\n",
       "  <tbody>\n",
       "    <tr>\n",
       "      <th>7</th>\n",
       "      <td>Добавить форму подписки на все основные страницы, чтобы собрать базу клиентов для email-рассылок</td>\n",
       "      <td>10</td>\n",
       "      <td>7</td>\n",
       "      <td>8</td>\n",
       "      <td>5</td>\n",
       "      <td>11.200000</td>\n",
       "      <td>112.0</td>\n",
       "    </tr>\n",
       "    <tr>\n",
       "      <th>2</th>\n",
       "      <td>Добавить блоки рекомендаций товаров на сайт интернет магазина, чтобы повысить конверсию и средний чек заказа</td>\n",
       "      <td>8</td>\n",
       "      <td>3</td>\n",
       "      <td>7</td>\n",
       "      <td>3</td>\n",
       "      <td>7.000000</td>\n",
       "      <td>56.0</td>\n",
       "    </tr>\n",
       "    <tr>\n",
       "      <th>0</th>\n",
       "      <td>Добавить два новых канала привлечения трафика, что позволит привлекать на 30% больше пользователей</td>\n",
       "      <td>3</td>\n",
       "      <td>10</td>\n",
       "      <td>8</td>\n",
       "      <td>6</td>\n",
       "      <td>13.333333</td>\n",
       "      <td>40.0</td>\n",
       "    </tr>\n",
       "    <tr>\n",
       "      <th>6</th>\n",
       "      <td>Показать на главной странице баннеры с актуальными акциями и распродажами, чтобы увеличить конверсию</td>\n",
       "      <td>5</td>\n",
       "      <td>3</td>\n",
       "      <td>8</td>\n",
       "      <td>3</td>\n",
       "      <td>8.000000</td>\n",
       "      <td>40.0</td>\n",
       "    </tr>\n",
       "    <tr>\n",
       "      <th>8</th>\n",
       "      <td>Запустить акцию, дающую скидку на товар в день рождения</td>\n",
       "      <td>1</td>\n",
       "      <td>9</td>\n",
       "      <td>9</td>\n",
       "      <td>5</td>\n",
       "      <td>16.200000</td>\n",
       "      <td>16.2</td>\n",
       "    </tr>\n",
       "    <tr>\n",
       "      <th>3</th>\n",
       "      <td>Изменить структура категорий, что увеличит конверсию, т.к. пользователи быстрее найдут нужный товар</td>\n",
       "      <td>8</td>\n",
       "      <td>3</td>\n",
       "      <td>3</td>\n",
       "      <td>8</td>\n",
       "      <td>1.125000</td>\n",
       "      <td>9.0</td>\n",
       "    </tr>\n",
       "    <tr>\n",
       "      <th>1</th>\n",
       "      <td>Запустить собственную службу доставки, что сократит срок доставки заказов</td>\n",
       "      <td>2</td>\n",
       "      <td>5</td>\n",
       "      <td>4</td>\n",
       "      <td>10</td>\n",
       "      <td>2.000000</td>\n",
       "      <td>4.0</td>\n",
       "    </tr>\n",
       "    <tr>\n",
       "      <th>5</th>\n",
       "      <td>Добавить страницу отзывов клиентов о магазине, что позволит увеличить количество заказов</td>\n",
       "      <td>3</td>\n",
       "      <td>2</td>\n",
       "      <td>2</td>\n",
       "      <td>3</td>\n",
       "      <td>1.333333</td>\n",
       "      <td>4.0</td>\n",
       "    </tr>\n",
       "    <tr>\n",
       "      <th>4</th>\n",
       "      <td>Изменить цвет фона главной страницы, чтобы увеличить вовлеченность пользователей</td>\n",
       "      <td>3</td>\n",
       "      <td>1</td>\n",
       "      <td>1</td>\n",
       "      <td>1</td>\n",
       "      <td>1.000000</td>\n",
       "      <td>3.0</td>\n",
       "    </tr>\n",
       "  </tbody>\n",
       "</table>\n",
       "</div>"
      ],
      "text/plain": [
       "                                                                                                     Hypothesis  \\\n",
       "7              Добавить форму подписки на все основные страницы, чтобы собрать базу клиентов для email-рассылок   \n",
       "2  Добавить блоки рекомендаций товаров на сайт интернет магазина, чтобы повысить конверсию и средний чек заказа   \n",
       "0            Добавить два новых канала привлечения трафика, что позволит привлекать на 30% больше пользователей   \n",
       "6          Показать на главной странице баннеры с актуальными акциями и распродажами, чтобы увеличить конверсию   \n",
       "8                                                       Запустить акцию, дающую скидку на товар в день рождения   \n",
       "3           Изменить структура категорий, что увеличит конверсию, т.к. пользователи быстрее найдут нужный товар   \n",
       "1                                     Запустить собственную службу доставки, что сократит срок доставки заказов   \n",
       "5                      Добавить страницу отзывов клиентов о магазине, что позволит увеличить количество заказов   \n",
       "4                              Изменить цвет фона главной страницы, чтобы увеличить вовлеченность пользователей   \n",
       "\n",
       "   Reach  Impact  Confidence  Efforts        ICE   RICE  \n",
       "7     10       7           8        5  11.200000  112.0  \n",
       "2      8       3           7        3   7.000000   56.0  \n",
       "0      3      10           8        6  13.333333   40.0  \n",
       "6      5       3           8        3   8.000000   40.0  \n",
       "8      1       9           9        5  16.200000   16.2  \n",
       "3      8       3           3        8   1.125000    9.0  \n",
       "1      2       5           4       10   2.000000    4.0  \n",
       "5      3       2           2        3   1.333333    4.0  \n",
       "4      3       1           1        1   1.000000    3.0  "
      ]
     },
     "execution_count": 9,
     "metadata": {},
     "output_type": "execute_result"
    }
   ],
   "source": [
    "hypothesis.sort_values(by='RICE', ascending=False)"
   ]
  },
  {
   "cell_type": "code",
   "execution_count": 10,
   "metadata": {},
   "outputs": [
    {
     "data": {
      "text/html": [
       "<style  type=\"text/css\" >\n",
       "#T_99035_row0_col5{\n",
       "            background-color:  #37b878;\n",
       "            color:  #000000;\n",
       "        }#T_99035_row0_col6,#T_99035_row4_col5{\n",
       "            background-color:  #fde725;\n",
       "            color:  #000000;\n",
       "        }#T_99035_row1_col5{\n",
       "            background-color:  #2a778e;\n",
       "            color:  #000000;\n",
       "        }#T_99035_row1_col6{\n",
       "            background-color:  #228d8d;\n",
       "            color:  #000000;\n",
       "        }#T_99035_row2_col5{\n",
       "            background-color:  #81d34d;\n",
       "            color:  #000000;\n",
       "        }#T_99035_row2_col6,#T_99035_row3_col6{\n",
       "            background-color:  #30698e;\n",
       "            color:  #f1f1f1;\n",
       "        }#T_99035_row3_col5{\n",
       "            background-color:  #24868e;\n",
       "            color:  #000000;\n",
       "        }#T_99035_row4_col6{\n",
       "            background-color:  #472c7a;\n",
       "            color:  #f1f1f1;\n",
       "        }#T_99035_row5_col5,#T_99035_row6_col6,#T_99035_row7_col6{\n",
       "            background-color:  #450457;\n",
       "            color:  #f1f1f1;\n",
       "        }#T_99035_row5_col6{\n",
       "            background-color:  #481668;\n",
       "            color:  #f1f1f1;\n",
       "        }#T_99035_row6_col5{\n",
       "            background-color:  #48186a;\n",
       "            color:  #f1f1f1;\n",
       "        }#T_99035_row7_col5{\n",
       "            background-color:  #46085c;\n",
       "            color:  #f1f1f1;\n",
       "        }#T_99035_row8_col5,#T_99035_row8_col6{\n",
       "            background-color:  #440154;\n",
       "            color:  #f1f1f1;\n",
       "        }</style><table id=\"T_99035_\" ><thead>    <tr>        <th class=\"blank level0\" ></th>        <th class=\"col_heading level0 col0\" >Hypothesis</th>        <th class=\"col_heading level0 col1\" >Reach</th>        <th class=\"col_heading level0 col2\" >Impact</th>        <th class=\"col_heading level0 col3\" >Confidence</th>        <th class=\"col_heading level0 col4\" >Efforts</th>        <th class=\"col_heading level0 col5\" >ICE</th>        <th class=\"col_heading level0 col6\" >RICE</th>    </tr></thead><tbody>\n",
       "                <tr>\n",
       "                        <th id=\"T_99035_level0_row0\" class=\"row_heading level0 row0\" >7</th>\n",
       "                        <td id=\"T_99035_row0_col0\" class=\"data row0 col0\" >Добавить форму подписки на все основные страницы, чтобы собрать базу клиентов для email-рассылок</td>\n",
       "                        <td id=\"T_99035_row0_col1\" class=\"data row0 col1\" >10</td>\n",
       "                        <td id=\"T_99035_row0_col2\" class=\"data row0 col2\" >7</td>\n",
       "                        <td id=\"T_99035_row0_col3\" class=\"data row0 col3\" >8</td>\n",
       "                        <td id=\"T_99035_row0_col4\" class=\"data row0 col4\" >5</td>\n",
       "                        <td id=\"T_99035_row0_col5\" class=\"data row0 col5\" >11.200000</td>\n",
       "                        <td id=\"T_99035_row0_col6\" class=\"data row0 col6\" >112.000000</td>\n",
       "            </tr>\n",
       "            <tr>\n",
       "                        <th id=\"T_99035_level0_row1\" class=\"row_heading level0 row1\" >2</th>\n",
       "                        <td id=\"T_99035_row1_col0\" class=\"data row1 col0\" >Добавить блоки рекомендаций товаров на сайт интернет магазина, чтобы повысить конверсию и средний чек заказа</td>\n",
       "                        <td id=\"T_99035_row1_col1\" class=\"data row1 col1\" >8</td>\n",
       "                        <td id=\"T_99035_row1_col2\" class=\"data row1 col2\" >3</td>\n",
       "                        <td id=\"T_99035_row1_col3\" class=\"data row1 col3\" >7</td>\n",
       "                        <td id=\"T_99035_row1_col4\" class=\"data row1 col4\" >3</td>\n",
       "                        <td id=\"T_99035_row1_col5\" class=\"data row1 col5\" >7.000000</td>\n",
       "                        <td id=\"T_99035_row1_col6\" class=\"data row1 col6\" >56.000000</td>\n",
       "            </tr>\n",
       "            <tr>\n",
       "                        <th id=\"T_99035_level0_row2\" class=\"row_heading level0 row2\" >0</th>\n",
       "                        <td id=\"T_99035_row2_col0\" class=\"data row2 col0\" >Добавить два новых канала привлечения трафика, что позволит привлекать на 30% больше пользователей</td>\n",
       "                        <td id=\"T_99035_row2_col1\" class=\"data row2 col1\" >3</td>\n",
       "                        <td id=\"T_99035_row2_col2\" class=\"data row2 col2\" >10</td>\n",
       "                        <td id=\"T_99035_row2_col3\" class=\"data row2 col3\" >8</td>\n",
       "                        <td id=\"T_99035_row2_col4\" class=\"data row2 col4\" >6</td>\n",
       "                        <td id=\"T_99035_row2_col5\" class=\"data row2 col5\" >13.333333</td>\n",
       "                        <td id=\"T_99035_row2_col6\" class=\"data row2 col6\" >40.000000</td>\n",
       "            </tr>\n",
       "            <tr>\n",
       "                        <th id=\"T_99035_level0_row3\" class=\"row_heading level0 row3\" >6</th>\n",
       "                        <td id=\"T_99035_row3_col0\" class=\"data row3 col0\" >Показать на главной странице баннеры с актуальными акциями и распродажами, чтобы увеличить конверсию</td>\n",
       "                        <td id=\"T_99035_row3_col1\" class=\"data row3 col1\" >5</td>\n",
       "                        <td id=\"T_99035_row3_col2\" class=\"data row3 col2\" >3</td>\n",
       "                        <td id=\"T_99035_row3_col3\" class=\"data row3 col3\" >8</td>\n",
       "                        <td id=\"T_99035_row3_col4\" class=\"data row3 col4\" >3</td>\n",
       "                        <td id=\"T_99035_row3_col5\" class=\"data row3 col5\" >8.000000</td>\n",
       "                        <td id=\"T_99035_row3_col6\" class=\"data row3 col6\" >40.000000</td>\n",
       "            </tr>\n",
       "            <tr>\n",
       "                        <th id=\"T_99035_level0_row4\" class=\"row_heading level0 row4\" >8</th>\n",
       "                        <td id=\"T_99035_row4_col0\" class=\"data row4 col0\" >Запустить акцию, дающую скидку на товар в день рождения</td>\n",
       "                        <td id=\"T_99035_row4_col1\" class=\"data row4 col1\" >1</td>\n",
       "                        <td id=\"T_99035_row4_col2\" class=\"data row4 col2\" >9</td>\n",
       "                        <td id=\"T_99035_row4_col3\" class=\"data row4 col3\" >9</td>\n",
       "                        <td id=\"T_99035_row4_col4\" class=\"data row4 col4\" >5</td>\n",
       "                        <td id=\"T_99035_row4_col5\" class=\"data row4 col5\" >16.200000</td>\n",
       "                        <td id=\"T_99035_row4_col6\" class=\"data row4 col6\" >16.200000</td>\n",
       "            </tr>\n",
       "            <tr>\n",
       "                        <th id=\"T_99035_level0_row5\" class=\"row_heading level0 row5\" >3</th>\n",
       "                        <td id=\"T_99035_row5_col0\" class=\"data row5 col0\" >Изменить структура категорий, что увеличит конверсию, т.к. пользователи быстрее найдут нужный товар</td>\n",
       "                        <td id=\"T_99035_row5_col1\" class=\"data row5 col1\" >8</td>\n",
       "                        <td id=\"T_99035_row5_col2\" class=\"data row5 col2\" >3</td>\n",
       "                        <td id=\"T_99035_row5_col3\" class=\"data row5 col3\" >3</td>\n",
       "                        <td id=\"T_99035_row5_col4\" class=\"data row5 col4\" >8</td>\n",
       "                        <td id=\"T_99035_row5_col5\" class=\"data row5 col5\" >1.125000</td>\n",
       "                        <td id=\"T_99035_row5_col6\" class=\"data row5 col6\" >9.000000</td>\n",
       "            </tr>\n",
       "            <tr>\n",
       "                        <th id=\"T_99035_level0_row6\" class=\"row_heading level0 row6\" >1</th>\n",
       "                        <td id=\"T_99035_row6_col0\" class=\"data row6 col0\" >Запустить собственную службу доставки, что сократит срок доставки заказов</td>\n",
       "                        <td id=\"T_99035_row6_col1\" class=\"data row6 col1\" >2</td>\n",
       "                        <td id=\"T_99035_row6_col2\" class=\"data row6 col2\" >5</td>\n",
       "                        <td id=\"T_99035_row6_col3\" class=\"data row6 col3\" >4</td>\n",
       "                        <td id=\"T_99035_row6_col4\" class=\"data row6 col4\" >10</td>\n",
       "                        <td id=\"T_99035_row6_col5\" class=\"data row6 col5\" >2.000000</td>\n",
       "                        <td id=\"T_99035_row6_col6\" class=\"data row6 col6\" >4.000000</td>\n",
       "            </tr>\n",
       "            <tr>\n",
       "                        <th id=\"T_99035_level0_row7\" class=\"row_heading level0 row7\" >5</th>\n",
       "                        <td id=\"T_99035_row7_col0\" class=\"data row7 col0\" >Добавить страницу отзывов клиентов о магазине, что позволит увеличить количество заказов</td>\n",
       "                        <td id=\"T_99035_row7_col1\" class=\"data row7 col1\" >3</td>\n",
       "                        <td id=\"T_99035_row7_col2\" class=\"data row7 col2\" >2</td>\n",
       "                        <td id=\"T_99035_row7_col3\" class=\"data row7 col3\" >2</td>\n",
       "                        <td id=\"T_99035_row7_col4\" class=\"data row7 col4\" >3</td>\n",
       "                        <td id=\"T_99035_row7_col5\" class=\"data row7 col5\" >1.333333</td>\n",
       "                        <td id=\"T_99035_row7_col6\" class=\"data row7 col6\" >4.000000</td>\n",
       "            </tr>\n",
       "            <tr>\n",
       "                        <th id=\"T_99035_level0_row8\" class=\"row_heading level0 row8\" >4</th>\n",
       "                        <td id=\"T_99035_row8_col0\" class=\"data row8 col0\" >Изменить цвет фона главной страницы, чтобы увеличить вовлеченность пользователей</td>\n",
       "                        <td id=\"T_99035_row8_col1\" class=\"data row8 col1\" >3</td>\n",
       "                        <td id=\"T_99035_row8_col2\" class=\"data row8 col2\" >1</td>\n",
       "                        <td id=\"T_99035_row8_col3\" class=\"data row8 col3\" >1</td>\n",
       "                        <td id=\"T_99035_row8_col4\" class=\"data row8 col4\" >1</td>\n",
       "                        <td id=\"T_99035_row8_col5\" class=\"data row8 col5\" >1.000000</td>\n",
       "                        <td id=\"T_99035_row8_col6\" class=\"data row8 col6\" >3.000000</td>\n",
       "            </tr>\n",
       "    </tbody></table>"
      ],
      "text/plain": [
       "<pandas.io.formats.style.Styler at 0x7f153fcf6100>"
      ]
     },
     "execution_count": 10,
     "metadata": {},
     "output_type": "execute_result"
    }
   ],
   "source": [
    "styled_hypothesis = hypothesis.sort_values(by='RICE', ascending=False).style.background_gradient(subset=['ICE', 'RICE'], cmap='viridis')\n",
    "styled_hypothesis"
   ]
  },
  {
   "cell_type": "markdown",
   "metadata": {},
   "source": [
    "RICE, в отличии от ICE включает в себя такой параметр, как Reach - скольких пользователей затронет изменение.Оценку деляют  на основе уже имеющихся данных, оценки конкурентов или оценки объёмов рынка. Согласно параметру RICE нужно приоритизировать гипотезы номер 7, 2 и 0. А это: Добавить форму подписки на все основные страницы, чтобы собрать базу клиентов для email-рассылок, Добавить блоки рекомендаций товаров на сайт интернет магазина, чтобы повысить конверсию и средний чек заказа и Добавить два новых канала привлечения трафика, что позволит привлекать на 30% больше пользователей. Эти изменения затронут наибльшее количестов пользователей.\n",
    "По стилизованному датафрейму видно, что ранги, на которых находятся гипотезы в разных фреймворках почти не совпадают. Однако это не касается гипотез  с самым низким приоритетом - они как раз примерно совпадают."
   ]
  },
  {
   "cell_type": "markdown",
   "metadata": {},
   "source": [
    "Выбор фреймворка для приоритезации гипотез зависитот целей, который преследует бизнес в данный момент. Например, еслиохват всей аудитории не так важен и хочется увидеть результат, который наиболее сильно повлияет на пользователей, то следует выбрать фреймворк ICE. Однако если важен еще и охват пользователей - RICE."
   ]
  },
  {
   "cell_type": "markdown",
   "metadata": {},
   "source": [
    "В ходе анализа имеющихся гипотез с помощью фреймворка RICE, были приоритизированы такие гипотезы, как:\n",
    "- Добавить форму подписки на все основные страницы, чтобы собрать базу клиентов для email-рассылок\n",
    "- Добавить блоки рекомендаций товаров на сайт интернет магазина, чтобы повысить конверсию и средний чек заказа \n",
    "- Добавить два новых канала привлечения трафика, что позволит привлекать на 30% больше пользователей. \n",
    "\n",
    "А с помощью ICE приоритизированы:\n",
    "- Запустить акцию, дающую скидку на товар в день рождения\n",
    "- Добавить два новых канала привлечения трафика, что позволит привлекать на 30% больше пользователей \n",
    "- Добавить форму подписки на все основные страницы, чтобы собрать базу клиентов для email-рассылок\n",
    "\n",
    "Общая для них - Добавить форму подписки на все основные страницы, чтобы собрать базу клиентов для email-рассыло."
   ]
  },
  {
   "cell_type": "markdown",
   "metadata": {},
   "source": [
    "## Анализ A/B-теста"
   ]
  },
  {
   "cell_type": "markdown",
   "metadata": {},
   "source": [
    "Мы провели A/B-тест и получили результаты, которые описаны в файлах /datasets/orders.csv и /datasets/visitors.csv.\n"
   ]
  },
  {
   "cell_type": "code",
   "execution_count": 11,
   "metadata": {},
   "outputs": [],
   "source": [
    "orders = pd.read_csv('/datasets/orders.csv')\n",
    "visitors = pd.read_csv('/datasets/visitors.csv')"
   ]
  },
  {
   "cell_type": "markdown",
   "metadata": {},
   "source": [
    "**Проверим таблицу с заказами**"
   ]
  },
  {
   "cell_type": "code",
   "execution_count": 12,
   "metadata": {},
   "outputs": [
    {
     "data": {
      "text/html": [
       "<div>\n",
       "<style scoped>\n",
       "    .dataframe tbody tr th:only-of-type {\n",
       "        vertical-align: middle;\n",
       "    }\n",
       "\n",
       "    .dataframe tbody tr th {\n",
       "        vertical-align: top;\n",
       "    }\n",
       "\n",
       "    .dataframe thead th {\n",
       "        text-align: right;\n",
       "    }\n",
       "</style>\n",
       "<table border=\"1\" class=\"dataframe\">\n",
       "  <thead>\n",
       "    <tr style=\"text-align: right;\">\n",
       "      <th></th>\n",
       "      <th>transactionId</th>\n",
       "      <th>visitorId</th>\n",
       "      <th>date</th>\n",
       "      <th>revenue</th>\n",
       "      <th>group</th>\n",
       "    </tr>\n",
       "  </thead>\n",
       "  <tbody>\n",
       "    <tr>\n",
       "      <th>0</th>\n",
       "      <td>3667963787</td>\n",
       "      <td>3312258926</td>\n",
       "      <td>2019-08-15</td>\n",
       "      <td>1650</td>\n",
       "      <td>B</td>\n",
       "    </tr>\n",
       "    <tr>\n",
       "      <th>1</th>\n",
       "      <td>2804400009</td>\n",
       "      <td>3642806036</td>\n",
       "      <td>2019-08-15</td>\n",
       "      <td>730</td>\n",
       "      <td>B</td>\n",
       "    </tr>\n",
       "    <tr>\n",
       "      <th>2</th>\n",
       "      <td>2961555356</td>\n",
       "      <td>4069496402</td>\n",
       "      <td>2019-08-15</td>\n",
       "      <td>400</td>\n",
       "      <td>A</td>\n",
       "    </tr>\n",
       "    <tr>\n",
       "      <th>3</th>\n",
       "      <td>3797467345</td>\n",
       "      <td>1196621759</td>\n",
       "      <td>2019-08-15</td>\n",
       "      <td>9759</td>\n",
       "      <td>B</td>\n",
       "    </tr>\n",
       "    <tr>\n",
       "      <th>4</th>\n",
       "      <td>2282983706</td>\n",
       "      <td>2322279887</td>\n",
       "      <td>2019-08-15</td>\n",
       "      <td>2308</td>\n",
       "      <td>B</td>\n",
       "    </tr>\n",
       "  </tbody>\n",
       "</table>\n",
       "</div>"
      ],
      "text/plain": [
       "   transactionId   visitorId        date  revenue group\n",
       "0     3667963787  3312258926  2019-08-15     1650     B\n",
       "1     2804400009  3642806036  2019-08-15      730     B\n",
       "2     2961555356  4069496402  2019-08-15      400     A\n",
       "3     3797467345  1196621759  2019-08-15     9759     B\n",
       "4     2282983706  2322279887  2019-08-15     2308     B"
      ]
     },
     "execution_count": 12,
     "metadata": {},
     "output_type": "execute_result"
    }
   ],
   "source": [
    "orders.head()"
   ]
  },
  {
   "cell_type": "code",
   "execution_count": 13,
   "metadata": {},
   "outputs": [
    {
     "name": "stdout",
     "output_type": "stream",
     "text": [
      "<class 'pandas.core.frame.DataFrame'>\n",
      "RangeIndex: 1197 entries, 0 to 1196\n",
      "Data columns (total 5 columns):\n",
      " #   Column         Non-Null Count  Dtype \n",
      "---  ------         --------------  ----- \n",
      " 0   transactionId  1197 non-null   int64 \n",
      " 1   visitorId      1197 non-null   int64 \n",
      " 2   date           1197 non-null   object\n",
      " 3   revenue        1197 non-null   int64 \n",
      " 4   group          1197 non-null   object\n",
      "dtypes: int64(3), object(2)\n",
      "memory usage: 46.9+ KB\n"
     ]
    }
   ],
   "source": [
    "orders.info()"
   ]
  },
  {
   "cell_type": "code",
   "execution_count": 14,
   "metadata": {},
   "outputs": [
    {
     "data": {
      "text/plain": [
       "0"
      ]
     },
     "execution_count": 14,
     "metadata": {},
     "output_type": "execute_result"
    }
   ],
   "source": [
    "orders.duplicated().sum()"
   ]
  },
  {
   "cell_type": "code",
   "execution_count": 15,
   "metadata": {},
   "outputs": [
    {
     "data": {
      "text/plain": [
       "array(['B', 'A'], dtype=object)"
      ]
     },
     "execution_count": 15,
     "metadata": {},
     "output_type": "execute_result"
    }
   ],
   "source": [
    "orders['group'].unique()"
   ]
  },
  {
   "cell_type": "markdown",
   "metadata": {},
   "source": [
    "Пропусков и дубликатов в таблице с заказами нет. Всего две группы A/B-теста. Стоит привести дату к формату datetime."
   ]
  },
  {
   "cell_type": "code",
   "execution_count": 16,
   "metadata": {},
   "outputs": [],
   "source": [
    "orders['date'] = pd.to_datetime(orders['date'])"
   ]
  },
  {
   "cell_type": "markdown",
   "metadata": {},
   "source": [
    "**Проверим таблицу с визитами**"
   ]
  },
  {
   "cell_type": "code",
   "execution_count": 17,
   "metadata": {},
   "outputs": [
    {
     "data": {
      "text/html": [
       "<div>\n",
       "<style scoped>\n",
       "    .dataframe tbody tr th:only-of-type {\n",
       "        vertical-align: middle;\n",
       "    }\n",
       "\n",
       "    .dataframe tbody tr th {\n",
       "        vertical-align: top;\n",
       "    }\n",
       "\n",
       "    .dataframe thead th {\n",
       "        text-align: right;\n",
       "    }\n",
       "</style>\n",
       "<table border=\"1\" class=\"dataframe\">\n",
       "  <thead>\n",
       "    <tr style=\"text-align: right;\">\n",
       "      <th></th>\n",
       "      <th>date</th>\n",
       "      <th>group</th>\n",
       "      <th>visitors</th>\n",
       "    </tr>\n",
       "  </thead>\n",
       "  <tbody>\n",
       "    <tr>\n",
       "      <th>0</th>\n",
       "      <td>2019-08-01</td>\n",
       "      <td>A</td>\n",
       "      <td>719</td>\n",
       "    </tr>\n",
       "    <tr>\n",
       "      <th>1</th>\n",
       "      <td>2019-08-02</td>\n",
       "      <td>A</td>\n",
       "      <td>619</td>\n",
       "    </tr>\n",
       "    <tr>\n",
       "      <th>2</th>\n",
       "      <td>2019-08-03</td>\n",
       "      <td>A</td>\n",
       "      <td>507</td>\n",
       "    </tr>\n",
       "    <tr>\n",
       "      <th>3</th>\n",
       "      <td>2019-08-04</td>\n",
       "      <td>A</td>\n",
       "      <td>717</td>\n",
       "    </tr>\n",
       "    <tr>\n",
       "      <th>4</th>\n",
       "      <td>2019-08-05</td>\n",
       "      <td>A</td>\n",
       "      <td>756</td>\n",
       "    </tr>\n",
       "  </tbody>\n",
       "</table>\n",
       "</div>"
      ],
      "text/plain": [
       "         date group  visitors\n",
       "0  2019-08-01     A       719\n",
       "1  2019-08-02     A       619\n",
       "2  2019-08-03     A       507\n",
       "3  2019-08-04     A       717\n",
       "4  2019-08-05     A       756"
      ]
     },
     "execution_count": 17,
     "metadata": {},
     "output_type": "execute_result"
    }
   ],
   "source": [
    "visitors.head()"
   ]
  },
  {
   "cell_type": "code",
   "execution_count": 18,
   "metadata": {},
   "outputs": [
    {
     "name": "stdout",
     "output_type": "stream",
     "text": [
      "<class 'pandas.core.frame.DataFrame'>\n",
      "RangeIndex: 62 entries, 0 to 61\n",
      "Data columns (total 3 columns):\n",
      " #   Column    Non-Null Count  Dtype \n",
      "---  ------    --------------  ----- \n",
      " 0   date      62 non-null     object\n",
      " 1   group     62 non-null     object\n",
      " 2   visitors  62 non-null     int64 \n",
      "dtypes: int64(1), object(2)\n",
      "memory usage: 1.6+ KB\n"
     ]
    }
   ],
   "source": [
    "visitors.info()"
   ]
  },
  {
   "cell_type": "code",
   "execution_count": 19,
   "metadata": {},
   "outputs": [
    {
     "data": {
      "text/plain": [
       "0"
      ]
     },
     "execution_count": 19,
     "metadata": {},
     "output_type": "execute_result"
    }
   ],
   "source": [
    "visitors.duplicated().sum()"
   ]
  },
  {
   "cell_type": "code",
   "execution_count": 20,
   "metadata": {},
   "outputs": [
    {
     "data": {
      "text/plain": [
       "array(['A', 'B'], dtype=object)"
      ]
     },
     "execution_count": 20,
     "metadata": {},
     "output_type": "execute_result"
    }
   ],
   "source": [
    "visitors['group'].unique()"
   ]
  },
  {
   "cell_type": "markdown",
   "metadata": {},
   "source": [
    "Пропусков и дубликатов в таблице с посещениями нет. Всего две группы A/B-теста. Стоит привести дату к формату datetime."
   ]
  },
  {
   "cell_type": "code",
   "execution_count": 21,
   "metadata": {},
   "outputs": [],
   "source": [
    "visitors['date'] = pd.to_datetime(visitors['date'])"
   ]
  },
  {
   "cell_type": "markdown",
   "metadata": {},
   "source": [
    "**Проверим, нет ли пользователей, попадающих сразу в две группы**"
   ]
  },
  {
   "cell_type": "code",
   "execution_count": 22,
   "metadata": {},
   "outputs": [
    {
     "data": {
      "text/plain": [
       "group    116\n",
       "dtype: int64"
      ]
     },
     "execution_count": 22,
     "metadata": {},
     "output_type": "execute_result"
    }
   ],
   "source": [
    "orders.groupby('visitorId').agg({'group': 'nunique'}).query('group > 1').sum()"
   ]
  },
  {
   "cell_type": "markdown",
   "metadata": {},
   "source": [
    "Дейсвительно, такие пользователи есть и их довольно много - 116. Лучше данные о них удалить."
   ]
  },
  {
   "cell_type": "code",
   "execution_count": 23,
   "metadata": {},
   "outputs": [
    {
     "data": {
      "text/html": [
       "<div>\n",
       "<style scoped>\n",
       "    .dataframe tbody tr th:only-of-type {\n",
       "        vertical-align: middle;\n",
       "    }\n",
       "\n",
       "    .dataframe tbody tr th {\n",
       "        vertical-align: top;\n",
       "    }\n",
       "\n",
       "    .dataframe thead th {\n",
       "        text-align: right;\n",
       "    }\n",
       "</style>\n",
       "<table border=\"1\" class=\"dataframe\">\n",
       "  <thead>\n",
       "    <tr style=\"text-align: right;\">\n",
       "      <th></th>\n",
       "      <th>transactionId</th>\n",
       "      <th>visitorId</th>\n",
       "      <th>date</th>\n",
       "      <th>revenue</th>\n",
       "      <th>group</th>\n",
       "    </tr>\n",
       "  </thead>\n",
       "  <tbody>\n",
       "    <tr>\n",
       "      <th>0</th>\n",
       "      <td>3667963787</td>\n",
       "      <td>3312258926</td>\n",
       "      <td>2019-08-15</td>\n",
       "      <td>1650</td>\n",
       "      <td>B</td>\n",
       "    </tr>\n",
       "    <tr>\n",
       "      <th>1</th>\n",
       "      <td>2804400009</td>\n",
       "      <td>3642806036</td>\n",
       "      <td>2019-08-15</td>\n",
       "      <td>730</td>\n",
       "      <td>B</td>\n",
       "    </tr>\n",
       "    <tr>\n",
       "      <th>3</th>\n",
       "      <td>3797467345</td>\n",
       "      <td>1196621759</td>\n",
       "      <td>2019-08-15</td>\n",
       "      <td>9759</td>\n",
       "      <td>B</td>\n",
       "    </tr>\n",
       "    <tr>\n",
       "      <th>4</th>\n",
       "      <td>2282983706</td>\n",
       "      <td>2322279887</td>\n",
       "      <td>2019-08-15</td>\n",
       "      <td>2308</td>\n",
       "      <td>B</td>\n",
       "    </tr>\n",
       "    <tr>\n",
       "      <th>5</th>\n",
       "      <td>182168103</td>\n",
       "      <td>935554773</td>\n",
       "      <td>2019-08-15</td>\n",
       "      <td>2210</td>\n",
       "      <td>B</td>\n",
       "    </tr>\n",
       "    <tr>\n",
       "      <th>6</th>\n",
       "      <td>398296753</td>\n",
       "      <td>2900797465</td>\n",
       "      <td>2019-08-15</td>\n",
       "      <td>1860</td>\n",
       "      <td>B</td>\n",
       "    </tr>\n",
       "    <tr>\n",
       "      <th>7</th>\n",
       "      <td>2626614568</td>\n",
       "      <td>78758296</td>\n",
       "      <td>2019-08-15</td>\n",
       "      <td>1044</td>\n",
       "      <td>A</td>\n",
       "    </tr>\n",
       "    <tr>\n",
       "      <th>8</th>\n",
       "      <td>1576988021</td>\n",
       "      <td>295230930</td>\n",
       "      <td>2019-08-15</td>\n",
       "      <td>13710</td>\n",
       "      <td>A</td>\n",
       "    </tr>\n",
       "    <tr>\n",
       "      <th>9</th>\n",
       "      <td>1506739906</td>\n",
       "      <td>1882260405</td>\n",
       "      <td>2019-08-15</td>\n",
       "      <td>1855</td>\n",
       "      <td>B</td>\n",
       "    </tr>\n",
       "    <tr>\n",
       "      <th>10</th>\n",
       "      <td>3649131742</td>\n",
       "      <td>879864040</td>\n",
       "      <td>2019-08-15</td>\n",
       "      <td>4008</td>\n",
       "      <td>A</td>\n",
       "    </tr>\n",
       "  </tbody>\n",
       "</table>\n",
       "</div>"
      ],
      "text/plain": [
       "    transactionId   visitorId       date  revenue group\n",
       "0      3667963787  3312258926 2019-08-15     1650     B\n",
       "1      2804400009  3642806036 2019-08-15      730     B\n",
       "3      3797467345  1196621759 2019-08-15     9759     B\n",
       "4      2282983706  2322279887 2019-08-15     2308     B\n",
       "5       182168103   935554773 2019-08-15     2210     B\n",
       "6       398296753  2900797465 2019-08-15     1860     B\n",
       "7      2626614568    78758296 2019-08-15     1044     A\n",
       "8      1576988021   295230930 2019-08-15    13710     A\n",
       "9      1506739906  1882260405 2019-08-15     1855     B\n",
       "10     3649131742   879864040 2019-08-15     4008     A"
      ]
     },
     "execution_count": 23,
     "metadata": {},
     "output_type": "execute_result"
    }
   ],
   "source": [
    "orders = orders.groupby('visitorId').filter(lambda x: x['group'].nunique() == 1)\n",
    "orders.head(10)"
   ]
  },
  {
   "cell_type": "code",
   "execution_count": 24,
   "metadata": {},
   "outputs": [
    {
     "data": {
      "text/html": [
       "<div>\n",
       "<style scoped>\n",
       "    .dataframe tbody tr th:only-of-type {\n",
       "        vertical-align: middle;\n",
       "    }\n",
       "\n",
       "    .dataframe tbody tr th {\n",
       "        vertical-align: top;\n",
       "    }\n",
       "\n",
       "    .dataframe thead th {\n",
       "        text-align: right;\n",
       "    }\n",
       "</style>\n",
       "<table border=\"1\" class=\"dataframe\">\n",
       "  <thead>\n",
       "    <tr style=\"text-align: right;\">\n",
       "      <th></th>\n",
       "      <th>group</th>\n",
       "    </tr>\n",
       "    <tr>\n",
       "      <th>visitorId</th>\n",
       "      <th></th>\n",
       "    </tr>\n",
       "  </thead>\n",
       "  <tbody>\n",
       "  </tbody>\n",
       "</table>\n",
       "</div>"
      ],
      "text/plain": [
       "Empty DataFrame\n",
       "Columns: [group]\n",
       "Index: []"
      ]
     },
     "execution_count": 24,
     "metadata": {},
     "output_type": "execute_result"
    }
   ],
   "source": [
    "#проверим, остались ли неподходящие данные\n",
    "orders.groupby('visitorId').agg({'group': 'nunique'}).query('group > 1')"
   ]
  },
  {
   "cell_type": "markdown",
   "metadata": {},
   "source": [
    "Теперь пользователей, входящих одновременно в группу A и B нет в данных с заказами."
   ]
  },
  {
   "cell_type": "markdown",
   "metadata": {},
   "source": [
    "### Построим график кумулятивной выручки по группам"
   ]
  },
  {
   "cell_type": "code",
   "execution_count": 25,
   "metadata": {},
   "outputs": [
    {
     "data": {
      "text/html": [
       "<div>\n",
       "<style scoped>\n",
       "    .dataframe tbody tr th:only-of-type {\n",
       "        vertical-align: middle;\n",
       "    }\n",
       "\n",
       "    .dataframe tbody tr th {\n",
       "        vertical-align: top;\n",
       "    }\n",
       "\n",
       "    .dataframe thead th {\n",
       "        text-align: right;\n",
       "    }\n",
       "</style>\n",
       "<table border=\"1\" class=\"dataframe\">\n",
       "  <thead>\n",
       "    <tr style=\"text-align: right;\">\n",
       "      <th></th>\n",
       "      <th>date</th>\n",
       "      <th>group</th>\n",
       "    </tr>\n",
       "  </thead>\n",
       "  <tbody>\n",
       "    <tr>\n",
       "      <th>0</th>\n",
       "      <td>2019-08-15</td>\n",
       "      <td>B</td>\n",
       "    </tr>\n",
       "    <tr>\n",
       "      <th>7</th>\n",
       "      <td>2019-08-15</td>\n",
       "      <td>A</td>\n",
       "    </tr>\n",
       "    <tr>\n",
       "      <th>45</th>\n",
       "      <td>2019-08-16</td>\n",
       "      <td>A</td>\n",
       "    </tr>\n",
       "    <tr>\n",
       "      <th>47</th>\n",
       "      <td>2019-08-16</td>\n",
       "      <td>B</td>\n",
       "    </tr>\n",
       "    <tr>\n",
       "      <th>55</th>\n",
       "      <td>2019-08-01</td>\n",
       "      <td>A</td>\n",
       "    </tr>\n",
       "  </tbody>\n",
       "</table>\n",
       "</div>"
      ],
      "text/plain": [
       "         date group\n",
       "0  2019-08-15     B\n",
       "7  2019-08-15     A\n",
       "45 2019-08-16     A\n",
       "47 2019-08-16     B\n",
       "55 2019-08-01     A"
      ]
     },
     "execution_count": 25,
     "metadata": {},
     "output_type": "execute_result"
    }
   ],
   "source": [
    "# создаем массив уникальных пар значений дат и групп теста\n",
    "datesGroups = orders[['date','group']].drop_duplicates() \n",
    "datesGroups.head()"
   ]
  },
  {
   "cell_type": "code",
   "execution_count": 26,
   "metadata": {},
   "outputs": [],
   "source": [
    "# получаем агрегированные кумулятивные по дням данные о заказах\n",
    "ordersAggregated = datesGroups.apply(lambda x: orders[np.logical_and(orders['date'] <= x['date'], orders['group'] == x['group'])]\\\n",
    ".agg({'date' : 'max', 'group' : 'max', 'transactionId' : 'nunique', 'visitorId' : 'nunique', 'revenue' : 'sum'}), axis=1).sort_values(by=['date','group']) "
   ]
  },
  {
   "cell_type": "code",
   "execution_count": 27,
   "metadata": {},
   "outputs": [
    {
     "data": {
      "text/html": [
       "<div>\n",
       "<style scoped>\n",
       "    .dataframe tbody tr th:only-of-type {\n",
       "        vertical-align: middle;\n",
       "    }\n",
       "\n",
       "    .dataframe tbody tr th {\n",
       "        vertical-align: top;\n",
       "    }\n",
       "\n",
       "    .dataframe thead th {\n",
       "        text-align: right;\n",
       "    }\n",
       "</style>\n",
       "<table border=\"1\" class=\"dataframe\">\n",
       "  <thead>\n",
       "    <tr style=\"text-align: right;\">\n",
       "      <th></th>\n",
       "      <th>date</th>\n",
       "      <th>group</th>\n",
       "      <th>transactionId</th>\n",
       "      <th>visitorId</th>\n",
       "      <th>revenue</th>\n",
       "    </tr>\n",
       "  </thead>\n",
       "  <tbody>\n",
       "    <tr>\n",
       "      <th>55</th>\n",
       "      <td>2019-08-01</td>\n",
       "      <td>A</td>\n",
       "      <td>23</td>\n",
       "      <td>19</td>\n",
       "      <td>142779</td>\n",
       "    </tr>\n",
       "    <tr>\n",
       "      <th>66</th>\n",
       "      <td>2019-08-01</td>\n",
       "      <td>B</td>\n",
       "      <td>17</td>\n",
       "      <td>17</td>\n",
       "      <td>59758</td>\n",
       "    </tr>\n",
       "    <tr>\n",
       "      <th>175</th>\n",
       "      <td>2019-08-02</td>\n",
       "      <td>A</td>\n",
       "      <td>42</td>\n",
       "      <td>36</td>\n",
       "      <td>234381</td>\n",
       "    </tr>\n",
       "    <tr>\n",
       "      <th>173</th>\n",
       "      <td>2019-08-02</td>\n",
       "      <td>B</td>\n",
       "      <td>40</td>\n",
       "      <td>39</td>\n",
       "      <td>221801</td>\n",
       "    </tr>\n",
       "    <tr>\n",
       "      <th>291</th>\n",
       "      <td>2019-08-03</td>\n",
       "      <td>A</td>\n",
       "      <td>66</td>\n",
       "      <td>60</td>\n",
       "      <td>346854</td>\n",
       "    </tr>\n",
       "  </tbody>\n",
       "</table>\n",
       "</div>"
      ],
      "text/plain": [
       "          date group  transactionId  visitorId  revenue\n",
       "55  2019-08-01     A             23         19   142779\n",
       "66  2019-08-01     B             17         17    59758\n",
       "175 2019-08-02     A             42         36   234381\n",
       "173 2019-08-02     B             40         39   221801\n",
       "291 2019-08-03     A             66         60   346854"
      ]
     },
     "execution_count": 27,
     "metadata": {},
     "output_type": "execute_result"
    }
   ],
   "source": [
    "ordersAggregated.head()"
   ]
  },
  {
   "cell_type": "code",
   "execution_count": 28,
   "metadata": {},
   "outputs": [
    {
     "data": {
      "text/html": [
       "<div>\n",
       "<style scoped>\n",
       "    .dataframe tbody tr th:only-of-type {\n",
       "        vertical-align: middle;\n",
       "    }\n",
       "\n",
       "    .dataframe tbody tr th {\n",
       "        vertical-align: top;\n",
       "    }\n",
       "\n",
       "    .dataframe thead th {\n",
       "        text-align: right;\n",
       "    }\n",
       "</style>\n",
       "<table border=\"1\" class=\"dataframe\">\n",
       "  <thead>\n",
       "    <tr style=\"text-align: right;\">\n",
       "      <th></th>\n",
       "      <th>date</th>\n",
       "      <th>group</th>\n",
       "      <th>visitors</th>\n",
       "    </tr>\n",
       "  </thead>\n",
       "  <tbody>\n",
       "    <tr>\n",
       "      <th>55</th>\n",
       "      <td>2019-08-01</td>\n",
       "      <td>A</td>\n",
       "      <td>719</td>\n",
       "    </tr>\n",
       "    <tr>\n",
       "      <th>66</th>\n",
       "      <td>2019-08-01</td>\n",
       "      <td>B</td>\n",
       "      <td>713</td>\n",
       "    </tr>\n",
       "    <tr>\n",
       "      <th>175</th>\n",
       "      <td>2019-08-02</td>\n",
       "      <td>A</td>\n",
       "      <td>1338</td>\n",
       "    </tr>\n",
       "    <tr>\n",
       "      <th>173</th>\n",
       "      <td>2019-08-02</td>\n",
       "      <td>B</td>\n",
       "      <td>1294</td>\n",
       "    </tr>\n",
       "    <tr>\n",
       "      <th>291</th>\n",
       "      <td>2019-08-03</td>\n",
       "      <td>A</td>\n",
       "      <td>1845</td>\n",
       "    </tr>\n",
       "  </tbody>\n",
       "</table>\n",
       "</div>"
      ],
      "text/plain": [
       "          date group  visitors\n",
       "55  2019-08-01     A       719\n",
       "66  2019-08-01     B       713\n",
       "175 2019-08-02     A      1338\n",
       "173 2019-08-02     B      1294\n",
       "291 2019-08-03     A      1845"
      ]
     },
     "execution_count": 28,
     "metadata": {},
     "output_type": "execute_result"
    }
   ],
   "source": [
    "#получаем агрегированные кумулятивные по дням данные о посетителях интернет-магазина\n",
    "visitorsAggregated = datesGroups.apply(lambda x: visitors[np.logical_and(visitors['date'] <= x['date'], visitors['group'] == x['group'])].agg({'date' : 'max', 'group' : 'max', 'visitors' : 'sum'}), axis=1).sort_values(by=['date','group']) \n",
    "visitorsAggregated.head()"
   ]
  },
  {
   "cell_type": "code",
   "execution_count": 29,
   "metadata": {},
   "outputs": [
    {
     "data": {
      "text/html": [
       "<div>\n",
       "<style scoped>\n",
       "    .dataframe tbody tr th:only-of-type {\n",
       "        vertical-align: middle;\n",
       "    }\n",
       "\n",
       "    .dataframe tbody tr th {\n",
       "        vertical-align: top;\n",
       "    }\n",
       "\n",
       "    .dataframe thead th {\n",
       "        text-align: right;\n",
       "    }\n",
       "</style>\n",
       "<table border=\"1\" class=\"dataframe\">\n",
       "  <thead>\n",
       "    <tr style=\"text-align: right;\">\n",
       "      <th></th>\n",
       "      <th>date</th>\n",
       "      <th>group</th>\n",
       "      <th>orders</th>\n",
       "      <th>buyers</th>\n",
       "      <th>revenue</th>\n",
       "      <th>visitors</th>\n",
       "    </tr>\n",
       "  </thead>\n",
       "  <tbody>\n",
       "    <tr>\n",
       "      <th>0</th>\n",
       "      <td>2019-08-01</td>\n",
       "      <td>A</td>\n",
       "      <td>23</td>\n",
       "      <td>19</td>\n",
       "      <td>142779</td>\n",
       "      <td>719</td>\n",
       "    </tr>\n",
       "    <tr>\n",
       "      <th>1</th>\n",
       "      <td>2019-08-01</td>\n",
       "      <td>B</td>\n",
       "      <td>17</td>\n",
       "      <td>17</td>\n",
       "      <td>59758</td>\n",
       "      <td>713</td>\n",
       "    </tr>\n",
       "    <tr>\n",
       "      <th>2</th>\n",
       "      <td>2019-08-02</td>\n",
       "      <td>A</td>\n",
       "      <td>42</td>\n",
       "      <td>36</td>\n",
       "      <td>234381</td>\n",
       "      <td>1338</td>\n",
       "    </tr>\n",
       "    <tr>\n",
       "      <th>3</th>\n",
       "      <td>2019-08-02</td>\n",
       "      <td>B</td>\n",
       "      <td>40</td>\n",
       "      <td>39</td>\n",
       "      <td>221801</td>\n",
       "      <td>1294</td>\n",
       "    </tr>\n",
       "    <tr>\n",
       "      <th>4</th>\n",
       "      <td>2019-08-03</td>\n",
       "      <td>A</td>\n",
       "      <td>66</td>\n",
       "      <td>60</td>\n",
       "      <td>346854</td>\n",
       "      <td>1845</td>\n",
       "    </tr>\n",
       "  </tbody>\n",
       "</table>\n",
       "</div>"
      ],
      "text/plain": [
       "        date group  orders  buyers  revenue  visitors\n",
       "0 2019-08-01     A      23      19   142779       719\n",
       "1 2019-08-01     B      17      17    59758       713\n",
       "2 2019-08-02     A      42      36   234381      1338\n",
       "3 2019-08-02     B      40      39   221801      1294\n",
       "4 2019-08-03     A      66      60   346854      1845"
      ]
     },
     "execution_count": 29,
     "metadata": {},
     "output_type": "execute_result"
    }
   ],
   "source": [
    "# объединяем кумулятивные данные в одной таблице \n",
    "cummulativeData = ordersAggregated.merge(visitorsAggregated, left_on=['date', 'group'],\n",
    "right_on=['date', 'group'])\n",
    "cummulativeData.columns = ['date', 'group', 'orders', 'buyers', 'revenue', 'visitors']\n",
    "cummulativeData.head()"
   ]
  },
  {
   "cell_type": "code",
   "execution_count": 30,
   "metadata": {},
   "outputs": [
    {
     "data": {
      "text/html": [
       "<div>\n",
       "<style scoped>\n",
       "    .dataframe tbody tr th:only-of-type {\n",
       "        vertical-align: middle;\n",
       "    }\n",
       "\n",
       "    .dataframe tbody tr th {\n",
       "        vertical-align: top;\n",
       "    }\n",
       "\n",
       "    .dataframe thead th {\n",
       "        text-align: right;\n",
       "    }\n",
       "</style>\n",
       "<table border=\"1\" class=\"dataframe\">\n",
       "  <thead>\n",
       "    <tr style=\"text-align: right;\">\n",
       "      <th></th>\n",
       "      <th>date</th>\n",
       "      <th>revenue</th>\n",
       "      <th>orders</th>\n",
       "      <th>visitors</th>\n",
       "    </tr>\n",
       "  </thead>\n",
       "  <tbody>\n",
       "    <tr>\n",
       "      <th>0</th>\n",
       "      <td>2019-08-01</td>\n",
       "      <td>142779</td>\n",
       "      <td>23</td>\n",
       "      <td>719</td>\n",
       "    </tr>\n",
       "    <tr>\n",
       "      <th>2</th>\n",
       "      <td>2019-08-02</td>\n",
       "      <td>234381</td>\n",
       "      <td>42</td>\n",
       "      <td>1338</td>\n",
       "    </tr>\n",
       "    <tr>\n",
       "      <th>4</th>\n",
       "      <td>2019-08-03</td>\n",
       "      <td>346854</td>\n",
       "      <td>66</td>\n",
       "      <td>1845</td>\n",
       "    </tr>\n",
       "    <tr>\n",
       "      <th>6</th>\n",
       "      <td>2019-08-04</td>\n",
       "      <td>388030</td>\n",
       "      <td>77</td>\n",
       "      <td>2562</td>\n",
       "    </tr>\n",
       "    <tr>\n",
       "      <th>8</th>\n",
       "      <td>2019-08-05</td>\n",
       "      <td>474413</td>\n",
       "      <td>99</td>\n",
       "      <td>3318</td>\n",
       "    </tr>\n",
       "  </tbody>\n",
       "</table>\n",
       "</div>"
      ],
      "text/plain": [
       "        date  revenue  orders  visitors\n",
       "0 2019-08-01   142779      23       719\n",
       "2 2019-08-02   234381      42      1338\n",
       "4 2019-08-03   346854      66      1845\n",
       "6 2019-08-04   388030      77      2562\n",
       "8 2019-08-05   474413      99      3318"
      ]
     },
     "execution_count": 30,
     "metadata": {},
     "output_type": "execute_result"
    }
   ],
   "source": [
    "# датафрейм с кумулятивным количеством заказов, визитов и кумулятивной выручкой по дням в группе А\n",
    "cummulativeRevenueA = cummulativeData[cummulativeData['group']=='A'][['date','revenue', 'orders', 'visitors']]\n",
    "\n",
    "# датафрейм с кумулятивным количеством заказов, визитов и кумулятивной выручкой по дням в группе B\n",
    "cummulativeRevenueB = cummulativeData[cummulativeData['group']=='B'][['date','revenue', 'orders', 'visitors']]\n",
    "\n",
    "cummulativeRevenueA.head()"
   ]
  },
  {
   "cell_type": "code",
   "execution_count": 31,
   "metadata": {},
   "outputs": [
    {
     "data": {
      "image/png": "[encoded data removed]",
      "text/plain": [
       "<Figure size 720x432 with 1 Axes>"
      ]
     },
     "metadata": {
      "needs_background": "light"
     },
     "output_type": "display_data"
    }
   ],
   "source": [
    "# Строим график выручки группы А\n",
    "plt.figure(figsize=(10, 6))\n",
    "plt.plot(cummulativeRevenueA['date'], cummulativeRevenueA['revenue'], label='A')\n",
    "\n",
    "# Строим график выручки группы B\n",
    "plt.plot(cummulativeRevenueB['date'], cummulativeRevenueB['revenue'], label='B')\n",
    "plt.legend()\n",
    "\n",
    "plt.title('Кумулятивная выручка групп А и В')\n",
    "plt.xlabel('Дата')\n",
    "plt.ylabel('Выручка');"
   ]
  },
  {
   "cell_type": "markdown",
   "metadata": {},
   "source": [
    "Выручка группы B начала сильно превышать группу A после 17 августа. Мы видим, что произошел резкий скачок выручки в это время. Возможно, это связано со всплеском числа заказов, либо о появлении очень дорогих заказов в выборке. "
   ]
  },
  {
   "cell_type": "markdown",
   "metadata": {},
   "source": [
    "### Построим график кумулятивного среднего чека по группам."
   ]
  },
  {
   "cell_type": "code",
   "execution_count": 32,
   "metadata": {},
   "outputs": [
    {
     "data": {
      "image/png": "[encoded data removed]",
      "text/plain": [
       "<Figure size 720x432 with 1 Axes>"
      ]
     },
     "metadata": {
      "needs_background": "light"
     },
     "output_type": "display_data"
    }
   ],
   "source": [
    "#разделим кумулятивную выручку на кумулятивное число заказов\n",
    "plt.figure(figsize=(10, 6))\n",
    "plt.plot(cummulativeRevenueA['date'], cummulativeRevenueA['revenue']/cummulativeRevenueA['orders'], label='A')\n",
    "plt.plot(cummulativeRevenueB['date'], cummulativeRevenueB['revenue']/cummulativeRevenueB['orders'], label='B')\n",
    "plt.legend()\n",
    "\n",
    "plt.title('Кумулятивный средний чек групп А и В')\n",
    "plt.xlabel('Дата')\n",
    "plt.ylabel('Средний чек');"
   ]
  },
  {
   "cell_type": "markdown",
   "metadata": {},
   "source": [
    "Средний чек группы B также как и выручка начала сильно превышать группу A после 17 августа. Скорее всего, такой всплеск вызван увеличением именно выручки, а не количества продаж. В данных могут присутствовать выбросы."
   ]
  },
  {
   "cell_type": "markdown",
   "metadata": {},
   "source": [
    "### Построим график относительного изменения кумулятивного среднего чека группы B к группе A"
   ]
  },
  {
   "cell_type": "code",
   "execution_count": 33,
   "metadata": {},
   "outputs": [
    {
     "data": {
      "image/png": "[encoded data removed]",
      "text/plain": [
       "<Figure size 720x432 with 1 Axes>"
      ]
     },
     "metadata": {
      "needs_background": "light"
     },
     "output_type": "display_data"
    }
   ],
   "source": [
    "# собираем данные в одном датафрейме\n",
    "plt.figure(figsize=(10, 6))\n",
    "mergedCummulativeRevenue = cummulativeRevenueA.merge(cummulativeRevenueB, left_on='date',\n",
    "right_on='date', how='left', suffixes=['A', 'B'])\n",
    "\n",
    "# cтроим отношение средних чеков\n",
    "plt.plot(mergedCummulativeRevenue['date'], (mergedCummulativeRevenue['revenueB']/mergedCummulativeRevenue['ordersB'])/(mergedCummulativeRevenue['revenueA']/mergedCummulativeRevenue['ordersA'])-1)\n",
    "\n",
    "# добавляем ось X\n",
    "plt.axhline(y=0, color='black', linestyle='--')\n",
    "\n",
    "plt.title('Относительное изменение кумулятивного среднего чека группы B к группе A')\n",
    "plt.xlabel('Дата')\n",
    "plt.ylabel('Оношение среднего чека В и А');\n"
   ]
  },
  {
   "cell_type": "markdown",
   "metadata": {},
   "source": [
    "Относительные различия группы B и A сильно колеблются во свременем. Однако большую часть времени средний чек B больше A. Где-то есть крупные заказы и выбросы."
   ]
  },
  {
   "cell_type": "markdown",
   "metadata": {},
   "source": [
    "### Построим график кумулятивного среднего количества заказов на посетителя по группам (конверсия)."
   ]
  },
  {
   "cell_type": "code",
   "execution_count": 34,
   "metadata": {},
   "outputs": [
    {
     "data": {
      "text/html": [
       "<div>\n",
       "<style scoped>\n",
       "    .dataframe tbody tr th:only-of-type {\n",
       "        vertical-align: middle;\n",
       "    }\n",
       "\n",
       "    .dataframe tbody tr th {\n",
       "        vertical-align: top;\n",
       "    }\n",
       "\n",
       "    .dataframe thead th {\n",
       "        text-align: right;\n",
       "    }\n",
       "</style>\n",
       "<table border=\"1\" class=\"dataframe\">\n",
       "  <thead>\n",
       "    <tr style=\"text-align: right;\">\n",
       "      <th></th>\n",
       "      <th>date</th>\n",
       "      <th>group</th>\n",
       "      <th>orders</th>\n",
       "      <th>buyers</th>\n",
       "      <th>revenue</th>\n",
       "      <th>visitors</th>\n",
       "    </tr>\n",
       "  </thead>\n",
       "  <tbody>\n",
       "    <tr>\n",
       "      <th>0</th>\n",
       "      <td>2019-08-01</td>\n",
       "      <td>A</td>\n",
       "      <td>23</td>\n",
       "      <td>19</td>\n",
       "      <td>142779</td>\n",
       "      <td>719</td>\n",
       "    </tr>\n",
       "    <tr>\n",
       "      <th>1</th>\n",
       "      <td>2019-08-01</td>\n",
       "      <td>B</td>\n",
       "      <td>17</td>\n",
       "      <td>17</td>\n",
       "      <td>59758</td>\n",
       "      <td>713</td>\n",
       "    </tr>\n",
       "    <tr>\n",
       "      <th>2</th>\n",
       "      <td>2019-08-02</td>\n",
       "      <td>A</td>\n",
       "      <td>42</td>\n",
       "      <td>36</td>\n",
       "      <td>234381</td>\n",
       "      <td>1338</td>\n",
       "    </tr>\n",
       "    <tr>\n",
       "      <th>3</th>\n",
       "      <td>2019-08-02</td>\n",
       "      <td>B</td>\n",
       "      <td>40</td>\n",
       "      <td>39</td>\n",
       "      <td>221801</td>\n",
       "      <td>1294</td>\n",
       "    </tr>\n",
       "    <tr>\n",
       "      <th>4</th>\n",
       "      <td>2019-08-03</td>\n",
       "      <td>A</td>\n",
       "      <td>66</td>\n",
       "      <td>60</td>\n",
       "      <td>346854</td>\n",
       "      <td>1845</td>\n",
       "    </tr>\n",
       "  </tbody>\n",
       "</table>\n",
       "</div>"
      ],
      "text/plain": [
       "        date group  orders  buyers  revenue  visitors\n",
       "0 2019-08-01     A      23      19   142779       719\n",
       "1 2019-08-01     B      17      17    59758       713\n",
       "2 2019-08-02     A      42      36   234381      1338\n",
       "3 2019-08-02     B      40      39   221801      1294\n",
       "4 2019-08-03     A      66      60   346854      1845"
      ]
     },
     "execution_count": 34,
     "metadata": {},
     "output_type": "execute_result"
    }
   ],
   "source": [
    "cumulativeData = ordersAggregated.merge(\n",
    "    visitorsAggregated, left_on=['date', 'group'], right_on=['date', 'group']\n",
    ")\n",
    "cumulativeData.columns = [\n",
    "    'date',\n",
    "    'group',\n",
    "    'orders',\n",
    "    'buyers',\n",
    "    'revenue',\n",
    "    'visitors',\n",
    "]\n",
    "cumulativeData.head()"
   ]
  },
  {
   "cell_type": "code",
   "execution_count": 35,
   "metadata": {},
   "outputs": [],
   "source": [
    "#найдем конверсию\n",
    "cumulativeData['conversion'] = cumulativeData['orders']/cumulativeData['visitors']\n",
    "\n",
    "cumulativeDataA = cumulativeData[cumulativeData['group']=='A']\n",
    "cumulativeDataB = cumulativeData[cumulativeData['group']=='B']"
   ]
  },
  {
   "cell_type": "code",
   "execution_count": 36,
   "metadata": {},
   "outputs": [
    {
     "data": {
      "image/png": "[encoded data removed]",
      "text/plain": [
       "<Figure size 720x432 with 1 Axes>"
      ]
     },
     "metadata": {
      "needs_background": "light"
     },
     "output_type": "display_data"
    }
   ],
   "source": [
    "#разделим кумулятивное кол-во заказов на кумулятивное кол-во посетителей\n",
    "plt.figure(figsize=(10, 6))\n",
    "plt.plot(cumulativeDataA['date'], cumulativeDataA['conversion'], label='A')\n",
    "plt.plot(cumulativeDataB['date'], cumulativeDataB['conversion'], label='B')\n",
    "plt.legend()\n",
    "\n",
    "plt.title('Кумулятивная конверсия групп А и В')\n",
    "plt.xlabel('Дата')\n",
    "plt.ylabel('Конверсия');\n"
   ]
  },
  {
   "cell_type": "markdown",
   "metadata": {},
   "source": [
    "Среднее количество заказов на одного посетитея у группы B тоже больше, как и остальные рассмотренные метрики.  Это опережение произошло примерно на 2-3 день проведения теста и потом было относительно стабильно. Как и ожидалось, группа B начала опережать группу A по выручке не из-за аномально большого кол-ва клиентов, а из-за увеличения суммы этих заказов."
   ]
  },
  {
   "cell_type": "markdown",
   "metadata": {},
   "source": [
    "### Построим график относительного изменения кумулятивного среднего количества заказов на посетителя группы B к группе A."
   ]
  },
  {
   "cell_type": "code",
   "execution_count": 37,
   "metadata": {},
   "outputs": [],
   "source": [
    "mergedCumulativeConversions = cumulativeDataA[['date','conversion']].merge(cumulativeDataB[['date','conversion']], left_on='date', right_on='date', how='left', suffixes=['A', 'B'])"
   ]
  },
  {
   "cell_type": "code",
   "execution_count": 38,
   "metadata": {},
   "outputs": [
    {
     "data": {
      "image/png": "[encoded data removed]",
      "text/plain": [
       "<Figure size 720x432 with 1 Axes>"
      ]
     },
     "metadata": {
      "needs_background": "light"
     },
     "output_type": "display_data"
    }
   ],
   "source": [
    "plt.figure(figsize=(10, 6))\n",
    "plt.plot(mergedCumulativeConversions['date'], mergedCumulativeConversions['conversionB']/mergedCumulativeConversions['conversionA']-1, label=\"Относительный прирост конверсии группы B относительно группы A\")\n",
    "plt.legend()\n",
    "# добавляем ось X\n",
    "plt.axhline(y=0, color='black', linestyle='--')\n",
    "\n",
    "plt.title('Относительное изменение кумулятивной конверсии В к А')\n",
    "plt.xlabel('Дата')\n",
    "plt.ylabel('Конверсия В к А');\n"
   ]
  },
  {
   "cell_type": "markdown",
   "metadata": {},
   "source": [
    "Отношение среднего кол-ва заказов на одного посетителя сильно колебалось в начале,  возможны выбросы большого кол-ва заказов у группы А. Болюшую часть времени группа B лидировала по этому показателю. В последней трети эксперимента наблюдается стабилизация результатов"
   ]
  },
  {
   "cell_type": "markdown",
   "metadata": {},
   "source": [
    "### Построим точечный график количества заказов по пользователям"
   ]
  },
  {
   "cell_type": "code",
   "execution_count": 39,
   "metadata": {},
   "outputs": [
    {
     "data": {
      "text/html": [
       "<div>\n",
       "<style scoped>\n",
       "    .dataframe tbody tr th:only-of-type {\n",
       "        vertical-align: middle;\n",
       "    }\n",
       "\n",
       "    .dataframe tbody tr th {\n",
       "        vertical-align: top;\n",
       "    }\n",
       "\n",
       "    .dataframe thead th {\n",
       "        text-align: right;\n",
       "    }\n",
       "</style>\n",
       "<table border=\"1\" class=\"dataframe\">\n",
       "  <thead>\n",
       "    <tr style=\"text-align: right;\">\n",
       "      <th></th>\n",
       "      <th>transactionId</th>\n",
       "      <th>visitorId</th>\n",
       "      <th>date</th>\n",
       "      <th>revenue</th>\n",
       "      <th>group</th>\n",
       "    </tr>\n",
       "  </thead>\n",
       "  <tbody>\n",
       "    <tr>\n",
       "      <th>0</th>\n",
       "      <td>3667963787</td>\n",
       "      <td>3312258926</td>\n",
       "      <td>2019-08-15</td>\n",
       "      <td>1650</td>\n",
       "      <td>B</td>\n",
       "    </tr>\n",
       "    <tr>\n",
       "      <th>1</th>\n",
       "      <td>2804400009</td>\n",
       "      <td>3642806036</td>\n",
       "      <td>2019-08-15</td>\n",
       "      <td>730</td>\n",
       "      <td>B</td>\n",
       "    </tr>\n",
       "    <tr>\n",
       "      <th>3</th>\n",
       "      <td>3797467345</td>\n",
       "      <td>1196621759</td>\n",
       "      <td>2019-08-15</td>\n",
       "      <td>9759</td>\n",
       "      <td>B</td>\n",
       "    </tr>\n",
       "    <tr>\n",
       "      <th>4</th>\n",
       "      <td>2282983706</td>\n",
       "      <td>2322279887</td>\n",
       "      <td>2019-08-15</td>\n",
       "      <td>2308</td>\n",
       "      <td>B</td>\n",
       "    </tr>\n",
       "    <tr>\n",
       "      <th>5</th>\n",
       "      <td>182168103</td>\n",
       "      <td>935554773</td>\n",
       "      <td>2019-08-15</td>\n",
       "      <td>2210</td>\n",
       "      <td>B</td>\n",
       "    </tr>\n",
       "  </tbody>\n",
       "</table>\n",
       "</div>"
      ],
      "text/plain": [
       "   transactionId   visitorId       date  revenue group\n",
       "0     3667963787  3312258926 2019-08-15     1650     B\n",
       "1     2804400009  3642806036 2019-08-15      730     B\n",
       "3     3797467345  1196621759 2019-08-15     9759     B\n",
       "4     2282983706  2322279887 2019-08-15     2308     B\n",
       "5      182168103   935554773 2019-08-15     2210     B"
      ]
     },
     "execution_count": 39,
     "metadata": {},
     "output_type": "execute_result"
    }
   ],
   "source": [
    "orders.head()"
   ]
  },
  {
   "cell_type": "code",
   "execution_count": 40,
   "metadata": {},
   "outputs": [
    {
     "data": {
      "text/html": [
       "<div>\n",
       "<style scoped>\n",
       "    .dataframe tbody tr th:only-of-type {\n",
       "        vertical-align: middle;\n",
       "    }\n",
       "\n",
       "    .dataframe tbody tr th {\n",
       "        vertical-align: top;\n",
       "    }\n",
       "\n",
       "    .dataframe thead th {\n",
       "        text-align: right;\n",
       "    }\n",
       "</style>\n",
       "<table border=\"1\" class=\"dataframe\">\n",
       "  <thead>\n",
       "    <tr style=\"text-align: right;\">\n",
       "      <th></th>\n",
       "      <th>visitorId</th>\n",
       "      <th>orders</th>\n",
       "    </tr>\n",
       "  </thead>\n",
       "  <tbody>\n",
       "    <tr>\n",
       "      <th>0</th>\n",
       "      <td>5114589</td>\n",
       "      <td>1</td>\n",
       "    </tr>\n",
       "    <tr>\n",
       "      <th>1</th>\n",
       "      <td>6958315</td>\n",
       "      <td>1</td>\n",
       "    </tr>\n",
       "    <tr>\n",
       "      <th>2</th>\n",
       "      <td>11685486</td>\n",
       "      <td>1</td>\n",
       "    </tr>\n",
       "    <tr>\n",
       "      <th>3</th>\n",
       "      <td>39475350</td>\n",
       "      <td>1</td>\n",
       "    </tr>\n",
       "    <tr>\n",
       "      <th>4</th>\n",
       "      <td>47206413</td>\n",
       "      <td>1</td>\n",
       "    </tr>\n",
       "  </tbody>\n",
       "</table>\n",
       "</div>"
      ],
      "text/plain": [
       "   visitorId  orders\n",
       "0    5114589       1\n",
       "1    6958315       1\n",
       "2   11685486       1\n",
       "3   39475350       1\n",
       "4   47206413       1"
      ]
     },
     "execution_count": 40,
     "metadata": {},
     "output_type": "execute_result"
    }
   ],
   "source": [
    "orders_by_users = orders.groupby('visitorId', as_index=False).agg({'transactionId':'nunique'})\n",
    "orders_by_users.columns = ['visitorId', 'orders']\n",
    "orders_by_users.head()"
   ]
  },
  {
   "cell_type": "code",
   "execution_count": 41,
   "metadata": {},
   "outputs": [
    {
     "data": {
      "image/png": "[encoded data removed]",
      "text/plain": [
       "<Figure size 432x288 with 1 Axes>"
      ]
     },
     "metadata": {
      "needs_background": "light"
     },
     "output_type": "display_data"
    }
   ],
   "source": [
    "#построим гистограмму распределения количества заказов\n",
    "plt.hist(orders_by_users['orders'])\n",
    "\n",
    "plt.title('Распределене количества заказов')\n",
    "plt.xlabel('Кол-во заказов')\n",
    "plt.ylabel('Количество');"
   ]
  },
  {
   "cell_type": "markdown",
   "metadata": {},
   "source": [
    "Есть пользователи, которые сделали больше 10 заказов за все время А/В теста. Это похоже на выбросы."
   ]
  },
  {
   "cell_type": "code",
   "execution_count": 42,
   "metadata": {},
   "outputs": [
    {
     "data": {
      "image/png": "[encoded data removed]",
      "text/plain": [
       "<Figure size 432x288 with 1 Axes>"
      ]
     },
     "metadata": {
      "needs_background": "light"
     },
     "output_type": "display_data"
    }
   ],
   "source": [
    "#построим точечную диаграмму числа заказов на одного пользователя\n",
    "x_values = pd.Series(range(0,len(orders_by_users)))\n",
    "\n",
    "plt.scatter(x_values, orders_by_users['orders'])\n",
    "plt.title('Число заказов на одного пользователя')\n",
    "plt.xlabel('Количество')\n",
    "plt.ylabel('Заказы на пользователя');"
   ]
  },
  {
   "cell_type": "markdown",
   "metadata": {},
   "source": [
    "Много пользователей с 1-2 заками. Совсем немного тех, кто заказал больше 5."
   ]
  },
  {
   "cell_type": "markdown",
   "metadata": {},
   "source": [
    "### Посчитаем 95-й и 99-й перцентили количества заказов на пользователя."
   ]
  },
  {
   "cell_type": "code",
   "execution_count": 43,
   "metadata": {},
   "outputs": [
    {
     "name": "stdout",
     "output_type": "stream",
     "text": [
      "[1. 2.]\n"
     ]
    }
   ],
   "source": [
    "print(np.percentile(orders_by_users['orders'], [95, 99]))"
   ]
  },
  {
   "cell_type": "markdown",
   "metadata": {},
   "source": [
    "Всего 5% пользователей совершали более 1 заказа. И всего 1% - более 2 заказов. Можно принять 1% данных за выбросы и не использовать их. Установить верхнюю границу кол-ва заказов в 2 заказа."
   ]
  },
  {
   "cell_type": "markdown",
   "metadata": {},
   "source": [
    "### Построим точечный график стоимостей заказов"
   ]
  },
  {
   "cell_type": "code",
   "execution_count": 44,
   "metadata": {},
   "outputs": [
    {
     "data": {
      "text/plain": [
       "1294500"
      ]
     },
     "execution_count": 44,
     "metadata": {},
     "output_type": "execute_result"
    },
    {
     "data": {
      "image/png": "[encoded data removed]",
      "text/plain": [
       "<Figure size 432x288 with 1 Axes>"
      ]
     },
     "metadata": {
      "needs_background": "light"
     },
     "output_type": "display_data"
    }
   ],
   "source": [
    "plt.hist(orders['revenue'], bins=20)\n",
    "\n",
    "plt.title('Распределене стоимостей заказов')\n",
    "plt.xlabel('Стоимость')\n",
    "plt.ylabel('Количество');\n",
    "\n",
    "orders['revenue'].max()"
   ]
  },
  {
   "cell_type": "markdown",
   "metadata": {},
   "source": [
    "Есть аномально большие значения на гистограмме стомости заказов, их даже не видно на графике. В основном пользователи покупают на сумму не более 0.1 миллиона."
   ]
  },
  {
   "cell_type": "code",
   "execution_count": 45,
   "metadata": {},
   "outputs": [
    {
     "data": {
      "image/png": "[encoded data removed]",
      "text/plain": [
       "<Figure size 432x288 with 1 Axes>"
      ]
     },
     "metadata": {
      "needs_background": "light"
     },
     "output_type": "display_data"
    }
   ],
   "source": [
    "#построим точечную диаграмму стоимости заказов\n",
    "x_values = pd.Series(range(0,len(orders)))\n",
    "\n",
    "plt.scatter(x_values, orders['revenue'])\n",
    "\n",
    "plt.title('Распределене стоимостей заказов')\n",
    "plt.xlabel('Количество')\n",
    "plt.ylabel('Стоимость заказа');"
   ]
  },
  {
   "cell_type": "markdown",
   "metadata": {},
   "source": [
    "Есть всего пара очень больших заказов. Скорее всего, они и искажают графики с сравнение кумулятивных показателей двух групп теста."
   ]
  },
  {
   "cell_type": "markdown",
   "metadata": {},
   "source": [
    "### Посчитайте 95-й и 99-й перцентили стоимости заказов. "
   ]
  },
  {
   "cell_type": "code",
   "execution_count": 46,
   "metadata": {},
   "outputs": [
    {
     "name": "stdout",
     "output_type": "stream",
     "text": [
      "[26785. 53904.]\n"
     ]
    }
   ],
   "source": [
    "print(np.percentile(orders['revenue'], [95, 99]))"
   ]
  },
  {
   "cell_type": "markdown",
   "metadata": {},
   "source": [
    "Всего 5% заказов дороже 26700 и весго 1% дороже 53900. Можно выбрать верхней границей \"очищенных\" данных сумму заказа в 50000."
   ]
  },
  {
   "cell_type": "markdown",
   "metadata": {},
   "source": [
    "### Посчитаем статистическую значимость различий в среднем количестве заказов на посетителя между группами по «сырым» данным"
   ]
  },
  {
   "cell_type": "markdown",
   "metadata": {},
   "source": [
    "Нулевая гипотеза H0: различий в среднем количестве заказов на посетителя между группами нет. \\\n",
    "Альтернативная гипотеза H1: различия в среднем между группами есть."
   ]
  },
  {
   "cell_type": "code",
   "execution_count": 47,
   "metadata": {},
   "outputs": [
    {
     "data": {
      "text/html": [
       "<div>\n",
       "<style scoped>\n",
       "    .dataframe tbody tr th:only-of-type {\n",
       "        vertical-align: middle;\n",
       "    }\n",
       "\n",
       "    .dataframe tbody tr th {\n",
       "        vertical-align: top;\n",
       "    }\n",
       "\n",
       "    .dataframe thead th {\n",
       "        text-align: right;\n",
       "    }\n",
       "</style>\n",
       "<table border=\"1\" class=\"dataframe\">\n",
       "  <thead>\n",
       "    <tr style=\"text-align: right;\">\n",
       "      <th></th>\n",
       "      <th>date</th>\n",
       "      <th>ordersPerDateA</th>\n",
       "      <th>revenuePerDateA</th>\n",
       "      <th>ordersPerDateB</th>\n",
       "      <th>revenuePerDateB</th>\n",
       "      <th>ordersCummulativeA</th>\n",
       "      <th>revenueCummulativeA</th>\n",
       "      <th>ordersCummulativeB</th>\n",
       "      <th>revenueCummulativeB</th>\n",
       "      <th>visitorsPerDateA</th>\n",
       "      <th>visitorsPerDateB</th>\n",
       "      <th>visitorsCummulativeA</th>\n",
       "      <th>visitorsCummulativeB</th>\n",
       "    </tr>\n",
       "  </thead>\n",
       "  <tbody>\n",
       "    <tr>\n",
       "      <th>0</th>\n",
       "      <td>2019-08-01</td>\n",
       "      <td>23</td>\n",
       "      <td>142779</td>\n",
       "      <td>17</td>\n",
       "      <td>59758</td>\n",
       "      <td>23</td>\n",
       "      <td>142779</td>\n",
       "      <td>17</td>\n",
       "      <td>59758</td>\n",
       "      <td>719</td>\n",
       "      <td>713</td>\n",
       "      <td>719</td>\n",
       "      <td>713</td>\n",
       "    </tr>\n",
       "    <tr>\n",
       "      <th>1</th>\n",
       "      <td>2019-08-02</td>\n",
       "      <td>19</td>\n",
       "      <td>91602</td>\n",
       "      <td>23</td>\n",
       "      <td>162043</td>\n",
       "      <td>42</td>\n",
       "      <td>234381</td>\n",
       "      <td>40</td>\n",
       "      <td>221801</td>\n",
       "      <td>619</td>\n",
       "      <td>581</td>\n",
       "      <td>1338</td>\n",
       "      <td>1294</td>\n",
       "    </tr>\n",
       "    <tr>\n",
       "      <th>2</th>\n",
       "      <td>2019-08-03</td>\n",
       "      <td>24</td>\n",
       "      <td>112473</td>\n",
       "      <td>14</td>\n",
       "      <td>67049</td>\n",
       "      <td>66</td>\n",
       "      <td>346854</td>\n",
       "      <td>54</td>\n",
       "      <td>288850</td>\n",
       "      <td>507</td>\n",
       "      <td>509</td>\n",
       "      <td>1845</td>\n",
       "      <td>1803</td>\n",
       "    </tr>\n",
       "    <tr>\n",
       "      <th>3</th>\n",
       "      <td>2019-08-04</td>\n",
       "      <td>11</td>\n",
       "      <td>41176</td>\n",
       "      <td>14</td>\n",
       "      <td>96890</td>\n",
       "      <td>77</td>\n",
       "      <td>388030</td>\n",
       "      <td>68</td>\n",
       "      <td>385740</td>\n",
       "      <td>717</td>\n",
       "      <td>770</td>\n",
       "      <td>2562</td>\n",
       "      <td>2573</td>\n",
       "    </tr>\n",
       "    <tr>\n",
       "      <th>4</th>\n",
       "      <td>2019-08-05</td>\n",
       "      <td>22</td>\n",
       "      <td>86383</td>\n",
       "      <td>21</td>\n",
       "      <td>89908</td>\n",
       "      <td>99</td>\n",
       "      <td>474413</td>\n",
       "      <td>89</td>\n",
       "      <td>475648</td>\n",
       "      <td>756</td>\n",
       "      <td>707</td>\n",
       "      <td>3318</td>\n",
       "      <td>3280</td>\n",
       "    </tr>\n",
       "  </tbody>\n",
       "</table>\n",
       "</div>"
      ],
      "text/plain": [
       "        date  ordersPerDateA  revenuePerDateA  ordersPerDateB  \\\n",
       "0 2019-08-01              23           142779              17   \n",
       "1 2019-08-02              19            91602              23   \n",
       "2 2019-08-03              24           112473              14   \n",
       "3 2019-08-04              11            41176              14   \n",
       "4 2019-08-05              22            86383              21   \n",
       "\n",
       "   revenuePerDateB  ordersCummulativeA  revenueCummulativeA  \\\n",
       "0            59758                  23               142779   \n",
       "1           162043                  42               234381   \n",
       "2            67049                  66               346854   \n",
       "3            96890                  77               388030   \n",
       "4            89908                  99               474413   \n",
       "\n",
       "   ordersCummulativeB  revenueCummulativeB  visitorsPerDateA  \\\n",
       "0                  17                59758               719   \n",
       "1                  40               221801               619   \n",
       "2                  54               288850               507   \n",
       "3                  68               385740               717   \n",
       "4                  89               475648               756   \n",
       "\n",
       "   visitorsPerDateB  visitorsCummulativeA  visitorsCummulativeB  \n",
       "0               713                   719                   713  \n",
       "1               581                  1338                  1294  \n",
       "2               509                  1845                  1803  \n",
       "3               770                  2562                  2573  \n",
       "4               707                  3318                  3280  "
      ]
     },
     "metadata": {},
     "output_type": "display_data"
    }
   ],
   "source": [
    "#подготовим данные\n",
    "visitorsADaily = visitors[visitors['group'] == 'A'][['date', 'visitors']]\n",
    "visitorsADaily.columns = ['date', 'visitorsPerDateA']\n",
    "\n",
    "visitorsACummulative = visitorsADaily.apply(\n",
    "    lambda x: visitorsADaily[visitorsADaily['date'] <= x['date']].agg(\n",
    "        {'date': 'max', 'visitorsPerDateA': 'sum'}\n",
    "    ),\n",
    "    axis=1,\n",
    ")\n",
    "visitorsACummulative.columns = ['date', 'visitorsCummulativeA']\n",
    "\n",
    "visitorsBDaily = visitors[visitors['group'] == 'B'][['date', 'visitors']]\n",
    "visitorsBDaily.columns = ['date', 'visitorsPerDateB']\n",
    "\n",
    "visitorsBCummulative = visitorsBDaily.apply(\n",
    "    lambda x: visitorsBDaily[visitorsBDaily['date'] <= x['date']].agg(\n",
    "        {'date': 'max', 'visitorsPerDateB': 'sum'}\n",
    "    ),\n",
    "    axis=1,\n",
    ")\n",
    "visitorsBCummulative.columns = ['date', 'visitorsCummulativeB']\n",
    "\n",
    "ordersADaily = (\n",
    "    orders[orders['group'] == 'A'][['date', 'transactionId', 'visitorId', 'revenue']]\n",
    "    .groupby('date', as_index=False)\n",
    "    .agg({'transactionId': pd.Series.nunique, 'revenue': 'sum'})\n",
    ")\n",
    "ordersADaily.columns = ['date', 'ordersPerDateA', 'revenuePerDateA']\n",
    "\n",
    "ordersACummulative = ordersADaily.apply(\n",
    "    lambda x: ordersADaily[ordersADaily['date'] <= x['date']].agg(\n",
    "        {'date': 'max', 'ordersPerDateA': 'sum', 'revenuePerDateA': 'sum'}\n",
    "    ),\n",
    "    axis=1,\n",
    ").sort_values(by=['date'])\n",
    "ordersACummulative.columns = [\n",
    "    'date',\n",
    "    'ordersCummulativeA',\n",
    "    'revenueCummulativeA',\n",
    "]\n",
    "\n",
    "ordersBDaily = (\n",
    "    orders[orders['group'] == 'B'][['date', 'transactionId', 'visitorId', 'revenue']]\n",
    "    .groupby('date', as_index=False)\n",
    "    .agg({'transactionId': pd.Series.nunique, 'revenue': 'sum'})\n",
    ")\n",
    "ordersBDaily.columns = ['date', 'ordersPerDateB', 'revenuePerDateB']\n",
    "\n",
    "ordersBCummulative = ordersBDaily.apply(\n",
    "    lambda x: ordersBDaily[ordersBDaily['date'] <= x['date']].agg(\n",
    "        {'date': 'max', 'ordersPerDateB': 'sum', 'revenuePerDateB': 'sum'}\n",
    "    ),\n",
    "    axis=1,\n",
    ").sort_values(by=['date'])\n",
    "ordersBCummulative.columns = [\n",
    "    'date',\n",
    "    'ordersCummulativeB',\n",
    "    'revenueCummulativeB',\n",
    "]\n",
    "\n",
    "data = (\n",
    "    ordersADaily.merge(\n",
    "        ordersBDaily, left_on='date', right_on='date', how='left'\n",
    "    )\n",
    "    .merge(ordersACummulative, left_on='date', right_on='date', how='left')\n",
    "    .merge(ordersBCummulative, left_on='date', right_on='date', how='left')\n",
    "    .merge(visitorsADaily, left_on='date', right_on='date', how='left')\n",
    "    .merge(visitorsBDaily, left_on='date', right_on='date', how='left')\n",
    "    .merge(visitorsACummulative, left_on='date', right_on='date', how='left')\n",
    "    .merge(visitorsBCummulative, left_on='date', right_on='date', how='left')\n",
    ")\n",
    "\n",
    "display(data.head(5)) "
   ]
  },
  {
   "cell_type": "code",
   "execution_count": 48,
   "metadata": {},
   "outputs": [],
   "source": [
    "ordersByUsersA = (\n",
    "    orders[orders['group'] == 'A']\n",
    "    .groupby('visitorId', as_index=False)\n",
    "    .agg({'transactionId': pd.Series.nunique})\n",
    ")\n",
    "ordersByUsersA.columns = ['userId', 'orders']\n",
    "\n",
    "ordersByUsersB = (\n",
    "    orders[orders['group'] == 'B']\n",
    "    .groupby('visitorId', as_index=False)\n",
    "    .agg({'transactionId': pd.Series.nunique})\n",
    ")\n",
    "ordersByUsersB.columns = ['userId', 'orders']\n"
   ]
  },
  {
   "cell_type": "code",
   "execution_count": 49,
   "metadata": {},
   "outputs": [],
   "source": [
    "sampleA = pd.concat([ordersByUsersA['orders'],pd.Series(0, index=np.arange(data['visitorsPerDateA'].sum() - len(ordersByUsersA['orders'])), name='orders')],axis=0)\n",
    "\n",
    "sampleB = pd.concat([ordersByUsersB['orders'],pd.Series(0, index=np.arange(data['visitorsPerDateB'].sum() - len(ordersByUsersB['orders'])), name='orders')],axis=0) "
   ]
  },
  {
   "cell_type": "code",
   "execution_count": 50,
   "metadata": {},
   "outputs": [
    {
     "name": "stdout",
     "output_type": "stream",
     "text": [
      "p-value: 0.011\n",
      "относительный прирост среднего числа заказов группы B: 0.160\n",
      "Н0 отвергается: различия в среднем количестве заказов на посетителя между группами есть\n"
     ]
    }
   ],
   "source": [
    "a = 0.05\n",
    "print('p-value:', \"{0:.3f}\".format(stats.mannwhitneyu(sampleA, sampleB)[1]))\n",
    "print('относительный прирост среднего числа заказов группы B:', \"{0:.3f}\".format(sampleB.mean() / sampleA.mean() - 1))\n",
    "\n",
    "if stats.mannwhitneyu(sampleA, sampleB)[1] < a:\n",
    "    print('Н0 отвергается: различия в среднем количестве заказов на посетителя между группами есть')\n",
    "else:\n",
    "    print('Н0 не отвергается: различий в среднем количестве заказов на посетителя между группами нет')"
   ]
  },
  {
   "cell_type": "markdown",
   "metadata": {},
   "source": [
    "Разница между двумя группами по среднему количеству заказов на посетителя статистически значима (конверсия). Группа В больше группы А на 16%. По «сырым» данным различия в есть."
   ]
  },
  {
   "cell_type": "markdown",
   "metadata": {},
   "source": [
    "### Посчитаем статистическую значимость различий в среднем чеке заказа между группами по «сырым» данным"
   ]
  },
  {
   "cell_type": "markdown",
   "metadata": {},
   "source": [
    "Нулевая гипотеза H0: различий в среднем чеке между группами нет. \\\n",
    "Альтернативная гипотеза H1: различия в среднем чеке между группами есть."
   ]
  },
  {
   "cell_type": "code",
   "execution_count": 51,
   "metadata": {},
   "outputs": [
    {
     "name": "stdout",
     "output_type": "stream",
     "text": [
      "p-value: 0.829\n",
      "относительные различия в среднем чеке между группами 0.287\n",
      "Н0 не отвергается: различий в среднем чеке между группами нет\n"
     ]
    }
   ],
   "source": [
    "print('p-value:', '{0:.3f}'.format(stats.mannwhitneyu(orders[orders['group']=='A']['revenue'], orders[orders['group']=='B']['revenue'])[1]))\n",
    "print('относительные различия в среднем чеке между группами', '{0:.3f}'.format(orders[orders['group']=='B']['revenue'].mean()/orders[orders['group']=='A']['revenue'].mean()-1)) \n",
    "\n",
    "if stats.mannwhitneyu(orders[orders['group']=='A']['revenue'], orders[orders['group']=='B']['revenue'])[1] < a:\n",
    "    print('Н0 отвергается: различия в среднем чеке между группами есть')\n",
    "else:\n",
    "    print('Н0 не отвергается: различий в среднем чеке между группами нет')"
   ]
  },
  {
   "cell_type": "markdown",
   "metadata": {},
   "source": [
    "Разница в среднем чеке между двумя группами статистически не значима. Наблюдаемое различие мнжду группой B и A (B больше на 28.7%) не является стататистически значимым."
   ]
  },
  {
   "cell_type": "markdown",
   "metadata": {},
   "source": [
    "### Посчитаем статистическую значимость различий в среднем количестве заказов на посетителя между группами по «очищенным» данным"
   ]
  },
  {
   "cell_type": "markdown",
   "metadata": {},
   "source": [
    "95-й и 99-й перцентили количества заказов на одного пользователя равны 2 и 4 заказа на пользователя. Мы установили верхнюю границу кол-ва заказов в 3 заказа. 95-й и 99-й перцентили среднего чека - 28000 и  58233. Верхняя граница была принята в 50000. \\\n",
    "Объединим эти данные в таблице abnormal_users. Узнаем, сколько всего аномальных пользователей методом shape()."
   ]
  },
  {
   "cell_type": "code",
   "execution_count": 52,
   "metadata": {},
   "outputs": [
    {
     "name": "stdout",
     "output_type": "stream",
     "text": [
      "15\n"
     ]
    }
   ],
   "source": [
    "usersWithManyOrders = pd.concat(\n",
    "    [\n",
    "        ordersByUsersA[ordersByUsersA['orders'] > 3]['userId'],\n",
    "        ordersByUsersB[ordersByUsersB['orders'] > 3]['userId'],\n",
    "    ],\n",
    "    axis=0,\n",
    ")\n",
    "\n",
    "\n",
    "usersWithExpensiveOrders = orders[orders['revenue'] > 50000]['visitorId']\n",
    "abnormalUsers = (\n",
    "    pd.concat([usersWithManyOrders, usersWithExpensiveOrders], axis=0)\n",
    "    .drop_duplicates()\n",
    "    .sort_values()\n",
    ")\n",
    "\n",
    "abnormalUsers = (\n",
    "    pd.concat([usersWithManyOrders, usersWithExpensiveOrders], axis=0)\n",
    "    .drop_duplicates()\n",
    "    .sort_values()\n",
    ")\n",
    "\n",
    "print(abnormalUsers.shape[0]) "
   ]
  },
  {
   "cell_type": "markdown",
   "metadata": {},
   "source": [
    "Всего 15 \"аномальных пользователей\""
   ]
  },
  {
   "cell_type": "code",
   "execution_count": 53,
   "metadata": {},
   "outputs": [],
   "source": [
    "#подготовим очищенные данные\n",
    "sampleAFiltered = pd.concat(\n",
    "    [\n",
    "        ordersByUsersA[\n",
    "            np.logical_not(ordersByUsersA['userId'].isin(abnormalUsers))\n",
    "        ]['orders'],\n",
    "        pd.Series(\n",
    "            0,\n",
    "            index=np.arange(\n",
    "                data['visitorsPerDateA'].sum() - len(ordersByUsersA['orders'])\n",
    "            ),\n",
    "            name='orders',\n",
    "        ),\n",
    "    ],\n",
    "    axis=0,\n",
    ")\n",
    "\n",
    "sampleBFiltered = pd.concat(\n",
    "    [\n",
    "        ordersByUsersB[\n",
    "            np.logical_not(ordersByUsersB['userId'].isin(abnormalUsers))\n",
    "        ]['orders'],\n",
    "        pd.Series(\n",
    "            0,\n",
    "            index=np.arange(\n",
    "                data['visitorsPerDateB'].sum() - len(ordersByUsersB['orders'])\n",
    "            ),\n",
    "            name='orders',\n",
    "        ),\n",
    "    ],\n",
    "    axis=0,\n",
    ") "
   ]
  },
  {
   "cell_type": "markdown",
   "metadata": {},
   "source": [
    "Нулевая гипотеза H0: различий в среднем количестве заказов на посетителя между группами нет.\\\n",
    "Альтернативная гипотеза H1: различия в среднем кол-ве заказов между группами есть."
   ]
  },
  {
   "cell_type": "code",
   "execution_count": 54,
   "metadata": {},
   "outputs": [
    {
     "name": "stdout",
     "output_type": "stream",
     "text": [
      "p-value: 0.008\n",
      "0.172\n"
     ]
    }
   ],
   "source": [
    "print('p-value:', '{0:.3f}'.format(stats.mannwhitneyu(sampleAFiltered, sampleBFiltered)[1]))\n",
    "print('{0:.3f}'.format(sampleBFiltered.mean()/sampleAFiltered.mean()-1)) "
   ]
  },
  {
   "cell_type": "markdown",
   "metadata": {},
   "source": [
    "P-value стал немного меньше (0.011 < 0.008), однако на результаты теста это не повлияло. Нулевая гипотеза всё также не принимается и кол-во заказов у двух групп на пользователя имеют статистически значимые развличия. Прирост у группы В в сравнении сгруппой А - 17.2%. (от \"сырых\" данных отличается всего на 2%) и это статистически значимые различия."
   ]
  },
  {
   "cell_type": "markdown",
   "metadata": {},
   "source": [
    "### Посчитаем статистическую значимость различий в среднем чеке заказа между группами по «очищенным» данным"
   ]
  },
  {
   "cell_type": "markdown",
   "metadata": {},
   "source": [
    "Нулевая гипотеза H0: различий в среднем чеке между группами нет.\\\n",
    "Альтернативная гипотеза H1: различия в среднем чеке между группами есть."
   ]
  },
  {
   "cell_type": "code",
   "execution_count": 55,
   "metadata": {},
   "outputs": [
    {
     "name": "stdout",
     "output_type": "stream",
     "text": [
      "p-value: 0.950\n",
      "0.009\n"
     ]
    }
   ],
   "source": [
    "print('p-value:',\n",
    "    '{0:.3f}'.format(\n",
    "        stats.mannwhitneyu(\n",
    "            orders[\n",
    "                np.logical_and(\n",
    "                    orders['group'] == 'A',\n",
    "                    np.logical_not(orders['visitorId'].isin(abnormalUsers)),\n",
    "                )\n",
    "            ]['revenue'],\n",
    "            orders[\n",
    "                np.logical_and(\n",
    "                    orders['group'] == 'B',\n",
    "                    np.logical_not(orders['visitorId'].isin(abnormalUsers)),\n",
    "                )\n",
    "            ]['revenue'],\n",
    "        )[1]\n",
    "    )\n",
    ")\n",
    "\n",
    "print(\n",
    "    \"{0:.3f}\".format(\n",
    "        orders[\n",
    "            np.logical_and(\n",
    "                orders['group'] == 'B',\n",
    "                np.logical_not(orders['visitorId'].isin(abnormalUsers)),\n",
    "            )\n",
    "        ]['revenue'].mean()\n",
    "        / orders[\n",
    "            np.logical_and(\n",
    "                orders['group'] == 'A',\n",
    "                np.logical_not(orders['visitorId'].isin(abnormalUsers)),\n",
    "            )\n",
    "        ]['revenue'].mean()\n",
    "        - 1\n",
    "    )\n",
    ") "
   ]
  },
  {
   "cell_type": "markdown",
   "metadata": {},
   "source": [
    "Различия в 0.9% между группа А и В статистически незначимы. P-value увеличился (0.829 < 0.95), однако разница в среднем чеке между двумя группами все равно статистически не значима, так как 0.950 > 0.05. Теперь группа B больше группы А всего на 0.9% (а было различие в 28%). По «сырым» данным различий нет."
   ]
  },
  {
   "cell_type": "markdown",
   "metadata": {},
   "source": [
    "### Вывод об А/В тесте"
   ]
  },
  {
   "cell_type": "markdown",
   "metadata": {},
   "source": [
    "Был проведен анализ А/Б-тестов и сделаны выводы. При этом рассматривались данные как с выбросами, так и без них. Средний чек был принят за выброс, если значение превышало 50000, а кол-во заказов на пользователя - 4 заказа. Были замечено, что:"
   ]
  },
  {
   "cell_type": "markdown",
   "metadata": {},
   "source": [
    "- Есть статистически значимое различие в конверсии между двумя группами как по «сырым», так и по \"очищенным\" данным. Конверсия группы В выше, чем в А, на 16-17%; \n",
    "- При этом график кумулятивного среднего количества заказов на посетителя по группам показывает, что результаты у группы В стабильно лучше, чем у группы А. Однако в начале теста было наоборот. По всей видмости, именно произведенные изменения так повлияли на конверсию.\n",
    "- Нет статистически значимых различий в среднем чеке двух групп как по «сырым», так и по \"очищенным\" данным. При этом средний чек группы В выше на 28% по неочищенным данным и всего на 0.9% по 'очищенным'.\n",
    "- График кумулятивной выручки у группы В также стабильно выше, группы А.\n",
    "- По графику относительного изменения кумулятивного среднего чека видно, что этот показатель колеблется и выигрывает как группа В, так и группа А.\n",
    "- По графику относительного изменения кумулятивной конверсии видно, что этот показатель стабильно выше у группы В.\n",
    "\n"
   ]
  },
  {
   "cell_type": "markdown",
   "metadata": {},
   "source": [
    "На основе имеющихся данных, А/B тест можно остановить и зафиксировать победу группы B, так как она имеет бОльшую конверсию, а также стабильно бОльшую выручку. А/В-тест стоит считать успешным для бизнеса. Если для бизнеса важен именно средний чек, а не выручка, то вывод об А/В-тесте стоит принять исходя из дальнейшего исследования (т. е. не останавливать тест)."
   ]
  }
 ],
 "metadata": {
  "ExecuteTimeLog": [
   {
    "duration": 384,
    "start_time": "2023-10-31T09:59:58.743Z"
   },
   {
    "duration": 64,
    "start_time": "2023-10-31T10:00:57.869Z"
   },
   {
    "duration": 14,
    "start_time": "2023-10-31T10:01:06.163Z"
   },
   {
    "duration": 13,
    "start_time": "2023-10-31T10:08:51.806Z"
   },
   {
    "duration": 7,
    "start_time": "2023-10-31T10:09:02.928Z"
   },
   {
    "duration": 82,
    "start_time": "2023-10-31T10:09:57.758Z"
   },
   {
    "duration": 8,
    "start_time": "2023-10-31T10:10:08.255Z"
   },
   {
    "duration": 8,
    "start_time": "2023-10-31T10:10:20.005Z"
   },
   {
    "duration": 4,
    "start_time": "2023-10-31T10:10:40.504Z"
   },
   {
    "duration": 8,
    "start_time": "2023-10-31T10:10:52.634Z"
   },
   {
    "duration": 3,
    "start_time": "2023-10-31T10:11:19.587Z"
   },
   {
    "duration": 4,
    "start_time": "2023-10-31T10:11:35.911Z"
   },
   {
    "duration": 3,
    "start_time": "2023-10-31T10:11:58.861Z"
   },
   {
    "duration": 4,
    "start_time": "2023-10-31T10:12:08.148Z"
   },
   {
    "duration": 9,
    "start_time": "2023-10-31T10:12:29.999Z"
   },
   {
    "duration": 9,
    "start_time": "2023-10-31T10:12:43.202Z"
   },
   {
    "duration": 5,
    "start_time": "2023-10-31T10:15:28.412Z"
   },
   {
    "duration": 9,
    "start_time": "2023-10-31T10:17:21.560Z"
   },
   {
    "duration": 3,
    "start_time": "2023-10-31T10:17:33.468Z"
   },
   {
    "duration": 8,
    "start_time": "2023-10-31T10:17:44.182Z"
   },
   {
    "duration": 456,
    "start_time": "2023-10-31T10:19:45.986Z"
   },
   {
    "duration": 30,
    "start_time": "2023-10-31T10:19:46.444Z"
   },
   {
    "duration": 4,
    "start_time": "2023-10-31T10:19:46.475Z"
   },
   {
    "duration": 15,
    "start_time": "2023-10-31T10:19:46.480Z"
   },
   {
    "duration": 20,
    "start_time": "2023-10-31T10:19:46.497Z"
   },
   {
    "duration": 4,
    "start_time": "2023-10-31T10:19:46.519Z"
   },
   {
    "duration": 7,
    "start_time": "2023-10-31T10:19:46.525Z"
   },
   {
    "duration": 14,
    "start_time": "2023-10-31T10:19:46.533Z"
   },
   {
    "duration": 3,
    "start_time": "2023-10-31T10:23:01.053Z"
   },
   {
    "duration": 9,
    "start_time": "2023-10-31T10:23:04.454Z"
   },
   {
    "duration": 11,
    "start_time": "2023-10-31T10:23:07.640Z"
   },
   {
    "duration": 5,
    "start_time": "2023-10-31T10:23:10.295Z"
   },
   {
    "duration": 6,
    "start_time": "2023-10-31T10:29:55.908Z"
   },
   {
    "duration": 12,
    "start_time": "2023-10-31T10:30:07.276Z"
   },
   {
    "duration": 102,
    "start_time": "2023-10-31T10:51:42.243Z"
   },
   {
    "duration": 97,
    "start_time": "2023-10-31T10:51:44.557Z"
   },
   {
    "duration": 82,
    "start_time": "2023-10-31T10:52:04.301Z"
   },
   {
    "duration": 104,
    "start_time": "2023-10-31T10:52:08.101Z"
   },
   {
    "duration": 8,
    "start_time": "2023-10-31T10:52:14.718Z"
   },
   {
    "duration": 10,
    "start_time": "2023-10-31T10:52:58.369Z"
   },
   {
    "duration": 17,
    "start_time": "2023-10-31T10:53:07.275Z"
   },
   {
    "duration": 5,
    "start_time": "2023-10-31T10:53:11.233Z"
   },
   {
    "duration": 14,
    "start_time": "2023-10-31T10:53:57.545Z"
   },
   {
    "duration": 4,
    "start_time": "2023-10-31T10:54:05.473Z"
   },
   {
    "duration": 8,
    "start_time": "2023-10-31T10:57:10.242Z"
   },
   {
    "duration": 14,
    "start_time": "2023-10-31T10:57:17.305Z"
   },
   {
    "duration": 5,
    "start_time": "2023-10-31T10:57:29.066Z"
   },
   {
    "duration": 4,
    "start_time": "2023-10-31T10:57:43.717Z"
   },
   {
    "duration": 77,
    "start_time": "2023-10-31T10:57:57.648Z"
   },
   {
    "duration": 3,
    "start_time": "2023-10-31T11:08:06.918Z"
   },
   {
    "duration": 26,
    "start_time": "2023-10-31T11:08:29.838Z"
   },
   {
    "duration": 10,
    "start_time": "2023-10-31T11:08:53.966Z"
   },
   {
    "duration": 7,
    "start_time": "2023-10-31T11:09:00.572Z"
   },
   {
    "duration": 5,
    "start_time": "2023-10-31T11:10:11.665Z"
   },
   {
    "duration": 11,
    "start_time": "2023-10-31T11:10:20.926Z"
   },
   {
    "duration": 5,
    "start_time": "2023-10-31T11:10:48.037Z"
   },
   {
    "duration": 6,
    "start_time": "2023-10-31T11:12:17.256Z"
   },
   {
    "duration": 13,
    "start_time": "2023-10-31T11:12:20.756Z"
   },
   {
    "duration": 11,
    "start_time": "2023-10-31T11:12:25.837Z"
   },
   {
    "duration": 19,
    "start_time": "2023-10-31T11:14:43.723Z"
   },
   {
    "duration": 3,
    "start_time": "2023-10-31T11:15:00.074Z"
   },
   {
    "duration": 21,
    "start_time": "2023-10-31T11:15:04.339Z"
   },
   {
    "duration": 167,
    "start_time": "2023-10-31T11:15:50.184Z"
   },
   {
    "duration": 8,
    "start_time": "2023-10-31T11:15:57.658Z"
   },
   {
    "duration": 896,
    "start_time": "2023-10-31T11:16:51.923Z"
   },
   {
    "duration": 161,
    "start_time": "2023-10-31T11:16:55.097Z"
   },
   {
    "duration": 156,
    "start_time": "2023-10-31T11:17:23.831Z"
   },
   {
    "duration": 8,
    "start_time": "2023-10-31T11:17:26.274Z"
   },
   {
    "duration": 4,
    "start_time": "2023-10-31T11:45:40.240Z"
   },
   {
    "duration": 398,
    "start_time": "2023-10-31T11:45:47.418Z"
   },
   {
    "duration": 2,
    "start_time": "2023-10-31T11:45:47.818Z"
   },
   {
    "duration": 51,
    "start_time": "2023-10-31T11:45:47.821Z"
   },
   {
    "duration": 13,
    "start_time": "2023-10-31T11:45:47.874Z"
   },
   {
    "duration": 41,
    "start_time": "2023-10-31T11:45:47.888Z"
   },
   {
    "duration": 16,
    "start_time": "2023-10-31T11:45:47.930Z"
   },
   {
    "duration": 30,
    "start_time": "2023-10-31T11:45:47.948Z"
   },
   {
    "duration": 18,
    "start_time": "2023-10-31T11:45:47.979Z"
   },
   {
    "duration": 34,
    "start_time": "2023-10-31T11:45:47.999Z"
   },
   {
    "duration": 63,
    "start_time": "2023-10-31T11:45:48.035Z"
   },
   {
    "duration": 10,
    "start_time": "2023-10-31T11:45:48.099Z"
   },
   {
    "duration": 49,
    "start_time": "2023-10-31T11:45:48.111Z"
   },
   {
    "duration": 27,
    "start_time": "2023-10-31T11:45:48.162Z"
   },
   {
    "duration": 5,
    "start_time": "2023-10-31T11:45:48.191Z"
   },
   {
    "duration": 9,
    "start_time": "2023-10-31T11:45:48.197Z"
   },
   {
    "duration": 23,
    "start_time": "2023-10-31T11:45:48.208Z"
   },
   {
    "duration": 16,
    "start_time": "2023-10-31T11:45:48.234Z"
   },
   {
    "duration": 8,
    "start_time": "2023-10-31T11:45:48.252Z"
   },
   {
    "duration": 9,
    "start_time": "2023-10-31T11:45:48.262Z"
   },
   {
    "duration": 23,
    "start_time": "2023-10-31T11:45:48.273Z"
   },
   {
    "duration": 20,
    "start_time": "2023-10-31T11:45:48.298Z"
   },
   {
    "duration": 192,
    "start_time": "2023-10-31T11:45:48.320Z"
   },
   {
    "duration": 9,
    "start_time": "2023-10-31T11:45:48.514Z"
   },
   {
    "duration": 118,
    "start_time": "2023-10-31T11:50:38.847Z"
   },
   {
    "duration": 126,
    "start_time": "2023-10-31T11:50:45.320Z"
   },
   {
    "duration": 125,
    "start_time": "2023-10-31T11:50:50.031Z"
   },
   {
    "duration": 6,
    "start_time": "2023-10-31T11:51:12.163Z"
   },
   {
    "duration": 17,
    "start_time": "2023-10-31T11:51:19.302Z"
   },
   {
    "duration": 14,
    "start_time": "2023-10-31T11:51:24.786Z"
   },
   {
    "duration": 522,
    "start_time": "2023-10-31T11:52:05.546Z"
   },
   {
    "duration": 74,
    "start_time": "2023-10-31T11:53:18.290Z"
   },
   {
    "duration": 77,
    "start_time": "2023-10-31T11:53:22.571Z"
   },
   {
    "duration": 93,
    "start_time": "2023-10-31T11:53:38.226Z"
   },
   {
    "duration": 80,
    "start_time": "2023-10-31T11:53:49.408Z"
   },
   {
    "duration": 8,
    "start_time": "2023-10-31T11:54:25.623Z"
   },
   {
    "duration": 71,
    "start_time": "2023-10-31T11:55:11.888Z"
   },
   {
    "duration": 6,
    "start_time": "2023-10-31T11:55:19.347Z"
   },
   {
    "duration": 14,
    "start_time": "2023-10-31T11:55:20.060Z"
   },
   {
    "duration": 369,
    "start_time": "2023-10-31T11:55:35.855Z"
   },
   {
    "duration": 194,
    "start_time": "2023-10-31T11:55:38.702Z"
   },
   {
    "duration": 256,
    "start_time": "2023-10-31T11:59:02.991Z"
   },
   {
    "duration": 213,
    "start_time": "2023-10-31T11:59:09.556Z"
   },
   {
    "duration": 197,
    "start_time": "2023-10-31T12:02:14.973Z"
   },
   {
    "duration": 166,
    "start_time": "2023-10-31T12:02:17.783Z"
   },
   {
    "duration": 183,
    "start_time": "2023-10-31T12:03:30.092Z"
   },
   {
    "duration": 327,
    "start_time": "2023-10-31T12:13:54.136Z"
   },
   {
    "duration": 295,
    "start_time": "2023-10-31T12:13:58.634Z"
   },
   {
    "duration": 303,
    "start_time": "2023-10-31T12:14:06.977Z"
   },
   {
    "duration": 23,
    "start_time": "2023-10-31T12:39:07.490Z"
   },
   {
    "duration": 5,
    "start_time": "2023-10-31T12:39:39.954Z"
   },
   {
    "duration": 11,
    "start_time": "2023-10-31T12:39:48.688Z"
   },
   {
    "duration": 13,
    "start_time": "2023-10-31T12:39:57.292Z"
   },
   {
    "duration": 195,
    "start_time": "2023-10-31T12:43:09.218Z"
   },
   {
    "duration": 379,
    "start_time": "2023-10-31T13:15:02.680Z"
   },
   {
    "duration": 150,
    "start_time": "2023-10-31T13:16:38.060Z"
   },
   {
    "duration": 148,
    "start_time": "2023-10-31T13:16:42.446Z"
   },
   {
    "duration": 417,
    "start_time": "2023-10-31T13:17:17.872Z"
   },
   {
    "duration": 3,
    "start_time": "2023-10-31T13:26:13.275Z"
   },
   {
    "duration": 11,
    "start_time": "2023-10-31T13:27:49.789Z"
   },
   {
    "duration": 11,
    "start_time": "2023-10-31T13:29:53.583Z"
   },
   {
    "duration": 8,
    "start_time": "2023-10-31T13:30:00.230Z"
   },
   {
    "duration": 11,
    "start_time": "2023-10-31T13:30:03.982Z"
   },
   {
    "duration": 17,
    "start_time": "2023-10-31T13:30:14.246Z"
   },
   {
    "duration": 6,
    "start_time": "2023-10-31T13:30:42.318Z"
   },
   {
    "duration": 12,
    "start_time": "2023-10-31T13:30:47.645Z"
   },
   {
    "duration": 10,
    "start_time": "2023-10-31T13:30:51.498Z"
   },
   {
    "duration": 120,
    "start_time": "2023-10-31T13:31:56.403Z"
   },
   {
    "duration": 113,
    "start_time": "2023-10-31T13:31:59.046Z"
   },
   {
    "duration": 3,
    "start_time": "2023-10-31T13:38:52.490Z"
   },
   {
    "duration": 12,
    "start_time": "2023-10-31T13:39:09.535Z"
   },
   {
    "duration": 118,
    "start_time": "2023-10-31T13:39:14.327Z"
   },
   {
    "duration": 109,
    "start_time": "2023-10-31T13:39:17.777Z"
   },
   {
    "duration": 5,
    "start_time": "2023-10-31T13:43:33.732Z"
   },
   {
    "duration": 1274,
    "start_time": "2023-10-31T13:53:58.399Z"
   },
   {
    "duration": 140,
    "start_time": "2023-10-31T13:54:07.383Z"
   },
   {
    "duration": 135,
    "start_time": "2023-10-31T13:54:15.131Z"
   },
   {
    "duration": 160,
    "start_time": "2023-10-31T13:54:34.248Z"
   },
   {
    "duration": 1511,
    "start_time": "2023-10-31T13:57:13.234Z"
   },
   {
    "duration": 126,
    "start_time": "2023-10-31T13:57:19.629Z"
   },
   {
    "duration": 4,
    "start_time": "2023-10-31T13:59:36.321Z"
   },
   {
    "duration": 63,
    "start_time": "2023-11-03T08:40:43.898Z"
   },
   {
    "duration": 952,
    "start_time": "2023-11-03T08:40:49.382Z"
   },
   {
    "duration": 3,
    "start_time": "2023-11-03T08:40:50.336Z"
   },
   {
    "duration": 82,
    "start_time": "2023-11-03T08:40:50.345Z"
   },
   {
    "duration": 12,
    "start_time": "2023-11-03T08:40:50.429Z"
   },
   {
    "duration": 37,
    "start_time": "2023-11-03T08:40:50.444Z"
   },
   {
    "duration": 10,
    "start_time": "2023-11-03T08:40:50.483Z"
   },
   {
    "duration": 22,
    "start_time": "2023-11-03T08:40:50.495Z"
   },
   {
    "duration": 21,
    "start_time": "2023-11-03T08:40:50.519Z"
   },
   {
    "duration": 58,
    "start_time": "2023-11-03T08:40:50.542Z"
   },
   {
    "duration": 190,
    "start_time": "2023-11-03T08:40:50.602Z"
   },
   {
    "duration": 8,
    "start_time": "2023-11-03T08:40:50.794Z"
   },
   {
    "duration": 21,
    "start_time": "2023-11-03T08:40:50.803Z"
   },
   {
    "duration": 51,
    "start_time": "2023-11-03T08:40:50.826Z"
   },
   {
    "duration": 9,
    "start_time": "2023-11-03T08:40:50.882Z"
   },
   {
    "duration": 22,
    "start_time": "2023-11-03T08:40:50.893Z"
   },
   {
    "duration": 38,
    "start_time": "2023-11-03T08:40:50.916Z"
   },
   {
    "duration": 21,
    "start_time": "2023-11-03T08:40:50.956Z"
   },
   {
    "duration": 29,
    "start_time": "2023-11-03T08:40:50.979Z"
   },
   {
    "duration": 55,
    "start_time": "2023-11-03T08:40:51.009Z"
   },
   {
    "duration": 60,
    "start_time": "2023-11-03T08:40:51.066Z"
   },
   {
    "duration": 47,
    "start_time": "2023-11-03T08:40:51.127Z"
   },
   {
    "duration": 203,
    "start_time": "2023-11-03T08:40:51.176Z"
   },
   {
    "duration": 8,
    "start_time": "2023-11-03T08:40:51.381Z"
   },
   {
    "duration": 167,
    "start_time": "2023-11-03T08:40:51.390Z"
   },
   {
    "duration": 30,
    "start_time": "2023-11-03T08:40:51.561Z"
   },
   {
    "duration": 39,
    "start_time": "2023-11-03T08:40:51.593Z"
   },
   {
    "duration": 347,
    "start_time": "2023-11-03T08:40:51.633Z"
   },
   {
    "duration": 216,
    "start_time": "2023-11-03T08:40:51.982Z"
   },
   {
    "duration": 412,
    "start_time": "2023-11-03T08:40:52.201Z"
   },
   {
    "duration": 284,
    "start_time": "2023-11-03T08:40:52.615Z"
   },
   {
    "duration": 291,
    "start_time": "2023-11-03T08:40:52.901Z"
   },
   {
    "duration": 8,
    "start_time": "2023-11-03T08:40:53.194Z"
   },
   {
    "duration": 15,
    "start_time": "2023-11-03T08:40:53.204Z"
   },
   {
    "duration": 150,
    "start_time": "2023-11-03T08:40:53.220Z"
   },
   {
    "duration": 120,
    "start_time": "2023-11-03T08:40:53.372Z"
   },
   {
    "duration": 4,
    "start_time": "2023-11-03T08:40:53.494Z"
   },
   {
    "duration": 196,
    "start_time": "2023-11-03T08:40:53.500Z"
   },
   {
    "duration": 172,
    "start_time": "2023-11-03T08:40:53.697Z"
   },
   {
    "duration": 8,
    "start_time": "2023-11-03T08:40:53.875Z"
   },
   {
    "duration": 62,
    "start_time": "2023-11-03T08:40:53.885Z"
   },
   {
    "duration": 7,
    "start_time": "2023-11-03T08:42:30.231Z"
   },
   {
    "duration": 21,
    "start_time": "2023-11-03T08:43:53.032Z"
   },
   {
    "duration": 15,
    "start_time": "2023-11-03T08:45:11.118Z"
   },
   {
    "duration": 75,
    "start_time": "2023-11-03T08:45:33.952Z"
   },
   {
    "duration": 99,
    "start_time": "2023-11-03T08:45:41.996Z"
   },
   {
    "duration": 75,
    "start_time": "2023-11-03T08:46:13.864Z"
   },
   {
    "duration": 69,
    "start_time": "2023-11-03T08:46:33.070Z"
   },
   {
    "duration": 219,
    "start_time": "2023-11-03T08:46:44.375Z"
   },
   {
    "duration": 10,
    "start_time": "2023-11-03T08:47:05.006Z"
   },
   {
    "duration": 216,
    "start_time": "2023-11-03T08:49:46.664Z"
   },
   {
    "duration": 9,
    "start_time": "2023-11-03T08:50:38.676Z"
   },
   {
    "duration": 580,
    "start_time": "2023-11-03T08:50:52.416Z"
   },
   {
    "duration": 1891,
    "start_time": "2023-11-03T08:50:55.324Z"
   },
   {
    "duration": 7,
    "start_time": "2023-11-03T08:51:09.784Z"
   },
   {
    "duration": 12,
    "start_time": "2023-11-03T08:51:44.966Z"
   },
   {
    "duration": 16,
    "start_time": "2023-11-03T08:52:02.601Z"
   },
   {
    "duration": 12,
    "start_time": "2023-11-03T08:52:38.886Z"
   },
   {
    "duration": 6,
    "start_time": "2023-11-03T08:52:42.678Z"
   },
   {
    "duration": 21,
    "start_time": "2023-11-03T08:59:27.938Z"
   },
   {
    "duration": 112,
    "start_time": "2023-11-03T08:59:51.689Z"
   },
   {
    "duration": 6,
    "start_time": "2023-11-03T08:59:59.185Z"
   },
   {
    "duration": 7,
    "start_time": "2023-11-03T09:00:09.581Z"
   },
   {
    "duration": 21,
    "start_time": "2023-11-03T09:00:14.384Z"
   },
   {
    "duration": 16,
    "start_time": "2023-11-03T09:00:19.358Z"
   },
   {
    "duration": 239,
    "start_time": "2023-11-03T09:00:38.232Z"
   },
   {
    "duration": 242,
    "start_time": "2023-11-03T09:01:07.259Z"
   },
   {
    "duration": 268,
    "start_time": "2023-11-03T09:01:14.324Z"
   },
   {
    "duration": 6,
    "start_time": "2023-11-03T09:01:16.182Z"
   },
   {
    "duration": 262,
    "start_time": "2023-11-03T09:01:54.493Z"
   },
   {
    "duration": 216,
    "start_time": "2023-11-03T09:01:58.034Z"
   },
   {
    "duration": 9,
    "start_time": "2023-11-03T09:06:05.456Z"
   },
   {
    "duration": 8,
    "start_time": "2023-11-03T09:06:08.993Z"
   },
   {
    "duration": 190,
    "start_time": "2023-11-03T09:06:20.482Z"
   },
   {
    "duration": 201,
    "start_time": "2023-11-03T09:06:23.568Z"
   },
   {
    "duration": 384,
    "start_time": "2023-11-03T09:06:46.118Z"
   },
   {
    "duration": 346,
    "start_time": "2023-11-03T09:06:59.836Z"
   },
   {
    "duration": 213,
    "start_time": "2023-11-03T09:07:18.626Z"
   },
   {
    "duration": 265,
    "start_time": "2023-11-03T09:07:25.071Z"
   },
   {
    "duration": 135,
    "start_time": "2023-11-03T09:08:15.243Z"
   },
   {
    "duration": 7,
    "start_time": "2023-11-03T09:08:33.024Z"
   },
   {
    "duration": 17,
    "start_time": "2023-11-03T09:09:24.638Z"
   },
   {
    "duration": 14,
    "start_time": "2023-11-03T09:10:02.432Z"
   },
   {
    "duration": 103,
    "start_time": "2023-11-03T09:12:49.862Z"
   },
   {
    "duration": 113,
    "start_time": "2023-11-03T09:14:13.491Z"
   },
   {
    "duration": 238,
    "start_time": "2023-11-03T09:15:35.318Z"
   },
   {
    "duration": 142,
    "start_time": "2023-11-03T09:16:11.983Z"
   },
   {
    "duration": 6,
    "start_time": "2023-11-03T09:16:33.386Z"
   },
   {
    "duration": 3,
    "start_time": "2023-11-03T09:17:12.724Z"
   },
   {
    "duration": 41,
    "start_time": "2023-11-03T09:17:16.109Z"
   },
   {
    "duration": 24,
    "start_time": "2023-11-03T09:18:31.802Z"
   },
   {
    "duration": 24,
    "start_time": "2023-11-03T09:19:28.492Z"
   },
   {
    "duration": 30,
    "start_time": "2023-11-03T09:19:38.649Z"
   },
   {
    "duration": 23,
    "start_time": "2023-11-03T09:19:58.597Z"
   },
   {
    "duration": 24,
    "start_time": "2023-11-03T09:20:03.978Z"
   },
   {
    "duration": 45,
    "start_time": "2023-11-03T09:21:18.898Z"
   },
   {
    "duration": 62,
    "start_time": "2023-11-03T09:21:55.405Z"
   },
   {
    "duration": 55,
    "start_time": "2023-11-03T09:22:26.630Z"
   },
   {
    "duration": 43,
    "start_time": "2023-11-03T09:23:47.868Z"
   },
   {
    "duration": 53,
    "start_time": "2023-11-03T09:24:09.538Z"
   },
   {
    "duration": 11,
    "start_time": "2023-11-03T09:41:59.789Z"
   },
   {
    "duration": 19,
    "start_time": "2023-11-03T09:42:11.456Z"
   },
   {
    "duration": 13,
    "start_time": "2023-11-03T09:42:14.897Z"
   },
   {
    "duration": 19,
    "start_time": "2023-11-03T09:42:25.750Z"
   },
   {
    "duration": 14,
    "start_time": "2023-11-03T09:42:54.382Z"
   },
   {
    "duration": 16,
    "start_time": "2023-11-03T09:43:16.635Z"
   },
   {
    "duration": 31,
    "start_time": "2023-11-03T09:43:54.689Z"
   },
   {
    "duration": 15,
    "start_time": "2023-11-03T09:44:44.307Z"
   },
   {
    "duration": 9,
    "start_time": "2023-11-03T09:50:14.846Z"
   },
   {
    "duration": 5,
    "start_time": "2023-11-03T09:50:22.509Z"
   },
   {
    "duration": 2378,
    "start_time": "2023-11-03T09:52:03.594Z"
   },
   {
    "duration": 1519,
    "start_time": "2023-11-03T09:52:17.900Z"
   },
   {
    "duration": 1626,
    "start_time": "2023-11-03T09:52:26.483Z"
   },
   {
    "duration": 5,
    "start_time": "2023-11-03T09:52:35.092Z"
   },
   {
    "duration": 2967,
    "start_time": "2023-11-03T09:52:39.654Z"
   },
   {
    "duration": 6,
    "start_time": "2023-11-03T09:52:59.596Z"
   },
   {
    "duration": 11,
    "start_time": "2023-11-03T09:53:09.637Z"
   },
   {
    "duration": 11,
    "start_time": "2023-11-03T09:53:21.480Z"
   },
   {
    "duration": 11,
    "start_time": "2023-11-03T09:53:32.026Z"
   },
   {
    "duration": 21,
    "start_time": "2023-11-03T09:53:47.437Z"
   },
   {
    "duration": 20,
    "start_time": "2023-11-03T09:54:04.253Z"
   },
   {
    "duration": 8,
    "start_time": "2023-11-03T09:55:29.678Z"
   },
   {
    "duration": 45,
    "start_time": "2023-11-03T09:55:38.155Z"
   },
   {
    "duration": 27,
    "start_time": "2023-11-03T09:55:52.753Z"
   },
   {
    "duration": 22,
    "start_time": "2023-11-03T09:55:56.793Z"
   },
   {
    "duration": 1816,
    "start_time": "2023-11-03T10:08:11.820Z"
   },
   {
    "duration": 2124,
    "start_time": "2023-11-03T10:08:32.596Z"
   },
   {
    "duration": 2267,
    "start_time": "2023-11-03T10:08:44.868Z"
   },
   {
    "duration": 14,
    "start_time": "2023-11-03T10:08:53.616Z"
   },
   {
    "duration": 19,
    "start_time": "2023-11-03T10:11:00.332Z"
   },
   {
    "duration": 297,
    "start_time": "2023-11-03T10:37:55.876Z"
   },
   {
    "duration": 300,
    "start_time": "2023-11-03T10:52:25.566Z"
   },
   {
    "duration": 1283,
    "start_time": "2023-11-03T11:08:29.449Z"
   },
   {
    "duration": 11,
    "start_time": "2023-11-03T11:08:30.734Z"
   },
   {
    "duration": 91,
    "start_time": "2023-11-03T11:08:30.755Z"
   },
   {
    "duration": 14,
    "start_time": "2023-11-03T11:08:30.853Z"
   },
   {
    "duration": 50,
    "start_time": "2023-11-03T11:08:30.869Z"
   },
   {
    "duration": 42,
    "start_time": "2023-11-03T11:08:30.921Z"
   },
   {
    "duration": 56,
    "start_time": "2023-11-03T11:08:30.965Z"
   },
   {
    "duration": 42,
    "start_time": "2023-11-03T11:08:31.023Z"
   },
   {
    "duration": 58,
    "start_time": "2023-11-03T11:08:31.067Z"
   },
   {
    "duration": 195,
    "start_time": "2023-11-03T11:08:31.127Z"
   },
   {
    "duration": 8,
    "start_time": "2023-11-03T11:08:31.323Z"
   },
   {
    "duration": 75,
    "start_time": "2023-11-03T11:08:31.333Z"
   },
   {
    "duration": 23,
    "start_time": "2023-11-03T11:08:31.410Z"
   },
   {
    "duration": 23,
    "start_time": "2023-11-03T11:08:31.437Z"
   },
   {
    "duration": 29,
    "start_time": "2023-11-03T11:08:31.462Z"
   },
   {
    "duration": 35,
    "start_time": "2023-11-03T11:08:31.493Z"
   },
   {
    "duration": 38,
    "start_time": "2023-11-03T11:08:31.530Z"
   },
   {
    "duration": 24,
    "start_time": "2023-11-03T11:08:31.570Z"
   },
   {
    "duration": 29,
    "start_time": "2023-11-03T11:08:31.596Z"
   },
   {
    "duration": 30,
    "start_time": "2023-11-03T11:08:31.627Z"
   },
   {
    "duration": 29,
    "start_time": "2023-11-03T11:08:31.659Z"
   },
   {
    "duration": 231,
    "start_time": "2023-11-03T11:08:31.690Z"
   },
   {
    "duration": 8,
    "start_time": "2023-11-03T11:08:31.922Z"
   },
   {
    "duration": 129,
    "start_time": "2023-11-03T11:08:31.932Z"
   },
   {
    "duration": 11,
    "start_time": "2023-11-03T11:08:32.063Z"
   },
   {
    "duration": 21,
    "start_time": "2023-11-03T11:08:32.075Z"
   },
   {
    "duration": 282,
    "start_time": "2023-11-03T11:08:32.098Z"
   },
   {
    "duration": 226,
    "start_time": "2023-11-03T11:08:32.382Z"
   },
   {
    "duration": 366,
    "start_time": "2023-11-03T11:08:32.611Z"
   },
   {
    "duration": 13,
    "start_time": "2023-11-03T11:08:32.979Z"
   },
   {
    "duration": 7,
    "start_time": "2023-11-03T11:08:32.994Z"
   },
   {
    "duration": 213,
    "start_time": "2023-11-03T11:08:33.003Z"
   },
   {
    "duration": 7,
    "start_time": "2023-11-03T11:08:33.217Z"
   },
   {
    "duration": 333,
    "start_time": "2023-11-03T11:08:33.225Z"
   },
   {
    "duration": 8,
    "start_time": "2023-11-03T11:08:33.559Z"
   },
   {
    "duration": 11,
    "start_time": "2023-11-03T11:08:33.569Z"
   },
   {
    "duration": 136,
    "start_time": "2023-11-03T11:08:33.581Z"
   },
   {
    "duration": 115,
    "start_time": "2023-11-03T11:08:33.719Z"
   },
   {
    "duration": 14,
    "start_time": "2023-11-03T11:08:33.837Z"
   },
   {
    "duration": 176,
    "start_time": "2023-11-03T11:08:33.861Z"
   },
   {
    "duration": 188,
    "start_time": "2023-11-03T11:08:34.042Z"
   },
   {
    "duration": 11,
    "start_time": "2023-11-03T11:08:34.231Z"
   },
   {
    "duration": 231,
    "start_time": "2023-11-03T11:08:34.251Z"
   },
   {
    "duration": 186,
    "start_time": "2023-11-03T11:08:34.484Z"
   },
   {
    "duration": 8,
    "start_time": "2023-11-03T11:08:34.672Z"
   },
   {
    "duration": 39,
    "start_time": "2023-11-03T11:08:34.681Z"
   },
   {
    "duration": 15,
    "start_time": "2023-11-03T11:08:34.746Z"
   },
   {
    "duration": 9,
    "start_time": "2023-11-03T11:08:34.763Z"
   },
   {
    "duration": 8,
    "start_time": "2023-11-03T11:08:34.773Z"
   },
   {
    "duration": 23,
    "start_time": "2023-11-03T11:08:34.782Z"
   },
   {
    "duration": 38,
    "start_time": "2023-11-03T11:08:34.806Z"
   },
   {
    "duration": 1357,
    "start_time": "2023-11-03T18:34:26.048Z"
   },
   {
    "duration": 6,
    "start_time": "2023-11-03T18:34:27.408Z"
   },
   {
    "duration": 65,
    "start_time": "2023-11-03T18:34:27.416Z"
   },
   {
    "duration": 18,
    "start_time": "2023-11-03T18:34:27.483Z"
   },
   {
    "duration": 35,
    "start_time": "2023-11-03T18:34:27.503Z"
   },
   {
    "duration": 12,
    "start_time": "2023-11-03T18:34:27.541Z"
   },
   {
    "duration": 13,
    "start_time": "2023-11-03T18:34:27.555Z"
   },
   {
    "duration": 13,
    "start_time": "2023-11-03T18:34:27.569Z"
   },
   {
    "duration": 12,
    "start_time": "2023-11-03T18:34:30.191Z"
   },
   {
    "duration": 104,
    "start_time": "2023-11-03T18:34:44.315Z"
   },
   {
    "duration": 53,
    "start_time": "2023-11-03T18:34:54.132Z"
   },
   {
    "duration": 8,
    "start_time": "2023-11-03T18:36:45.385Z"
   },
   {
    "duration": 4,
    "start_time": "2023-11-03T18:39:57.477Z"
   },
   {
    "duration": 16,
    "start_time": "2023-11-03T18:40:51.059Z"
   },
   {
    "duration": 3,
    "start_time": "2023-11-03T18:41:04.406Z"
   },
   {
    "duration": 21,
    "start_time": "2023-11-03T18:41:06.919Z"
   },
   {
    "duration": 2082,
    "start_time": "2023-11-03T18:41:27.560Z"
   },
   {
    "duration": 13,
    "start_time": "2023-11-03T18:41:34.234Z"
   },
   {
    "duration": 19,
    "start_time": "2023-11-03T18:41:40.289Z"
   },
   {
    "duration": 1264,
    "start_time": "2023-11-03T18:42:06.800Z"
   },
   {
    "duration": 3,
    "start_time": "2023-11-03T18:42:08.066Z"
   },
   {
    "duration": 33,
    "start_time": "2023-11-03T18:42:08.070Z"
   },
   {
    "duration": 13,
    "start_time": "2023-11-03T18:42:08.106Z"
   },
   {
    "duration": 52,
    "start_time": "2023-11-03T18:42:08.120Z"
   },
   {
    "duration": 6,
    "start_time": "2023-11-03T18:42:08.173Z"
   },
   {
    "duration": 14,
    "start_time": "2023-11-03T18:42:08.181Z"
   },
   {
    "duration": 7,
    "start_time": "2023-11-03T18:42:08.196Z"
   },
   {
    "duration": 22,
    "start_time": "2023-11-03T18:42:08.204Z"
   },
   {
    "duration": 143,
    "start_time": "2023-11-03T18:42:08.230Z"
   },
   {
    "duration": 11,
    "start_time": "2023-11-03T18:42:08.375Z"
   },
   {
    "duration": 30,
    "start_time": "2023-11-03T18:42:08.388Z"
   },
   {
    "duration": 30,
    "start_time": "2023-11-03T18:42:08.420Z"
   },
   {
    "duration": 6,
    "start_time": "2023-11-03T18:42:08.453Z"
   },
   {
    "duration": 10,
    "start_time": "2023-11-03T18:42:08.461Z"
   },
   {
    "duration": 14,
    "start_time": "2023-11-03T18:42:08.474Z"
   },
   {
    "duration": 26,
    "start_time": "2023-11-03T18:42:08.491Z"
   },
   {
    "duration": 10,
    "start_time": "2023-11-03T18:42:08.519Z"
   },
   {
    "duration": 5,
    "start_time": "2023-11-03T18:42:08.531Z"
   },
   {
    "duration": 17,
    "start_time": "2023-11-03T18:42:08.538Z"
   },
   {
    "duration": 15,
    "start_time": "2023-11-03T18:42:08.557Z"
   },
   {
    "duration": 186,
    "start_time": "2023-11-03T18:42:08.575Z"
   },
   {
    "duration": 10,
    "start_time": "2023-11-03T18:42:08.762Z"
   },
   {
    "duration": 141,
    "start_time": "2023-11-03T18:42:08.774Z"
   },
   {
    "duration": 14,
    "start_time": "2023-11-03T18:42:08.916Z"
   },
   {
    "duration": 21,
    "start_time": "2023-11-03T18:42:08.932Z"
   },
   {
    "duration": 293,
    "start_time": "2023-11-03T18:42:08.955Z"
   },
   {
    "duration": 204,
    "start_time": "2023-11-03T18:42:09.253Z"
   },
   {
    "duration": 292,
    "start_time": "2023-11-03T18:42:09.459Z"
   },
   {
    "duration": 14,
    "start_time": "2023-11-03T18:42:09.754Z"
   },
   {
    "duration": 11,
    "start_time": "2023-11-03T18:42:09.770Z"
   },
   {
    "duration": 234,
    "start_time": "2023-11-03T18:42:09.782Z"
   },
   {
    "duration": 8,
    "start_time": "2023-11-03T18:42:10.018Z"
   },
   {
    "duration": 319,
    "start_time": "2023-11-03T18:42:10.028Z"
   },
   {
    "duration": 9,
    "start_time": "2023-11-03T18:42:10.349Z"
   },
   {
    "duration": 29,
    "start_time": "2023-11-03T18:42:10.360Z"
   },
   {
    "duration": 140,
    "start_time": "2023-11-03T18:42:10.392Z"
   },
   {
    "duration": 128,
    "start_time": "2023-11-03T18:42:10.535Z"
   },
   {
    "duration": 4,
    "start_time": "2023-11-03T18:42:10.665Z"
   },
   {
    "duration": 163,
    "start_time": "2023-11-03T18:42:10.671Z"
   },
   {
    "duration": 228,
    "start_time": "2023-11-03T18:42:10.835Z"
   },
   {
    "duration": 4,
    "start_time": "2023-11-03T18:42:11.065Z"
   },
   {
    "duration": 243,
    "start_time": "2023-11-03T18:42:11.071Z"
   },
   {
    "duration": 138,
    "start_time": "2023-11-03T18:42:11.316Z"
   },
   {
    "duration": 7,
    "start_time": "2023-11-03T18:42:11.456Z"
   },
   {
    "duration": 76,
    "start_time": "2023-11-03T18:42:11.464Z"
   },
   {
    "duration": 16,
    "start_time": "2023-11-03T18:42:11.542Z"
   },
   {
    "duration": 24,
    "start_time": "2023-11-03T18:42:11.560Z"
   },
   {
    "duration": 30,
    "start_time": "2023-11-03T18:42:11.586Z"
   },
   {
    "duration": 53,
    "start_time": "2023-11-03T18:42:11.618Z"
   },
   {
    "duration": 17,
    "start_time": "2023-11-03T18:42:11.673Z"
   },
   {
    "duration": 59,
    "start_time": "2023-11-03T18:46:17.074Z"
   },
   {
    "duration": 49,
    "start_time": "2023-11-03T18:47:23.281Z"
   },
   {
    "duration": 18,
    "start_time": "2023-11-03T18:47:29.635Z"
   },
   {
    "duration": 12,
    "start_time": "2023-11-03T18:47:53.783Z"
   },
   {
    "duration": 14,
    "start_time": "2023-11-03T18:47:58.177Z"
   },
   {
    "duration": 15,
    "start_time": "2023-11-03T18:48:32.768Z"
   },
   {
    "duration": 105,
    "start_time": "2023-11-03T18:48:49.158Z"
   },
   {
    "duration": 9,
    "start_time": "2023-11-03T18:48:53.868Z"
   },
   {
    "duration": 9,
    "start_time": "2023-11-03T18:48:56.644Z"
   },
   {
    "duration": 15,
    "start_time": "2023-11-03T18:49:02.300Z"
   },
   {
    "duration": 18,
    "start_time": "2023-11-03T18:52:50.269Z"
   },
   {
    "duration": 16,
    "start_time": "2023-11-03T18:53:00.457Z"
   },
   {
    "duration": 18,
    "start_time": "2023-11-03T18:53:09.886Z"
   },
   {
    "duration": 19,
    "start_time": "2023-11-03T18:53:18.648Z"
   },
   {
    "duration": 15,
    "start_time": "2023-11-03T18:53:32.953Z"
   },
   {
    "duration": 16,
    "start_time": "2023-11-03T18:53:45.157Z"
   },
   {
    "duration": 14,
    "start_time": "2023-11-03T18:53:55.036Z"
   },
   {
    "duration": 14,
    "start_time": "2023-11-03T18:56:06.284Z"
   },
   {
    "duration": 18,
    "start_time": "2023-11-03T18:56:41.308Z"
   },
   {
    "duration": 14,
    "start_time": "2023-11-03T18:56:47.128Z"
   },
   {
    "duration": 13,
    "start_time": "2023-11-03T18:57:06.509Z"
   },
   {
    "duration": 10,
    "start_time": "2023-11-03T18:57:16.438Z"
   },
   {
    "duration": 11,
    "start_time": "2023-11-03T19:05:06.522Z"
   },
   {
    "duration": 7,
    "start_time": "2023-11-03T19:05:13.834Z"
   },
   {
    "duration": 10,
    "start_time": "2023-11-03T19:05:43.233Z"
   },
   {
    "duration": 7,
    "start_time": "2023-11-03T19:05:50.842Z"
   },
   {
    "duration": 7,
    "start_time": "2023-11-03T19:06:05.191Z"
   },
   {
    "duration": 88,
    "start_time": "2023-11-03T19:06:15.263Z"
   },
   {
    "duration": 10,
    "start_time": "2023-11-03T19:06:18.247Z"
   },
   {
    "duration": 6,
    "start_time": "2023-11-03T19:06:24.123Z"
   },
   {
    "duration": 1151,
    "start_time": "2023-11-03T19:06:42.173Z"
   },
   {
    "duration": 3,
    "start_time": "2023-11-03T19:06:43.326Z"
   },
   {
    "duration": 32,
    "start_time": "2023-11-03T19:06:43.330Z"
   },
   {
    "duration": 10,
    "start_time": "2023-11-03T19:06:43.364Z"
   },
   {
    "duration": 15,
    "start_time": "2023-11-03T19:06:43.376Z"
   },
   {
    "duration": 6,
    "start_time": "2023-11-03T19:06:43.392Z"
   },
   {
    "duration": 11,
    "start_time": "2023-11-03T19:06:43.400Z"
   },
   {
    "duration": 15,
    "start_time": "2023-11-03T19:06:43.412Z"
   },
   {
    "duration": 17,
    "start_time": "2023-11-03T19:06:43.429Z"
   },
   {
    "duration": 51,
    "start_time": "2023-11-03T19:06:43.448Z"
   },
   {
    "duration": 52,
    "start_time": "2023-11-03T19:06:43.501Z"
   },
   {
    "duration": 9,
    "start_time": "2023-11-03T19:06:43.554Z"
   },
   {
    "duration": 22,
    "start_time": "2023-11-03T19:06:43.564Z"
   },
   {
    "duration": 7,
    "start_time": "2023-11-03T19:06:43.588Z"
   },
   {
    "duration": 16,
    "start_time": "2023-11-03T19:06:43.597Z"
   },
   {
    "duration": 9,
    "start_time": "2023-11-03T19:06:43.614Z"
   },
   {
    "duration": 19,
    "start_time": "2023-11-03T19:06:43.624Z"
   },
   {
    "duration": 10,
    "start_time": "2023-11-03T19:06:43.644Z"
   },
   {
    "duration": 16,
    "start_time": "2023-11-03T19:06:43.656Z"
   },
   {
    "duration": 12,
    "start_time": "2023-11-03T19:06:43.673Z"
   },
   {
    "duration": 4,
    "start_time": "2023-11-03T19:06:43.686Z"
   },
   {
    "duration": 13,
    "start_time": "2023-11-03T19:06:43.691Z"
   },
   {
    "duration": 13,
    "start_time": "2023-11-03T19:06:43.705Z"
   },
   {
    "duration": 167,
    "start_time": "2023-11-03T19:06:43.719Z"
   },
   {
    "duration": 9,
    "start_time": "2023-11-03T19:06:43.888Z"
   },
   {
    "duration": 135,
    "start_time": "2023-11-03T19:06:43.899Z"
   },
   {
    "duration": 22,
    "start_time": "2023-11-03T19:06:44.036Z"
   },
   {
    "duration": 11,
    "start_time": "2023-11-03T19:06:44.063Z"
   },
   {
    "duration": 283,
    "start_time": "2023-11-03T19:06:44.076Z"
   },
   {
    "duration": 203,
    "start_time": "2023-11-03T19:06:44.360Z"
   },
   {
    "duration": 279,
    "start_time": "2023-11-03T19:06:44.564Z"
   },
   {
    "duration": 13,
    "start_time": "2023-11-03T19:06:44.844Z"
   },
   {
    "duration": 7,
    "start_time": "2023-11-03T19:06:44.858Z"
   },
   {
    "duration": 211,
    "start_time": "2023-11-03T19:06:44.867Z"
   },
   {
    "duration": 7,
    "start_time": "2023-11-03T19:06:45.080Z"
   },
   {
    "duration": 357,
    "start_time": "2023-11-03T19:06:45.089Z"
   },
   {
    "duration": 8,
    "start_time": "2023-11-03T19:06:45.448Z"
   },
   {
    "duration": 27,
    "start_time": "2023-11-03T19:06:45.457Z"
   },
   {
    "duration": 134,
    "start_time": "2023-11-03T19:06:45.485Z"
   },
   {
    "duration": 193,
    "start_time": "2023-11-03T19:06:45.621Z"
   },
   {
    "duration": 5,
    "start_time": "2023-11-03T19:06:45.815Z"
   },
   {
    "duration": 157,
    "start_time": "2023-11-03T19:06:45.821Z"
   },
   {
    "duration": 126,
    "start_time": "2023-11-03T19:06:45.980Z"
   },
   {
    "duration": 9,
    "start_time": "2023-11-03T19:06:46.107Z"
   },
   {
    "duration": 230,
    "start_time": "2023-11-03T19:06:46.118Z"
   },
   {
    "duration": 142,
    "start_time": "2023-11-03T19:06:46.350Z"
   },
   {
    "duration": 6,
    "start_time": "2023-11-03T19:06:46.494Z"
   },
   {
    "duration": 53,
    "start_time": "2023-11-03T19:06:46.501Z"
   },
   {
    "duration": 15,
    "start_time": "2023-11-03T19:06:46.556Z"
   },
   {
    "duration": 11,
    "start_time": "2023-11-03T19:06:46.573Z"
   },
   {
    "duration": 35,
    "start_time": "2023-11-03T19:06:46.586Z"
   },
   {
    "duration": 26,
    "start_time": "2023-11-03T19:06:46.623Z"
   },
   {
    "duration": 15,
    "start_time": "2023-11-03T19:06:46.650Z"
   },
   {
    "duration": 6,
    "start_time": "2023-11-03T19:09:12.715Z"
   },
   {
    "duration": 10,
    "start_time": "2023-11-03T19:09:17.166Z"
   },
   {
    "duration": 12,
    "start_time": "2023-11-03T19:09:25.125Z"
   },
   {
    "duration": 11,
    "start_time": "2023-11-03T19:09:34.956Z"
   },
   {
    "duration": 2262,
    "start_time": "2023-11-03T19:10:01.194Z"
   },
   {
    "duration": 3,
    "start_time": "2023-11-03T19:10:19.094Z"
   },
   {
    "duration": 12,
    "start_time": "2023-11-03T19:10:25.192Z"
   },
   {
    "duration": 10,
    "start_time": "2023-11-03T19:10:29.082Z"
   },
   {
    "duration": 12,
    "start_time": "2023-11-03T19:10:53.269Z"
   },
   {
    "duration": 11,
    "start_time": "2023-11-03T19:11:05.405Z"
   },
   {
    "duration": 5,
    "start_time": "2023-11-03T19:11:15.117Z"
   },
   {
    "duration": 1140,
    "start_time": "2023-11-03T19:11:44.168Z"
   },
   {
    "duration": 2,
    "start_time": "2023-11-03T19:11:45.310Z"
   },
   {
    "duration": 30,
    "start_time": "2023-11-03T19:11:45.314Z"
   },
   {
    "duration": 10,
    "start_time": "2023-11-03T19:11:45.346Z"
   },
   {
    "duration": 18,
    "start_time": "2023-11-03T19:11:45.358Z"
   },
   {
    "duration": 8,
    "start_time": "2023-11-03T19:11:45.377Z"
   },
   {
    "duration": 10,
    "start_time": "2023-11-03T19:11:45.386Z"
   },
   {
    "duration": 6,
    "start_time": "2023-11-03T19:11:45.397Z"
   },
   {
    "duration": 13,
    "start_time": "2023-11-03T19:11:45.404Z"
   },
   {
    "duration": 51,
    "start_time": "2023-11-03T19:11:45.420Z"
   },
   {
    "duration": 52,
    "start_time": "2023-11-03T19:11:45.472Z"
   },
   {
    "duration": 8,
    "start_time": "2023-11-03T19:11:45.525Z"
   },
   {
    "duration": 14,
    "start_time": "2023-11-03T19:11:45.534Z"
   },
   {
    "duration": 10,
    "start_time": "2023-11-03T19:11:45.550Z"
   },
   {
    "duration": 4,
    "start_time": "2023-11-03T19:11:45.561Z"
   },
   {
    "duration": 6,
    "start_time": "2023-11-03T19:11:45.566Z"
   },
   {
    "duration": 9,
    "start_time": "2023-11-03T19:11:45.573Z"
   },
   {
    "duration": 25,
    "start_time": "2023-11-03T19:11:45.583Z"
   },
   {
    "duration": 7,
    "start_time": "2023-11-03T19:11:45.610Z"
   },
   {
    "duration": 19,
    "start_time": "2023-11-03T19:11:45.618Z"
   },
   {
    "duration": 5,
    "start_time": "2023-11-03T19:11:45.638Z"
   },
   {
    "duration": 10,
    "start_time": "2023-11-03T19:11:45.645Z"
   },
   {
    "duration": 10,
    "start_time": "2023-11-03T19:11:45.656Z"
   },
   {
    "duration": 95,
    "start_time": "2023-11-03T19:11:45.668Z"
   },
   {
    "duration": 0,
    "start_time": "2023-11-03T19:11:45.766Z"
   },
   {
    "duration": 0,
    "start_time": "2023-11-03T19:11:45.768Z"
   },
   {
    "duration": 0,
    "start_time": "2023-11-03T19:11:45.769Z"
   },
   {
    "duration": 0,
    "start_time": "2023-11-03T19:11:45.771Z"
   },
   {
    "duration": 0,
    "start_time": "2023-11-03T19:11:45.772Z"
   },
   {
    "duration": 0,
    "start_time": "2023-11-03T19:11:45.774Z"
   },
   {
    "duration": 0,
    "start_time": "2023-11-03T19:11:45.776Z"
   },
   {
    "duration": 1,
    "start_time": "2023-11-03T19:11:45.777Z"
   },
   {
    "duration": 0,
    "start_time": "2023-11-03T19:11:45.779Z"
   },
   {
    "duration": 0,
    "start_time": "2023-11-03T19:11:45.780Z"
   },
   {
    "duration": 0,
    "start_time": "2023-11-03T19:11:45.782Z"
   },
   {
    "duration": 0,
    "start_time": "2023-11-03T19:11:45.783Z"
   },
   {
    "duration": 0,
    "start_time": "2023-11-03T19:11:45.784Z"
   },
   {
    "duration": 0,
    "start_time": "2023-11-03T19:11:45.785Z"
   },
   {
    "duration": 0,
    "start_time": "2023-11-03T19:11:45.786Z"
   },
   {
    "duration": 0,
    "start_time": "2023-11-03T19:11:45.787Z"
   },
   {
    "duration": 0,
    "start_time": "2023-11-03T19:11:45.788Z"
   },
   {
    "duration": 0,
    "start_time": "2023-11-03T19:11:45.789Z"
   },
   {
    "duration": 0,
    "start_time": "2023-11-03T19:11:45.790Z"
   },
   {
    "duration": 0,
    "start_time": "2023-11-03T19:11:45.791Z"
   },
   {
    "duration": 0,
    "start_time": "2023-11-03T19:11:45.792Z"
   },
   {
    "duration": 0,
    "start_time": "2023-11-03T19:11:45.793Z"
   },
   {
    "duration": 0,
    "start_time": "2023-11-03T19:11:45.794Z"
   },
   {
    "duration": 0,
    "start_time": "2023-11-03T19:11:45.795Z"
   },
   {
    "duration": 0,
    "start_time": "2023-11-03T19:11:45.797Z"
   },
   {
    "duration": 0,
    "start_time": "2023-11-03T19:11:45.798Z"
   },
   {
    "duration": 0,
    "start_time": "2023-11-03T19:11:45.799Z"
   },
   {
    "duration": 0,
    "start_time": "2023-11-03T19:11:45.800Z"
   },
   {
    "duration": 0,
    "start_time": "2023-11-03T19:11:45.801Z"
   },
   {
    "duration": 0,
    "start_time": "2023-11-03T19:11:45.802Z"
   },
   {
    "duration": 0,
    "start_time": "2023-11-03T19:11:45.803Z"
   },
   {
    "duration": 4,
    "start_time": "2023-11-03T19:11:56.752Z"
   },
   {
    "duration": 8,
    "start_time": "2023-11-03T19:12:00.773Z"
   },
   {
    "duration": 1518,
    "start_time": "2023-11-03T19:12:16.854Z"
   },
   {
    "duration": 3,
    "start_time": "2023-11-03T19:14:17.966Z"
   },
   {
    "duration": 7,
    "start_time": "2023-11-03T19:14:22.237Z"
   },
   {
    "duration": 18,
    "start_time": "2023-11-03T19:18:59.810Z"
   },
   {
    "duration": 16,
    "start_time": "2023-11-03T19:19:05.096Z"
   },
   {
    "duration": 1236,
    "start_time": "2023-11-03T19:19:19.399Z"
   },
   {
    "duration": 3,
    "start_time": "2023-11-03T19:19:20.637Z"
   },
   {
    "duration": 59,
    "start_time": "2023-11-03T19:19:20.641Z"
   },
   {
    "duration": 11,
    "start_time": "2023-11-03T19:19:20.702Z"
   },
   {
    "duration": 14,
    "start_time": "2023-11-03T19:19:20.715Z"
   },
   {
    "duration": 5,
    "start_time": "2023-11-03T19:19:20.731Z"
   },
   {
    "duration": 16,
    "start_time": "2023-11-03T19:19:20.738Z"
   },
   {
    "duration": 17,
    "start_time": "2023-11-03T19:19:20.756Z"
   },
   {
    "duration": 13,
    "start_time": "2023-11-03T19:19:20.775Z"
   },
   {
    "duration": 73,
    "start_time": "2023-11-03T19:19:20.791Z"
   },
   {
    "duration": 53,
    "start_time": "2023-11-03T19:19:20.865Z"
   },
   {
    "duration": 8,
    "start_time": "2023-11-03T19:19:20.920Z"
   },
   {
    "duration": 12,
    "start_time": "2023-11-03T19:19:20.930Z"
   },
   {
    "duration": 17,
    "start_time": "2023-11-03T19:19:20.944Z"
   },
   {
    "duration": 4,
    "start_time": "2023-11-03T19:19:20.963Z"
   },
   {
    "duration": 19,
    "start_time": "2023-11-03T19:19:20.969Z"
   },
   {
    "duration": 16,
    "start_time": "2023-11-03T19:19:20.990Z"
   },
   {
    "duration": 19,
    "start_time": "2023-11-03T19:19:21.007Z"
   },
   {
    "duration": 10,
    "start_time": "2023-11-03T19:19:21.028Z"
   },
   {
    "duration": 9,
    "start_time": "2023-11-03T19:19:21.039Z"
   },
   {
    "duration": 8,
    "start_time": "2023-11-03T19:19:21.050Z"
   },
   {
    "duration": 12,
    "start_time": "2023-11-03T19:19:21.060Z"
   },
   {
    "duration": 9,
    "start_time": "2023-11-03T19:19:21.074Z"
   },
   {
    "duration": 33,
    "start_time": "2023-11-03T19:19:21.085Z"
   },
   {
    "duration": 13,
    "start_time": "2023-11-03T19:19:41.756Z"
   },
   {
    "duration": 271,
    "start_time": "2023-11-03T19:19:55.846Z"
   },
   {
    "duration": 298,
    "start_time": "2023-11-03T19:20:07.268Z"
   },
   {
    "duration": 9,
    "start_time": "2023-11-03T19:20:16.860Z"
   },
   {
    "duration": 287,
    "start_time": "2023-11-03T19:20:32.323Z"
   },
   {
    "duration": 10,
    "start_time": "2023-11-03T19:20:51.962Z"
   },
   {
    "duration": 1069,
    "start_time": "2023-11-03T19:21:44.124Z"
   },
   {
    "duration": 2,
    "start_time": "2023-11-03T19:21:45.195Z"
   },
   {
    "duration": 49,
    "start_time": "2023-11-03T19:21:45.198Z"
   },
   {
    "duration": 10,
    "start_time": "2023-11-03T19:21:45.249Z"
   },
   {
    "duration": 16,
    "start_time": "2023-11-03T19:21:45.261Z"
   },
   {
    "duration": 8,
    "start_time": "2023-11-03T19:21:45.279Z"
   },
   {
    "duration": 31,
    "start_time": "2023-11-03T19:21:45.288Z"
   },
   {
    "duration": 4,
    "start_time": "2023-11-03T19:21:45.321Z"
   },
   {
    "duration": 11,
    "start_time": "2023-11-03T19:21:45.326Z"
   },
   {
    "duration": 51,
    "start_time": "2023-11-03T19:21:45.339Z"
   },
   {
    "duration": 53,
    "start_time": "2023-11-03T19:21:45.391Z"
   },
   {
    "duration": 8,
    "start_time": "2023-11-03T19:21:45.445Z"
   },
   {
    "duration": 13,
    "start_time": "2023-11-03T19:21:45.454Z"
   },
   {
    "duration": 7,
    "start_time": "2023-11-03T19:21:45.469Z"
   },
   {
    "duration": 5,
    "start_time": "2023-11-03T19:21:45.477Z"
   },
   {
    "duration": 6,
    "start_time": "2023-11-03T19:21:45.484Z"
   },
   {
    "duration": 7,
    "start_time": "2023-11-03T19:21:45.492Z"
   },
   {
    "duration": 21,
    "start_time": "2023-11-03T19:21:45.501Z"
   },
   {
    "duration": 9,
    "start_time": "2023-11-03T19:21:45.524Z"
   },
   {
    "duration": 7,
    "start_time": "2023-11-03T19:21:45.535Z"
   },
   {
    "duration": 7,
    "start_time": "2023-11-03T19:21:45.543Z"
   },
   {
    "duration": 19,
    "start_time": "2023-11-03T19:21:45.552Z"
   },
   {
    "duration": 10,
    "start_time": "2023-11-03T19:21:45.573Z"
   },
   {
    "duration": 308,
    "start_time": "2023-11-03T19:21:45.584Z"
   },
   {
    "duration": 9,
    "start_time": "2023-11-03T19:21:45.893Z"
   },
   {
    "duration": 275,
    "start_time": "2023-11-03T19:23:42.122Z"
   },
   {
    "duration": 254,
    "start_time": "2023-11-03T19:23:54.930Z"
   },
   {
    "duration": 1205,
    "start_time": "2023-11-03T19:30:16.720Z"
   },
   {
    "duration": 2,
    "start_time": "2023-11-03T19:30:17.927Z"
   },
   {
    "duration": 34,
    "start_time": "2023-11-03T19:30:17.931Z"
   },
   {
    "duration": 11,
    "start_time": "2023-11-03T19:30:17.967Z"
   },
   {
    "duration": 12,
    "start_time": "2023-11-03T19:30:17.979Z"
   },
   {
    "duration": 4,
    "start_time": "2023-11-03T19:30:17.993Z"
   },
   {
    "duration": 11,
    "start_time": "2023-11-03T19:30:17.999Z"
   },
   {
    "duration": 6,
    "start_time": "2023-11-03T19:30:18.011Z"
   },
   {
    "duration": 12,
    "start_time": "2023-11-03T19:30:18.019Z"
   },
   {
    "duration": 62,
    "start_time": "2023-11-03T19:30:18.033Z"
   },
   {
    "duration": 55,
    "start_time": "2023-11-03T19:30:18.114Z"
   },
   {
    "duration": 9,
    "start_time": "2023-11-03T19:30:18.170Z"
   },
   {
    "duration": 35,
    "start_time": "2023-11-03T19:30:18.180Z"
   },
   {
    "duration": 18,
    "start_time": "2023-11-03T19:30:18.217Z"
   },
   {
    "duration": 13,
    "start_time": "2023-11-03T19:30:18.237Z"
   },
   {
    "duration": 6,
    "start_time": "2023-11-03T19:30:18.253Z"
   },
   {
    "duration": 10,
    "start_time": "2023-11-03T19:30:18.262Z"
   },
   {
    "duration": 15,
    "start_time": "2023-11-03T19:30:18.274Z"
   },
   {
    "duration": 29,
    "start_time": "2023-11-03T19:30:18.290Z"
   },
   {
    "duration": 6,
    "start_time": "2023-11-03T19:30:18.321Z"
   },
   {
    "duration": 4,
    "start_time": "2023-11-03T19:30:18.329Z"
   },
   {
    "duration": 20,
    "start_time": "2023-11-03T19:30:18.335Z"
   },
   {
    "duration": 324,
    "start_time": "2023-11-03T19:30:18.357Z"
   },
   {
    "duration": 11,
    "start_time": "2023-11-03T19:30:18.683Z"
   },
   {
    "duration": 21,
    "start_time": "2023-11-03T19:30:18.695Z"
   },
   {
    "duration": 188,
    "start_time": "2023-11-03T19:30:18.718Z"
   },
   {
    "duration": 12,
    "start_time": "2023-11-03T19:30:18.907Z"
   },
   {
    "duration": 128,
    "start_time": "2023-11-03T19:30:18.922Z"
   },
   {
    "duration": 10,
    "start_time": "2023-11-03T19:30:19.052Z"
   },
   {
    "duration": 18,
    "start_time": "2023-11-03T19:30:19.064Z"
   },
   {
    "duration": 270,
    "start_time": "2023-11-03T19:30:19.084Z"
   },
   {
    "duration": 211,
    "start_time": "2023-11-03T19:30:19.355Z"
   },
   {
    "duration": 253,
    "start_time": "2023-11-03T19:30:19.567Z"
   },
   {
    "duration": 13,
    "start_time": "2023-11-03T19:30:19.821Z"
   },
   {
    "duration": 33,
    "start_time": "2023-11-03T19:30:19.837Z"
   },
   {
    "duration": 189,
    "start_time": "2023-11-03T19:30:19.871Z"
   },
   {
    "duration": 7,
    "start_time": "2023-11-03T19:30:20.062Z"
   },
   {
    "duration": 284,
    "start_time": "2023-11-03T19:30:20.071Z"
   },
   {
    "duration": 8,
    "start_time": "2023-11-03T19:30:20.357Z"
   },
   {
    "duration": 12,
    "start_time": "2023-11-03T19:30:20.367Z"
   },
   {
    "duration": 135,
    "start_time": "2023-11-03T19:30:20.381Z"
   },
   {
    "duration": 196,
    "start_time": "2023-11-03T19:30:20.518Z"
   },
   {
    "duration": 3,
    "start_time": "2023-11-03T19:30:20.716Z"
   },
   {
    "duration": 158,
    "start_time": "2023-11-03T19:30:20.721Z"
   },
   {
    "duration": 121,
    "start_time": "2023-11-03T19:30:20.881Z"
   },
   {
    "duration": 12,
    "start_time": "2023-11-03T19:30:21.004Z"
   },
   {
    "duration": 237,
    "start_time": "2023-11-03T19:30:21.018Z"
   },
   {
    "duration": 125,
    "start_time": "2023-11-03T19:30:21.257Z"
   },
   {
    "duration": 5,
    "start_time": "2023-11-03T19:30:21.384Z"
   },
   {
    "duration": 59,
    "start_time": "2023-11-03T19:30:21.390Z"
   },
   {
    "duration": 17,
    "start_time": "2023-11-03T19:30:21.451Z"
   },
   {
    "duration": 18,
    "start_time": "2023-11-03T19:30:21.470Z"
   },
   {
    "duration": 25,
    "start_time": "2023-11-03T19:30:21.489Z"
   },
   {
    "duration": 31,
    "start_time": "2023-11-03T19:30:21.517Z"
   },
   {
    "duration": 17,
    "start_time": "2023-11-03T19:30:21.549Z"
   },
   {
    "duration": 238,
    "start_time": "2023-11-03T19:30:57.525Z"
   },
   {
    "duration": 177,
    "start_time": "2023-11-03T19:35:47.153Z"
   },
   {
    "duration": 197,
    "start_time": "2023-11-03T19:36:26.947Z"
   },
   {
    "duration": 279,
    "start_time": "2023-11-03T19:37:15.361Z"
   },
   {
    "duration": 224,
    "start_time": "2023-11-03T19:38:12.480Z"
   },
   {
    "duration": 358,
    "start_time": "2023-11-03T19:39:08.089Z"
   },
   {
    "duration": 121,
    "start_time": "2023-11-03T19:40:06.242Z"
   },
   {
    "duration": 143,
    "start_time": "2023-11-03T19:40:38.752Z"
   },
   {
    "duration": 150,
    "start_time": "2023-11-03T19:40:55.988Z"
   },
   {
    "duration": 213,
    "start_time": "2023-11-03T19:41:52.797Z"
   },
   {
    "duration": 152,
    "start_time": "2023-11-03T19:43:24.186Z"
   },
   {
    "duration": 126,
    "start_time": "2023-11-03T19:44:08.789Z"
   },
   {
    "duration": 75,
    "start_time": "2023-11-03T19:49:34.320Z"
   },
   {
    "duration": 3,
    "start_time": "2023-11-03T19:49:37.316Z"
   },
   {
    "duration": 4,
    "start_time": "2023-11-03T19:49:41.864Z"
   },
   {
    "duration": 3,
    "start_time": "2023-11-03T19:50:30.830Z"
   },
   {
    "duration": 4,
    "start_time": "2023-11-03T19:50:45.184Z"
   },
   {
    "duration": 6,
    "start_time": "2023-11-03T19:51:58.735Z"
   },
   {
    "duration": 5,
    "start_time": "2023-11-03T19:52:06.933Z"
   },
   {
    "duration": 9,
    "start_time": "2023-11-03T19:52:25.389Z"
   },
   {
    "duration": 1197,
    "start_time": "2023-11-04T14:19:17.031Z"
   },
   {
    "duration": 3,
    "start_time": "2023-11-04T14:19:18.231Z"
   },
   {
    "duration": 66,
    "start_time": "2023-11-04T14:19:18.236Z"
   },
   {
    "duration": 12,
    "start_time": "2023-11-04T14:19:18.304Z"
   },
   {
    "duration": 19,
    "start_time": "2023-11-04T14:19:18.318Z"
   },
   {
    "duration": 10,
    "start_time": "2023-11-04T14:19:18.338Z"
   },
   {
    "duration": 11,
    "start_time": "2023-11-04T14:19:18.349Z"
   },
   {
    "duration": 7,
    "start_time": "2023-11-04T14:19:18.361Z"
   },
   {
    "duration": 15,
    "start_time": "2023-11-04T14:19:18.369Z"
   },
   {
    "duration": 67,
    "start_time": "2023-11-04T14:19:18.386Z"
   },
   {
    "duration": 181,
    "start_time": "2023-11-04T14:19:18.454Z"
   },
   {
    "duration": 8,
    "start_time": "2023-11-04T14:19:18.637Z"
   },
   {
    "duration": 15,
    "start_time": "2023-11-04T14:19:18.646Z"
   },
   {
    "duration": 10,
    "start_time": "2023-11-04T14:19:18.664Z"
   },
   {
    "duration": 4,
    "start_time": "2023-11-04T14:19:18.676Z"
   },
   {
    "duration": 26,
    "start_time": "2023-11-04T14:19:18.681Z"
   },
   {
    "duration": 18,
    "start_time": "2023-11-04T14:19:18.708Z"
   },
   {
    "duration": 29,
    "start_time": "2023-11-04T14:19:18.727Z"
   },
   {
    "duration": 14,
    "start_time": "2023-11-04T14:19:18.758Z"
   },
   {
    "duration": 35,
    "start_time": "2023-11-04T14:19:18.774Z"
   },
   {
    "duration": 12,
    "start_time": "2023-11-04T14:19:18.811Z"
   },
   {
    "duration": 12,
    "start_time": "2023-11-04T14:19:18.825Z"
   },
   {
    "duration": 296,
    "start_time": "2023-11-04T14:19:18.838Z"
   },
   {
    "duration": 9,
    "start_time": "2023-11-04T14:19:19.136Z"
   },
   {
    "duration": 9,
    "start_time": "2023-11-04T14:19:19.147Z"
   },
   {
    "duration": 170,
    "start_time": "2023-11-04T14:19:19.157Z"
   },
   {
    "duration": 8,
    "start_time": "2023-11-04T14:19:19.329Z"
   },
   {
    "duration": 126,
    "start_time": "2023-11-04T14:19:19.343Z"
   },
   {
    "duration": 12,
    "start_time": "2023-11-04T14:19:19.471Z"
   },
   {
    "duration": 11,
    "start_time": "2023-11-04T14:19:19.485Z"
   },
   {
    "duration": 286,
    "start_time": "2023-11-04T14:19:19.498Z"
   },
   {
    "duration": 196,
    "start_time": "2023-11-04T14:19:19.785Z"
   },
   {
    "duration": 272,
    "start_time": "2023-11-04T14:19:19.983Z"
   },
   {
    "duration": 14,
    "start_time": "2023-11-04T14:19:20.257Z"
   },
   {
    "duration": 20,
    "start_time": "2023-11-04T14:19:20.273Z"
   },
   {
    "duration": 217,
    "start_time": "2023-11-04T14:19:20.295Z"
   },
   {
    "duration": 10,
    "start_time": "2023-11-04T14:19:20.514Z"
   },
   {
    "duration": 354,
    "start_time": "2023-11-04T14:19:20.526Z"
   },
   {
    "duration": 9,
    "start_time": "2023-11-04T14:19:20.881Z"
   },
   {
    "duration": 29,
    "start_time": "2023-11-04T14:19:20.892Z"
   },
   {
    "duration": 168,
    "start_time": "2023-11-04T14:19:20.925Z"
   },
   {
    "duration": 222,
    "start_time": "2023-11-04T14:19:21.096Z"
   },
   {
    "duration": 5,
    "start_time": "2023-11-04T14:19:21.320Z"
   },
   {
    "duration": 159,
    "start_time": "2023-11-04T14:19:21.326Z"
   },
   {
    "duration": 136,
    "start_time": "2023-11-04T14:19:21.487Z"
   },
   {
    "duration": 5,
    "start_time": "2023-11-04T14:19:21.625Z"
   },
   {
    "duration": 225,
    "start_time": "2023-11-04T14:19:21.644Z"
   },
   {
    "duration": 128,
    "start_time": "2023-11-04T14:19:21.872Z"
   },
   {
    "duration": 6,
    "start_time": "2023-11-04T14:19:22.002Z"
   },
   {
    "duration": 73,
    "start_time": "2023-11-04T14:19:22.009Z"
   },
   {
    "duration": 13,
    "start_time": "2023-11-04T14:19:22.084Z"
   },
   {
    "duration": 18,
    "start_time": "2023-11-04T14:19:22.099Z"
   },
   {
    "duration": 17,
    "start_time": "2023-11-04T14:19:22.119Z"
   },
   {
    "duration": 62,
    "start_time": "2023-11-04T14:19:22.137Z"
   },
   {
    "duration": 14,
    "start_time": "2023-11-04T14:19:22.201Z"
   }
  ],
  "kernelspec": {
   "display_name": "Python 3 (ipykernel)",
   "language": "python",
   "name": "python3"
  },
  "language_info": {
   "codemirror_mode": {
    "name": "ipython",
    "version": 3
   },
   "file_extension": ".py",
   "mimetype": "text/x-python",
   "name": "python",
   "nbconvert_exporter": "python",
   "pygments_lexer": "ipython3",
   "version": "3.11.3"
  },
  "toc": {
   "base_numbering": 1,
   "nav_menu": {},
   "number_sections": true,
   "sideBar": true,
   "skip_h1_title": true,
   "title_cell": "Содержание",
   "title_sidebar": "Contents",
   "toc_cell": true,
   "toc_position": {
    "height": "calc(100% - 180px)",
    "left": "10px",
    "top": "150px",
    "width": "307.331px"
   },
   "toc_section_display": true,
   "toc_window_display": false
  }
 },
 "nbformat": 4,
 "nbformat_minor": 4
}
